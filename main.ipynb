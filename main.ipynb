{
 "cells": [
  {
   "cell_type": "code",
   "execution_count": 176,
   "id": "76adca8f-5a18-4d4c-91a3-4588f0cb8a45",
   "metadata": {},
   "outputs": [
    {
     "data": {
      "text/html": [
       "\n",
       "            <style>\n",
       "                .geemap-dark {\n",
       "                    --jp-widgets-color: white;\n",
       "                    --jp-widgets-label-color: white;\n",
       "                    --jp-ui-font-color1: white;\n",
       "                    --jp-layout-color2: #454545;\n",
       "                    background-color: #383838;\n",
       "                }\n",
       "\n",
       "                .geemap-dark .jupyter-button {\n",
       "                    --jp-layout-color3: #383838;\n",
       "                }\n",
       "\n",
       "                .geemap-colab {\n",
       "                    background-color: var(--colab-primary-surface-color, white);\n",
       "                }\n",
       "\n",
       "                .geemap-colab .jupyter-button {\n",
       "                    --jp-layout-color3: var(--colab-primary-surface-color, white);\n",
       "                }\n",
       "            </style>\n",
       "            "
      ],
      "text/plain": [
       "<IPython.core.display.HTML object>"
      ]
     },
     "metadata": {},
     "output_type": "display_data"
    }
   ],
   "source": [
    "import geopandas as gpd\n",
    "import pandas as pd\n",
    "import geemap\n",
    "import ee\n",
    "import shapely\n",
    "import seaborn as sns\n",
    "import matplotlib.pyplot as plt"
   ]
  },
  {
   "cell_type": "code",
   "execution_count": 68,
   "id": "a0457bc6-e9ca-4b59-b5ae-9d3c2577927e",
   "metadata": {},
   "outputs": [
    {
     "data": {
      "text/html": [
       "\n",
       "            <style>\n",
       "                .geemap-dark {\n",
       "                    --jp-widgets-color: white;\n",
       "                    --jp-widgets-label-color: white;\n",
       "                    --jp-ui-font-color1: white;\n",
       "                    --jp-layout-color2: #454545;\n",
       "                    background-color: #383838;\n",
       "                }\n",
       "\n",
       "                .geemap-dark .jupyter-button {\n",
       "                    --jp-layout-color3: #383838;\n",
       "                }\n",
       "\n",
       "                .geemap-colab {\n",
       "                    background-color: var(--colab-primary-surface-color, white);\n",
       "                }\n",
       "\n",
       "                .geemap-colab .jupyter-button {\n",
       "                    --jp-layout-color3: var(--colab-primary-surface-color, white);\n",
       "                }\n",
       "            </style>\n",
       "            "
      ],
      "text/plain": [
       "<IPython.core.display.HTML object>"
      ]
     },
     "metadata": {},
     "output_type": "display_data"
    }
   ],
   "source": [
    "ee.Authenticate()\n",
    "ee.Initialize()"
   ]
  },
  {
   "cell_type": "markdown",
   "id": "09ed8c00-92fc-42c2-a2e5-25c428e794c7",
   "metadata": {},
   "source": [
    "Planificación General: Medir área total de la laguna a lo largo del tiempo -> hacer un área total del uso de suelo usando aquella red neuronal que clasificaba segun crop o algo asi -> Ver como avanzó crop e industrial a lo largo del tiempo."
   ]
  },
  {
   "cell_type": "markdown",
   "id": "66e71a69-267b-4e5c-8e2d-0ccc2d10f320",
   "metadata": {},
   "source": [
    "### Definimos como aoi un área de aproximadamente 5km alrededor de la Laguna de Aculeo, y el intervalo de tiempo de interés 2014-2024 ya que se secó alrededor de 2018, Además de la disponibilidad de landsat 8, que comienza en 2013"
   ]
  },
  {
   "cell_type": "code",
   "execution_count": 69,
   "id": "fe981c18-69ca-4b0b-afdd-b47e79f83e24",
   "metadata": {
    "scrolled": true
   },
   "outputs": [
    {
     "data": {
      "text/html": [
       "\n",
       "            <style>\n",
       "                .geemap-dark {\n",
       "                    --jp-widgets-color: white;\n",
       "                    --jp-widgets-label-color: white;\n",
       "                    --jp-ui-font-color1: white;\n",
       "                    --jp-layout-color2: #454545;\n",
       "                    background-color: #383838;\n",
       "                }\n",
       "\n",
       "                .geemap-dark .jupyter-button {\n",
       "                    --jp-layout-color3: #383838;\n",
       "                }\n",
       "\n",
       "                .geemap-colab {\n",
       "                    background-color: var(--colab-primary-surface-color, white);\n",
       "                }\n",
       "\n",
       "                .geemap-colab .jupyter-button {\n",
       "                    --jp-layout-color3: var(--colab-primary-surface-color, white);\n",
       "                }\n",
       "            </style>\n",
       "            "
      ],
      "text/plain": [
       "<IPython.core.display.HTML object>"
      ]
     },
     "metadata": {},
     "output_type": "display_data"
    },
    {
     "data": {
      "text/plain": [
       "['2014-1-01',\n",
       " '2014-2-01',\n",
       " '2014-3-01',\n",
       " '2014-4-01',\n",
       " '2014-5-01',\n",
       " '2014-6-01',\n",
       " '2014-7-01',\n",
       " '2014-8-01',\n",
       " '2014-9-01',\n",
       " '2014-10-01',\n",
       " '2014-11-01',\n",
       " '2014-12-01',\n",
       " '2015-1-01',\n",
       " '2015-2-01',\n",
       " '2015-3-01',\n",
       " '2015-4-01',\n",
       " '2015-5-01',\n",
       " '2015-6-01',\n",
       " '2015-7-01',\n",
       " '2015-8-01',\n",
       " '2015-9-01',\n",
       " '2015-10-01',\n",
       " '2015-11-01',\n",
       " '2015-12-01',\n",
       " '2016-1-01',\n",
       " '2016-2-01',\n",
       " '2016-3-01',\n",
       " '2016-4-01',\n",
       " '2016-5-01',\n",
       " '2016-6-01',\n",
       " '2016-7-01',\n",
       " '2016-8-01',\n",
       " '2016-9-01',\n",
       " '2016-10-01',\n",
       " '2016-11-01',\n",
       " '2016-12-01',\n",
       " '2017-1-01',\n",
       " '2017-2-01',\n",
       " '2017-3-01',\n",
       " '2017-4-01',\n",
       " '2017-5-01',\n",
       " '2017-6-01',\n",
       " '2017-7-01',\n",
       " '2017-8-01',\n",
       " '2017-9-01',\n",
       " '2017-10-01',\n",
       " '2017-11-01',\n",
       " '2017-12-01',\n",
       " '2018-1-01',\n",
       " '2018-2-01',\n",
       " '2018-3-01',\n",
       " '2018-4-01',\n",
       " '2018-5-01',\n",
       " '2018-6-01',\n",
       " '2018-7-01',\n",
       " '2018-8-01',\n",
       " '2018-9-01',\n",
       " '2018-10-01',\n",
       " '2018-11-01',\n",
       " '2018-12-01',\n",
       " '2019-1-01',\n",
       " '2019-2-01',\n",
       " '2019-3-01',\n",
       " '2019-4-01',\n",
       " '2019-5-01',\n",
       " '2019-6-01',\n",
       " '2019-7-01',\n",
       " '2019-8-01',\n",
       " '2019-9-01',\n",
       " '2019-10-01',\n",
       " '2019-11-01',\n",
       " '2019-12-01',\n",
       " '2020-1-01',\n",
       " '2020-2-01',\n",
       " '2020-3-01',\n",
       " '2020-4-01',\n",
       " '2020-5-01',\n",
       " '2020-6-01',\n",
       " '2020-7-01',\n",
       " '2020-8-01',\n",
       " '2020-9-01',\n",
       " '2020-10-01',\n",
       " '2020-11-01',\n",
       " '2020-12-01',\n",
       " '2021-1-01',\n",
       " '2021-2-01',\n",
       " '2021-3-01',\n",
       " '2021-4-01',\n",
       " '2021-5-01',\n",
       " '2021-6-01',\n",
       " '2021-7-01',\n",
       " '2021-8-01',\n",
       " '2021-9-01',\n",
       " '2021-10-01',\n",
       " '2021-11-01',\n",
       " '2021-12-01',\n",
       " '2022-1-01',\n",
       " '2022-2-01',\n",
       " '2022-3-01',\n",
       " '2022-4-01',\n",
       " '2022-5-01',\n",
       " '2022-6-01',\n",
       " '2022-7-01',\n",
       " '2022-8-01',\n",
       " '2022-9-01',\n",
       " '2022-10-01',\n",
       " '2022-11-01',\n",
       " '2022-12-01',\n",
       " '2023-1-01',\n",
       " '2023-2-01',\n",
       " '2023-3-01',\n",
       " '2023-4-01',\n",
       " '2023-5-01',\n",
       " '2023-6-01',\n",
       " '2023-7-01',\n",
       " '2023-8-01',\n",
       " '2023-9-01',\n",
       " '2023-10-01',\n",
       " '2023-11-01',\n",
       " '2023-12-01',\n",
       " '2024-1-01',\n",
       " '2024-2-01',\n",
       " '2024-3-01',\n",
       " '2024-4-01',\n",
       " '2024-5-01']"
      ]
     },
     "execution_count": 69,
     "metadata": {},
     "output_type": "execute_result"
    }
   ],
   "source": [
    "doi = [\"2014-01-01\",\"2024-01-01\"]\n",
    "doi_intervalar = []\n",
    "for i in range(14,25):\n",
    "    for j in range(1,13):\n",
    "        if i == 24 and j >= 6:\n",
    "            break\n",
    "        doi_intervalar.append(str(2000+i)+ \"-\" +  str(j)+ \"-01\")\n",
    "doi_intervalar"
   ]
  },
  {
   "cell_type": "code",
   "execution_count": 70,
   "id": "0f0e48f7-3e2e-4650-a70d-7219fcd84153",
   "metadata": {
    "scrolled": true
   },
   "outputs": [
    {
     "data": {
      "text/html": [
       "\n",
       "            <style>\n",
       "                .geemap-dark {\n",
       "                    --jp-widgets-color: white;\n",
       "                    --jp-widgets-label-color: white;\n",
       "                    --jp-ui-font-color1: white;\n",
       "                    --jp-layout-color2: #454545;\n",
       "                    background-color: #383838;\n",
       "                }\n",
       "\n",
       "                .geemap-dark .jupyter-button {\n",
       "                    --jp-layout-color3: #383838;\n",
       "                }\n",
       "\n",
       "                .geemap-colab {\n",
       "                    background-color: var(--colab-primary-surface-color, white);\n",
       "                }\n",
       "\n",
       "                .geemap-colab .jupyter-button {\n",
       "                    --jp-layout-color3: var(--colab-primary-surface-color, white);\n",
       "                }\n",
       "            </style>\n",
       "            "
      ],
      "text/plain": [
       "<IPython.core.display.HTML object>"
      ]
     },
     "metadata": {},
     "output_type": "display_data"
    },
    {
     "data": {
      "application/vnd.jupyter.widget-view+json": {
       "model_id": "cc61050d68d544c589b60c4153a59f67",
       "version_major": 2,
       "version_minor": 0
      },
      "text/plain": [
       "Map(center=[-33.84565081436696, -70.91725911612781], controls=(WidgetControl(options=['position', 'transparent…"
      ]
     },
     "metadata": {},
     "output_type": "display_data"
    }
   ],
   "source": [
    "# aoi = gpd.GeoSeries(shapely.Point(),crs=\"EPSG:4326\").to_crs(\"EPSG:32719\")\n",
    "aoi = ee.Geometry.Point([-70.91725911612781,-33.84565081436696]).buffer(5000)\n",
    "# aoi_bbox = ee.Geometry.Polygon(json.loads(aoi)['features'][0]['geometry']['coordinates'], 'EPSG:4326')\n",
    "\n",
    "m = geemap.Map(center=[-33.84565081436696, -70.91725911612781], zoom=15)\n",
    "\n",
    "m.addLayer(aoi,name='aoi')\n",
    "m"
   ]
  },
  {
   "cell_type": "code",
   "execution_count": 71,
   "id": "8c7b88b8-1680-4b54-be02-8e0d9484391b",
   "metadata": {},
   "outputs": [
    {
     "data": {
      "text/html": [
       "\n",
       "            <style>\n",
       "                .geemap-dark {\n",
       "                    --jp-widgets-color: white;\n",
       "                    --jp-widgets-label-color: white;\n",
       "                    --jp-ui-font-color1: white;\n",
       "                    --jp-layout-color2: #454545;\n",
       "                    background-color: #383838;\n",
       "                }\n",
       "\n",
       "                .geemap-dark .jupyter-button {\n",
       "                    --jp-layout-color3: #383838;\n",
       "                }\n",
       "\n",
       "                .geemap-colab {\n",
       "                    background-color: var(--colab-primary-surface-color, white);\n",
       "                }\n",
       "\n",
       "                .geemap-colab .jupyter-button {\n",
       "                    --jp-layout-color3: var(--colab-primary-surface-color, white);\n",
       "                }\n",
       "            </style>\n",
       "            "
      ],
      "text/plain": [
       "<IPython.core.display.HTML object>"
      ]
     },
     "metadata": {},
     "output_type": "display_data"
    }
   ],
   "source": [
    "def apply_scale_factors(image):\n",
    "  optical_bands = image.select('SR_B.').multiply(0.0000275).add(-0.2)\n",
    "  #thermal_bands = image.select('ST_B.*').multiply(0.00341802).add(149.0)\n",
    "  return image.addBands(optical_bands, None, True)"
   ]
  },
  {
   "cell_type": "code",
   "execution_count": 139,
   "id": "89926e14-9930-4fc9-aedf-7eef07a60e3e",
   "metadata": {
    "scrolled": true
   },
   "outputs": [
    {
     "data": {
      "text/html": [
       "\n",
       "            <style>\n",
       "                .geemap-dark {\n",
       "                    --jp-widgets-color: white;\n",
       "                    --jp-widgets-label-color: white;\n",
       "                    --jp-ui-font-color1: white;\n",
       "                    --jp-layout-color2: #454545;\n",
       "                    background-color: #383838;\n",
       "                }\n",
       "\n",
       "                .geemap-dark .jupyter-button {\n",
       "                    --jp-layout-color3: #383838;\n",
       "                }\n",
       "\n",
       "                .geemap-colab {\n",
       "                    background-color: var(--colab-primary-surface-color, white);\n",
       "                }\n",
       "\n",
       "                .geemap-colab .jupyter-button {\n",
       "                    --jp-layout-color3: var(--colab-primary-surface-color, white);\n",
       "                }\n",
       "            </style>\n",
       "            "
      ],
      "text/plain": [
       "<IPython.core.display.HTML object>"
      ]
     },
     "metadata": {},
     "output_type": "display_data"
    },
    {
     "name": "stdout",
     "output_type": "stream",
     "text": [
      "2014-1-01 2014-2-01\n",
      "2014-2-01 2014-3-01\n",
      "2014-3-01 2014-4-01\n",
      "Colección Vacía\n",
      "2014-4-01 2014-5-01\n",
      "2014-5-01 2014-6-01\n",
      "Colección Vacía\n",
      "2014-6-01 2014-7-01\n",
      "2014-7-01 2014-8-01\n",
      "Colección Vacía\n",
      "2014-8-01 2014-9-01\n",
      "2014-9-01 2014-10-01\n",
      "Colección Vacía\n",
      "2014-10-01 2014-11-01\n",
      "2014-11-01 2014-12-01\n",
      "2014-12-01 2015-1-01\n",
      "Colección Vacía\n",
      "2015-1-01 2015-2-01\n",
      "2015-2-01 2015-3-01\n",
      "2015-3-01 2015-4-01\n",
      "2015-4-01 2015-5-01\n",
      "2015-5-01 2015-6-01\n",
      "2015-6-01 2015-7-01\n",
      "Colección Vacía\n",
      "2015-7-01 2015-8-01\n",
      "2015-8-01 2015-9-01\n",
      "Colección Vacía\n",
      "2015-9-01 2015-10-01\n",
      "Colección Vacía\n",
      "2015-10-01 2015-11-01\n",
      "2015-11-01 2015-12-01\n",
      "2015-12-01 2016-1-01\n",
      "2016-1-01 2016-2-01\n",
      "2016-2-01 2016-3-01\n",
      "Colección Vacía\n",
      "2016-3-01 2016-4-01\n",
      "2016-4-01 2016-5-01\n",
      "2016-5-01 2016-6-01\n",
      "2016-6-01 2016-7-01\n",
      "2016-7-01 2016-8-01\n",
      "Colección Vacía\n",
      "2016-8-01 2016-9-01\n",
      "2016-9-01 2016-10-01\n",
      "2016-10-01 2016-11-01\n",
      "2016-11-01 2016-12-01\n",
      "2016-12-01 2017-1-01\n",
      "Colección Vacía\n",
      "2017-1-01 2017-2-01\n",
      "2017-2-01 2017-3-01\n",
      "2017-3-01 2017-4-01\n",
      "2017-4-01 2017-5-01\n",
      "Colección Vacía\n",
      "2017-5-01 2017-6-01\n",
      "Colección Vacía\n",
      "2017-6-01 2017-7-01\n",
      "2017-7-01 2017-8-01\n",
      "2017-8-01 2017-9-01\n",
      "2017-9-01 2017-10-01\n",
      "Colección Vacía\n",
      "2017-10-01 2017-11-01\n",
      "Colección Vacía\n",
      "2017-11-01 2017-12-01\n",
      "2017-12-01 2018-1-01\n",
      "2018-1-01 2018-2-01\n",
      "2018-2-01 2018-3-01\n",
      "2018-3-01 2018-4-01\n",
      "2018-4-01 2018-5-01\n",
      "2018-5-01 2018-6-01\n",
      "2018-6-01 2018-7-01\n",
      "2018-7-01 2018-8-01\n",
      "2018-8-01 2018-9-01\n",
      "2018-9-01 2018-10-01\n",
      "2018-10-01 2018-11-01\n",
      "2018-11-01 2018-12-01\n",
      "2018-12-01 2019-1-01\n",
      "2019-1-01 2019-2-01\n",
      "2019-2-01 2019-3-01\n",
      "2019-3-01 2019-4-01\n",
      "2019-4-01 2019-5-01\n",
      "Colección Vacía\n",
      "2019-5-01 2019-6-01\n",
      "2019-6-01 2019-7-01\n",
      "2019-7-01 2019-8-01\n",
      "Colección Vacía\n",
      "2019-8-01 2019-9-01\n",
      "2019-9-01 2019-10-01\n",
      "2019-10-01 2019-11-01\n",
      "2019-11-01 2019-12-01\n",
      "2019-12-01 2020-1-01\n",
      "2020-1-01 2020-2-01\n",
      "2020-2-01 2020-3-01\n",
      "2020-3-01 2020-4-01\n",
      "2020-4-01 2020-5-01\n",
      "2020-5-01 2020-6-01\n",
      "2020-6-01 2020-7-01\n",
      "Colección Vacía\n",
      "2020-7-01 2020-8-01\n",
      "2020-8-01 2020-9-01\n",
      "2020-9-01 2020-10-01\n",
      "2020-10-01 2020-11-01\n",
      "2020-11-01 2020-12-01\n",
      "2020-12-01 2021-1-01\n",
      "2021-1-01 2021-2-01\n",
      "2021-2-01 2021-3-01\n",
      "Colección Vacía\n",
      "2021-3-01 2021-4-01\n",
      "2021-4-01 2021-5-01\n",
      "Colección Vacía\n",
      "2021-5-01 2021-6-01\n",
      "Colección Vacía\n",
      "2021-6-01 2021-7-01\n",
      "2021-7-01 2021-8-01\n",
      "2021-8-01 2021-9-01\n",
      "2021-9-01 2021-10-01\n",
      "2021-10-01 2021-11-01\n",
      "2021-11-01 2021-12-01\n",
      "2021-12-01 2022-1-01\n",
      "2022-1-01 2022-2-01\n",
      "2022-2-01 2022-3-01\n",
      "2022-3-01 2022-4-01\n",
      "2022-4-01 2022-5-01\n",
      "2022-5-01 2022-6-01\n",
      "Colección Vacía\n",
      "2022-6-01 2022-7-01\n",
      "2022-7-01 2022-8-01\n",
      "2022-8-01 2022-9-01\n",
      "2022-9-01 2022-10-01\n",
      "2022-10-01 2022-11-01\n",
      "2022-11-01 2022-12-01\n",
      "2022-12-01 2023-1-01\n",
      "2023-1-01 2023-2-01\n",
      "2023-2-01 2023-3-01\n",
      "2023-3-01 2023-4-01\n",
      "2023-4-01 2023-5-01\n",
      "2023-5-01 2023-6-01\n",
      "Colección Vacía\n",
      "2023-6-01 2023-7-01\n",
      "2023-7-01 2023-8-01\n",
      "2023-8-01 2023-9-01\n",
      "2023-9-01 2023-10-01\n",
      "2023-10-01 2023-11-01\n",
      "2023-11-01 2023-12-01\n",
      "Colección Vacía\n",
      "2023-12-01 2024-1-01\n",
      "2024-1-01 2024-2-01\n",
      "2024-2-01 2024-3-01\n",
      "2024-3-01 2024-4-01\n",
      "2024-4-01 2024-5-01\n"
     ]
    }
   ],
   "source": [
    "# Map = geemap.Map(center=[-33.84565081436696, -70.91725911612781],zoom=12)\n",
    "\n",
    "# NDWI usado: http://archive.eclass.uth.gr/eclass/modules/document/file.php/MHXC241/PROJECT/Mc_Feeters_NDWI_01431169608948714.pdf\n",
    "\n",
    "imagenes_ndwi = []\n",
    "fechas_con_imagen = []\n",
    "for i in range(len(doi_intervalar)-1):\n",
    "    inicio = doi_intervalar[i]\n",
    "    fin = doi_intervalar[i+1]\n",
    "    print(inicio, fin)\n",
    "# Obtenemos imágenes\n",
    "    landsat_collection = ee.ImageCollection(\"LANDSAT/LC08/C02/T1_L2\").filter(ee.Filter.lessThan(leftField=\"CLOUD_COVER_LAND\", rightValue=20)).filterDate(inicio,fin).filterBounds(aoi).select(['SR_B3', 'SR_B5'])\n",
    "# Hacemos escalamientos correspondientes\n",
    "    landsat_collection = landsat_collection.map(apply_scale_factors)\n",
    "# Obtenemos geomediana para reducir a una imágen\n",
    "    try: # Si no hay ninguna imágen para ese mes, esta siguiente linea dará error, por lo que esta linea lo maneja (de forma un poco bruta, pero funciona)\n",
    "        r = ee.Reducer.geometricMedian(2).setOutputs([\"geom_\" + nombre for nombre in landsat_collection.first().bandNames().getInfo()])\n",
    "    except:\n",
    "        print(\"Colección Vacía\")\n",
    "        continue\n",
    "    geomediana = landsat_collection.reduce(r)\n",
    "#Calculamos ndwi\n",
    "    ndwi = geomediana.normalizedDifference([\"geom_SR_B3\",\"geom_SR_B5\"])\n",
    "    geomediana = geomediana.addBands(ndwi)\n",
    "# Agregamos a la lista\n",
    "    imagenes_ndwi.append(geomediana)\n",
    "    fechas_con_imagen.append(inicio) # Guardamos las fechas para después\n",
    "\n",
    "ndwis = ee.ImageCollection.fromImages(imagenes_ndwi)\n",
    "\n",
    "\n"
   ]
  },
  {
   "cell_type": "code",
   "execution_count": 93,
   "id": "3cdcfc5b-ec62-4327-b4f6-9d7cd7c5ed26",
   "metadata": {},
   "outputs": [
    {
     "data": {
      "text/html": [
       "\n",
       "            <style>\n",
       "                .geemap-dark {\n",
       "                    --jp-widgets-color: white;\n",
       "                    --jp-widgets-label-color: white;\n",
       "                    --jp-ui-font-color1: white;\n",
       "                    --jp-layout-color2: #454545;\n",
       "                    background-color: #383838;\n",
       "                }\n",
       "\n",
       "                .geemap-dark .jupyter-button {\n",
       "                    --jp-layout-color3: #383838;\n",
       "                }\n",
       "\n",
       "                .geemap-colab {\n",
       "                    background-color: var(--colab-primary-surface-color, white);\n",
       "                }\n",
       "\n",
       "                .geemap-colab .jupyter-button {\n",
       "                    --jp-layout-color3: var(--colab-primary-surface-color, white);\n",
       "                }\n",
       "            </style>\n",
       "            "
      ],
      "text/plain": [
       "<IPython.core.display.HTML object>"
      ]
     },
     "metadata": {},
     "output_type": "display_data"
    },
    {
     "name": "stdout",
     "output_type": "stream",
     "text": [
      "https://earthengine.googleapis.com/v1/projects/earthengine-legacy/videoThumbnails/bf98445f764c09ac05ee4cf85a7197f9-84f217c4e7dfde61984502d88cf77994:getPixels\n",
      "https://earthengine.googleapis.com/v1/projects/earthengine-legacy/filmstripThumbnails/de021fd734342992f292f6f16f84e328-644e649a8aaa2c9a816c287eb26ca7b8:getPixels\n"
     ]
    }
   ],
   "source": [
    "\n",
    "videoArgs = {'dimensions': 500,\n",
    "             'region': aoi,\n",
    "             'framesPerSecond': 5,\n",
    "            'bands': [\"nd\"], \"palette\":[\"green\", \"blue\"]}\n",
    "\n",
    "## Cambios: Mejor calcular todas los ndwi y hacer un video de eso yo creo\n",
    "print(ndwis.getVideoThumbURL(videoArgs))\n",
    "print(ndwis.getFilmstripThumbURL(videoArgs))"
   ]
  },
  {
   "cell_type": "markdown",
   "id": "dbcb174e-e498-471e-85d7-f27116b2693c",
   "metadata": {},
   "source": [
    "### Casualmente obtenemos 100 imaǵenes de meses tales que tuvieron al menos una imágen con una cobertura aceptable de nubes, para la que calculamos la geomediana de las bandas, y luego obtuvimos el ndwi, ahora buscamos obtener el area total de agua para cada imágen."
   ]
  },
  {
   "cell_type": "code",
   "execution_count": 113,
   "id": "5d444a52-994f-48d4-a100-e56d05dc219d",
   "metadata": {
    "scrolled": true
   },
   "outputs": [
    {
     "data": {
      "text/html": [
       "\n",
       "            <style>\n",
       "                .geemap-dark {\n",
       "                    --jp-widgets-color: white;\n",
       "                    --jp-widgets-label-color: white;\n",
       "                    --jp-ui-font-color1: white;\n",
       "                    --jp-layout-color2: #454545;\n",
       "                    background-color: #383838;\n",
       "                }\n",
       "\n",
       "                .geemap-dark .jupyter-button {\n",
       "                    --jp-layout-color3: #383838;\n",
       "                }\n",
       "\n",
       "                .geemap-colab {\n",
       "                    background-color: var(--colab-primary-surface-color, white);\n",
       "                }\n",
       "\n",
       "                .geemap-colab .jupyter-button {\n",
       "                    --jp-layout-color3: var(--colab-primary-surface-color, white);\n",
       "                }\n",
       "            </style>\n",
       "            "
      ],
      "text/plain": [
       "<IPython.core.display.HTML object>"
      ]
     },
     "metadata": {},
     "output_type": "display_data"
    },
    {
     "data": {
      "text/html": [
       "<div><style>:root {\n",
       "  --font-color-primary: var(--jp-content-font-color0, rgba(0, 0, 0, 1));\n",
       "  --font-color-secondary: var(--jp-content-font-color2, rgba(0, 0, 0, 0.6));\n",
       "  --font-color-accent: rgba(123, 31, 162, 1);\n",
       "  --border-color: var(--jp-border-color2, #e0e0e0);\n",
       "  --background-color: var(--jp-layout-color0, white);\n",
       "  --background-color-row-even: var(--jp-layout-color1, white);\n",
       "  --background-color-row-odd: var(--jp-layout-color2, #eeeeee);\n",
       "}\n",
       "\n",
       "html[theme=\"dark\"],\n",
       "body[data-theme=\"dark\"],\n",
       "body.vscode-dark {\n",
       "  --font-color-primary: rgba(255, 255, 255, 1);\n",
       "  --font-color-secondary: rgba(255, 255, 255, 0.6);\n",
       "  --font-color-accent: rgb(173, 132, 190);\n",
       "  --border-color: #2e2e2e;\n",
       "  --background-color: #111111;\n",
       "  --background-color-row-even: #111111;\n",
       "  --background-color-row-odd: #313131;\n",
       "}\n",
       "\n",
       ".ee {\n",
       "  padding: 1em;\n",
       "  line-height: 1.5em;\n",
       "  min-width: 300px;\n",
       "  max-width: 1200px;\n",
       "  overflow-y: scroll;\n",
       "  max-height: 600px;\n",
       "  border: 1px solid var(--border-color);\n",
       "  font-family: monospace;\n",
       "}\n",
       "\n",
       ".ee li {\n",
       "  list-style-type: none;\n",
       "}\n",
       "\n",
       ".ee ul {\n",
       "  padding-left: 1.5em !important;\n",
       "  margin: 0;\n",
       "}\n",
       "\n",
       ".ee > ul {\n",
       "  padding-left: 0 !important;\n",
       "}\n",
       "\n",
       ".ee-open,\n",
       ".ee-shut {\n",
       "  color: var(--font-color-secondary);\n",
       "  cursor: pointer;\n",
       "  margin: 0;\n",
       "}\n",
       "\n",
       ".ee-open:hover,\n",
       ".ee-shut:hover {\n",
       "  color: var(--font-color-primary);\n",
       "}\n",
       "\n",
       ".ee-k {\n",
       "  color: var(--font-color-accent);\n",
       "  margin-right: 6px;\n",
       "}\n",
       "\n",
       ".ee-v {\n",
       "  color: var(--font-color-primary);\n",
       "}\n",
       "\n",
       ".ee-toggle {\n",
       "  display: none;\n",
       "}\n",
       "\n",
       ".ee-shut + ul {\n",
       "  display: none;\n",
       "}\n",
       "\n",
       ".ee-open + ul {\n",
       "  display: block;\n",
       "}\n",
       "\n",
       ".ee-shut::before {\n",
       "  display: inline-block;\n",
       "  content: \"▼\";\n",
       "  margin-right: 6px;\n",
       "  transform: rotate(-90deg);\n",
       "  transition: transform 0.2s;\n",
       "}\n",
       "\n",
       ".ee-open::before {\n",
       "  transform: rotate(0deg);\n",
       "  display: inline-block;\n",
       "  content: \"▼\";\n",
       "  margin-right: 6px;\n",
       "  transition: transform 0.2s;\n",
       "}\n",
       "</style><div class='ee'><ul><li><label class='ee-shut'>Image (3 bands)<input type='checkbox' class='ee-toggle'></label><ul><li><span class='ee-k'>type:</span><span class='ee-v'>Image</span></li><li><label class='ee-shut'>bands: List (3 elements)<input type='checkbox' class='ee-toggle'></label><ul><li><label class='ee-shut'>0: \"geom_SR_B3\", int ∈ [0, 1], EPSG:4326<input type='checkbox' class='ee-toggle'></label><ul><li><span class='ee-k'>id:</span><span class='ee-v'>geom_SR_B3</span></li><li><span class='ee-k'>crs:</span><span class='ee-v'>EPSG:4326</span></li><li><label class='ee-shut'>crs_transform: [1, 0, 0, 0, 1, 0]<input type='checkbox' class='ee-toggle'></label><ul><li><span class='ee-k'>0:</span><span class='ee-v'>1</span></li><li><span class='ee-k'>1:</span><span class='ee-v'>0</span></li><li><span class='ee-k'>2:</span><span class='ee-v'>0</span></li><li><span class='ee-k'>3:</span><span class='ee-v'>0</span></li><li><span class='ee-k'>4:</span><span class='ee-v'>1</span></li><li><span class='ee-k'>5:</span><span class='ee-v'>0</span></li></ul></li><li><label class='ee-shut'>data_type: int ∈ [0, 1]<input type='checkbox' class='ee-toggle'></label><ul><li><span class='ee-k'>type:</span><span class='ee-v'>PixelType</span></li><li><span class='ee-k'>max:</span><span class='ee-v'>1</span></li><li><span class='ee-k'>min:</span><span class='ee-v'>0</span></li><li><span class='ee-k'>precision:</span><span class='ee-v'>int</span></li></ul></li></ul></li><li><label class='ee-shut'>1: \"geom_SR_B5\", int ∈ [0, 1], EPSG:4326<input type='checkbox' class='ee-toggle'></label><ul><li><span class='ee-k'>id:</span><span class='ee-v'>geom_SR_B5</span></li><li><span class='ee-k'>crs:</span><span class='ee-v'>EPSG:4326</span></li><li><label class='ee-shut'>crs_transform: [1, 0, 0, 0, 1, 0]<input type='checkbox' class='ee-toggle'></label><ul><li><span class='ee-k'>0:</span><span class='ee-v'>1</span></li><li><span class='ee-k'>1:</span><span class='ee-v'>0</span></li><li><span class='ee-k'>2:</span><span class='ee-v'>0</span></li><li><span class='ee-k'>3:</span><span class='ee-v'>0</span></li><li><span class='ee-k'>4:</span><span class='ee-v'>1</span></li><li><span class='ee-k'>5:</span><span class='ee-v'>0</span></li></ul></li><li><label class='ee-shut'>data_type: int ∈ [0, 1]<input type='checkbox' class='ee-toggle'></label><ul><li><span class='ee-k'>type:</span><span class='ee-v'>PixelType</span></li><li><span class='ee-k'>max:</span><span class='ee-v'>1</span></li><li><span class='ee-k'>min:</span><span class='ee-v'>0</span></li><li><span class='ee-k'>precision:</span><span class='ee-v'>int</span></li></ul></li></ul></li><li><label class='ee-shut'>2: \"nd\", int ∈ [0, 1], EPSG:4326<input type='checkbox' class='ee-toggle'></label><ul><li><span class='ee-k'>id:</span><span class='ee-v'>nd</span></li><li><span class='ee-k'>crs:</span><span class='ee-v'>EPSG:4326</span></li><li><label class='ee-shut'>crs_transform: [1, 0, 0, 0, 1, 0]<input type='checkbox' class='ee-toggle'></label><ul><li><span class='ee-k'>0:</span><span class='ee-v'>1</span></li><li><span class='ee-k'>1:</span><span class='ee-v'>0</span></li><li><span class='ee-k'>2:</span><span class='ee-v'>0</span></li><li><span class='ee-k'>3:</span><span class='ee-v'>0</span></li><li><span class='ee-k'>4:</span><span class='ee-v'>1</span></li><li><span class='ee-k'>5:</span><span class='ee-v'>0</span></li></ul></li><li><label class='ee-shut'>data_type: int ∈ [0, 1]<input type='checkbox' class='ee-toggle'></label><ul><li><span class='ee-k'>type:</span><span class='ee-v'>PixelType</span></li><li><span class='ee-k'>max:</span><span class='ee-v'>1</span></li><li><span class='ee-k'>min:</span><span class='ee-v'>0</span></li><li><span class='ee-k'>precision:</span><span class='ee-v'>int</span></li></ul></li></ul></li></ul></li></ul></li></ul></div><script>function toggleHeader() {\n",
       "    const parent = this.parentElement;\n",
       "    parent.className = parent.className === \"ee-open\" ? \"ee-shut\" : \"ee-open\";\n",
       "}\n",
       "\n",
       "for (let c of document.getElementsByClassName(\"ee-toggle\")) {\n",
       "    c.onclick = toggleHeader;\n",
       "}</script></div>"
      ],
      "text/plain": [
       "<ee.image.Image at 0x7f15a79cbc40>"
      ]
     },
     "execution_count": 113,
     "metadata": {},
     "output_type": "execute_result"
    }
   ],
   "source": [
    "imagenes_binarias = [] #Imágenes binarias con píxeles diciendo si ese pixel tiene o no agua\n",
    "for ndwi in imagenes_ndwi: # ndwi es una imágen que contiene 3 bandas, siendo una de estas ndwi\n",
    "    imagenes_binarias.append(ndwi.gt(0.3).selfMask()) # Guardamos las imágenes de forma binaria\n",
    "\n",
    "imagenes_binarias[0]"
   ]
  },
  {
   "cell_type": "code",
   "execution_count": 120,
   "id": "94ad00b9-67ac-43ca-919e-5cca63ce3041",
   "metadata": {},
   "outputs": [
    {
     "data": {
      "text/html": [
       "\n",
       "            <style>\n",
       "                .geemap-dark {\n",
       "                    --jp-widgets-color: white;\n",
       "                    --jp-widgets-label-color: white;\n",
       "                    --jp-ui-font-color1: white;\n",
       "                    --jp-layout-color2: #454545;\n",
       "                    background-color: #383838;\n",
       "                }\n",
       "\n",
       "                .geemap-dark .jupyter-button {\n",
       "                    --jp-layout-color3: #383838;\n",
       "                }\n",
       "\n",
       "                .geemap-colab {\n",
       "                    background-color: var(--colab-primary-surface-color, white);\n",
       "                }\n",
       "\n",
       "                .geemap-colab .jupyter-button {\n",
       "                    --jp-layout-color3: var(--colab-primary-surface-color, white);\n",
       "                }\n",
       "            </style>\n",
       "            "
      ],
      "text/plain": [
       "<IPython.core.display.HTML object>"
      ]
     },
     "metadata": {},
     "output_type": "display_data"
    },
    {
     "data": {
      "application/vnd.jupyter.widget-view+json": {
       "model_id": "919dee8ed2d24e2fbdaabc0d318b55c2",
       "version_major": 2,
       "version_minor": 0
      },
      "text/plain": [
       "Map(center=[-33.84565081436696, -70.91725911612781], controls=(WidgetControl(options=['position', 'transparent…"
      ]
     },
     "metadata": {},
     "output_type": "display_data"
    }
   ],
   "source": [
    "m = geemap.Map(center=[-33.84565081436696, -70.91725911612781], zoom=15)\n",
    "vis = {\n",
    "    'bands': ['nd']\n",
    "}\n",
    "\n",
    "\n",
    "m.addLayer(aoi,name='aoi')\n",
    "m.addLayer(imagenes_binarias[0].clip(aoi), vis,name='agua')\n",
    "\n",
    "m"
   ]
  },
  {
   "cell_type": "code",
   "execution_count": 127,
   "id": "3fdb42c0-25a3-4626-aeb0-b511b1d8d5ea",
   "metadata": {
    "scrolled": true
   },
   "outputs": [
    {
     "data": {
      "text/html": [
       "\n",
       "            <style>\n",
       "                .geemap-dark {\n",
       "                    --jp-widgets-color: white;\n",
       "                    --jp-widgets-label-color: white;\n",
       "                    --jp-ui-font-color1: white;\n",
       "                    --jp-layout-color2: #454545;\n",
       "                    background-color: #383838;\n",
       "                }\n",
       "\n",
       "                .geemap-dark .jupyter-button {\n",
       "                    --jp-layout-color3: #383838;\n",
       "                }\n",
       "\n",
       "                .geemap-colab {\n",
       "                    background-color: var(--colab-primary-surface-color, white);\n",
       "                }\n",
       "\n",
       "                .geemap-colab .jupyter-button {\n",
       "                    --jp-layout-color3: var(--colab-primary-surface-color, white);\n",
       "                }\n",
       "            </style>\n",
       "            "
      ],
      "text/plain": [
       "<IPython.core.display.HTML object>"
      ]
     },
     "metadata": {},
     "output_type": "display_data"
    },
    {
     "data": {
      "text/plain": [
       "[(5646227.292114258, 5.646227292114258),\n",
       " (7319313.66809082, 7.31931366809082),\n",
       " (5105671.21484375, 5.10567121484375),\n",
       " (7210462.703491211, 7.210462703491211),\n",
       " (7162003.768676758, 7.162003768676758)]"
      ]
     },
     "execution_count": 127,
     "metadata": {},
     "output_type": "execute_result"
    }
   ],
   "source": [
    "# Este segmento de código saca el área para cada imágen\n",
    "areas = []\n",
    "for imagen_binaria in imagenes_binarias:\n",
    "    pixelarea = ee.Image.pixelArea()\n",
    "    flood_extent2 = pixelarea.updateMask(imagen_binaria.select(\"nd\"))\n",
    "    suma = flood_extent2.reduceRegion(ee.Reducer.sum(), aoi, scale=30)\n",
    "    suma = suma.getNumber('area').getInfo()# en metros cuadrados\n",
    "    square_meters = suma\n",
    "    square_kilometers = square_meters / (1e6)\n",
    "    areas.append((square_meters,square_kilometers))\n",
    "\n",
    "areas[0:5]\n",
    "    "
   ]
  },
  {
   "cell_type": "code",
   "execution_count": 155,
   "id": "0a56ef7e-c456-4417-b88b-955df2ca655a",
   "metadata": {},
   "outputs": [
    {
     "data": {
      "text/html": [
       "\n",
       "            <style>\n",
       "                .geemap-dark {\n",
       "                    --jp-widgets-color: white;\n",
       "                    --jp-widgets-label-color: white;\n",
       "                    --jp-ui-font-color1: white;\n",
       "                    --jp-layout-color2: #454545;\n",
       "                    background-color: #383838;\n",
       "                }\n",
       "\n",
       "                .geemap-dark .jupyter-button {\n",
       "                    --jp-layout-color3: #383838;\n",
       "                }\n",
       "\n",
       "                .geemap-colab {\n",
       "                    background-color: var(--colab-primary-surface-color, white);\n",
       "                }\n",
       "\n",
       "                .geemap-colab .jupyter-button {\n",
       "                    --jp-layout-color3: var(--colab-primary-surface-color, white);\n",
       "                }\n",
       "            </style>\n",
       "            "
      ],
      "text/plain": [
       "<IPython.core.display.HTML object>"
      ]
     },
     "metadata": {},
     "output_type": "display_data"
    },
    {
     "data": {
      "text/html": [
       "<div>\n",
       "<style scoped>\n",
       "    .dataframe tbody tr th:only-of-type {\n",
       "        vertical-align: middle;\n",
       "    }\n",
       "\n",
       "    .dataframe tbody tr th {\n",
       "        vertical-align: top;\n",
       "    }\n",
       "\n",
       "    .dataframe thead th {\n",
       "        text-align: right;\n",
       "    }\n",
       "</style>\n",
       "<table border=\"1\" class=\"dataframe\">\n",
       "  <thead>\n",
       "    <tr style=\"text-align: right;\">\n",
       "      <th></th>\n",
       "      <th>m</th>\n",
       "      <th>km</th>\n",
       "      <th>fecha</th>\n",
       "      <th>año</th>\n",
       "      <th>mes</th>\n",
       "    </tr>\n",
       "  </thead>\n",
       "  <tbody>\n",
       "    <tr>\n",
       "      <th>0</th>\n",
       "      <td>5.646227e+06</td>\n",
       "      <td>5.646227</td>\n",
       "      <td>2014-1-01</td>\n",
       "      <td>2014</td>\n",
       "      <td>1</td>\n",
       "    </tr>\n",
       "    <tr>\n",
       "      <th>1</th>\n",
       "      <td>7.319314e+06</td>\n",
       "      <td>7.319314</td>\n",
       "      <td>2014-2-01</td>\n",
       "      <td>2014</td>\n",
       "      <td>2</td>\n",
       "    </tr>\n",
       "    <tr>\n",
       "      <th>2</th>\n",
       "      <td>5.105671e+06</td>\n",
       "      <td>5.105671</td>\n",
       "      <td>2014-4-01</td>\n",
       "      <td>2014</td>\n",
       "      <td>4</td>\n",
       "    </tr>\n",
       "    <tr>\n",
       "      <th>3</th>\n",
       "      <td>7.210463e+06</td>\n",
       "      <td>7.210463</td>\n",
       "      <td>2014-6-01</td>\n",
       "      <td>2014</td>\n",
       "      <td>6</td>\n",
       "    </tr>\n",
       "    <tr>\n",
       "      <th>4</th>\n",
       "      <td>7.162004e+06</td>\n",
       "      <td>7.162004</td>\n",
       "      <td>2014-8-01</td>\n",
       "      <td>2014</td>\n",
       "      <td>8</td>\n",
       "    </tr>\n",
       "    <tr>\n",
       "      <th>...</th>\n",
       "      <td>...</td>\n",
       "      <td>...</td>\n",
       "      <td>...</td>\n",
       "      <td>...</td>\n",
       "      <td>...</td>\n",
       "    </tr>\n",
       "    <tr>\n",
       "      <th>95</th>\n",
       "      <td>5.040128e+06</td>\n",
       "      <td>5.040128</td>\n",
       "      <td>2023-12-01</td>\n",
       "      <td>2023</td>\n",
       "      <td>12</td>\n",
       "    </tr>\n",
       "    <tr>\n",
       "      <th>96</th>\n",
       "      <td>4.727712e+06</td>\n",
       "      <td>4.727712</td>\n",
       "      <td>2024-1-01</td>\n",
       "      <td>2024</td>\n",
       "      <td>1</td>\n",
       "    </tr>\n",
       "    <tr>\n",
       "      <th>97</th>\n",
       "      <td>4.030591e+06</td>\n",
       "      <td>4.030591</td>\n",
       "      <td>2024-2-01</td>\n",
       "      <td>2024</td>\n",
       "      <td>2</td>\n",
       "    </tr>\n",
       "    <tr>\n",
       "      <th>98</th>\n",
       "      <td>2.138354e+06</td>\n",
       "      <td>2.138354</td>\n",
       "      <td>2024-3-01</td>\n",
       "      <td>2024</td>\n",
       "      <td>3</td>\n",
       "    </tr>\n",
       "    <tr>\n",
       "      <th>99</th>\n",
       "      <td>1.553813e+06</td>\n",
       "      <td>1.553813</td>\n",
       "      <td>2024-4-01</td>\n",
       "      <td>2024</td>\n",
       "      <td>4</td>\n",
       "    </tr>\n",
       "  </tbody>\n",
       "</table>\n",
       "<p>100 rows × 5 columns</p>\n",
       "</div>"
      ],
      "text/plain": [
       "               m        km       fecha   año mes\n",
       "0   5.646227e+06  5.646227   2014-1-01  2014   1\n",
       "1   7.319314e+06  7.319314   2014-2-01  2014   2\n",
       "2   5.105671e+06  5.105671   2014-4-01  2014   4\n",
       "3   7.210463e+06  7.210463   2014-6-01  2014   6\n",
       "4   7.162004e+06  7.162004   2014-8-01  2014   8\n",
       "..           ...       ...         ...   ...  ..\n",
       "95  5.040128e+06  5.040128  2023-12-01  2023  12\n",
       "96  4.727712e+06  4.727712   2024-1-01  2024   1\n",
       "97  4.030591e+06  4.030591   2024-2-01  2024   2\n",
       "98  2.138354e+06  2.138354   2024-3-01  2024   3\n",
       "99  1.553813e+06  1.553813   2024-4-01  2024   4\n",
       "\n",
       "[100 rows x 5 columns]"
      ]
     },
     "execution_count": 155,
     "metadata": {},
     "output_type": "execute_result"
    }
   ],
   "source": [
    "df = pd.DataFrame(areas, columns=[\"m\", \"km\"])\n",
    "df[\"fecha\"] = fechas_con_imagen\n",
    "df[\"año\"] = df[\"fecha\"].map(lambda x: (x.split(\"-\")[0]))\n",
    "df[\"mes\"] = df[\"fecha\"].map(lambda x: (x.split(\"-\")[1]))\n",
    "df"
   ]
  },
  {
   "cell_type": "code",
   "execution_count": 160,
   "id": "0f3e1e4a-fa37-4e5f-92f0-33a97574b393",
   "metadata": {},
   "outputs": [
    {
     "data": {
      "text/html": [
       "\n",
       "            <style>\n",
       "                .geemap-dark {\n",
       "                    --jp-widgets-color: white;\n",
       "                    --jp-widgets-label-color: white;\n",
       "                    --jp-ui-font-color1: white;\n",
       "                    --jp-layout-color2: #454545;\n",
       "                    background-color: #383838;\n",
       "                }\n",
       "\n",
       "                .geemap-dark .jupyter-button {\n",
       "                    --jp-layout-color3: #383838;\n",
       "                }\n",
       "\n",
       "                .geemap-colab {\n",
       "                    background-color: var(--colab-primary-surface-color, white);\n",
       "                }\n",
       "\n",
       "                .geemap-colab .jupyter-button {\n",
       "                    --jp-layout-color3: var(--colab-primary-surface-color, white);\n",
       "                }\n",
       "            </style>\n",
       "            "
      ],
      "text/plain": [
       "<IPython.core.display.HTML object>"
      ]
     },
     "metadata": {},
     "output_type": "display_data"
    },
    {
     "data": {
      "image/png": "[encoded data removed]",
      "text/plain": [
       "<Figure size 640x480 with 1 Axes>"
      ]
     },
     "metadata": {},
     "output_type": "display_data"
    }
   ],
   "source": [
    "\n",
    "plot = sns.lineplot(y=df[\"km\"], x=df[\"año\"])\n",
    "fig = plot.get_figure()\n",
    "fig.savefig(\"visualizaciones/area_segun_tiempo.png\") "
   ]
  },
  {
   "cell_type": "markdown",
   "id": "30237311-97bd-4bb9-9c6c-acda6009010d",
   "metadata": {},
   "source": [
    "fig. 1 área de la laguna aculeo a lo largo del tiempo."
   ]
  },
  {
   "cell_type": "code",
   "execution_count": 166,
   "id": "58c289fc-33b0-4f00-accb-802e63b73fbf",
   "metadata": {},
   "outputs": [
    {
     "data": {
      "text/html": [
       "\n",
       "            <style>\n",
       "                .geemap-dark {\n",
       "                    --jp-widgets-color: white;\n",
       "                    --jp-widgets-label-color: white;\n",
       "                    --jp-ui-font-color1: white;\n",
       "                    --jp-layout-color2: #454545;\n",
       "                    background-color: #383838;\n",
       "                }\n",
       "\n",
       "                .geemap-dark .jupyter-button {\n",
       "                    --jp-layout-color3: #383838;\n",
       "                }\n",
       "\n",
       "                .geemap-colab {\n",
       "                    background-color: var(--colab-primary-surface-color, white);\n",
       "                }\n",
       "\n",
       "                .geemap-colab .jupyter-button {\n",
       "                    --jp-layout-color3: var(--colab-primary-surface-color, white);\n",
       "                }\n",
       "            </style>\n",
       "            "
      ],
      "text/plain": [
       "<IPython.core.display.HTML object>"
      ]
     },
     "metadata": {},
     "output_type": "display_data"
    },
    {
     "data": {
      "text/html": [
       "<div>\n",
       "<style scoped>\n",
       "    .dataframe tbody tr th:only-of-type {\n",
       "        vertical-align: middle;\n",
       "    }\n",
       "\n",
       "    .dataframe tbody tr th {\n",
       "        vertical-align: top;\n",
       "    }\n",
       "\n",
       "    .dataframe thead th {\n",
       "        text-align: right;\n",
       "    }\n",
       "</style>\n",
       "<table border=\"1\" class=\"dataframe\">\n",
       "  <thead>\n",
       "    <tr style=\"text-align: right;\">\n",
       "      <th></th>\n",
       "      <th>sum_precip</th>\n",
       "      <th>año</th>\n",
       "    </tr>\n",
       "  </thead>\n",
       "  <tbody>\n",
       "    <tr>\n",
       "      <th>0</th>\n",
       "      <td>16.7</td>\n",
       "      <td>2019</td>\n",
       "    </tr>\n",
       "    <tr>\n",
       "      <th>1</th>\n",
       "      <td>48.8</td>\n",
       "      <td>2020</td>\n",
       "    </tr>\n",
       "    <tr>\n",
       "      <th>2</th>\n",
       "      <td>12.8</td>\n",
       "      <td>2021</td>\n",
       "    </tr>\n",
       "    <tr>\n",
       "      <th>3</th>\n",
       "      <td>116.0</td>\n",
       "      <td>2022</td>\n",
       "    </tr>\n",
       "    <tr>\n",
       "      <th>4</th>\n",
       "      <td>347.8</td>\n",
       "      <td>2023</td>\n",
       "    </tr>\n",
       "  </tbody>\n",
       "</table>\n",
       "</div>"
      ],
      "text/plain": [
       "   sum_precip   año\n",
       "0        16.7  2019\n",
       "1        48.8  2020\n",
       "2        12.8  2021\n",
       "3       116.0  2022\n",
       "4       347.8  2023"
      ]
     },
     "execution_count": 166,
     "metadata": {},
     "output_type": "execute_result"
    }
   ],
   "source": [
    "lluvias = pd.read_csv(\"data/suma_anual_precip.csv\")\n",
    "lluvias.head()\n"
   ]
  },
  {
   "cell_type": "code",
   "execution_count": 167,
   "id": "0e621d08-389f-4856-8347-becf0adbb8cc",
   "metadata": {},
   "outputs": [
    {
     "data": {
      "text/html": [
       "\n",
       "            <style>\n",
       "                .geemap-dark {\n",
       "                    --jp-widgets-color: white;\n",
       "                    --jp-widgets-label-color: white;\n",
       "                    --jp-ui-font-color1: white;\n",
       "                    --jp-layout-color2: #454545;\n",
       "                    background-color: #383838;\n",
       "                }\n",
       "\n",
       "                .geemap-dark .jupyter-button {\n",
       "                    --jp-layout-color3: #383838;\n",
       "                }\n",
       "\n",
       "                .geemap-colab {\n",
       "                    background-color: var(--colab-primary-surface-color, white);\n",
       "                }\n",
       "\n",
       "                .geemap-colab .jupyter-button {\n",
       "                    --jp-layout-color3: var(--colab-primary-surface-color, white);\n",
       "                }\n",
       "            </style>\n",
       "            "
      ],
      "text/plain": [
       "<IPython.core.display.HTML object>"
      ]
     },
     "metadata": {},
     "output_type": "display_data"
    },
    {
     "data": {
      "text/plain": [
       "<Axes: xlabel='año', ylabel='sum_precip'>"
      ]
     },
     "execution_count": 167,
     "metadata": {},
     "output_type": "execute_result"
    },
    {
     "data": {
      "image/png": "[encoded data removed]",
      "text/plain": [
       "<Figure size 640x480 with 1 Axes>"
      ]
     },
     "metadata": {},
     "output_type": "display_data"
    }
   ],
   "source": [
    "sns.lineplot(lluvias,x=\"año\",y=\"sum_precip\")"
   ]
  },
  {
   "cell_type": "code",
   "execution_count": 174,
   "id": "10bbd481-c09c-470a-bf2d-74d6f051c4c4",
   "metadata": {},
   "outputs": [
    {
     "data": {
      "text/html": [
       "\n",
       "            <style>\n",
       "                .geemap-dark {\n",
       "                    --jp-widgets-color: white;\n",
       "                    --jp-widgets-label-color: white;\n",
       "                    --jp-ui-font-color1: white;\n",
       "                    --jp-layout-color2: #454545;\n",
       "                    background-color: #383838;\n",
       "                }\n",
       "\n",
       "                .geemap-dark .jupyter-button {\n",
       "                    --jp-layout-color3: #383838;\n",
       "                }\n",
       "\n",
       "                .geemap-colab {\n",
       "                    background-color: var(--colab-primary-surface-color, white);\n",
       "                }\n",
       "\n",
       "                .geemap-colab .jupyter-button {\n",
       "                    --jp-layout-color3: var(--colab-primary-surface-color, white);\n",
       "                }\n",
       "            </style>\n",
       "            "
      ],
      "text/plain": [
       "<IPython.core.display.HTML object>"
      ]
     },
     "metadata": {},
     "output_type": "display_data"
    },
    {
     "data": {
      "image/png": "[encoded data removed]",
      "text/plain": [
       "<Figure size 640x480 with 1 Axes>"
      ]
     },
     "metadata": {},
     "output_type": "display_data"
    }
   ],
   "source": [
    "df_p = df.astype({\"año\":int})\n",
    "df_p = df_p[df_p[\"año\"] >= 2019] #Acotamos el dataframe del área de la laguna aculeo para compararlo con los datos de lluvias\n",
    "\n",
    "plot = sns.lineplot(y=df_p[\"km\"], x=df_p[\"año\"])"
   ]
  },
  {
   "cell_type": "code",
   "execution_count": 182,
   "id": "ddaced93-88ff-49a3-9686-2929656e705f",
   "metadata": {},
   "outputs": [
    {
     "data": {
      "text/html": [
       "\n",
       "            <style>\n",
       "                .geemap-dark {\n",
       "                    --jp-widgets-color: white;\n",
       "                    --jp-widgets-label-color: white;\n",
       "                    --jp-ui-font-color1: white;\n",
       "                    --jp-layout-color2: #454545;\n",
       "                    background-color: #383838;\n",
       "                }\n",
       "\n",
       "                .geemap-dark .jupyter-button {\n",
       "                    --jp-layout-color3: #383838;\n",
       "                }\n",
       "\n",
       "                .geemap-colab {\n",
       "                    background-color: var(--colab-primary-surface-color, white);\n",
       "                }\n",
       "\n",
       "                .geemap-colab .jupyter-button {\n",
       "                    --jp-layout-color3: var(--colab-primary-surface-color, white);\n",
       "                }\n",
       "            </style>\n",
       "            "
      ],
      "text/plain": [
       "<IPython.core.display.HTML object>"
      ]
     },
     "metadata": {},
     "output_type": "display_data"
    },
    {
     "data": {
      "image/png": "[encoded data removed]",
      "text/plain": [
       "<Figure size 800x800 with 2 Axes>"
      ]
     },
     "metadata": {},
     "output_type": "display_data"
    }
   ],
   "source": [
    "fig, ax = plt.subplots(2, figsize=(8,8))\n",
    "ax[0].ticklabel_format(style='plain')\n",
    "ax[0].set_title(\"Área laguna (km)\")\n",
    "ax[1].set_title(\"Precipitaciones (suma de mm)\")\n",
    "ax[0].bar(df_p[\"año\"], df_p[\"km\"], color='m')\n",
    "ax[1].bar(lluvias[\"año\"],lluvias[\"sum_precip\"] , color='c')\n",
    "fig.suptitle(f\"Área medida de Laguna Aculeo VS Precipitaciones de la estación El Paico\")\n",
    "fig.tight_layout()\n",
    "    # plt.savefig(f\"Graficos\\\\{date.today()}.jpg\", dpi=\"figure\", format=\"jpg\")"
   ]
  },
  {
   "cell_type": "markdown",
   "id": "16ccbe76-644f-4c16-bb1c-e2d6bef7e049",
   "metadata": {},
   "source": [
    "fig. 2 Área medida de Laguna Aculeo VS Precipitaciones de la estación El Paico"
   ]
  },
  {
   "cell_type": "markdown",
   "id": "86bbf272-7d4d-4cbe-ab26-9fc849af19a4",
   "metadata": {},
   "source": [
    "### Dado la limitación del _scope_ de este análisis, tales como que hay meses sin datos en precipitaciones, y meses sin datos satelitales, sólo podemos hacer el análisis de forma anual, de todas maneras se encuentra una suerte de correlación entre la lluvia y el área, verificando la hipótesis de que la laguna se secó dada la sequía que se está viviendo."
   ]
  }
 ],
 "metadata": {
  "kernelspec": {
   "display_name": "Python 3 (ipykernel)",
   "language": "python",
   "name": "python3"
  },
  "language_info": {
   "codemirror_mode": {
    "name": "ipython",
    "version": 3
   },
   "file_extension": ".py",
   "mimetype": "text/x-python",
   "name": "python",
   "nbconvert_exporter": "python",
   "pygments_lexer": "ipython3",
   "version": "3.10.12"
  }
 },
 "nbformat": 4,
 "nbformat_minor": 5
}
