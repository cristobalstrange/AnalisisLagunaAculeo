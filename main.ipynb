{
 "cells": [
  {
   "cell_type": "code",
   "execution_count": 51,
   "id": "76adca8f-5a18-4d4c-91a3-4588f0cb8a45",
   "metadata": {},
   "outputs": [
    {
     "data": {
      "text/html": [
       "\n",
       "            <style>\n",
       "                .geemap-dark {\n",
       "                    --jp-widgets-color: white;\n",
       "                    --jp-widgets-label-color: white;\n",
       "                    --jp-ui-font-color1: white;\n",
       "                    --jp-layout-color2: #454545;\n",
       "                    background-color: #383838;\n",
       "                }\n",
       "\n",
       "                .geemap-dark .jupyter-button {\n",
       "                    --jp-layout-color3: #383838;\n",
       "                }\n",
       "\n",
       "                .geemap-colab {\n",
       "                    background-color: var(--colab-primary-surface-color, white);\n",
       "                }\n",
       "\n",
       "                .geemap-colab .jupyter-button {\n",
       "                    --jp-layout-color3: var(--colab-primary-surface-color, white);\n",
       "                }\n",
       "            </style>\n",
       "            "
      ],
      "text/plain": [
       "<IPython.core.display.HTML object>"
      ]
     },
     "metadata": {},
     "output_type": "display_data"
    }
   ],
   "source": [
    "import geopandas as gpd\n",
    "import pandas as pd\n",
    "import geemap\n",
    "import ee\n",
    "import shapely\n",
    "import seaborn as sns\n",
    "import matplotlib.pyplot as plt\n",
    "from tqdm.notebook import tqdm\n",
    "import requests\n",
    "import json\n",
    "import numpy as np\n",
    "\n",
    "from PIL import Image\n",
    "\n",
    "import geojson\n",
    "\n",
    "import shapely\n",
    "import rasterio as rio\n",
    "from rasterio.plot import show, reshape_as_image\n",
    "import rasterio.mask\n",
    "from shapely.geometry import box\n",
    "\n",
    "import matplotlib.colors as cl\n",
    "import eeconvert as eec\n",
    "\n",
    "import folium\n",
    "\n",
    "# Deep learning libraries\n",
    "import torch\n",
    "from torchvision import datasets, models, transforms"
   ]
  },
  {
   "cell_type": "code",
   "execution_count": 52,
   "id": "a0457bc6-e9ca-4b59-b5ae-9d3c2577927e",
   "metadata": {},
   "outputs": [
    {
     "data": {
      "text/html": [
       "\n",
       "            <style>\n",
       "                .geemap-dark {\n",
       "                    --jp-widgets-color: white;\n",
       "                    --jp-widgets-label-color: white;\n",
       "                    --jp-ui-font-color1: white;\n",
       "                    --jp-layout-color2: #454545;\n",
       "                    background-color: #383838;\n",
       "                }\n",
       "\n",
       "                .geemap-dark .jupyter-button {\n",
       "                    --jp-layout-color3: #383838;\n",
       "                }\n",
       "\n",
       "                .geemap-colab {\n",
       "                    background-color: var(--colab-primary-surface-color, white);\n",
       "                }\n",
       "\n",
       "                .geemap-colab .jupyter-button {\n",
       "                    --jp-layout-color3: var(--colab-primary-surface-color, white);\n",
       "                }\n",
       "            </style>\n",
       "            "
      ],
      "text/plain": [
       "<IPython.core.display.HTML object>"
      ]
     },
     "metadata": {},
     "output_type": "display_data"
    }
   ],
   "source": [
    "ee.Authenticate()\n",
    "ee.Initialize()"
   ]
  },
  {
   "cell_type": "markdown",
   "id": "09ed8c00-92fc-42c2-a2e5-25c428e794c7",
   "metadata": {},
   "source": [
    "Planificación General: Medir área total de la laguna a lo largo del tiempo -> hacer un área total del uso de suelo usando aquella red neuronal que clasificaba segun crop o algo asi -> Ver como avanzó crop e industrial a lo largo del tiempo."
   ]
  },
  {
   "cell_type": "markdown",
   "id": "66e71a69-267b-4e5c-8e2d-0ccc2d10f320",
   "metadata": {},
   "source": [
    "### Definimos como aoi un área de aproximadamente 5km alrededor de la Laguna de Aculeo, y el intervalo de tiempo de interés 2014-2024 ya que se secó alrededor de 2018, Además de la disponibilidad de landsat 8, que comienza en 2013"
   ]
  },
  {
   "cell_type": "markdown",
   "id": "b3e99e5e-a84e-4a2a-a46e-9965c7c6da97",
   "metadata": {},
   "source": [
    "# Definición de AOI, DOI"
   ]
  },
  {
   "cell_type": "code",
   "execution_count": 53,
   "id": "fe981c18-69ca-4b0b-afdd-b47e79f83e24",
   "metadata": {
    "scrolled": true
   },
   "outputs": [
    {
     "data": {
      "text/html": [
       "\n",
       "            <style>\n",
       "                .geemap-dark {\n",
       "                    --jp-widgets-color: white;\n",
       "                    --jp-widgets-label-color: white;\n",
       "                    --jp-ui-font-color1: white;\n",
       "                    --jp-layout-color2: #454545;\n",
       "                    background-color: #383838;\n",
       "                }\n",
       "\n",
       "                .geemap-dark .jupyter-button {\n",
       "                    --jp-layout-color3: #383838;\n",
       "                }\n",
       "\n",
       "                .geemap-colab {\n",
       "                    background-color: var(--colab-primary-surface-color, white);\n",
       "                }\n",
       "\n",
       "                .geemap-colab .jupyter-button {\n",
       "                    --jp-layout-color3: var(--colab-primary-surface-color, white);\n",
       "                }\n",
       "            </style>\n",
       "            "
      ],
      "text/plain": [
       "<IPython.core.display.HTML object>"
      ]
     },
     "metadata": {},
     "output_type": "display_data"
    },
    {
     "data": {
      "text/plain": [
       "['2014-1-01',\n",
       " '2014-2-01',\n",
       " '2014-3-01',\n",
       " '2014-4-01',\n",
       " '2014-5-01',\n",
       " '2014-6-01',\n",
       " '2014-7-01',\n",
       " '2014-8-01',\n",
       " '2014-9-01',\n",
       " '2014-10-01',\n",
       " '2014-11-01',\n",
       " '2014-12-01',\n",
       " '2015-1-01',\n",
       " '2015-2-01',\n",
       " '2015-3-01',\n",
       " '2015-4-01',\n",
       " '2015-5-01',\n",
       " '2015-6-01',\n",
       " '2015-7-01',\n",
       " '2015-8-01',\n",
       " '2015-9-01',\n",
       " '2015-10-01',\n",
       " '2015-11-01',\n",
       " '2015-12-01',\n",
       " '2016-1-01',\n",
       " '2016-2-01',\n",
       " '2016-3-01',\n",
       " '2016-4-01',\n",
       " '2016-5-01',\n",
       " '2016-6-01',\n",
       " '2016-7-01',\n",
       " '2016-8-01',\n",
       " '2016-9-01',\n",
       " '2016-10-01',\n",
       " '2016-11-01',\n",
       " '2016-12-01',\n",
       " '2017-1-01',\n",
       " '2017-2-01',\n",
       " '2017-3-01',\n",
       " '2017-4-01',\n",
       " '2017-5-01',\n",
       " '2017-6-01',\n",
       " '2017-7-01',\n",
       " '2017-8-01',\n",
       " '2017-9-01',\n",
       " '2017-10-01',\n",
       " '2017-11-01',\n",
       " '2017-12-01',\n",
       " '2018-1-01',\n",
       " '2018-2-01',\n",
       " '2018-3-01',\n",
       " '2018-4-01',\n",
       " '2018-5-01',\n",
       " '2018-6-01',\n",
       " '2018-7-01',\n",
       " '2018-8-01',\n",
       " '2018-9-01',\n",
       " '2018-10-01',\n",
       " '2018-11-01',\n",
       " '2018-12-01',\n",
       " '2019-1-01',\n",
       " '2019-2-01',\n",
       " '2019-3-01',\n",
       " '2019-4-01',\n",
       " '2019-5-01',\n",
       " '2019-6-01',\n",
       " '2019-7-01',\n",
       " '2019-8-01',\n",
       " '2019-9-01',\n",
       " '2019-10-01',\n",
       " '2019-11-01',\n",
       " '2019-12-01',\n",
       " '2020-1-01',\n",
       " '2020-2-01',\n",
       " '2020-3-01',\n",
       " '2020-4-01',\n",
       " '2020-5-01',\n",
       " '2020-6-01',\n",
       " '2020-7-01',\n",
       " '2020-8-01',\n",
       " '2020-9-01',\n",
       " '2020-10-01',\n",
       " '2020-11-01',\n",
       " '2020-12-01',\n",
       " '2021-1-01',\n",
       " '2021-2-01',\n",
       " '2021-3-01',\n",
       " '2021-4-01',\n",
       " '2021-5-01',\n",
       " '2021-6-01',\n",
       " '2021-7-01',\n",
       " '2021-8-01',\n",
       " '2021-9-01',\n",
       " '2021-10-01',\n",
       " '2021-11-01',\n",
       " '2021-12-01',\n",
       " '2022-1-01',\n",
       " '2022-2-01',\n",
       " '2022-3-01',\n",
       " '2022-4-01',\n",
       " '2022-5-01',\n",
       " '2022-6-01',\n",
       " '2022-7-01',\n",
       " '2022-8-01',\n",
       " '2022-9-01',\n",
       " '2022-10-01',\n",
       " '2022-11-01',\n",
       " '2022-12-01',\n",
       " '2023-1-01',\n",
       " '2023-2-01',\n",
       " '2023-3-01',\n",
       " '2023-4-01',\n",
       " '2023-5-01',\n",
       " '2023-6-01',\n",
       " '2023-7-01',\n",
       " '2023-8-01',\n",
       " '2023-9-01',\n",
       " '2023-10-01',\n",
       " '2023-11-01',\n",
       " '2023-12-01',\n",
       " '2024-1-01',\n",
       " '2024-2-01',\n",
       " '2024-3-01',\n",
       " '2024-4-01',\n",
       " '2024-5-01']"
      ]
     },
     "execution_count": 53,
     "metadata": {},
     "output_type": "execute_result"
    }
   ],
   "source": [
    "doi = [\"2014-01-01\",\"2024-01-01\"] # Dates of interest?\n",
    "doi_intervalar = [] # Se crean intervalos de un mes, para poder dividir las imágenes\n",
    "for i in range(14,25): \n",
    "    for j in range(1,13):\n",
    "        if i == 24 and j >= 6:\n",
    "            break\n",
    "        doi_intervalar.append(str(2000+i)+ \"-\" +  str(j)+ \"-01\")\n",
    "doi_intervalar"
   ]
  },
  {
   "cell_type": "code",
   "execution_count": 54,
   "id": "d1c54370-da6f-48ed-8a94-1eea4119cec3",
   "metadata": {},
   "outputs": [
    {
     "data": {
      "text/html": [
       "\n",
       "            <style>\n",
       "                .geemap-dark {\n",
       "                    --jp-widgets-color: white;\n",
       "                    --jp-widgets-label-color: white;\n",
       "                    --jp-ui-font-color1: white;\n",
       "                    --jp-layout-color2: #454545;\n",
       "                    background-color: #383838;\n",
       "                }\n",
       "\n",
       "                .geemap-dark .jupyter-button {\n",
       "                    --jp-layout-color3: #383838;\n",
       "                }\n",
       "\n",
       "                .geemap-colab {\n",
       "                    background-color: var(--colab-primary-surface-color, white);\n",
       "                }\n",
       "\n",
       "                .geemap-colab .jupyter-button {\n",
       "                    --jp-layout-color3: var(--colab-primary-surface-color, white);\n",
       "                }\n",
       "            </style>\n",
       "            "
      ],
      "text/plain": [
       "<IPython.core.display.HTML object>"
      ]
     },
     "metadata": {},
     "output_type": "display_data"
    },
    {
     "data": {
      "text/plain": [
       "77601512.35539426"
      ]
     },
     "execution_count": 54,
     "metadata": {},
     "output_type": "execute_result"
    }
   ],
   "source": [
    "ee.Geometry.Point([-70.91725911612781,-33.84565081436696]).buffer(5000).area().getInfo()"
   ]
  },
  {
   "cell_type": "code",
   "execution_count": 55,
   "id": "0f0e48f7-3e2e-4650-a70d-7219fcd84153",
   "metadata": {
    "scrolled": true
   },
   "outputs": [
    {
     "data": {
      "text/html": [
       "\n",
       "            <style>\n",
       "                .geemap-dark {\n",
       "                    --jp-widgets-color: white;\n",
       "                    --jp-widgets-label-color: white;\n",
       "                    --jp-ui-font-color1: white;\n",
       "                    --jp-layout-color2: #454545;\n",
       "                    background-color: #383838;\n",
       "                }\n",
       "\n",
       "                .geemap-dark .jupyter-button {\n",
       "                    --jp-layout-color3: #383838;\n",
       "                }\n",
       "\n",
       "                .geemap-colab {\n",
       "                    background-color: var(--colab-primary-surface-color, white);\n",
       "                }\n",
       "\n",
       "                .geemap-colab .jupyter-button {\n",
       "                    --jp-layout-color3: var(--colab-primary-surface-color, white);\n",
       "                }\n",
       "            </style>\n",
       "            "
      ],
      "text/plain": [
       "<IPython.core.display.HTML object>"
      ]
     },
     "metadata": {},
     "output_type": "display_data"
    },
    {
     "data": {
      "application/vnd.jupyter.widget-view+json": {
       "model_id": "186126c46e1c4efe949ab83235f69744",
       "version_major": 2,
       "version_minor": 0
      },
      "text/plain": [
       "Map(center=[-33.84565081436696, -70.91725911612781], controls=(WidgetControl(options=['position', 'transparent…"
      ]
     },
     "metadata": {},
     "output_type": "display_data"
    }
   ],
   "source": [
    "aoi = ee.Geometry.Point([-70.91725911612781,-33.84565081436696]).buffer(5000)\n",
    "\n",
    "m = geemap.Map(center=[-33.84565081436696, -70.91725911612781], zoom=15)\n",
    "\n",
    "m.addLayer(aoi,name='aoi')\n",
    "m"
   ]
  },
  {
   "cell_type": "code",
   "execution_count": 56,
   "id": "8c7b88b8-1680-4b54-be02-8e0d9484391b",
   "metadata": {},
   "outputs": [
    {
     "data": {
      "text/html": [
       "\n",
       "            <style>\n",
       "                .geemap-dark {\n",
       "                    --jp-widgets-color: white;\n",
       "                    --jp-widgets-label-color: white;\n",
       "                    --jp-ui-font-color1: white;\n",
       "                    --jp-layout-color2: #454545;\n",
       "                    background-color: #383838;\n",
       "                }\n",
       "\n",
       "                .geemap-dark .jupyter-button {\n",
       "                    --jp-layout-color3: #383838;\n",
       "                }\n",
       "\n",
       "                .geemap-colab {\n",
       "                    background-color: var(--colab-primary-surface-color, white);\n",
       "                }\n",
       "\n",
       "                .geemap-colab .jupyter-button {\n",
       "                    --jp-layout-color3: var(--colab-primary-surface-color, white);\n",
       "                }\n",
       "            </style>\n",
       "            "
      ],
      "text/plain": [
       "<IPython.core.display.HTML object>"
      ]
     },
     "metadata": {},
     "output_type": "display_data"
    }
   ],
   "source": [
    "def apply_scale_factors(image):\n",
    "  optical_bands = image.select('SR_B.').multiply(0.0000275).add(-0.2)\n",
    "  thermal_bands = image.select('ST_B.*').multiply(0.00341802).add(149.0)\n",
    "  return image.addBands(optical_bands, None, True)"
   ]
  },
  {
   "cell_type": "markdown",
   "id": "f51201f8-b8cd-4251-a13b-776418670c2d",
   "metadata": {},
   "source": [
    "# Análisis del área de la Laguna Aculeo"
   ]
  },
  {
   "cell_type": "markdown",
   "id": "6069609a-830d-4cee-a8de-04cb239b2f18",
   "metadata": {},
   "source": [
    "### Calculamos el NDWI para cada mes, conservando las fechas que tienen imágenes en condiciones para posteriormente armar el dataframe"
   ]
  },
  {
   "cell_type": "code",
   "execution_count": 57,
   "id": "89926e14-9930-4fc9-aedf-7eef07a60e3e",
   "metadata": {
    "scrolled": true
   },
   "outputs": [
    {
     "data": {
      "text/html": [
       "\n",
       "            <style>\n",
       "                .geemap-dark {\n",
       "                    --jp-widgets-color: white;\n",
       "                    --jp-widgets-label-color: white;\n",
       "                    --jp-ui-font-color1: white;\n",
       "                    --jp-layout-color2: #454545;\n",
       "                    background-color: #383838;\n",
       "                }\n",
       "\n",
       "                .geemap-dark .jupyter-button {\n",
       "                    --jp-layout-color3: #383838;\n",
       "                }\n",
       "\n",
       "                .geemap-colab {\n",
       "                    background-color: var(--colab-primary-surface-color, white);\n",
       "                }\n",
       "\n",
       "                .geemap-colab .jupyter-button {\n",
       "                    --jp-layout-color3: var(--colab-primary-surface-color, white);\n",
       "                }\n",
       "            </style>\n",
       "            "
      ],
      "text/plain": [
       "<IPython.core.display.HTML object>"
      ]
     },
     "metadata": {},
     "output_type": "display_data"
    },
    {
     "data": {
      "application/vnd.jupyter.widget-view+json": {
       "model_id": "f83865d5e62e43b4893ac57c279b7374",
       "version_major": 2,
       "version_minor": 0
      },
      "text/plain": [
       "  0%|          | 0/124 [00:00<?, ?it/s]"
      ]
     },
     "metadata": {},
     "output_type": "display_data"
    },
    {
     "name": "stdout",
     "output_type": "stream",
     "text": [
      "2014-1-01 2014-2-01\n",
      "2014-2-01 2014-3-01\n",
      "2014-3-01 2014-4-01\n",
      "Colección Vacía\n",
      "2014-4-01 2014-5-01\n",
      "2014-5-01 2014-6-01\n",
      "Colección Vacía\n",
      "2014-6-01 2014-7-01\n",
      "2014-7-01 2014-8-01\n",
      "Colección Vacía\n",
      "2014-8-01 2014-9-01\n",
      "2014-9-01 2014-10-01\n",
      "Colección Vacía\n",
      "2014-10-01 2014-11-01\n",
      "2014-11-01 2014-12-01\n",
      "2014-12-01 2015-1-01\n",
      "Colección Vacía\n",
      "2015-1-01 2015-2-01\n",
      "2015-2-01 2015-3-01\n",
      "2015-3-01 2015-4-01\n",
      "2015-4-01 2015-5-01\n",
      "2015-5-01 2015-6-01\n",
      "2015-6-01 2015-7-01\n",
      "Colección Vacía\n",
      "2015-7-01 2015-8-01\n",
      "2015-8-01 2015-9-01\n",
      "Colección Vacía\n",
      "2015-9-01 2015-10-01\n",
      "Colección Vacía\n",
      "2015-10-01 2015-11-01\n",
      "2015-11-01 2015-12-01\n",
      "2015-12-01 2016-1-01\n",
      "2016-1-01 2016-2-01\n",
      "2016-2-01 2016-3-01\n",
      "Colección Vacía\n",
      "2016-3-01 2016-4-01\n",
      "2016-4-01 2016-5-01\n",
      "2016-5-01 2016-6-01\n",
      "2016-6-01 2016-7-01\n",
      "2016-7-01 2016-8-01\n",
      "Colección Vacía\n",
      "2016-8-01 2016-9-01\n",
      "2016-9-01 2016-10-01\n",
      "2016-10-01 2016-11-01\n",
      "2016-11-01 2016-12-01\n",
      "2016-12-01 2017-1-01\n",
      "Colección Vacía\n",
      "2017-1-01 2017-2-01\n",
      "2017-2-01 2017-3-01\n",
      "2017-3-01 2017-4-01\n",
      "2017-4-01 2017-5-01\n",
      "Colección Vacía\n",
      "2017-5-01 2017-6-01\n",
      "Colección Vacía\n",
      "2017-6-01 2017-7-01\n",
      "2017-7-01 2017-8-01\n",
      "2017-8-01 2017-9-01\n",
      "2017-9-01 2017-10-01\n",
      "Colección Vacía\n",
      "2017-10-01 2017-11-01\n",
      "Colección Vacía\n",
      "2017-11-01 2017-12-01\n",
      "2017-12-01 2018-1-01\n",
      "2018-1-01 2018-2-01\n",
      "2018-2-01 2018-3-01\n",
      "2018-3-01 2018-4-01\n",
      "2018-4-01 2018-5-01\n",
      "2018-5-01 2018-6-01\n",
      "2018-6-01 2018-7-01\n",
      "2018-7-01 2018-8-01\n",
      "2018-8-01 2018-9-01\n",
      "2018-9-01 2018-10-01\n",
      "2018-10-01 2018-11-01\n",
      "2018-11-01 2018-12-01\n",
      "2018-12-01 2019-1-01\n",
      "2019-1-01 2019-2-01\n",
      "2019-2-01 2019-3-01\n",
      "2019-3-01 2019-4-01\n",
      "2019-4-01 2019-5-01\n",
      "Colección Vacía\n",
      "2019-5-01 2019-6-01\n",
      "2019-6-01 2019-7-01\n",
      "2019-7-01 2019-8-01\n",
      "Colección Vacía\n",
      "2019-8-01 2019-9-01\n",
      "2019-9-01 2019-10-01\n",
      "2019-10-01 2019-11-01\n",
      "2019-11-01 2019-12-01\n",
      "2019-12-01 2020-1-01\n",
      "2020-1-01 2020-2-01\n",
      "2020-2-01 2020-3-01\n",
      "2020-3-01 2020-4-01\n",
      "2020-4-01 2020-5-01\n",
      "2020-5-01 2020-6-01\n",
      "2020-6-01 2020-7-01\n",
      "Colección Vacía\n",
      "2020-7-01 2020-8-01\n",
      "2020-8-01 2020-9-01\n",
      "2020-9-01 2020-10-01\n",
      "2020-10-01 2020-11-01\n",
      "2020-11-01 2020-12-01\n",
      "2020-12-01 2021-1-01\n",
      "2021-1-01 2021-2-01\n",
      "2021-2-01 2021-3-01\n",
      "Colección Vacía\n",
      "2021-3-01 2021-4-01\n",
      "2021-4-01 2021-5-01\n",
      "Colección Vacía\n",
      "2021-5-01 2021-6-01\n",
      "Colección Vacía\n",
      "2021-6-01 2021-7-01\n",
      "2021-7-01 2021-8-01\n",
      "2021-8-01 2021-9-01\n",
      "2021-9-01 2021-10-01\n",
      "2021-10-01 2021-11-01\n",
      "2021-11-01 2021-12-01\n",
      "2021-12-01 2022-1-01\n",
      "2022-1-01 2022-2-01\n",
      "2022-2-01 2022-3-01\n",
      "2022-3-01 2022-4-01\n",
      "2022-4-01 2022-5-01\n",
      "2022-5-01 2022-6-01\n",
      "Colección Vacía\n",
      "2022-6-01 2022-7-01\n",
      "2022-7-01 2022-8-01\n",
      "2022-8-01 2022-9-01\n",
      "2022-9-01 2022-10-01\n",
      "2022-10-01 2022-11-01\n",
      "2022-11-01 2022-12-01\n",
      "2022-12-01 2023-1-01\n",
      "2023-1-01 2023-2-01\n",
      "2023-2-01 2023-3-01\n",
      "2023-3-01 2023-4-01\n",
      "2023-4-01 2023-5-01\n",
      "2023-5-01 2023-6-01\n",
      "Colección Vacía\n",
      "2023-6-01 2023-7-01\n",
      "2023-7-01 2023-8-01\n",
      "2023-8-01 2023-9-01\n",
      "2023-9-01 2023-10-01\n",
      "2023-10-01 2023-11-01\n",
      "2023-11-01 2023-12-01\n",
      "Colección Vacía\n",
      "2023-12-01 2024-1-01\n",
      "2024-1-01 2024-2-01\n",
      "2024-2-01 2024-3-01\n",
      "2024-3-01 2024-4-01\n",
      "2024-4-01 2024-5-01\n"
     ]
    }
   ],
   "source": [
    "# NDWI usado: http://archive.eclass.uth.gr/eclass/modules/document/file.php/MHXC241/PROJECT/Mc_Feeters_NDWI_01431169608948714.pdf\n",
    "\n",
    "imagenes_ndwi = []\n",
    "fechas_con_imagen = []\n",
    "for i in tqdm(range(len(doi_intervalar)-1), total=len(doi_intervalar)-1):\n",
    "    inicio = doi_intervalar[i]\n",
    "    fin = doi_intervalar[i+1]\n",
    "    print(inicio, fin)\n",
    "    \n",
    "# Obtenemos imágenes\n",
    "    \n",
    "    landsat_collection = ee.ImageCollection(\"LANDSAT/LC08/C02/T1_L2\").filter(ee.Filter.lessThan(leftField=\"CLOUD_COVER_LAND\", rightValue=20)).filterDate(inicio,fin).filterBounds(aoi).select(['SR_B3', 'SR_B5'])\n",
    "# Hacemos escalamientos correspondientes\n",
    "    \n",
    "    landsat_collection = landsat_collection.map(apply_scale_factors)\n",
    "# Obtenemos geomediana para reducir a una imágen\n",
    "    \n",
    "    try: # Si no hay ninguna imágen para ese mes, esta siguiente linea dará error, por lo que esta linea lo maneja (de forma un poco bruta, pero funciona)\n",
    "        r = ee.Reducer.geometricMedian(2).setOutputs([\"geom_\" + nombre for nombre in landsat_collection.first().bandNames().getInfo()])\n",
    "    except:\n",
    "        print(\"Colección Vacía\")\n",
    "        continue\n",
    "    geomediana = landsat_collection.reduce(r)\n",
    "#Calculamos ndwi\n",
    "    ndwi = geomediana.normalizedDifference([\"geom_SR_B3\",\"geom_SR_B5\"])\n",
    "    geomediana = geomediana.addBands(ndwi)\n",
    "# Agregamos a la lista\n",
    "    imagenes_ndwi.append(geomediana)\n",
    "    fechas_con_imagen.append(inicio) # Guardamos las fechas para después\n",
    "\n",
    "ndwis = ee.ImageCollection.fromImages(imagenes_ndwi)\n",
    "\n",
    "\n"
   ]
  },
  {
   "cell_type": "markdown",
   "id": "26653a5f-f4f3-484c-9340-8a425195bb03",
   "metadata": {},
   "source": [
    "### Exportamos un video time-lapse del nivel de agua de la Laguna"
   ]
  },
  {
   "cell_type": "code",
   "execution_count": 58,
   "id": "3cdcfc5b-ec62-4327-b4f6-9d7cd7c5ed26",
   "metadata": {},
   "outputs": [
    {
     "data": {
      "text/html": [
       "\n",
       "            <style>\n",
       "                .geemap-dark {\n",
       "                    --jp-widgets-color: white;\n",
       "                    --jp-widgets-label-color: white;\n",
       "                    --jp-ui-font-color1: white;\n",
       "                    --jp-layout-color2: #454545;\n",
       "                    background-color: #383838;\n",
       "                }\n",
       "\n",
       "                .geemap-dark .jupyter-button {\n",
       "                    --jp-layout-color3: #383838;\n",
       "                }\n",
       "\n",
       "                .geemap-colab {\n",
       "                    background-color: var(--colab-primary-surface-color, white);\n",
       "                }\n",
       "\n",
       "                .geemap-colab .jupyter-button {\n",
       "                    --jp-layout-color3: var(--colab-primary-surface-color, white);\n",
       "                }\n",
       "            </style>\n",
       "            "
      ],
      "text/plain": [
       "<IPython.core.display.HTML object>"
      ]
     },
     "metadata": {},
     "output_type": "display_data"
    },
    {
     "name": "stdout",
     "output_type": "stream",
     "text": [
      "https://earthengine.googleapis.com/v1/projects/earthengine-legacy/videoThumbnails/ba32b6c238bb0aa0545a52a67d681e31-196d92447c24bd8fb9e6c4e267ed7bd4:getPixels\n"
     ]
    }
   ],
   "source": [
    "videoArgs = {'dimensions': 500,\n",
    "             'region': aoi,\n",
    "             'framesPerSecond': 5,\n",
    "            'bands': [\"nd\"], \"palette\":[\"green\", \"blue\"]}\n",
    "\n",
    "## Cambios: Mejor calcular todas los ndwi y hacer un video de eso yo creo\n",
    "print(ndwis.getVideoThumbURL(videoArgs))"
   ]
  },
  {
   "cell_type": "markdown",
   "id": "dbcb174e-e498-471e-85d7-f27116b2693c",
   "metadata": {},
   "source": [
    "### Casualmente se obtuvo 100 imaǵenes de meses tales que tuvieron al menos una imágen con una cobertura aceptable de nubes, para la que se calculó la geomediana de las bandas, y luego se computó el ndwi, ahora se busca obtener el area total de agua para cada imágen."
   ]
  },
  {
   "cell_type": "code",
   "execution_count": 59,
   "id": "5d444a52-994f-48d4-a100-e56d05dc219d",
   "metadata": {
    "scrolled": true
   },
   "outputs": [
    {
     "data": {
      "text/html": [
       "\n",
       "            <style>\n",
       "                .geemap-dark {\n",
       "                    --jp-widgets-color: white;\n",
       "                    --jp-widgets-label-color: white;\n",
       "                    --jp-ui-font-color1: white;\n",
       "                    --jp-layout-color2: #454545;\n",
       "                    background-color: #383838;\n",
       "                }\n",
       "\n",
       "                .geemap-dark .jupyter-button {\n",
       "                    --jp-layout-color3: #383838;\n",
       "                }\n",
       "\n",
       "                .geemap-colab {\n",
       "                    background-color: var(--colab-primary-surface-color, white);\n",
       "                }\n",
       "\n",
       "                .geemap-colab .jupyter-button {\n",
       "                    --jp-layout-color3: var(--colab-primary-surface-color, white);\n",
       "                }\n",
       "            </style>\n",
       "            "
      ],
      "text/plain": [
       "<IPython.core.display.HTML object>"
      ]
     },
     "metadata": {},
     "output_type": "display_data"
    },
    {
     "data": {
      "text/html": [
       "<div><style>:root {\n",
       "  --font-color-primary: var(--jp-content-font-color0, rgba(0, 0, 0, 1));\n",
       "  --font-color-secondary: var(--jp-content-font-color2, rgba(0, 0, 0, 0.6));\n",
       "  --font-color-accent: rgba(123, 31, 162, 1);\n",
       "  --border-color: var(--jp-border-color2, #e0e0e0);\n",
       "  --background-color: var(--jp-layout-color0, white);\n",
       "  --background-color-row-even: var(--jp-layout-color1, white);\n",
       "  --background-color-row-odd: var(--jp-layout-color2, #eeeeee);\n",
       "}\n",
       "\n",
       "html[theme=\"dark\"],\n",
       "body[data-theme=\"dark\"],\n",
       "body.vscode-dark {\n",
       "  --font-color-primary: rgba(255, 255, 255, 1);\n",
       "  --font-color-secondary: rgba(255, 255, 255, 0.6);\n",
       "  --font-color-accent: rgb(173, 132, 190);\n",
       "  --border-color: #2e2e2e;\n",
       "  --background-color: #111111;\n",
       "  --background-color-row-even: #111111;\n",
       "  --background-color-row-odd: #313131;\n",
       "}\n",
       "\n",
       ".ee {\n",
       "  padding: 1em;\n",
       "  line-height: 1.5em;\n",
       "  min-width: 300px;\n",
       "  max-width: 1200px;\n",
       "  overflow-y: scroll;\n",
       "  max-height: 600px;\n",
       "  border: 1px solid var(--border-color);\n",
       "  font-family: monospace;\n",
       "}\n",
       "\n",
       ".ee li {\n",
       "  list-style-type: none;\n",
       "}\n",
       "\n",
       ".ee ul {\n",
       "  padding-left: 1.5em !important;\n",
       "  margin: 0;\n",
       "}\n",
       "\n",
       ".ee > ul {\n",
       "  padding-left: 0 !important;\n",
       "}\n",
       "\n",
       ".ee-open,\n",
       ".ee-shut {\n",
       "  color: var(--font-color-secondary);\n",
       "  cursor: pointer;\n",
       "  margin: 0;\n",
       "}\n",
       "\n",
       ".ee-open:hover,\n",
       ".ee-shut:hover {\n",
       "  color: var(--font-color-primary);\n",
       "}\n",
       "\n",
       ".ee-k {\n",
       "  color: var(--font-color-accent);\n",
       "  margin-right: 6px;\n",
       "}\n",
       "\n",
       ".ee-v {\n",
       "  color: var(--font-color-primary);\n",
       "}\n",
       "\n",
       ".ee-toggle {\n",
       "  display: none;\n",
       "}\n",
       "\n",
       ".ee-shut + ul {\n",
       "  display: none;\n",
       "}\n",
       "\n",
       ".ee-open + ul {\n",
       "  display: block;\n",
       "}\n",
       "\n",
       ".ee-shut::before {\n",
       "  display: inline-block;\n",
       "  content: \"▼\";\n",
       "  margin-right: 6px;\n",
       "  transform: rotate(-90deg);\n",
       "  transition: transform 0.2s;\n",
       "}\n",
       "\n",
       ".ee-open::before {\n",
       "  transform: rotate(0deg);\n",
       "  display: inline-block;\n",
       "  content: \"▼\";\n",
       "  margin-right: 6px;\n",
       "  transition: transform 0.2s;\n",
       "}\n",
       "</style><div class='ee'><ul><li><label class='ee-shut'>Image (3 bands)<input type='checkbox' class='ee-toggle'></label><ul><li><span class='ee-k'>type:</span><span class='ee-v'>Image</span></li><li><label class='ee-shut'>bands: List (3 elements)<input type='checkbox' class='ee-toggle'></label><ul><li><label class='ee-shut'>0: \"geom_SR_B3\", int ∈ [0, 1], EPSG:4326<input type='checkbox' class='ee-toggle'></label><ul><li><span class='ee-k'>id:</span><span class='ee-v'>geom_SR_B3</span></li><li><span class='ee-k'>crs:</span><span class='ee-v'>EPSG:4326</span></li><li><label class='ee-shut'>crs_transform: [1, 0, 0, 0, 1, 0]<input type='checkbox' class='ee-toggle'></label><ul><li><span class='ee-k'>0:</span><span class='ee-v'>1</span></li><li><span class='ee-k'>1:</span><span class='ee-v'>0</span></li><li><span class='ee-k'>2:</span><span class='ee-v'>0</span></li><li><span class='ee-k'>3:</span><span class='ee-v'>0</span></li><li><span class='ee-k'>4:</span><span class='ee-v'>1</span></li><li><span class='ee-k'>5:</span><span class='ee-v'>0</span></li></ul></li><li><label class='ee-shut'>data_type: int ∈ [0, 1]<input type='checkbox' class='ee-toggle'></label><ul><li><span class='ee-k'>type:</span><span class='ee-v'>PixelType</span></li><li><span class='ee-k'>max:</span><span class='ee-v'>1</span></li><li><span class='ee-k'>min:</span><span class='ee-v'>0</span></li><li><span class='ee-k'>precision:</span><span class='ee-v'>int</span></li></ul></li></ul></li><li><label class='ee-shut'>1: \"geom_SR_B5\", int ∈ [0, 1], EPSG:4326<input type='checkbox' class='ee-toggle'></label><ul><li><span class='ee-k'>id:</span><span class='ee-v'>geom_SR_B5</span></li><li><span class='ee-k'>crs:</span><span class='ee-v'>EPSG:4326</span></li><li><label class='ee-shut'>crs_transform: [1, 0, 0, 0, 1, 0]<input type='checkbox' class='ee-toggle'></label><ul><li><span class='ee-k'>0:</span><span class='ee-v'>1</span></li><li><span class='ee-k'>1:</span><span class='ee-v'>0</span></li><li><span class='ee-k'>2:</span><span class='ee-v'>0</span></li><li><span class='ee-k'>3:</span><span class='ee-v'>0</span></li><li><span class='ee-k'>4:</span><span class='ee-v'>1</span></li><li><span class='ee-k'>5:</span><span class='ee-v'>0</span></li></ul></li><li><label class='ee-shut'>data_type: int ∈ [0, 1]<input type='checkbox' class='ee-toggle'></label><ul><li><span class='ee-k'>type:</span><span class='ee-v'>PixelType</span></li><li><span class='ee-k'>max:</span><span class='ee-v'>1</span></li><li><span class='ee-k'>min:</span><span class='ee-v'>0</span></li><li><span class='ee-k'>precision:</span><span class='ee-v'>int</span></li></ul></li></ul></li><li><label class='ee-shut'>2: \"nd\", int ∈ [0, 1], EPSG:4326<input type='checkbox' class='ee-toggle'></label><ul><li><span class='ee-k'>id:</span><span class='ee-v'>nd</span></li><li><span class='ee-k'>crs:</span><span class='ee-v'>EPSG:4326</span></li><li><label class='ee-shut'>crs_transform: [1, 0, 0, 0, 1, 0]<input type='checkbox' class='ee-toggle'></label><ul><li><span class='ee-k'>0:</span><span class='ee-v'>1</span></li><li><span class='ee-k'>1:</span><span class='ee-v'>0</span></li><li><span class='ee-k'>2:</span><span class='ee-v'>0</span></li><li><span class='ee-k'>3:</span><span class='ee-v'>0</span></li><li><span class='ee-k'>4:</span><span class='ee-v'>1</span></li><li><span class='ee-k'>5:</span><span class='ee-v'>0</span></li></ul></li><li><label class='ee-shut'>data_type: int ∈ [0, 1]<input type='checkbox' class='ee-toggle'></label><ul><li><span class='ee-k'>type:</span><span class='ee-v'>PixelType</span></li><li><span class='ee-k'>max:</span><span class='ee-v'>1</span></li><li><span class='ee-k'>min:</span><span class='ee-v'>0</span></li><li><span class='ee-k'>precision:</span><span class='ee-v'>int</span></li></ul></li></ul></li></ul></li></ul></li></ul></div><script>function toggleHeader() {\n",
       "    const parent = this.parentElement;\n",
       "    parent.className = parent.className === \"ee-open\" ? \"ee-shut\" : \"ee-open\";\n",
       "}\n",
       "\n",
       "for (let c of document.getElementsByClassName(\"ee-toggle\")) {\n",
       "    c.onclick = toggleHeader;\n",
       "}</script></div>"
      ],
      "text/plain": [
       "<ee.image.Image at 0x7fa722fa3ee0>"
      ]
     },
     "execution_count": 59,
     "metadata": {},
     "output_type": "execute_result"
    }
   ],
   "source": [
    "imagenes_binarias = [] #Imágenes binarias con píxeles diciendo si ese pixel tiene o no agua\n",
    "for ndwi in imagenes_ndwi: # ndwi es una imágen que contiene 3 bandas, siendo una de estas ndwi\n",
    "    imagenes_binarias.append(ndwi.gt(0.3).selfMask()) # Guardamos las imágenes de forma binaria\n",
    "\n",
    "imagenes_binarias[0]"
   ]
  },
  {
   "cell_type": "code",
   "execution_count": 60,
   "id": "94ad00b9-67ac-43ca-919e-5cca63ce3041",
   "metadata": {},
   "outputs": [
    {
     "data": {
      "text/html": [
       "\n",
       "            <style>\n",
       "                .geemap-dark {\n",
       "                    --jp-widgets-color: white;\n",
       "                    --jp-widgets-label-color: white;\n",
       "                    --jp-ui-font-color1: white;\n",
       "                    --jp-layout-color2: #454545;\n",
       "                    background-color: #383838;\n",
       "                }\n",
       "\n",
       "                .geemap-dark .jupyter-button {\n",
       "                    --jp-layout-color3: #383838;\n",
       "                }\n",
       "\n",
       "                .geemap-colab {\n",
       "                    background-color: var(--colab-primary-surface-color, white);\n",
       "                }\n",
       "\n",
       "                .geemap-colab .jupyter-button {\n",
       "                    --jp-layout-color3: var(--colab-primary-surface-color, white);\n",
       "                }\n",
       "            </style>\n",
       "            "
      ],
      "text/plain": [
       "<IPython.core.display.HTML object>"
      ]
     },
     "metadata": {},
     "output_type": "display_data"
    },
    {
     "data": {
      "application/vnd.jupyter.widget-view+json": {
       "model_id": "44eae8d773004819b121be721429268e",
       "version_major": 2,
       "version_minor": 0
      },
      "text/plain": [
       "Map(center=[-33.84565081436696, -70.91725911612781], controls=(WidgetControl(options=['position', 'transparent…"
      ]
     },
     "metadata": {},
     "output_type": "display_data"
    }
   ],
   "source": [
    "m = geemap.Map(center=[-33.84565081436696, -70.91725911612781], zoom=15)\n",
    "vis = {\n",
    "    'bands': ['nd']\n",
    "}\n",
    "\n",
    "\n",
    "m.addLayer(aoi,name='aoi')\n",
    "m.addLayer(imagenes_binarias[0].clip(aoi), vis,name='agua')\n",
    "\n",
    "m"
   ]
  },
  {
   "cell_type": "code",
   "execution_count": 61,
   "id": "3fdb42c0-25a3-4626-aeb0-b511b1d8d5ea",
   "metadata": {
    "scrolled": true
   },
   "outputs": [
    {
     "data": {
      "text/html": [
       "\n",
       "            <style>\n",
       "                .geemap-dark {\n",
       "                    --jp-widgets-color: white;\n",
       "                    --jp-widgets-label-color: white;\n",
       "                    --jp-ui-font-color1: white;\n",
       "                    --jp-layout-color2: #454545;\n",
       "                    background-color: #383838;\n",
       "                }\n",
       "\n",
       "                .geemap-dark .jupyter-button {\n",
       "                    --jp-layout-color3: #383838;\n",
       "                }\n",
       "\n",
       "                .geemap-colab {\n",
       "                    background-color: var(--colab-primary-surface-color, white);\n",
       "                }\n",
       "\n",
       "                .geemap-colab .jupyter-button {\n",
       "                    --jp-layout-color3: var(--colab-primary-surface-color, white);\n",
       "                }\n",
       "            </style>\n",
       "            "
      ],
      "text/plain": [
       "<IPython.core.display.HTML object>"
      ]
     },
     "metadata": {},
     "output_type": "display_data"
    },
    {
     "data": {
      "text/plain": [
       "[(5646227.292114258, 5.646227292114258),\n",
       " (7319313.66809082, 7.31931366809082),\n",
       " (5105671.21484375, 5.10567121484375),\n",
       " (7210462.703491211, 7.210462703491211),\n",
       " (7162003.768676758, 7.162003768676758)]"
      ]
     },
     "execution_count": 61,
     "metadata": {},
     "output_type": "execute_result"
    }
   ],
   "source": [
    "# Este segmento de código saca el área para cada imágen\n",
    "areas = []\n",
    "for imagen_binaria in imagenes_binarias:\n",
    "    pixelarea = ee.Image.pixelArea()\n",
    "    flood_extent2 = pixelarea.updateMask(imagen_binaria.select(\"nd\"))\n",
    "    suma = flood_extent2.reduceRegion(ee.Reducer.sum(), aoi, scale=30)\n",
    "    suma = suma.getNumber('area').getInfo()# en metros cuadrados\n",
    "    square_meters = suma\n",
    "    square_kilometers = square_meters / (1e6)\n",
    "    areas.append((square_meters,square_kilometers))\n",
    "\n",
    "areas[0:5]\n",
    "    "
   ]
  },
  {
   "cell_type": "markdown",
   "id": "3e3aae44-d5a3-449f-a3da-260ddb8d04b6",
   "metadata": {},
   "source": [
    "### Se arma el dataframe con las áreas a través del tiempo"
   ]
  },
  {
   "cell_type": "code",
   "execution_count": 62,
   "id": "0a56ef7e-c456-4417-b88b-955df2ca655a",
   "metadata": {},
   "outputs": [
    {
     "data": {
      "text/html": [
       "\n",
       "            <style>\n",
       "                .geemap-dark {\n",
       "                    --jp-widgets-color: white;\n",
       "                    --jp-widgets-label-color: white;\n",
       "                    --jp-ui-font-color1: white;\n",
       "                    --jp-layout-color2: #454545;\n",
       "                    background-color: #383838;\n",
       "                }\n",
       "\n",
       "                .geemap-dark .jupyter-button {\n",
       "                    --jp-layout-color3: #383838;\n",
       "                }\n",
       "\n",
       "                .geemap-colab {\n",
       "                    background-color: var(--colab-primary-surface-color, white);\n",
       "                }\n",
       "\n",
       "                .geemap-colab .jupyter-button {\n",
       "                    --jp-layout-color3: var(--colab-primary-surface-color, white);\n",
       "                }\n",
       "            </style>\n",
       "            "
      ],
      "text/plain": [
       "<IPython.core.display.HTML object>"
      ]
     },
     "metadata": {},
     "output_type": "display_data"
    },
    {
     "data": {
      "text/html": [
       "<div>\n",
       "<style scoped>\n",
       "    .dataframe tbody tr th:only-of-type {\n",
       "        vertical-align: middle;\n",
       "    }\n",
       "\n",
       "    .dataframe tbody tr th {\n",
       "        vertical-align: top;\n",
       "    }\n",
       "\n",
       "    .dataframe thead th {\n",
       "        text-align: right;\n",
       "    }\n",
       "</style>\n",
       "<table border=\"1\" class=\"dataframe\">\n",
       "  <thead>\n",
       "    <tr style=\"text-align: right;\">\n",
       "      <th></th>\n",
       "      <th>m</th>\n",
       "      <th>km</th>\n",
       "      <th>fecha</th>\n",
       "      <th>año</th>\n",
       "      <th>mes</th>\n",
       "    </tr>\n",
       "  </thead>\n",
       "  <tbody>\n",
       "    <tr>\n",
       "      <th>0</th>\n",
       "      <td>5.646227e+06</td>\n",
       "      <td>5.646227</td>\n",
       "      <td>2014-01-01</td>\n",
       "      <td>2014</td>\n",
       "      <td>1</td>\n",
       "    </tr>\n",
       "    <tr>\n",
       "      <th>1</th>\n",
       "      <td>7.319314e+06</td>\n",
       "      <td>7.319314</td>\n",
       "      <td>2014-02-01</td>\n",
       "      <td>2014</td>\n",
       "      <td>2</td>\n",
       "    </tr>\n",
       "    <tr>\n",
       "      <th>2</th>\n",
       "      <td>5.105671e+06</td>\n",
       "      <td>5.105671</td>\n",
       "      <td>2014-04-01</td>\n",
       "      <td>2014</td>\n",
       "      <td>4</td>\n",
       "    </tr>\n",
       "    <tr>\n",
       "      <th>3</th>\n",
       "      <td>7.210463e+06</td>\n",
       "      <td>7.210463</td>\n",
       "      <td>2014-06-01</td>\n",
       "      <td>2014</td>\n",
       "      <td>6</td>\n",
       "    </tr>\n",
       "    <tr>\n",
       "      <th>4</th>\n",
       "      <td>7.162004e+06</td>\n",
       "      <td>7.162004</td>\n",
       "      <td>2014-08-01</td>\n",
       "      <td>2014</td>\n",
       "      <td>8</td>\n",
       "    </tr>\n",
       "    <tr>\n",
       "      <th>...</th>\n",
       "      <td>...</td>\n",
       "      <td>...</td>\n",
       "      <td>...</td>\n",
       "      <td>...</td>\n",
       "      <td>...</td>\n",
       "    </tr>\n",
       "    <tr>\n",
       "      <th>95</th>\n",
       "      <td>5.040128e+06</td>\n",
       "      <td>5.040128</td>\n",
       "      <td>2023-12-01</td>\n",
       "      <td>2023</td>\n",
       "      <td>12</td>\n",
       "    </tr>\n",
       "    <tr>\n",
       "      <th>96</th>\n",
       "      <td>4.727712e+06</td>\n",
       "      <td>4.727712</td>\n",
       "      <td>2024-01-01</td>\n",
       "      <td>2024</td>\n",
       "      <td>1</td>\n",
       "    </tr>\n",
       "    <tr>\n",
       "      <th>97</th>\n",
       "      <td>4.030591e+06</td>\n",
       "      <td>4.030591</td>\n",
       "      <td>2024-02-01</td>\n",
       "      <td>2024</td>\n",
       "      <td>2</td>\n",
       "    </tr>\n",
       "    <tr>\n",
       "      <th>98</th>\n",
       "      <td>2.138354e+06</td>\n",
       "      <td>2.138354</td>\n",
       "      <td>2024-03-01</td>\n",
       "      <td>2024</td>\n",
       "      <td>3</td>\n",
       "    </tr>\n",
       "    <tr>\n",
       "      <th>99</th>\n",
       "      <td>1.553813e+06</td>\n",
       "      <td>1.553813</td>\n",
       "      <td>2024-04-01</td>\n",
       "      <td>2024</td>\n",
       "      <td>4</td>\n",
       "    </tr>\n",
       "  </tbody>\n",
       "</table>\n",
       "<p>100 rows × 5 columns</p>\n",
       "</div>"
      ],
      "text/plain": [
       "               m        km      fecha   año mes\n",
       "0   5.646227e+06  5.646227 2014-01-01  2014   1\n",
       "1   7.319314e+06  7.319314 2014-02-01  2014   2\n",
       "2   5.105671e+06  5.105671 2014-04-01  2014   4\n",
       "3   7.210463e+06  7.210463 2014-06-01  2014   6\n",
       "4   7.162004e+06  7.162004 2014-08-01  2014   8\n",
       "..           ...       ...        ...   ...  ..\n",
       "95  5.040128e+06  5.040128 2023-12-01  2023  12\n",
       "96  4.727712e+06  4.727712 2024-01-01  2024   1\n",
       "97  4.030591e+06  4.030591 2024-02-01  2024   2\n",
       "98  2.138354e+06  2.138354 2024-03-01  2024   3\n",
       "99  1.553813e+06  1.553813 2024-04-01  2024   4\n",
       "\n",
       "[100 rows x 5 columns]"
      ]
     },
     "execution_count": 62,
     "metadata": {},
     "output_type": "execute_result"
    }
   ],
   "source": [
    "df = pd.DataFrame(areas, columns=[\"m\", \"km\"])\n",
    "df[\"fecha\"] = fechas_con_imagen\n",
    "df[\"año\"] = df[\"fecha\"].map(lambda x: (x.split(\"-\")[0]))\n",
    "df[\"mes\"] = df[\"fecha\"].map(lambda x: (x.split(\"-\")[1]))\n",
    "df[\"fecha\"] = pd.to_datetime(df[\"fecha\"])\n",
    "df"
   ]
  },
  {
   "cell_type": "markdown",
   "id": "f0736b4e-2d90-4eea-bfe8-d5d03052fece",
   "metadata": {},
   "source": [
    "# Resultados área Laguna Aculeo"
   ]
  },
  {
   "cell_type": "markdown",
   "id": "6d551274-72fd-4b65-89ef-86396dcefd74",
   "metadata": {},
   "source": [
    "## Gráficos"
   ]
  },
  {
   "cell_type": "code",
   "execution_count": 63,
   "id": "0f3e1e4a-fa37-4e5f-92f0-33a97574b393",
   "metadata": {},
   "outputs": [
    {
     "data": {
      "text/html": [
       "\n",
       "            <style>\n",
       "                .geemap-dark {\n",
       "                    --jp-widgets-color: white;\n",
       "                    --jp-widgets-label-color: white;\n",
       "                    --jp-ui-font-color1: white;\n",
       "                    --jp-layout-color2: #454545;\n",
       "                    background-color: #383838;\n",
       "                }\n",
       "\n",
       "                .geemap-dark .jupyter-button {\n",
       "                    --jp-layout-color3: #383838;\n",
       "                }\n",
       "\n",
       "                .geemap-colab {\n",
       "                    background-color: var(--colab-primary-surface-color, white);\n",
       "                }\n",
       "\n",
       "                .geemap-colab .jupyter-button {\n",
       "                    --jp-layout-color3: var(--colab-primary-surface-color, white);\n",
       "                }\n",
       "            </style>\n",
       "            "
      ],
      "text/plain": [
       "<IPython.core.display.HTML object>"
      ]
     },
     "metadata": {},
     "output_type": "display_data"
    },
    {
     "data": {
      "image/png": "[encoded data removed]",
      "text/plain": [
       "<Figure size 640x480 with 1 Axes>"
      ]
     },
     "metadata": {},
     "output_type": "display_data"
    }
   ],
   "source": [
    "plot = sns.lineplot(y=df[\"km\"], x=df[\"año\"])\n",
    "fig = plot.get_figure()\n",
    "fig.savefig(\"visualizaciones/area_segun_tiempo.png\") "
   ]
  },
  {
   "cell_type": "markdown",
   "id": "30237311-97bd-4bb9-9c6c-acda6009010d",
   "metadata": {},
   "source": [
    "fig. 1 área de la laguna aculeo a lo largo del tiempo."
   ]
  },
  {
   "cell_type": "code",
   "execution_count": 64,
   "id": "99208ced-2332-490d-b023-18b790a20742",
   "metadata": {},
   "outputs": [
    {
     "data": {
      "text/html": [
       "\n",
       "            <style>\n",
       "                .geemap-dark {\n",
       "                    --jp-widgets-color: white;\n",
       "                    --jp-widgets-label-color: white;\n",
       "                    --jp-ui-font-color1: white;\n",
       "                    --jp-layout-color2: #454545;\n",
       "                    background-color: #383838;\n",
       "                }\n",
       "\n",
       "                .geemap-dark .jupyter-button {\n",
       "                    --jp-layout-color3: #383838;\n",
       "                }\n",
       "\n",
       "                .geemap-colab {\n",
       "                    background-color: var(--colab-primary-surface-color, white);\n",
       "                }\n",
       "\n",
       "                .geemap-colab .jupyter-button {\n",
       "                    --jp-layout-color3: var(--colab-primary-surface-color, white);\n",
       "                }\n",
       "            </style>\n",
       "            "
      ],
      "text/plain": [
       "<IPython.core.display.HTML object>"
      ]
     },
     "metadata": {},
     "output_type": "display_data"
    },
    {
     "data": {
      "image/png": "[encoded data removed]",
      "text/plain": [
       "<Figure size 640x480 with 1 Axes>"
      ]
     },
     "metadata": {},
     "output_type": "display_data"
    }
   ],
   "source": [
    "\n",
    "plot = sns.lineplot(y=df[\"km\"], x=df[\"fecha\"])\n",
    "fig = plot.get_figure()\n",
    "# fig.savefig(\"visualizaciones/area_segun_tiempo.png\") "
   ]
  },
  {
   "cell_type": "markdown",
   "id": "e23446c9-9a63-456e-b368-f4f7e7e72302",
   "metadata": {},
   "source": [
    "Si lo ploteamos como fecha entera, las fluctuaciones generan _peaks_ muy grandes y cuesta un poco más interpretar el gráfico."
   ]
  },
  {
   "cell_type": "markdown",
   "id": "40d8be8e-52cf-404a-9dc0-253856877969",
   "metadata": {},
   "source": [
    "# Análisis Pluvial"
   ]
  },
  {
   "cell_type": "code",
   "execution_count": 65,
   "id": "58c289fc-33b0-4f00-accb-802e63b73fbf",
   "metadata": {},
   "outputs": [
    {
     "data": {
      "text/html": [
       "\n",
       "            <style>\n",
       "                .geemap-dark {\n",
       "                    --jp-widgets-color: white;\n",
       "                    --jp-widgets-label-color: white;\n",
       "                    --jp-ui-font-color1: white;\n",
       "                    --jp-layout-color2: #454545;\n",
       "                    background-color: #383838;\n",
       "                }\n",
       "\n",
       "                .geemap-dark .jupyter-button {\n",
       "                    --jp-layout-color3: #383838;\n",
       "                }\n",
       "\n",
       "                .geemap-colab {\n",
       "                    background-color: var(--colab-primary-surface-color, white);\n",
       "                }\n",
       "\n",
       "                .geemap-colab .jupyter-button {\n",
       "                    --jp-layout-color3: var(--colab-primary-surface-color, white);\n",
       "                }\n",
       "            </style>\n",
       "            "
      ],
      "text/plain": [
       "<IPython.core.display.HTML object>"
      ]
     },
     "metadata": {},
     "output_type": "display_data"
    },
    {
     "data": {
      "text/html": [
       "<div>\n",
       "<style scoped>\n",
       "    .dataframe tbody tr th:only-of-type {\n",
       "        vertical-align: middle;\n",
       "    }\n",
       "\n",
       "    .dataframe tbody tr th {\n",
       "        vertical-align: top;\n",
       "    }\n",
       "\n",
       "    .dataframe thead th {\n",
       "        text-align: right;\n",
       "    }\n",
       "</style>\n",
       "<table border=\"1\" class=\"dataframe\">\n",
       "  <thead>\n",
       "    <tr style=\"text-align: right;\">\n",
       "      <th></th>\n",
       "      <th>sum_precip</th>\n",
       "      <th>año</th>\n",
       "    </tr>\n",
       "  </thead>\n",
       "  <tbody>\n",
       "    <tr>\n",
       "      <th>0</th>\n",
       "      <td>16.7</td>\n",
       "      <td>2019</td>\n",
       "    </tr>\n",
       "    <tr>\n",
       "      <th>1</th>\n",
       "      <td>48.8</td>\n",
       "      <td>2020</td>\n",
       "    </tr>\n",
       "    <tr>\n",
       "      <th>2</th>\n",
       "      <td>12.8</td>\n",
       "      <td>2021</td>\n",
       "    </tr>\n",
       "    <tr>\n",
       "      <th>3</th>\n",
       "      <td>116.0</td>\n",
       "      <td>2022</td>\n",
       "    </tr>\n",
       "    <tr>\n",
       "      <th>4</th>\n",
       "      <td>347.8</td>\n",
       "      <td>2023</td>\n",
       "    </tr>\n",
       "  </tbody>\n",
       "</table>\n",
       "</div>"
      ],
      "text/plain": [
       "   sum_precip   año\n",
       "0        16.7  2019\n",
       "1        48.8  2020\n",
       "2        12.8  2021\n",
       "3       116.0  2022\n",
       "4       347.8  2023"
      ]
     },
     "execution_count": 65,
     "metadata": {},
     "output_type": "execute_result"
    }
   ],
   "source": [
    "lluvias = pd.read_csv(\"data/suma_anual_precip.csv\")\n",
    "lluvias.head()\n"
   ]
  },
  {
   "cell_type": "markdown",
   "id": "3024aca8-7e2d-44ed-a9a1-aeaba361d637",
   "metadata": {},
   "source": [
    "### Lamentablemente, no existen muchas estaciones de medición pluvial, por lo que no hay mucho más que hacerle que tomar el dato de la más cercana: La estación El Paico. \n",
    "\n",
    "En caso de haber más estaciones en los alrededores se podría haber hecho una interpolación espacial para obtener datos más precisos, pero no fue el caso.  "
   ]
  },
  {
   "cell_type": "code",
   "execution_count": 66,
   "id": "0e621d08-389f-4856-8347-becf0adbb8cc",
   "metadata": {},
   "outputs": [
    {
     "data": {
      "text/html": [
       "\n",
       "            <style>\n",
       "                .geemap-dark {\n",
       "                    --jp-widgets-color: white;\n",
       "                    --jp-widgets-label-color: white;\n",
       "                    --jp-ui-font-color1: white;\n",
       "                    --jp-layout-color2: #454545;\n",
       "                    background-color: #383838;\n",
       "                }\n",
       "\n",
       "                .geemap-dark .jupyter-button {\n",
       "                    --jp-layout-color3: #383838;\n",
       "                }\n",
       "\n",
       "                .geemap-colab {\n",
       "                    background-color: var(--colab-primary-surface-color, white);\n",
       "                }\n",
       "\n",
       "                .geemap-colab .jupyter-button {\n",
       "                    --jp-layout-color3: var(--colab-primary-surface-color, white);\n",
       "                }\n",
       "            </style>\n",
       "            "
      ],
      "text/plain": [
       "<IPython.core.display.HTML object>"
      ]
     },
     "metadata": {},
     "output_type": "display_data"
    },
    {
     "data": {
      "text/plain": [
       "<Axes: xlabel='año', ylabel='sum_precip'>"
      ]
     },
     "execution_count": 66,
     "metadata": {},
     "output_type": "execute_result"
    },
    {
     "data": {
      "image/png": "[encoded data removed]",
      "text/plain": [
       "<Figure size 640x480 with 1 Axes>"
      ]
     },
     "metadata": {},
     "output_type": "display_data"
    }
   ],
   "source": [
    "sns.lineplot(lluvias,x=\"año\",y=\"sum_precip\")"
   ]
  },
  {
   "cell_type": "code",
   "execution_count": 67,
   "id": "10bbd481-c09c-470a-bf2d-74d6f051c4c4",
   "metadata": {},
   "outputs": [
    {
     "data": {
      "text/html": [
       "\n",
       "            <style>\n",
       "                .geemap-dark {\n",
       "                    --jp-widgets-color: white;\n",
       "                    --jp-widgets-label-color: white;\n",
       "                    --jp-ui-font-color1: white;\n",
       "                    --jp-layout-color2: #454545;\n",
       "                    background-color: #383838;\n",
       "                }\n",
       "\n",
       "                .geemap-dark .jupyter-button {\n",
       "                    --jp-layout-color3: #383838;\n",
       "                }\n",
       "\n",
       "                .geemap-colab {\n",
       "                    background-color: var(--colab-primary-surface-color, white);\n",
       "                }\n",
       "\n",
       "                .geemap-colab .jupyter-button {\n",
       "                    --jp-layout-color3: var(--colab-primary-surface-color, white);\n",
       "                }\n",
       "            </style>\n",
       "            "
      ],
      "text/plain": [
       "<IPython.core.display.HTML object>"
      ]
     },
     "metadata": {},
     "output_type": "display_data"
    },
    {
     "data": {
      "image/png": "[encoded data removed]",
      "text/plain": [
       "<Figure size 640x480 with 1 Axes>"
      ]
     },
     "metadata": {},
     "output_type": "display_data"
    }
   ],
   "source": [
    "df_p = df.astype({\"año\":int})\n",
    "df_p = df_p[df_p[\"año\"] >= 2019] #Acotamos el dataframe del área de la laguna aculeo para compararlo con los datos de lluvias\n",
    "\n",
    "plot = sns.lineplot(y=df_p[\"km\"], x=df_p[\"año\"])"
   ]
  },
  {
   "cell_type": "code",
   "execution_count": 68,
   "id": "ddaced93-88ff-49a3-9686-2929656e705f",
   "metadata": {},
   "outputs": [
    {
     "data": {
      "text/html": [
       "\n",
       "            <style>\n",
       "                .geemap-dark {\n",
       "                    --jp-widgets-color: white;\n",
       "                    --jp-widgets-label-color: white;\n",
       "                    --jp-ui-font-color1: white;\n",
       "                    --jp-layout-color2: #454545;\n",
       "                    background-color: #383838;\n",
       "                }\n",
       "\n",
       "                .geemap-dark .jupyter-button {\n",
       "                    --jp-layout-color3: #383838;\n",
       "                }\n",
       "\n",
       "                .geemap-colab {\n",
       "                    background-color: var(--colab-primary-surface-color, white);\n",
       "                }\n",
       "\n",
       "                .geemap-colab .jupyter-button {\n",
       "                    --jp-layout-color3: var(--colab-primary-surface-color, white);\n",
       "                }\n",
       "            </style>\n",
       "            "
      ],
      "text/plain": [
       "<IPython.core.display.HTML object>"
      ]
     },
     "metadata": {},
     "output_type": "display_data"
    },
    {
     "data": {
      "image/png": "[encoded data removed]",
      "text/plain": [
       "<Figure size 800x800 with 2 Axes>"
      ]
     },
     "metadata": {},
     "output_type": "display_data"
    }
   ],
   "source": [
    "fig, ax = plt.subplots(2, figsize=(8,8))\n",
    "ax[0].ticklabel_format(style='plain')\n",
    "ax[0].set_title(\"Área laguna (km)\")\n",
    "ax[1].set_title(\"Precipitaciones (suma de mm)\")\n",
    "ax[0].bar(df_p[\"año\"], df_p[\"km\"], color='m')\n",
    "ax[1].bar(lluvias[\"año\"],lluvias[\"sum_precip\"] , color='c')\n",
    "fig.suptitle(f\"Área medida de Laguna Aculeo VS Precipitaciones de la estación El Paico\")\n",
    "fig.tight_layout()\n",
    "plt.savefig(f\"visualizaciones/arealagunavsprecip.jpg\", dpi=\"figure\", format=\"jpg\")"
   ]
  },
  {
   "cell_type": "markdown",
   "id": "16ccbe76-644f-4c16-bb1c-e2d6bef7e049",
   "metadata": {},
   "source": [
    "fig. 2 Área medida de Laguna Aculeo VS Precipitaciones de la estación El Paico"
   ]
  },
  {
   "cell_type": "markdown",
   "id": "86bbf272-7d4d-4cbe-ab26-9fc849af19a4",
   "metadata": {},
   "source": [
    "### Dada la limitación del _scope_ de este análisis, tales como que hay meses sin datos en precipitaciones, y meses sin datos satelitales, sólo podemos hacer el análisis de forma anual, de todas maneras se encuentra una suerte de correlación entre la lluvia y el área, verificando la hipótesis de que la laguna se secó dada la sequía que se está viviendo."
   ]
  },
  {
   "cell_type": "markdown",
   "id": "911dff74-c6c1-4a3e-828b-b28c6fa6fc85",
   "metadata": {},
   "source": [
    "### Ahora se repetirá el proceso de recopilar imágenes, para obtener en esta ocasión imágenes RGB y aplicar el modelo "
   ]
  },
  {
   "cell_type": "markdown",
   "id": "ddb429a8-6c64-4137-843a-68bc3ccd2feb",
   "metadata": {},
   "source": [
    "# Uso de Redes Neuronales Convolucionales para predecir área de cultivo cercana"
   ]
  },
  {
   "cell_type": "code",
   "execution_count": 69,
   "id": "d8bc76cc-ea55-4cab-bc9a-b3a13ca2beb6",
   "metadata": {},
   "outputs": [
    {
     "data": {
      "text/html": [
       "\n",
       "            <style>\n",
       "                .geemap-dark {\n",
       "                    --jp-widgets-color: white;\n",
       "                    --jp-widgets-label-color: white;\n",
       "                    --jp-ui-font-color1: white;\n",
       "                    --jp-layout-color2: #454545;\n",
       "                    background-color: #383838;\n",
       "                }\n",
       "\n",
       "                .geemap-dark .jupyter-button {\n",
       "                    --jp-layout-color3: #383838;\n",
       "                }\n",
       "\n",
       "                .geemap-colab {\n",
       "                    background-color: var(--colab-primary-surface-color, white);\n",
       "                }\n",
       "\n",
       "                .geemap-colab .jupyter-button {\n",
       "                    --jp-layout-color3: var(--colab-primary-surface-color, white);\n",
       "                }\n",
       "            </style>\n",
       "            "
      ],
      "text/plain": [
       "<IPython.core.display.HTML object>"
      ]
     },
     "metadata": {},
     "output_type": "display_data"
    },
    {
     "data": {
      "application/vnd.jupyter.widget-view+json": {
       "model_id": "d2532c9ac5f644dc84222a883b421a6e",
       "version_major": 2,
       "version_minor": 0
      },
      "text/plain": [
       "Map(center=[-33.84565081436696, -70.91725911612781], controls=(WidgetControl(options=['position', 'transparent…"
      ]
     },
     "metadata": {},
     "output_type": "display_data"
    }
   ],
   "source": [
    "# Esta celda permite redefinir el aoi para cubrir mayor área al hacer la predicción de crop\n",
    "aoi = ee.Geometry.Point([-70.91725911612781,-33.84565081436696]).buffer(8000)\n",
    "\n",
    "m = geemap.Map(center=[-33.84565081436696, -70.91725911612781], zoom=15)\n",
    "\n",
    "m.addLayer(aoi,name='aoi')\n",
    "m"
   ]
  },
  {
   "cell_type": "code",
   "execution_count": 70,
   "id": "7f3e368a-9cb7-45ed-af94-b60a1fa0c503",
   "metadata": {},
   "outputs": [
    {
     "data": {
      "text/html": [
       "\n",
       "            <style>\n",
       "                .geemap-dark {\n",
       "                    --jp-widgets-color: white;\n",
       "                    --jp-widgets-label-color: white;\n",
       "                    --jp-ui-font-color1: white;\n",
       "                    --jp-layout-color2: #454545;\n",
       "                    background-color: #383838;\n",
       "                }\n",
       "\n",
       "                .geemap-dark .jupyter-button {\n",
       "                    --jp-layout-color3: #383838;\n",
       "                }\n",
       "\n",
       "                .geemap-colab {\n",
       "                    background-color: var(--colab-primary-surface-color, white);\n",
       "                }\n",
       "\n",
       "                .geemap-colab .jupyter-button {\n",
       "                    --jp-layout-color3: var(--colab-primary-surface-color, white);\n",
       "                }\n",
       "            </style>\n",
       "            "
      ],
      "text/plain": [
       "<IPython.core.display.HTML object>"
      ]
     },
     "metadata": {},
     "output_type": "display_data"
    }
   ],
   "source": [
    "def apply_scale_factors(image):\n",
    "  optical_bands = image.select('SR_B.').multiply(0.0000275).add(-0.2)\n",
    "  thermal_bands = image.select('ST_B.*').multiply(0.00341802).add(149.0)#\n",
    "  return image.addBands(optical_bands, None, True)#.addBands(thermal_bands, None, True)"
   ]
  },
  {
   "cell_type": "code",
   "execution_count": 71,
   "id": "0c19608a-c267-49e1-bd2a-5bf79e962ffa",
   "metadata": {
    "scrolled": true
   },
   "outputs": [
    {
     "data": {
      "text/html": [
       "\n",
       "            <style>\n",
       "                .geemap-dark {\n",
       "                    --jp-widgets-color: white;\n",
       "                    --jp-widgets-label-color: white;\n",
       "                    --jp-ui-font-color1: white;\n",
       "                    --jp-layout-color2: #454545;\n",
       "                    background-color: #383838;\n",
       "                }\n",
       "\n",
       "                .geemap-dark .jupyter-button {\n",
       "                    --jp-layout-color3: #383838;\n",
       "                }\n",
       "\n",
       "                .geemap-colab {\n",
       "                    background-color: var(--colab-primary-surface-color, white);\n",
       "                }\n",
       "\n",
       "                .geemap-colab .jupyter-button {\n",
       "                    --jp-layout-color3: var(--colab-primary-surface-color, white);\n",
       "                }\n",
       "            </style>\n",
       "            "
      ],
      "text/plain": [
       "<IPython.core.display.HTML object>"
      ]
     },
     "metadata": {},
     "output_type": "display_data"
    },
    {
     "name": "stdout",
     "output_type": "stream",
     "text": [
      "2014-1-01 2014-2-01\n",
      "2014-2-01 2014-3-01\n",
      "2014-3-01 2014-4-01\n",
      "Colección Vacía\n",
      "2014-4-01 2014-5-01\n",
      "2014-5-01 2014-6-01\n",
      "Colección Vacía\n",
      "2014-6-01 2014-7-01\n",
      "2014-7-01 2014-8-01\n",
      "Colección Vacía\n",
      "2014-8-01 2014-9-01\n",
      "2014-9-01 2014-10-01\n",
      "Colección Vacía\n",
      "2014-10-01 2014-11-01\n",
      "2014-11-01 2014-12-01\n",
      "2014-12-01 2015-1-01\n",
      "Colección Vacía\n",
      "2015-1-01 2015-2-01\n",
      "2015-2-01 2015-3-01\n",
      "2015-3-01 2015-4-01\n",
      "2015-4-01 2015-5-01\n",
      "2015-5-01 2015-6-01\n",
      "2015-6-01 2015-7-01\n",
      "Colección Vacía\n",
      "2015-7-01 2015-8-01\n",
      "2015-8-01 2015-9-01\n",
      "Colección Vacía\n",
      "2015-9-01 2015-10-01\n",
      "Colección Vacía\n",
      "2015-10-01 2015-11-01\n",
      "2015-11-01 2015-12-01\n",
      "2015-12-01 2016-1-01\n",
      "2016-1-01 2016-2-01\n",
      "2016-2-01 2016-3-01\n",
      "Colección Vacía\n",
      "2016-3-01 2016-4-01\n",
      "2016-4-01 2016-5-01\n",
      "2016-5-01 2016-6-01\n",
      "2016-6-01 2016-7-01\n",
      "2016-7-01 2016-8-01\n",
      "Colección Vacía\n",
      "2016-8-01 2016-9-01\n",
      "2016-9-01 2016-10-01\n",
      "2016-10-01 2016-11-01\n",
      "2016-11-01 2016-12-01\n",
      "2016-12-01 2017-1-01\n",
      "Colección Vacía\n",
      "2017-1-01 2017-2-01\n",
      "2017-2-01 2017-3-01\n",
      "2017-3-01 2017-4-01\n",
      "2017-4-01 2017-5-01\n",
      "Colección Vacía\n",
      "2017-5-01 2017-6-01\n",
      "Colección Vacía\n",
      "2017-6-01 2017-7-01\n",
      "2017-7-01 2017-8-01\n",
      "2017-8-01 2017-9-01\n",
      "2017-9-01 2017-10-01\n",
      "Colección Vacía\n",
      "2017-10-01 2017-11-01\n",
      "Colección Vacía\n",
      "2017-11-01 2017-12-01\n",
      "2017-12-01 2018-1-01\n",
      "2018-1-01 2018-2-01\n",
      "2018-2-01 2018-3-01\n",
      "2018-3-01 2018-4-01\n",
      "2018-4-01 2018-5-01\n",
      "2018-5-01 2018-6-01\n",
      "2018-6-01 2018-7-01\n",
      "2018-7-01 2018-8-01\n",
      "2018-8-01 2018-9-01\n",
      "2018-9-01 2018-10-01\n",
      "2018-10-01 2018-11-01\n",
      "2018-11-01 2018-12-01\n",
      "2018-12-01 2019-1-01\n",
      "2019-1-01 2019-2-01\n",
      "2019-2-01 2019-3-01\n",
      "2019-3-01 2019-4-01\n",
      "2019-4-01 2019-5-01\n",
      "Colección Vacía\n",
      "2019-5-01 2019-6-01\n",
      "2019-6-01 2019-7-01\n",
      "2019-7-01 2019-8-01\n",
      "Colección Vacía\n",
      "2019-8-01 2019-9-01\n",
      "2019-9-01 2019-10-01\n",
      "2019-10-01 2019-11-01\n",
      "2019-11-01 2019-12-01\n",
      "2019-12-01 2020-1-01\n",
      "2020-1-01 2020-2-01\n",
      "2020-2-01 2020-3-01\n",
      "2020-3-01 2020-4-01\n",
      "2020-4-01 2020-5-01\n",
      "2020-5-01 2020-6-01\n",
      "2020-6-01 2020-7-01\n",
      "Colección Vacía\n",
      "2020-7-01 2020-8-01\n",
      "2020-8-01 2020-9-01\n",
      "2020-9-01 2020-10-01\n",
      "2020-10-01 2020-11-01\n",
      "2020-11-01 2020-12-01\n",
      "2020-12-01 2021-1-01\n",
      "2021-1-01 2021-2-01\n",
      "2021-2-01 2021-3-01\n",
      "Colección Vacía\n",
      "2021-3-01 2021-4-01\n",
      "2021-4-01 2021-5-01\n",
      "Colección Vacía\n",
      "2021-5-01 2021-6-01\n",
      "Colección Vacía\n",
      "2021-6-01 2021-7-01\n",
      "2021-7-01 2021-8-01\n",
      "2021-8-01 2021-9-01\n",
      "2021-9-01 2021-10-01\n",
      "2021-10-01 2021-11-01\n",
      "2021-11-01 2021-12-01\n",
      "2021-12-01 2022-1-01\n",
      "2022-1-01 2022-2-01\n",
      "2022-2-01 2022-3-01\n",
      "2022-3-01 2022-4-01\n",
      "2022-4-01 2022-5-01\n",
      "2022-5-01 2022-6-01\n",
      "Colección Vacía\n",
      "2022-6-01 2022-7-01\n",
      "2022-7-01 2022-8-01\n",
      "2022-8-01 2022-9-01\n",
      "2022-9-01 2022-10-01\n",
      "2022-10-01 2022-11-01\n",
      "2022-11-01 2022-12-01\n",
      "2022-12-01 2023-1-01\n",
      "2023-1-01 2023-2-01\n",
      "2023-2-01 2023-3-01\n",
      "2023-3-01 2023-4-01\n",
      "2023-4-01 2023-5-01\n",
      "2023-5-01 2023-6-01\n",
      "Colección Vacía\n",
      "2023-6-01 2023-7-01\n",
      "2023-7-01 2023-8-01\n",
      "2023-8-01 2023-9-01\n",
      "2023-9-01 2023-10-01\n",
      "2023-10-01 2023-11-01\n",
      "2023-11-01 2023-12-01\n",
      "Colección Vacía\n",
      "2023-12-01 2024-1-01\n",
      "2024-1-01 2024-2-01\n",
      "2024-2-01 2024-3-01\n",
      "2024-3-01 2024-4-01\n",
      "2024-4-01 2024-5-01\n"
     ]
    }
   ],
   "source": [
    "imagenes = []\n",
    "fechas_con_imagen = []\n",
    "for i in range(len(doi_intervalar)-1):\n",
    "    inicio = doi_intervalar[i]\n",
    "    fin = doi_intervalar[i+1]\n",
    "    print(inicio, fin)\n",
    "    \n",
    "# Obtenemos imágenes\n",
    "    \n",
    "    landsat_collection = ee.ImageCollection(\"LANDSAT/LC08/C02/T1_L2\").filter(ee.Filter.lessThan(leftField=\"CLOUD_COVER_LAND\", rightValue=20)).filterDate(inicio,fin).filterBounds(aoi).select([\"SR_B4\",\"SR_B3\",\"SR_B2\"])\n",
    "    landsat_collection = landsat_collection.map(apply_scale_factors)\n",
    "    # Exporta imagen\n",
    "    \n",
    "# Obtenemos geomediana para reducir a una imágen\n",
    "    \n",
    "    try: # Si no hay ninguna imágen para ese mes, esta siguiente linea dará error, por lo que esta linea lo maneja (de forma un poco bruta, pero funciona)\n",
    "        r = ee.Reducer.geometricMedian(3).setOutputs([\"geom_\" + nombre for nombre in landsat_collection.first().bandNames().getInfo()])\n",
    "    except:\n",
    "        print(\"Colección Vacía\")\n",
    "        continue\n",
    "    geomediana = landsat_collection.reduce(r)\n",
    "    geomediana = geomediana.visualize(bands=['geom_SR_B4', 'geom_SR_B3', 'geom_SR_B2'], min=0.0, max=0.3)\n",
    "# Agregamos a la lista\n",
    "    #geemap.ee_export_image(geomediana, filename=f'test.tif', scale=30, region=aoi, file_per_band=False) # Exporta imagen\n",
    "    imagenes.append(geomediana)\n",
    "    fechas_con_imagen.append(inicio) # Guardamos las fechas para después\n"
   ]
  },
  {
   "cell_type": "code",
   "execution_count": 72,
   "id": "5ff985e8-dd65-4f07-8416-dcad86b1e0fc",
   "metadata": {},
   "outputs": [
    {
     "data": {
      "text/html": [
       "\n",
       "            <style>\n",
       "                .geemap-dark {\n",
       "                    --jp-widgets-color: white;\n",
       "                    --jp-widgets-label-color: white;\n",
       "                    --jp-ui-font-color1: white;\n",
       "                    --jp-layout-color2: #454545;\n",
       "                    background-color: #383838;\n",
       "                }\n",
       "\n",
       "                .geemap-dark .jupyter-button {\n",
       "                    --jp-layout-color3: #383838;\n",
       "                }\n",
       "\n",
       "                .geemap-colab {\n",
       "                    background-color: var(--colab-primary-surface-color, white);\n",
       "                }\n",
       "\n",
       "                .geemap-colab .jupyter-button {\n",
       "                    --jp-layout-color3: var(--colab-primary-surface-color, white);\n",
       "                }\n",
       "            </style>\n",
       "            "
      ],
      "text/plain": [
       "<IPython.core.display.HTML object>"
      ]
     },
     "metadata": {},
     "output_type": "display_data"
    },
    {
     "data": {
      "application/vnd.jupyter.widget-view+json": {
       "model_id": "4b2c197b40974d2ebf9094e13c362be1",
       "version_major": 2,
       "version_minor": 0
      },
      "text/plain": [
       "Map(center=[0, 0], controls=(WidgetControl(options=['position', 'transparent_bg'], widget=SearchDataGUI(childr…"
      ]
     },
     "metadata": {},
     "output_type": "display_data"
    }
   ],
   "source": [
    "image = imagenes[0].clip(aoi)\n",
    "# Visualize map\n",
    "Map = geemap.Map(zoom=16)\n",
    "Map.addLayer(image,{} ,'Landsat 8')\n",
    "Map.addLayerControl()\n",
    "Map.centerObject(aoi)\n",
    "Map"
   ]
  },
  {
   "cell_type": "code",
   "execution_count": 73,
   "id": "520addb1-a387-4d69-91cf-37919c5fdf2a",
   "metadata": {},
   "outputs": [
    {
     "data": {
      "text/html": [
       "\n",
       "            <style>\n",
       "                .geemap-dark {\n",
       "                    --jp-widgets-color: white;\n",
       "                    --jp-widgets-label-color: white;\n",
       "                    --jp-ui-font-color1: white;\n",
       "                    --jp-layout-color2: #454545;\n",
       "                    background-color: #383838;\n",
       "                }\n",
       "\n",
       "                .geemap-dark .jupyter-button {\n",
       "                    --jp-layout-color3: #383838;\n",
       "                }\n",
       "\n",
       "                .geemap-colab {\n",
       "                    background-color: var(--colab-primary-surface-color, white);\n",
       "                }\n",
       "\n",
       "                .geemap-colab .jupyter-button {\n",
       "                    --jp-layout-color3: var(--colab-primary-surface-color, white);\n",
       "                }\n",
       "            </style>\n",
       "            "
      ],
      "text/plain": [
       "<IPython.core.display.HTML object>"
      ]
     },
     "metadata": {},
     "output_type": "display_data"
    }
   ],
   "source": [
    "def generate_tiles(image_file, output_file, area_str, size=64): #código extraido del jupyter notebook que vimos en clase.\n",
    "    \"\"\"Generates 64 x 64 polygon tiles.\n",
    "\n",
    "    Args:\n",
    "      image_file (str): Image file path (.tif)\n",
    "      output_file (str): Output file path (.geojson)\n",
    "      area_str (str): Name of the region\n",
    "      size(int): Window size\n",
    "\n",
    "    Returns:\n",
    "      GeoPandas DataFrame: Contains 64 x 64 polygon tiles\n",
    "    \"\"\"\n",
    "\n",
    "    # Open the raster image using rasterio\n",
    "    raster = rio.open(image_file)\n",
    "    width, height = raster.shape\n",
    "\n",
    "    # Create a dictionary which will contain our 64 x 64 px polygon tiles\n",
    "    # Later we'll convert this dict into a GeoPandas DataFrame.\n",
    "    geo_dict = { 'id' : [], 'geometry' : []}\n",
    "    index = 0\n",
    "\n",
    "    # Do a sliding window across the raster image\n",
    "    with tqdm(total=width*height) as pbar:\n",
    "      for w in range(0, width, size):\n",
    "          for h in range(0, height, size):\n",
    "              # Create a Window of your desired size\n",
    "              window = rio.windows.Window(h, w, size, size)\n",
    "              # Get the georeferenced window bounds\n",
    "              bbox = rio.windows.bounds(window, raster.transform)\n",
    "              # Create a shapely geometry from the bounding box\n",
    "              bbox = box(*bbox)\n",
    "\n",
    "              # Create a unique id for each geometry\n",
    "              uid = '{}-{}'.format(area_str.lower().replace(' ', '_'), index)\n",
    "\n",
    "              # Update dictionary\n",
    "              geo_dict['id'].append(uid)\n",
    "              geo_dict['geometry'].append(bbox)\n",
    "\n",
    "              index += 1\n",
    "              pbar.update(size*size)\n",
    "\n",
    "    # Cast dictionary as a GeoPandas DataFrame\n",
    "    results = gpd.GeoDataFrame(pd.DataFrame(geo_dict))\n",
    "    # Set CRS to EPSG:4326\n",
    "    results.crs = {'init' :'epsg:4326'}\n",
    "    # Save file as GeoJSON\n",
    "    results.to_file(output_file, driver=\"GeoJSON\")\n",
    "\n",
    "    raster.close()\n",
    "    return results\n",
    "\n",
    "def show_crop(image, shape, title=''):\n",
    "  \"\"\"Crops an image based on the polygon shape.\n",
    "  Reference: https://rasterio.readthedocs.io/en/latest/api/rasterio.mask.html#rasterio.mask.mask\n",
    "\n",
    "  Args:\n",
    "    image (str): Image file path (.tif)\n",
    "    shape (geometry): The tile with which to crop the image\n",
    "    title(str): Image title\n",
    "  \"\"\"\n",
    "\n",
    "  with rio.open(image) as src:\n",
    "      out_image, out_transform = rio.mask.mask(src, shape, crop=True)\n",
    "      # Crop out black (zero) border\n",
    "      _, x_nonzero, y_nonzero = np.nonzero(out_image)\n",
    "      out_image = out_image[\n",
    "        :,\n",
    "        np.min(x_nonzero):np.max(x_nonzero),\n",
    "        np.min(y_nonzero):np.max(y_nonzero)\n",
    "      ]\n",
    "      # Visualize image\n",
    "      show(out_image, title=title)\n"
   ]
  },
  {
   "cell_type": "markdown",
   "id": "2eaee56c-6f7e-4d7a-8a3c-ea9f46f6d7cb",
   "metadata": {},
   "source": [
    "### Se carga el modelo"
   ]
  },
  {
   "cell_type": "code",
   "execution_count": 74,
   "id": "9297c4cb-5ae5-4fee-bc29-a9ea3868194e",
   "metadata": {},
   "outputs": [
    {
     "data": {
      "text/html": [
       "\n",
       "            <style>\n",
       "                .geemap-dark {\n",
       "                    --jp-widgets-color: white;\n",
       "                    --jp-widgets-label-color: white;\n",
       "                    --jp-ui-font-color1: white;\n",
       "                    --jp-layout-color2: #454545;\n",
       "                    background-color: #383838;\n",
       "                }\n",
       "\n",
       "                .geemap-dark .jupyter-button {\n",
       "                    --jp-layout-color3: #383838;\n",
       "                }\n",
       "\n",
       "                .geemap-colab {\n",
       "                    background-color: var(--colab-primary-surface-color, white);\n",
       "                }\n",
       "\n",
       "                .geemap-colab .jupyter-button {\n",
       "                    --jp-layout-color3: var(--colab-primary-surface-color, white);\n",
       "                }\n",
       "            </style>\n",
       "            "
      ],
      "text/plain": [
       "<IPython.core.display.HTML object>"
      ]
     },
     "metadata": {},
     "output_type": "display_data"
    },
    {
     "name": "stdout",
     "output_type": "stream",
     "text": [
      "mkdir: cannot create directory ‘temp’: File exists\n",
      "Model file recursos/best_resnet50_10.pth successfully loaded.\n"
     ]
    }
   ],
   "source": [
    "!mkdir temp\n",
    "classes = [\n",
    "  'AnnualCrop',\n",
    "  'Forest',\n",
    "  'HerbaceousVegetation',\n",
    "  'Highway',\n",
    "  'Industrial',\n",
    "  'Pasture',\n",
    "  'PermanentCrop',\n",
    "  'Residential',\n",
    "  'River',\n",
    "  'SeaLake'\n",
    "]\n",
    "device = torch.device(\"cuda:0\" if torch.cuda.is_available() else \"cpu\")\n",
    "model_file = 'recursos/best_resnet50_10.pth'\n",
    "\n",
    "model = models.resnet50(pretrained=True)\n",
    "num_ftrs = model.fc.in_features\n",
    "model.fc = torch.nn.Linear(num_ftrs, 10)\n",
    "\n",
    "#cargar los parámetros del modelo\n",
    "model.load_state_dict(torch.load(model_file, map_location=device))\n",
    "model.eval()\n",
    "\n",
    "print('Model file {} successfully loaded.'.format(model_file))"
   ]
  },
  {
   "cell_type": "markdown",
   "id": "84ec2d4e-937c-49d4-a854-d9a4e943203d",
   "metadata": {},
   "source": [
    "### Se generan los tiles"
   ]
  },
  {
   "cell_type": "code",
   "execution_count": 75,
   "id": "1fd809a6-f68a-4be8-aa8f-445ea9024428",
   "metadata": {
    "scrolled": true
   },
   "outputs": [
    {
     "data": {
      "text/html": [
       "\n",
       "            <style>\n",
       "                .geemap-dark {\n",
       "                    --jp-widgets-color: white;\n",
       "                    --jp-widgets-label-color: white;\n",
       "                    --jp-ui-font-color1: white;\n",
       "                    --jp-layout-color2: #454545;\n",
       "                    background-color: #383838;\n",
       "                }\n",
       "\n",
       "                .geemap-dark .jupyter-button {\n",
       "                    --jp-layout-color3: #383838;\n",
       "                }\n",
       "\n",
       "                .geemap-colab {\n",
       "                    background-color: var(--colab-primary-surface-color, white);\n",
       "                }\n",
       "\n",
       "                .geemap-colab .jupyter-button {\n",
       "                    --jp-layout-color3: var(--colab-primary-surface-color, white);\n",
       "                }\n",
       "            </style>\n",
       "            "
      ],
      "text/plain": [
       "<IPython.core.display.HTML object>"
      ]
     },
     "metadata": {},
     "output_type": "display_data"
    },
    {
     "name": "stdout",
     "output_type": "stream",
     "text": [
      "Generating URL ...\n",
      "Downloading data from https://earthengine.googleapis.com/v1/projects/earthengine-legacy/thumbnails/468454a0f6856d325e34abfc36c17fb8-c060992d0a829c6621586f9e7ec4e73f:getPixels\n",
      "Please wait ...\n",
      "Data downloaded to /home/cristobal/Universidad/proyecto2_geoespaciales/proyecto_geoespaciales/temp/aoi2014-1-01.tif\n"
     ]
    },
    {
     "data": {
      "application/vnd.jupyter.widget-view+json": {
       "model_id": "e9e213d3e4894765a979cd8c721634d3",
       "version_major": 2,
       "version_minor": 0
      },
      "text/plain": [
       "  0%|          | 0/342400 [00:00<?, ?it/s]"
      ]
     },
     "metadata": {},
     "output_type": "display_data"
    },
    {
     "name": "stdout",
     "output_type": "stream",
     "text": [
      "Data dimensions: (90, 2)\n",
      "Generating URL ...\n",
      "Downloading data from https://earthengine.googleapis.com/v1/projects/earthengine-legacy/thumbnails/c86b5459386bfd127fc68f61de84b149-76dc91148493c9859324d04542d7fc8d:getPixels\n",
      "Please wait ...\n",
      "Data downloaded to /home/cristobal/Universidad/proyecto2_geoespaciales/proyecto_geoespaciales/temp/aoi2014-2-01.tif\n"
     ]
    },
    {
     "data": {
      "application/vnd.jupyter.widget-view+json": {
       "model_id": "57f88ac622584352b3f3591cdb74fd0c",
       "version_major": 2,
       "version_minor": 0
      },
      "text/plain": [
       "  0%|          | 0/342400 [00:00<?, ?it/s]"
      ]
     },
     "metadata": {},
     "output_type": "display_data"
    },
    {
     "name": "stdout",
     "output_type": "stream",
     "text": [
      "Data dimensions: (90, 2)\n",
      "Generating URL ...\n",
      "Downloading data from https://earthengine.googleapis.com/v1/projects/earthengine-legacy/thumbnails/5ccf7a94105fdc8e9d3c94bc4f4cee87-cb3f5fe3534525da2c5ff52b750996d4:getPixels\n",
      "Please wait ...\n",
      "Data downloaded to /home/cristobal/Universidad/proyecto2_geoespaciales/proyecto_geoespaciales/temp/aoi2014-4-01.tif\n"
     ]
    },
    {
     "data": {
      "application/vnd.jupyter.widget-view+json": {
       "model_id": "fb9999e79a364e45812270a73f234bfe",
       "version_major": 2,
       "version_minor": 0
      },
      "text/plain": [
       "  0%|          | 0/342400 [00:00<?, ?it/s]"
      ]
     },
     "metadata": {},
     "output_type": "display_data"
    },
    {
     "name": "stdout",
     "output_type": "stream",
     "text": [
      "Data dimensions: (90, 2)\n",
      "Generating URL ...\n",
      "Downloading data from https://earthengine.googleapis.com/v1/projects/earthengine-legacy/thumbnails/3c0261e67be0090c505f93e69b4a4d32-af75613fcc839d8c52b81963794d6935:getPixels\n",
      "Please wait ...\n",
      "Data downloaded to /home/cristobal/Universidad/proyecto2_geoespaciales/proyecto_geoespaciales/temp/aoi2014-6-01.tif\n"
     ]
    },
    {
     "data": {
      "application/vnd.jupyter.widget-view+json": {
       "model_id": "b8c9bc957ae94716bf43db4f56ddbfe0",
       "version_major": 2,
       "version_minor": 0
      },
      "text/plain": [
       "  0%|          | 0/342400 [00:00<?, ?it/s]"
      ]
     },
     "metadata": {},
     "output_type": "display_data"
    },
    {
     "name": "stdout",
     "output_type": "stream",
     "text": [
      "Data dimensions: (90, 2)\n",
      "Generating URL ...\n",
      "Downloading data from https://earthengine.googleapis.com/v1/projects/earthengine-legacy/thumbnails/150918542fc81ee286401bb9f7f010c1-2db0306fdca1ae083adf2325e06e6ef0:getPixels\n",
      "Please wait ...\n",
      "Data downloaded to /home/cristobal/Universidad/proyecto2_geoespaciales/proyecto_geoespaciales/temp/aoi2014-8-01.tif\n"
     ]
    },
    {
     "data": {
      "application/vnd.jupyter.widget-view+json": {
       "model_id": "ee8dac412b1d43049551cf78ab82509e",
       "version_major": 2,
       "version_minor": 0
      },
      "text/plain": [
       "  0%|          | 0/342400 [00:00<?, ?it/s]"
      ]
     },
     "metadata": {},
     "output_type": "display_data"
    },
    {
     "name": "stdout",
     "output_type": "stream",
     "text": [
      "Data dimensions: (90, 2)\n",
      "Generating URL ...\n",
      "Downloading data from https://earthengine.googleapis.com/v1/projects/earthengine-legacy/thumbnails/96a35b8a0ade33791ab175d84e47ab6b-29ec80fe8355eebb0d3e4380a3a9f328:getPixels\n",
      "Please wait ...\n",
      "Data downloaded to /home/cristobal/Universidad/proyecto2_geoespaciales/proyecto_geoespaciales/temp/aoi2014-10-01.tif\n"
     ]
    },
    {
     "data": {
      "application/vnd.jupyter.widget-view+json": {
       "model_id": "ae0cd5e85dda409686c284d46b6db0a2",
       "version_major": 2,
       "version_minor": 0
      },
      "text/plain": [
       "  0%|          | 0/342400 [00:00<?, ?it/s]"
      ]
     },
     "metadata": {},
     "output_type": "display_data"
    },
    {
     "name": "stdout",
     "output_type": "stream",
     "text": [
      "Data dimensions: (90, 2)\n",
      "Generating URL ...\n",
      "Downloading data from https://earthengine.googleapis.com/v1/projects/earthengine-legacy/thumbnails/c628630f0f6ecdaa41bc41d314f05cba-e903f20ea8aafaff7bd736d9eb1749b0:getPixels\n",
      "Please wait ...\n",
      "Data downloaded to /home/cristobal/Universidad/proyecto2_geoespaciales/proyecto_geoespaciales/temp/aoi2014-11-01.tif\n"
     ]
    },
    {
     "data": {
      "application/vnd.jupyter.widget-view+json": {
       "model_id": "65ccec1308284ac6b0e834b208125b0c",
       "version_major": 2,
       "version_minor": 0
      },
      "text/plain": [
       "  0%|          | 0/342400 [00:00<?, ?it/s]"
      ]
     },
     "metadata": {},
     "output_type": "display_data"
    },
    {
     "name": "stdout",
     "output_type": "stream",
     "text": [
      "Data dimensions: (90, 2)\n",
      "Generating URL ...\n",
      "Downloading data from https://earthengine.googleapis.com/v1/projects/earthengine-legacy/thumbnails/64722e5a63abec2e37a3fadb999a251a-35a7f969a4aecfd401966a45850acd7f:getPixels\n",
      "Please wait ...\n",
      "Data downloaded to /home/cristobal/Universidad/proyecto2_geoespaciales/proyecto_geoespaciales/temp/aoi2015-1-01.tif\n"
     ]
    },
    {
     "data": {
      "application/vnd.jupyter.widget-view+json": {
       "model_id": "7665261fcdd442c892bbbf98b5e17c58",
       "version_major": 2,
       "version_minor": 0
      },
      "text/plain": [
       "  0%|          | 0/342400 [00:00<?, ?it/s]"
      ]
     },
     "metadata": {},
     "output_type": "display_data"
    },
    {
     "name": "stdout",
     "output_type": "stream",
     "text": [
      "Data dimensions: (90, 2)\n",
      "Generating URL ...\n",
      "Downloading data from https://earthengine.googleapis.com/v1/projects/earthengine-legacy/thumbnails/d65d89f6ae1e3a16dc8c9db69ba3feb6-509653d56722d7249aa311e3f8e98bb3:getPixels\n",
      "Please wait ...\n",
      "Data downloaded to /home/cristobal/Universidad/proyecto2_geoespaciales/proyecto_geoespaciales/temp/aoi2015-2-01.tif\n"
     ]
    },
    {
     "data": {
      "application/vnd.jupyter.widget-view+json": {
       "model_id": "f549138d7d8a405a82c84cc14a057b9e",
       "version_major": 2,
       "version_minor": 0
      },
      "text/plain": [
       "  0%|          | 0/342400 [00:00<?, ?it/s]"
      ]
     },
     "metadata": {},
     "output_type": "display_data"
    },
    {
     "name": "stdout",
     "output_type": "stream",
     "text": [
      "Data dimensions: (90, 2)\n",
      "Generating URL ...\n",
      "Downloading data from https://earthengine.googleapis.com/v1/projects/earthengine-legacy/thumbnails/2839187ff068cbfb21e12497a54763e7-51e31fa8f23eab8fb11c432a0491ffa0:getPixels\n",
      "Please wait ...\n",
      "Data downloaded to /home/cristobal/Universidad/proyecto2_geoespaciales/proyecto_geoespaciales/temp/aoi2015-3-01.tif\n"
     ]
    },
    {
     "data": {
      "application/vnd.jupyter.widget-view+json": {
       "model_id": "b64295ad12df486b90b84e72084a0343",
       "version_major": 2,
       "version_minor": 0
      },
      "text/plain": [
       "  0%|          | 0/342400 [00:00<?, ?it/s]"
      ]
     },
     "metadata": {},
     "output_type": "display_data"
    },
    {
     "name": "stdout",
     "output_type": "stream",
     "text": [
      "Data dimensions: (90, 2)\n",
      "Generating URL ...\n",
      "Downloading data from https://earthengine.googleapis.com/v1/projects/earthengine-legacy/thumbnails/d958f913d5a5a161a358c7fc6cc7584a-59188a231d075afe46b7b5b8eb881c78:getPixels\n",
      "Please wait ...\n",
      "Data downloaded to /home/cristobal/Universidad/proyecto2_geoespaciales/proyecto_geoespaciales/temp/aoi2015-4-01.tif\n"
     ]
    },
    {
     "data": {
      "application/vnd.jupyter.widget-view+json": {
       "model_id": "98ecee44af934a9fbfd3534b4e70851c",
       "version_major": 2,
       "version_minor": 0
      },
      "text/plain": [
       "  0%|          | 0/342400 [00:00<?, ?it/s]"
      ]
     },
     "metadata": {},
     "output_type": "display_data"
    },
    {
     "name": "stdout",
     "output_type": "stream",
     "text": [
      "Data dimensions: (90, 2)\n",
      "Generating URL ...\n",
      "Downloading data from https://earthengine.googleapis.com/v1/projects/earthengine-legacy/thumbnails/7143f76aac4a77c9114e5d4632abae6a-ce35e1a05038c3e4415e0b7609488837:getPixels\n",
      "Please wait ...\n",
      "Data downloaded to /home/cristobal/Universidad/proyecto2_geoespaciales/proyecto_geoespaciales/temp/aoi2015-5-01.tif\n"
     ]
    },
    {
     "data": {
      "application/vnd.jupyter.widget-view+json": {
       "model_id": "a26dc04422b04ab0b9ab726bc6ab2c16",
       "version_major": 2,
       "version_minor": 0
      },
      "text/plain": [
       "  0%|          | 0/342400 [00:00<?, ?it/s]"
      ]
     },
     "metadata": {},
     "output_type": "display_data"
    },
    {
     "name": "stdout",
     "output_type": "stream",
     "text": [
      "Data dimensions: (90, 2)\n",
      "Generating URL ...\n",
      "Downloading data from https://earthengine.googleapis.com/v1/projects/earthengine-legacy/thumbnails/558d094d191476a6d1bf55a52edfa4bc-7871e9a79fcf3d2168507cd691e2314a:getPixels\n",
      "Please wait ...\n",
      "Data downloaded to /home/cristobal/Universidad/proyecto2_geoespaciales/proyecto_geoespaciales/temp/aoi2015-7-01.tif\n"
     ]
    },
    {
     "data": {
      "application/vnd.jupyter.widget-view+json": {
       "model_id": "e432d9e1554a4e4a917a0113ebff88dc",
       "version_major": 2,
       "version_minor": 0
      },
      "text/plain": [
       "  0%|          | 0/342400 [00:00<?, ?it/s]"
      ]
     },
     "metadata": {},
     "output_type": "display_data"
    },
    {
     "name": "stdout",
     "output_type": "stream",
     "text": [
      "Data dimensions: (90, 2)\n",
      "Generating URL ...\n",
      "Downloading data from https://earthengine.googleapis.com/v1/projects/earthengine-legacy/thumbnails/77257e8331f85a17253080be80ba2f46-9e94a6be3c7580ee66f1bfa5fd71c158:getPixels\n",
      "Please wait ...\n",
      "Data downloaded to /home/cristobal/Universidad/proyecto2_geoespaciales/proyecto_geoespaciales/temp/aoi2015-10-01.tif\n"
     ]
    },
    {
     "data": {
      "application/vnd.jupyter.widget-view+json": {
       "model_id": "fc07ab277ecc4831864732013567c569",
       "version_major": 2,
       "version_minor": 0
      },
      "text/plain": [
       "  0%|          | 0/342400 [00:00<?, ?it/s]"
      ]
     },
     "metadata": {},
     "output_type": "display_data"
    },
    {
     "name": "stdout",
     "output_type": "stream",
     "text": [
      "Data dimensions: (90, 2)\n",
      "Generating URL ...\n",
      "Downloading data from https://earthengine.googleapis.com/v1/projects/earthengine-legacy/thumbnails/20c7e8e054a27448b216b2f08d788fe0-14159b7b33c33433154869de3cdf7d26:getPixels\n",
      "Please wait ...\n",
      "Data downloaded to /home/cristobal/Universidad/proyecto2_geoespaciales/proyecto_geoespaciales/temp/aoi2015-11-01.tif\n"
     ]
    },
    {
     "data": {
      "application/vnd.jupyter.widget-view+json": {
       "model_id": "cdeced7f742845849d136bfeffd60a95",
       "version_major": 2,
       "version_minor": 0
      },
      "text/plain": [
       "  0%|          | 0/342400 [00:00<?, ?it/s]"
      ]
     },
     "metadata": {},
     "output_type": "display_data"
    },
    {
     "name": "stdout",
     "output_type": "stream",
     "text": [
      "Data dimensions: (90, 2)\n",
      "Generating URL ...\n",
      "Downloading data from https://earthengine.googleapis.com/v1/projects/earthengine-legacy/thumbnails/8380af15360ff8d807256505ecfb7e83-b246c9db1fd8bd1a89eb3ac2531c7d29:getPixels\n",
      "Please wait ...\n",
      "Data downloaded to /home/cristobal/Universidad/proyecto2_geoespaciales/proyecto_geoespaciales/temp/aoi2015-12-01.tif\n"
     ]
    },
    {
     "data": {
      "application/vnd.jupyter.widget-view+json": {
       "model_id": "157e90e2f5644091873d607023fc1239",
       "version_major": 2,
       "version_minor": 0
      },
      "text/plain": [
       "  0%|          | 0/342400 [00:00<?, ?it/s]"
      ]
     },
     "metadata": {},
     "output_type": "display_data"
    },
    {
     "name": "stdout",
     "output_type": "stream",
     "text": [
      "Data dimensions: (90, 2)\n",
      "Generating URL ...\n",
      "Downloading data from https://earthengine.googleapis.com/v1/projects/earthengine-legacy/thumbnails/a7fae1dcaa4b36f22b5d10b56563f406-59c0e52b2be751ccf69b13633656b44e:getPixels\n",
      "Please wait ...\n",
      "Data downloaded to /home/cristobal/Universidad/proyecto2_geoespaciales/proyecto_geoespaciales/temp/aoi2016-1-01.tif\n"
     ]
    },
    {
     "data": {
      "application/vnd.jupyter.widget-view+json": {
       "model_id": "bdfcc51b280a4b1fa7cdd18f9aa0c161",
       "version_major": 2,
       "version_minor": 0
      },
      "text/plain": [
       "  0%|          | 0/342400 [00:00<?, ?it/s]"
      ]
     },
     "metadata": {},
     "output_type": "display_data"
    },
    {
     "name": "stdout",
     "output_type": "stream",
     "text": [
      "Data dimensions: (90, 2)\n",
      "Generating URL ...\n",
      "Downloading data from https://earthengine.googleapis.com/v1/projects/earthengine-legacy/thumbnails/782039b1d09c1339a7b1a4639dddcaee-55977034660161284d4e8ed0b902f373:getPixels\n",
      "Please wait ...\n",
      "Data downloaded to /home/cristobal/Universidad/proyecto2_geoespaciales/proyecto_geoespaciales/temp/aoi2016-3-01.tif\n"
     ]
    },
    {
     "data": {
      "application/vnd.jupyter.widget-view+json": {
       "model_id": "416dfea3093243d7862cda2b8c632bcc",
       "version_major": 2,
       "version_minor": 0
      },
      "text/plain": [
       "  0%|          | 0/342400 [00:00<?, ?it/s]"
      ]
     },
     "metadata": {},
     "output_type": "display_data"
    },
    {
     "name": "stdout",
     "output_type": "stream",
     "text": [
      "Data dimensions: (90, 2)\n",
      "Generating URL ...\n",
      "Downloading data from https://earthengine.googleapis.com/v1/projects/earthengine-legacy/thumbnails/33aa19501bbcad2fe617f7104e0eaa4f-ededd8fd5b55ab2358f73d10e9032bed:getPixels\n",
      "Please wait ...\n",
      "Data downloaded to /home/cristobal/Universidad/proyecto2_geoespaciales/proyecto_geoespaciales/temp/aoi2016-4-01.tif\n"
     ]
    },
    {
     "data": {
      "application/vnd.jupyter.widget-view+json": {
       "model_id": "da6db9010623463d88fac819986ce13a",
       "version_major": 2,
       "version_minor": 0
      },
      "text/plain": [
       "  0%|          | 0/342400 [00:00<?, ?it/s]"
      ]
     },
     "metadata": {},
     "output_type": "display_data"
    },
    {
     "name": "stdout",
     "output_type": "stream",
     "text": [
      "Data dimensions: (90, 2)\n",
      "Generating URL ...\n",
      "Downloading data from https://earthengine.googleapis.com/v1/projects/earthengine-legacy/thumbnails/20b300d77d840c5685ae3b3f3f038d36-7976c22511b18d72607a9b08478fb05a:getPixels\n",
      "Please wait ...\n",
      "Data downloaded to /home/cristobal/Universidad/proyecto2_geoespaciales/proyecto_geoespaciales/temp/aoi2016-5-01.tif\n"
     ]
    },
    {
     "data": {
      "application/vnd.jupyter.widget-view+json": {
       "model_id": "6a4cf7958249404c8bac168b09bad67d",
       "version_major": 2,
       "version_minor": 0
      },
      "text/plain": [
       "  0%|          | 0/342400 [00:00<?, ?it/s]"
      ]
     },
     "metadata": {},
     "output_type": "display_data"
    },
    {
     "name": "stdout",
     "output_type": "stream",
     "text": [
      "Data dimensions: (90, 2)\n",
      "Generating URL ...\n",
      "Downloading data from https://earthengine.googleapis.com/v1/projects/earthengine-legacy/thumbnails/e32323479922a6b8cfee1ca3f5155de5-a21412c9cdf108509dceecbe5f153cbd:getPixels\n",
      "Please wait ...\n",
      "Data downloaded to /home/cristobal/Universidad/proyecto2_geoespaciales/proyecto_geoespaciales/temp/aoi2016-6-01.tif\n"
     ]
    },
    {
     "data": {
      "application/vnd.jupyter.widget-view+json": {
       "model_id": "e3475e4ed07e4c04bf348399e719d76d",
       "version_major": 2,
       "version_minor": 0
      },
      "text/plain": [
       "  0%|          | 0/342400 [00:00<?, ?it/s]"
      ]
     },
     "metadata": {},
     "output_type": "display_data"
    },
    {
     "name": "stdout",
     "output_type": "stream",
     "text": [
      "Data dimensions: (90, 2)\n",
      "Generating URL ...\n",
      "Downloading data from https://earthengine.googleapis.com/v1/projects/earthengine-legacy/thumbnails/45f8e0b75229c67622a9c4c8158ed584-9ff866dbb715f9face206bbef78dd7ad:getPixels\n",
      "Please wait ...\n",
      "Data downloaded to /home/cristobal/Universidad/proyecto2_geoespaciales/proyecto_geoespaciales/temp/aoi2016-8-01.tif\n"
     ]
    },
    {
     "data": {
      "application/vnd.jupyter.widget-view+json": {
       "model_id": "fab4305652d24ad4a1bf2e9822111119",
       "version_major": 2,
       "version_minor": 0
      },
      "text/plain": [
       "  0%|          | 0/342400 [00:00<?, ?it/s]"
      ]
     },
     "metadata": {},
     "output_type": "display_data"
    },
    {
     "name": "stdout",
     "output_type": "stream",
     "text": [
      "Data dimensions: (90, 2)\n",
      "Generating URL ...\n",
      "Downloading data from https://earthengine.googleapis.com/v1/projects/earthengine-legacy/thumbnails/8894a1d7db19898fcdefa3bb1ce06ce3-dfa0614dd9c0fd5b59e016c174b3e272:getPixels\n",
      "Please wait ...\n",
      "Data downloaded to /home/cristobal/Universidad/proyecto2_geoespaciales/proyecto_geoespaciales/temp/aoi2016-9-01.tif\n"
     ]
    },
    {
     "data": {
      "application/vnd.jupyter.widget-view+json": {
       "model_id": "c35c36fa9b94404ba7b403fd36ff7b5a",
       "version_major": 2,
       "version_minor": 0
      },
      "text/plain": [
       "  0%|          | 0/342400 [00:00<?, ?it/s]"
      ]
     },
     "metadata": {},
     "output_type": "display_data"
    },
    {
     "name": "stdout",
     "output_type": "stream",
     "text": [
      "Data dimensions: (90, 2)\n",
      "Generating URL ...\n",
      "Downloading data from https://earthengine.googleapis.com/v1/projects/earthengine-legacy/thumbnails/615690fd386d316990afc3612aac83fd-2715563f5b85d6a991af6f5af3f48fd8:getPixels\n",
      "Please wait ...\n",
      "Data downloaded to /home/cristobal/Universidad/proyecto2_geoespaciales/proyecto_geoespaciales/temp/aoi2016-10-01.tif\n"
     ]
    },
    {
     "data": {
      "application/vnd.jupyter.widget-view+json": {
       "model_id": "12510b130063442cb16454af27658990",
       "version_major": 2,
       "version_minor": 0
      },
      "text/plain": [
       "  0%|          | 0/342400 [00:00<?, ?it/s]"
      ]
     },
     "metadata": {},
     "output_type": "display_data"
    },
    {
     "name": "stdout",
     "output_type": "stream",
     "text": [
      "Data dimensions: (90, 2)\n",
      "Generating URL ...\n",
      "Downloading data from https://earthengine.googleapis.com/v1/projects/earthengine-legacy/thumbnails/854ef43a1cfc997812e1de9abee7cabc-526f683f270bb9a9dacbbaa450d07484:getPixels\n",
      "Please wait ...\n",
      "Data downloaded to /home/cristobal/Universidad/proyecto2_geoespaciales/proyecto_geoespaciales/temp/aoi2016-11-01.tif\n"
     ]
    },
    {
     "data": {
      "application/vnd.jupyter.widget-view+json": {
       "model_id": "24ebabb3fdd14bff97cedf8cfbfd0a44",
       "version_major": 2,
       "version_minor": 0
      },
      "text/plain": [
       "  0%|          | 0/342400 [00:00<?, ?it/s]"
      ]
     },
     "metadata": {},
     "output_type": "display_data"
    },
    {
     "name": "stdout",
     "output_type": "stream",
     "text": [
      "Data dimensions: (90, 2)\n",
      "Generating URL ...\n",
      "Downloading data from https://earthengine.googleapis.com/v1/projects/earthengine-legacy/thumbnails/29546eeea8d5b5195c119b7e189832b2-29503041f7c090da636195c1a199a1af:getPixels\n",
      "Please wait ...\n",
      "Data downloaded to /home/cristobal/Universidad/proyecto2_geoespaciales/proyecto_geoespaciales/temp/aoi2017-1-01.tif\n"
     ]
    },
    {
     "data": {
      "application/vnd.jupyter.widget-view+json": {
       "model_id": "cf7f4c204f334d2e891b592122e325c5",
       "version_major": 2,
       "version_minor": 0
      },
      "text/plain": [
       "  0%|          | 0/342400 [00:00<?, ?it/s]"
      ]
     },
     "metadata": {},
     "output_type": "display_data"
    },
    {
     "name": "stdout",
     "output_type": "stream",
     "text": [
      "Data dimensions: (90, 2)\n",
      "Generating URL ...\n",
      "Downloading data from https://earthengine.googleapis.com/v1/projects/earthengine-legacy/thumbnails/d20bee92c1868faa1dc2b5488115ce12-65b696b931eeb4e595c5687a13e283ec:getPixels\n",
      "Please wait ...\n",
      "Data downloaded to /home/cristobal/Universidad/proyecto2_geoespaciales/proyecto_geoespaciales/temp/aoi2017-2-01.tif\n"
     ]
    },
    {
     "data": {
      "application/vnd.jupyter.widget-view+json": {
       "model_id": "633b9311012b4efdb6e24e24bb68013d",
       "version_major": 2,
       "version_minor": 0
      },
      "text/plain": [
       "  0%|          | 0/342400 [00:00<?, ?it/s]"
      ]
     },
     "metadata": {},
     "output_type": "display_data"
    },
    {
     "name": "stdout",
     "output_type": "stream",
     "text": [
      "Data dimensions: (90, 2)\n",
      "Generating URL ...\n",
      "Downloading data from https://earthengine.googleapis.com/v1/projects/earthengine-legacy/thumbnails/3a2b14af7969f51926468a6daead7bef-4abf88ec0980e9afe295f13a70513738:getPixels\n",
      "Please wait ...\n",
      "Data downloaded to /home/cristobal/Universidad/proyecto2_geoespaciales/proyecto_geoespaciales/temp/aoi2017-3-01.tif\n"
     ]
    },
    {
     "data": {
      "application/vnd.jupyter.widget-view+json": {
       "model_id": "00a17a9cb82c4106893ade3070e461f8",
       "version_major": 2,
       "version_minor": 0
      },
      "text/plain": [
       "  0%|          | 0/342400 [00:00<?, ?it/s]"
      ]
     },
     "metadata": {},
     "output_type": "display_data"
    },
    {
     "name": "stdout",
     "output_type": "stream",
     "text": [
      "Data dimensions: (90, 2)\n",
      "Generating URL ...\n",
      "Downloading data from https://earthengine.googleapis.com/v1/projects/earthengine-legacy/thumbnails/762266d79dcb1ccebb97431049343d8c-1f6b795d988f4971482435189622e787:getPixels\n",
      "Please wait ...\n",
      "Data downloaded to /home/cristobal/Universidad/proyecto2_geoespaciales/proyecto_geoespaciales/temp/aoi2017-6-01.tif\n"
     ]
    },
    {
     "data": {
      "application/vnd.jupyter.widget-view+json": {
       "model_id": "4ba4df751bc54e7a863c8dca4147b7cd",
       "version_major": 2,
       "version_minor": 0
      },
      "text/plain": [
       "  0%|          | 0/342400 [00:00<?, ?it/s]"
      ]
     },
     "metadata": {},
     "output_type": "display_data"
    },
    {
     "name": "stdout",
     "output_type": "stream",
     "text": [
      "Data dimensions: (90, 2)\n",
      "Generating URL ...\n",
      "Downloading data from https://earthengine.googleapis.com/v1/projects/earthengine-legacy/thumbnails/ceede0e3a689163d413d484e0e4a643e-e98ae1ceeece765acb4609a0ed104a2e:getPixels\n",
      "Please wait ...\n",
      "Data downloaded to /home/cristobal/Universidad/proyecto2_geoespaciales/proyecto_geoespaciales/temp/aoi2017-7-01.tif\n"
     ]
    },
    {
     "data": {
      "application/vnd.jupyter.widget-view+json": {
       "model_id": "d1a0d9b3e8b74706b086a1ee82a999c7",
       "version_major": 2,
       "version_minor": 0
      },
      "text/plain": [
       "  0%|          | 0/342400 [00:00<?, ?it/s]"
      ]
     },
     "metadata": {},
     "output_type": "display_data"
    },
    {
     "name": "stdout",
     "output_type": "stream",
     "text": [
      "Data dimensions: (90, 2)\n",
      "Generating URL ...\n",
      "Downloading data from https://earthengine.googleapis.com/v1/projects/earthengine-legacy/thumbnails/db9e437d63827a5618ef07f7f7c17930-861abddf99b6f42e5270ed1ef2ee370e:getPixels\n",
      "Please wait ...\n",
      "Data downloaded to /home/cristobal/Universidad/proyecto2_geoespaciales/proyecto_geoespaciales/temp/aoi2017-8-01.tif\n"
     ]
    },
    {
     "data": {
      "application/vnd.jupyter.widget-view+json": {
       "model_id": "0eee93e470be40118dc571c27e810e26",
       "version_major": 2,
       "version_minor": 0
      },
      "text/plain": [
       "  0%|          | 0/342400 [00:00<?, ?it/s]"
      ]
     },
     "metadata": {},
     "output_type": "display_data"
    },
    {
     "name": "stdout",
     "output_type": "stream",
     "text": [
      "Data dimensions: (90, 2)\n",
      "Generating URL ...\n",
      "Downloading data from https://earthengine.googleapis.com/v1/projects/earthengine-legacy/thumbnails/e7ccc6b4ac5fb52bfb3b5fe721cd1023-5ab71a0e4719a6536352e5622b8551cb:getPixels\n",
      "Please wait ...\n",
      "Data downloaded to /home/cristobal/Universidad/proyecto2_geoespaciales/proyecto_geoespaciales/temp/aoi2017-11-01.tif\n"
     ]
    },
    {
     "data": {
      "application/vnd.jupyter.widget-view+json": {
       "model_id": "b54ce90caee041f3b2aadb2188f0d980",
       "version_major": 2,
       "version_minor": 0
      },
      "text/plain": [
       "  0%|          | 0/342400 [00:00<?, ?it/s]"
      ]
     },
     "metadata": {},
     "output_type": "display_data"
    },
    {
     "name": "stdout",
     "output_type": "stream",
     "text": [
      "Data dimensions: (90, 2)\n",
      "Generating URL ...\n",
      "Downloading data from https://earthengine.googleapis.com/v1/projects/earthengine-legacy/thumbnails/57876695af1179437f7a406912ea61fa-61c3623d71b59f70d1faf5ff33958f8d:getPixels\n",
      "Please wait ...\n",
      "Data downloaded to /home/cristobal/Universidad/proyecto2_geoespaciales/proyecto_geoespaciales/temp/aoi2017-12-01.tif\n"
     ]
    },
    {
     "data": {
      "application/vnd.jupyter.widget-view+json": {
       "model_id": "7dea70d082424222a32a576ec0abfe0e",
       "version_major": 2,
       "version_minor": 0
      },
      "text/plain": [
       "  0%|          | 0/342400 [00:00<?, ?it/s]"
      ]
     },
     "metadata": {},
     "output_type": "display_data"
    },
    {
     "name": "stdout",
     "output_type": "stream",
     "text": [
      "Data dimensions: (90, 2)\n",
      "Generating URL ...\n",
      "Downloading data from https://earthengine.googleapis.com/v1/projects/earthengine-legacy/thumbnails/a37b69d15da43b1a05738ac6ce60467f-1c5fb758b26fe20e2d43d036d8cc6f11:getPixels\n",
      "Please wait ...\n",
      "Data downloaded to /home/cristobal/Universidad/proyecto2_geoespaciales/proyecto_geoespaciales/temp/aoi2018-1-01.tif\n"
     ]
    },
    {
     "data": {
      "application/vnd.jupyter.widget-view+json": {
       "model_id": "70efbacd8e654290bc6b43c42c46bfb2",
       "version_major": 2,
       "version_minor": 0
      },
      "text/plain": [
       "  0%|          | 0/342400 [00:00<?, ?it/s]"
      ]
     },
     "metadata": {},
     "output_type": "display_data"
    },
    {
     "name": "stdout",
     "output_type": "stream",
     "text": [
      "Data dimensions: (90, 2)\n",
      "Generating URL ...\n",
      "Downloading data from https://earthengine.googleapis.com/v1/projects/earthengine-legacy/thumbnails/f5bad8b11d41dd70cb9c7a9d854d490a-f5a9ce3f04bde0e1dbff55755bf3c9e6:getPixels\n",
      "Please wait ...\n",
      "Data downloaded to /home/cristobal/Universidad/proyecto2_geoespaciales/proyecto_geoespaciales/temp/aoi2018-2-01.tif\n"
     ]
    },
    {
     "data": {
      "application/vnd.jupyter.widget-view+json": {
       "model_id": "6b538d3d2aad4216b9356e7b9632ba27",
       "version_major": 2,
       "version_minor": 0
      },
      "text/plain": [
       "  0%|          | 0/342400 [00:00<?, ?it/s]"
      ]
     },
     "metadata": {},
     "output_type": "display_data"
    },
    {
     "name": "stdout",
     "output_type": "stream",
     "text": [
      "Data dimensions: (90, 2)\n",
      "Generating URL ...\n",
      "Downloading data from https://earthengine.googleapis.com/v1/projects/earthengine-legacy/thumbnails/3c0fbfc683156b014eb9cb49a76625a3-a836a067c5e1154d834f314ee2b9ffa5:getPixels\n",
      "Please wait ...\n",
      "Data downloaded to /home/cristobal/Universidad/proyecto2_geoespaciales/proyecto_geoespaciales/temp/aoi2018-3-01.tif\n"
     ]
    },
    {
     "data": {
      "application/vnd.jupyter.widget-view+json": {
       "model_id": "536c80339e9342bc8c9e2551a7da8f87",
       "version_major": 2,
       "version_minor": 0
      },
      "text/plain": [
       "  0%|          | 0/342400 [00:00<?, ?it/s]"
      ]
     },
     "metadata": {},
     "output_type": "display_data"
    },
    {
     "name": "stdout",
     "output_type": "stream",
     "text": [
      "Data dimensions: (90, 2)\n",
      "Generating URL ...\n",
      "Downloading data from https://earthengine.googleapis.com/v1/projects/earthengine-legacy/thumbnails/28969bf8d4ced7220596a507ec9299d3-cbb98737a9d3dbb68ccba9ccc2241828:getPixels\n",
      "Please wait ...\n",
      "Data downloaded to /home/cristobal/Universidad/proyecto2_geoespaciales/proyecto_geoespaciales/temp/aoi2018-4-01.tif\n"
     ]
    },
    {
     "data": {
      "application/vnd.jupyter.widget-view+json": {
       "model_id": "945c345d7dcb41ec8297f81b4de26aef",
       "version_major": 2,
       "version_minor": 0
      },
      "text/plain": [
       "  0%|          | 0/342400 [00:00<?, ?it/s]"
      ]
     },
     "metadata": {},
     "output_type": "display_data"
    },
    {
     "name": "stdout",
     "output_type": "stream",
     "text": [
      "Data dimensions: (90, 2)\n",
      "Generating URL ...\n",
      "Downloading data from https://earthengine.googleapis.com/v1/projects/earthengine-legacy/thumbnails/9e1107fad7bde8113cca44e852a0a287-9aeefe0fbbd8e3261f88863d4d6f0960:getPixels\n",
      "Please wait ...\n",
      "Data downloaded to /home/cristobal/Universidad/proyecto2_geoespaciales/proyecto_geoespaciales/temp/aoi2018-5-01.tif\n"
     ]
    },
    {
     "data": {
      "application/vnd.jupyter.widget-view+json": {
       "model_id": "46c8fef85dd84e498abba3869d240198",
       "version_major": 2,
       "version_minor": 0
      },
      "text/plain": [
       "  0%|          | 0/342400 [00:00<?, ?it/s]"
      ]
     },
     "metadata": {},
     "output_type": "display_data"
    },
    {
     "name": "stdout",
     "output_type": "stream",
     "text": [
      "Data dimensions: (90, 2)\n",
      "Generating URL ...\n",
      "Downloading data from https://earthengine.googleapis.com/v1/projects/earthengine-legacy/thumbnails/0255de95ade634550d57c95e445e31bd-dab962dc2048b4e045d0f95e14c2ce89:getPixels\n",
      "Please wait ...\n",
      "Data downloaded to /home/cristobal/Universidad/proyecto2_geoespaciales/proyecto_geoespaciales/temp/aoi2018-6-01.tif\n"
     ]
    },
    {
     "data": {
      "application/vnd.jupyter.widget-view+json": {
       "model_id": "d8e5cde4634143afbabcfa6bcdf5d287",
       "version_major": 2,
       "version_minor": 0
      },
      "text/plain": [
       "  0%|          | 0/342400 [00:00<?, ?it/s]"
      ]
     },
     "metadata": {},
     "output_type": "display_data"
    },
    {
     "name": "stdout",
     "output_type": "stream",
     "text": [
      "Data dimensions: (90, 2)\n",
      "Generating URL ...\n",
      "Downloading data from https://earthengine.googleapis.com/v1/projects/earthengine-legacy/thumbnails/b34185f03dfd2a5e752d455b0db106bf-863a9b7cca41fb99f97d058ca199bb26:getPixels\n",
      "Please wait ...\n",
      "Data downloaded to /home/cristobal/Universidad/proyecto2_geoespaciales/proyecto_geoespaciales/temp/aoi2018-7-01.tif\n"
     ]
    },
    {
     "data": {
      "application/vnd.jupyter.widget-view+json": {
       "model_id": "1766f0c88b224f15ad76e4ec9cb2bdc2",
       "version_major": 2,
       "version_minor": 0
      },
      "text/plain": [
       "  0%|          | 0/342400 [00:00<?, ?it/s]"
      ]
     },
     "metadata": {},
     "output_type": "display_data"
    },
    {
     "name": "stdout",
     "output_type": "stream",
     "text": [
      "Data dimensions: (90, 2)\n",
      "Generating URL ...\n",
      "Downloading data from https://earthengine.googleapis.com/v1/projects/earthengine-legacy/thumbnails/b22dc24cd929f9a463516e8808640a2c-779e620500f689e2cd47e901b20e2652:getPixels\n",
      "Please wait ...\n",
      "Data downloaded to /home/cristobal/Universidad/proyecto2_geoespaciales/proyecto_geoespaciales/temp/aoi2018-8-01.tif\n"
     ]
    },
    {
     "data": {
      "application/vnd.jupyter.widget-view+json": {
       "model_id": "741a9485546b40e0814b227d4575028a",
       "version_major": 2,
       "version_minor": 0
      },
      "text/plain": [
       "  0%|          | 0/342400 [00:00<?, ?it/s]"
      ]
     },
     "metadata": {},
     "output_type": "display_data"
    },
    {
     "name": "stdout",
     "output_type": "stream",
     "text": [
      "Data dimensions: (90, 2)\n",
      "Generating URL ...\n",
      "Downloading data from https://earthengine.googleapis.com/v1/projects/earthengine-legacy/thumbnails/98121e5a6667143b6dfff4767680e5c5-ba51585b4c73836cb277e584a0fe7b14:getPixels\n",
      "Please wait ...\n",
      "Data downloaded to /home/cristobal/Universidad/proyecto2_geoespaciales/proyecto_geoespaciales/temp/aoi2018-9-01.tif\n"
     ]
    },
    {
     "data": {
      "application/vnd.jupyter.widget-view+json": {
       "model_id": "deffbb984f3c4391beda213247446c4e",
       "version_major": 2,
       "version_minor": 0
      },
      "text/plain": [
       "  0%|          | 0/342400 [00:00<?, ?it/s]"
      ]
     },
     "metadata": {},
     "output_type": "display_data"
    },
    {
     "name": "stdout",
     "output_type": "stream",
     "text": [
      "Data dimensions: (90, 2)\n",
      "Generating URL ...\n",
      "Downloading data from https://earthengine.googleapis.com/v1/projects/earthengine-legacy/thumbnails/671a49cbdf960a10591766ad9ac70d05-89f63a3c2bdf304091c6d06089bc3b37:getPixels\n",
      "Please wait ...\n",
      "Data downloaded to /home/cristobal/Universidad/proyecto2_geoespaciales/proyecto_geoespaciales/temp/aoi2018-10-01.tif\n"
     ]
    },
    {
     "data": {
      "application/vnd.jupyter.widget-view+json": {
       "model_id": "d9ff0b1db044491da4a62944aa262204",
       "version_major": 2,
       "version_minor": 0
      },
      "text/plain": [
       "  0%|          | 0/342400 [00:00<?, ?it/s]"
      ]
     },
     "metadata": {},
     "output_type": "display_data"
    },
    {
     "name": "stdout",
     "output_type": "stream",
     "text": [
      "Data dimensions: (90, 2)\n",
      "Generating URL ...\n",
      "Downloading data from https://earthengine.googleapis.com/v1/projects/earthengine-legacy/thumbnails/77c751a81eeb2d8de79d5b51f6223fff-c1fb254d1fb18088de538eb92cd1a2be:getPixels\n",
      "Please wait ...\n",
      "Data downloaded to /home/cristobal/Universidad/proyecto2_geoespaciales/proyecto_geoespaciales/temp/aoi2018-11-01.tif\n"
     ]
    },
    {
     "data": {
      "application/vnd.jupyter.widget-view+json": {
       "model_id": "55710b5f47fd477e9f9966a082efa24c",
       "version_major": 2,
       "version_minor": 0
      },
      "text/plain": [
       "  0%|          | 0/342400 [00:00<?, ?it/s]"
      ]
     },
     "metadata": {},
     "output_type": "display_data"
    },
    {
     "name": "stdout",
     "output_type": "stream",
     "text": [
      "Data dimensions: (90, 2)\n",
      "Generating URL ...\n",
      "Downloading data from https://earthengine.googleapis.com/v1/projects/earthengine-legacy/thumbnails/db65821ce89e0ede35134f4565082deb-f79853eacaceeec6e0db934cc181720c:getPixels\n",
      "Please wait ...\n",
      "Data downloaded to /home/cristobal/Universidad/proyecto2_geoespaciales/proyecto_geoespaciales/temp/aoi2018-12-01.tif\n"
     ]
    },
    {
     "data": {
      "application/vnd.jupyter.widget-view+json": {
       "model_id": "f7205125fb4c46c48eac216afe5e119d",
       "version_major": 2,
       "version_minor": 0
      },
      "text/plain": [
       "  0%|          | 0/342400 [00:00<?, ?it/s]"
      ]
     },
     "metadata": {},
     "output_type": "display_data"
    },
    {
     "name": "stdout",
     "output_type": "stream",
     "text": [
      "Data dimensions: (90, 2)\n",
      "Generating URL ...\n",
      "Downloading data from https://earthengine.googleapis.com/v1/projects/earthengine-legacy/thumbnails/123f8d0331dcfacc006c83fc7c04151a-4799747730d0e0ed2493cd7c9a441c7b:getPixels\n",
      "Please wait ...\n",
      "Data downloaded to /home/cristobal/Universidad/proyecto2_geoespaciales/proyecto_geoespaciales/temp/aoi2019-1-01.tif\n"
     ]
    },
    {
     "data": {
      "application/vnd.jupyter.widget-view+json": {
       "model_id": "5bdbef60a4ad4452a1764dca0ecc23de",
       "version_major": 2,
       "version_minor": 0
      },
      "text/plain": [
       "  0%|          | 0/342400 [00:00<?, ?it/s]"
      ]
     },
     "metadata": {},
     "output_type": "display_data"
    },
    {
     "name": "stdout",
     "output_type": "stream",
     "text": [
      "Data dimensions: (90, 2)\n",
      "Generating URL ...\n",
      "Downloading data from https://earthengine.googleapis.com/v1/projects/earthengine-legacy/thumbnails/d5cd8b7a33bbd25516dfb65cbec5fe2e-5a934e6872486fc2b78a6151fcf01c72:getPixels\n",
      "Please wait ...\n",
      "Data downloaded to /home/cristobal/Universidad/proyecto2_geoespaciales/proyecto_geoespaciales/temp/aoi2019-2-01.tif\n"
     ]
    },
    {
     "data": {
      "application/vnd.jupyter.widget-view+json": {
       "model_id": "27f3cf6ffd69421988656a0442dfbe1e",
       "version_major": 2,
       "version_minor": 0
      },
      "text/plain": [
       "  0%|          | 0/342400 [00:00<?, ?it/s]"
      ]
     },
     "metadata": {},
     "output_type": "display_data"
    },
    {
     "name": "stdout",
     "output_type": "stream",
     "text": [
      "Data dimensions: (90, 2)\n",
      "Generating URL ...\n",
      "Downloading data from https://earthengine.googleapis.com/v1/projects/earthengine-legacy/thumbnails/009d41b61bd8359efd7515e8e498e5b6-ba50a5e4c125ac1e28bda69c093ef606:getPixels\n",
      "Please wait ...\n",
      "Data downloaded to /home/cristobal/Universidad/proyecto2_geoespaciales/proyecto_geoespaciales/temp/aoi2019-3-01.tif\n"
     ]
    },
    {
     "data": {
      "application/vnd.jupyter.widget-view+json": {
       "model_id": "079dce4113d94ba1ba01c88384535f0a",
       "version_major": 2,
       "version_minor": 0
      },
      "text/plain": [
       "  0%|          | 0/342400 [00:00<?, ?it/s]"
      ]
     },
     "metadata": {},
     "output_type": "display_data"
    },
    {
     "name": "stdout",
     "output_type": "stream",
     "text": [
      "Data dimensions: (90, 2)\n",
      "Generating URL ...\n",
      "Downloading data from https://earthengine.googleapis.com/v1/projects/earthengine-legacy/thumbnails/015c833206b7357045cc289efaea6438-650e1e58e9850efaf05690b1696516e0:getPixels\n",
      "Please wait ...\n",
      "Data downloaded to /home/cristobal/Universidad/proyecto2_geoespaciales/proyecto_geoespaciales/temp/aoi2019-5-01.tif\n"
     ]
    },
    {
     "data": {
      "application/vnd.jupyter.widget-view+json": {
       "model_id": "85b47a50a5ad4dc19bbc67f42670382d",
       "version_major": 2,
       "version_minor": 0
      },
      "text/plain": [
       "  0%|          | 0/342400 [00:00<?, ?it/s]"
      ]
     },
     "metadata": {},
     "output_type": "display_data"
    },
    {
     "name": "stdout",
     "output_type": "stream",
     "text": [
      "Data dimensions: (90, 2)\n",
      "Generating URL ...\n",
      "Downloading data from https://earthengine.googleapis.com/v1/projects/earthengine-legacy/thumbnails/d19a6c10ec2a715097992c44683afd10-f679d1f91d098b202eb8c0158623b78d:getPixels\n",
      "Please wait ...\n",
      "Data downloaded to /home/cristobal/Universidad/proyecto2_geoespaciales/proyecto_geoespaciales/temp/aoi2019-6-01.tif\n"
     ]
    },
    {
     "data": {
      "application/vnd.jupyter.widget-view+json": {
       "model_id": "290c95323ad74b74b8f818d8bf4a031a",
       "version_major": 2,
       "version_minor": 0
      },
      "text/plain": [
       "  0%|          | 0/342400 [00:00<?, ?it/s]"
      ]
     },
     "metadata": {},
     "output_type": "display_data"
    },
    {
     "name": "stdout",
     "output_type": "stream",
     "text": [
      "Data dimensions: (90, 2)\n",
      "Generating URL ...\n",
      "Downloading data from https://earthengine.googleapis.com/v1/projects/earthengine-legacy/thumbnails/016bde5687dda825d3c0d75652c7c4d8-7ba1905644a112f70b671708e0f764e6:getPixels\n",
      "Please wait ...\n",
      "Data downloaded to /home/cristobal/Universidad/proyecto2_geoespaciales/proyecto_geoespaciales/temp/aoi2019-8-01.tif\n"
     ]
    },
    {
     "data": {
      "application/vnd.jupyter.widget-view+json": {
       "model_id": "26494d9848e345358f66a05698e8adc1",
       "version_major": 2,
       "version_minor": 0
      },
      "text/plain": [
       "  0%|          | 0/342400 [00:00<?, ?it/s]"
      ]
     },
     "metadata": {},
     "output_type": "display_data"
    },
    {
     "name": "stdout",
     "output_type": "stream",
     "text": [
      "Data dimensions: (90, 2)\n",
      "Generating URL ...\n",
      "Downloading data from https://earthengine.googleapis.com/v1/projects/earthengine-legacy/thumbnails/5f2ec0dd3cad3ca3af65fec1a2f681e5-fad7962c4e4fa31123fb064e97fcfa06:getPixels\n",
      "Please wait ...\n",
      "Data downloaded to /home/cristobal/Universidad/proyecto2_geoespaciales/proyecto_geoespaciales/temp/aoi2019-9-01.tif\n"
     ]
    },
    {
     "data": {
      "application/vnd.jupyter.widget-view+json": {
       "model_id": "110f43fefdd94895bd0d515e5afc3a23",
       "version_major": 2,
       "version_minor": 0
      },
      "text/plain": [
       "  0%|          | 0/342400 [00:00<?, ?it/s]"
      ]
     },
     "metadata": {},
     "output_type": "display_data"
    },
    {
     "name": "stdout",
     "output_type": "stream",
     "text": [
      "Data dimensions: (90, 2)\n",
      "Generating URL ...\n",
      "Downloading data from https://earthengine.googleapis.com/v1/projects/earthengine-legacy/thumbnails/c5d2ff24a7b7f7067ae1de37d07b2f54-f4fc74f78ceffb32c36481cd6e81259d:getPixels\n",
      "Please wait ...\n",
      "Data downloaded to /home/cristobal/Universidad/proyecto2_geoespaciales/proyecto_geoespaciales/temp/aoi2019-10-01.tif\n"
     ]
    },
    {
     "data": {
      "application/vnd.jupyter.widget-view+json": {
       "model_id": "2dff4104586b4553a568aa467a7aaf50",
       "version_major": 2,
       "version_minor": 0
      },
      "text/plain": [
       "  0%|          | 0/342400 [00:00<?, ?it/s]"
      ]
     },
     "metadata": {},
     "output_type": "display_data"
    },
    {
     "name": "stdout",
     "output_type": "stream",
     "text": [
      "Data dimensions: (90, 2)\n",
      "Generating URL ...\n",
      "Downloading data from https://earthengine.googleapis.com/v1/projects/earthengine-legacy/thumbnails/888e64bb279f1857bda7d325c94ff144-5987c6ed9d3169e360627e39af095c75:getPixels\n",
      "Please wait ...\n",
      "Data downloaded to /home/cristobal/Universidad/proyecto2_geoespaciales/proyecto_geoespaciales/temp/aoi2019-11-01.tif\n"
     ]
    },
    {
     "data": {
      "application/vnd.jupyter.widget-view+json": {
       "model_id": "343027b1bee94df0b95122060732cd5d",
       "version_major": 2,
       "version_minor": 0
      },
      "text/plain": [
       "  0%|          | 0/342400 [00:00<?, ?it/s]"
      ]
     },
     "metadata": {},
     "output_type": "display_data"
    },
    {
     "name": "stdout",
     "output_type": "stream",
     "text": [
      "Data dimensions: (90, 2)\n",
      "Generating URL ...\n",
      "Downloading data from https://earthengine.googleapis.com/v1/projects/earthengine-legacy/thumbnails/3a8b09495fdb0279c87791607cb516d5-73ea5fe00c281f7a14459ffa03bd6d5e:getPixels\n",
      "Please wait ...\n",
      "Data downloaded to /home/cristobal/Universidad/proyecto2_geoespaciales/proyecto_geoespaciales/temp/aoi2019-12-01.tif\n"
     ]
    },
    {
     "data": {
      "application/vnd.jupyter.widget-view+json": {
       "model_id": "47e5b2dea63545889e26b88e9c858e58",
       "version_major": 2,
       "version_minor": 0
      },
      "text/plain": [
       "  0%|          | 0/342400 [00:00<?, ?it/s]"
      ]
     },
     "metadata": {},
     "output_type": "display_data"
    },
    {
     "name": "stdout",
     "output_type": "stream",
     "text": [
      "Data dimensions: (90, 2)\n",
      "Generating URL ...\n",
      "Downloading data from https://earthengine.googleapis.com/v1/projects/earthengine-legacy/thumbnails/6ecbbe685dee87ccc8403787e2415525-f18b06c5164e8f2ff3470e609e26d501:getPixels\n",
      "Please wait ...\n",
      "Data downloaded to /home/cristobal/Universidad/proyecto2_geoespaciales/proyecto_geoespaciales/temp/aoi2020-1-01.tif\n"
     ]
    },
    {
     "data": {
      "application/vnd.jupyter.widget-view+json": {
       "model_id": "bc7cfa3667fb435d819a8345a0c6b5b4",
       "version_major": 2,
       "version_minor": 0
      },
      "text/plain": [
       "  0%|          | 0/342400 [00:00<?, ?it/s]"
      ]
     },
     "metadata": {},
     "output_type": "display_data"
    },
    {
     "name": "stdout",
     "output_type": "stream",
     "text": [
      "Data dimensions: (90, 2)\n",
      "Generating URL ...\n",
      "Downloading data from https://earthengine.googleapis.com/v1/projects/earthengine-legacy/thumbnails/290f74a26814f33de9208407c37875cf-cdf769b16491d7987256fb7b19d72ef5:getPixels\n",
      "Please wait ...\n",
      "Data downloaded to /home/cristobal/Universidad/proyecto2_geoespaciales/proyecto_geoespaciales/temp/aoi2020-2-01.tif\n"
     ]
    },
    {
     "data": {
      "application/vnd.jupyter.widget-view+json": {
       "model_id": "3176194f65de44ab9bf14264226a7349",
       "version_major": 2,
       "version_minor": 0
      },
      "text/plain": [
       "  0%|          | 0/342400 [00:00<?, ?it/s]"
      ]
     },
     "metadata": {},
     "output_type": "display_data"
    },
    {
     "name": "stdout",
     "output_type": "stream",
     "text": [
      "Data dimensions: (90, 2)\n",
      "Generating URL ...\n",
      "Downloading data from https://earthengine.googleapis.com/v1/projects/earthengine-legacy/thumbnails/eef3efe4ba0fcc34be204f14f7930179-06d5b75d985e9512c958391ea64806df:getPixels\n",
      "Please wait ...\n",
      "Data downloaded to /home/cristobal/Universidad/proyecto2_geoespaciales/proyecto_geoespaciales/temp/aoi2020-3-01.tif\n"
     ]
    },
    {
     "data": {
      "application/vnd.jupyter.widget-view+json": {
       "model_id": "7db50390481340fe9f304082777ccffd",
       "version_major": 2,
       "version_minor": 0
      },
      "text/plain": [
       "  0%|          | 0/342400 [00:00<?, ?it/s]"
      ]
     },
     "metadata": {},
     "output_type": "display_data"
    },
    {
     "name": "stdout",
     "output_type": "stream",
     "text": [
      "Data dimensions: (90, 2)\n",
      "Generating URL ...\n",
      "Downloading data from https://earthengine.googleapis.com/v1/projects/earthengine-legacy/thumbnails/701f0bd798439bc2c5afd831d1aca1d9-5d705f533ce4a102725f900d035b7306:getPixels\n",
      "Please wait ...\n",
      "Data downloaded to /home/cristobal/Universidad/proyecto2_geoespaciales/proyecto_geoespaciales/temp/aoi2020-4-01.tif\n"
     ]
    },
    {
     "data": {
      "application/vnd.jupyter.widget-view+json": {
       "model_id": "9e984c4f00364b699006db48cfb3c435",
       "version_major": 2,
       "version_minor": 0
      },
      "text/plain": [
       "  0%|          | 0/342400 [00:00<?, ?it/s]"
      ]
     },
     "metadata": {},
     "output_type": "display_data"
    },
    {
     "name": "stdout",
     "output_type": "stream",
     "text": [
      "Data dimensions: (90, 2)\n",
      "Generating URL ...\n",
      "Downloading data from https://earthengine.googleapis.com/v1/projects/earthengine-legacy/thumbnails/ae6d0fc0448734bbdaea0b0aa18d8924-fd59dcbed943266ee4a48e8d7282b281:getPixels\n",
      "Please wait ...\n",
      "Data downloaded to /home/cristobal/Universidad/proyecto2_geoespaciales/proyecto_geoespaciales/temp/aoi2020-5-01.tif\n"
     ]
    },
    {
     "data": {
      "application/vnd.jupyter.widget-view+json": {
       "model_id": "5be25ab26c344b13be246e1e18d31efb",
       "version_major": 2,
       "version_minor": 0
      },
      "text/plain": [
       "  0%|          | 0/342400 [00:00<?, ?it/s]"
      ]
     },
     "metadata": {},
     "output_type": "display_data"
    },
    {
     "name": "stdout",
     "output_type": "stream",
     "text": [
      "Data dimensions: (90, 2)\n",
      "Generating URL ...\n",
      "Downloading data from https://earthengine.googleapis.com/v1/projects/earthengine-legacy/thumbnails/ce6b29c09713890811df9a921e8b280c-12f6aba9e5a8625966248afb534d026a:getPixels\n",
      "Please wait ...\n",
      "Data downloaded to /home/cristobal/Universidad/proyecto2_geoespaciales/proyecto_geoespaciales/temp/aoi2020-7-01.tif\n"
     ]
    },
    {
     "data": {
      "application/vnd.jupyter.widget-view+json": {
       "model_id": "4432670ac620496c8b925a1cbf5088e5",
       "version_major": 2,
       "version_minor": 0
      },
      "text/plain": [
       "  0%|          | 0/342400 [00:00<?, ?it/s]"
      ]
     },
     "metadata": {},
     "output_type": "display_data"
    },
    {
     "name": "stdout",
     "output_type": "stream",
     "text": [
      "Data dimensions: (90, 2)\n",
      "Generating URL ...\n",
      "Downloading data from https://earthengine.googleapis.com/v1/projects/earthengine-legacy/thumbnails/e09e772976ec95ce4788bf92403024de-d1cb67e39e787ca8af9766a71f3877b2:getPixels\n",
      "Please wait ...\n",
      "Data downloaded to /home/cristobal/Universidad/proyecto2_geoespaciales/proyecto_geoespaciales/temp/aoi2020-8-01.tif\n"
     ]
    },
    {
     "data": {
      "application/vnd.jupyter.widget-view+json": {
       "model_id": "9d31068fdada45888e4a16def6947d9a",
       "version_major": 2,
       "version_minor": 0
      },
      "text/plain": [
       "  0%|          | 0/342400 [00:00<?, ?it/s]"
      ]
     },
     "metadata": {},
     "output_type": "display_data"
    },
    {
     "name": "stdout",
     "output_type": "stream",
     "text": [
      "Data dimensions: (90, 2)\n",
      "Generating URL ...\n",
      "Downloading data from https://earthengine.googleapis.com/v1/projects/earthengine-legacy/thumbnails/10dacb951be32c0f298a2958b87f5185-efed70a2aea0caead1985b42ea4d4b0c:getPixels\n",
      "Please wait ...\n",
      "Data downloaded to /home/cristobal/Universidad/proyecto2_geoespaciales/proyecto_geoespaciales/temp/aoi2020-9-01.tif\n"
     ]
    },
    {
     "data": {
      "application/vnd.jupyter.widget-view+json": {
       "model_id": "d4c90cbecb554e90a2718c47a96e394c",
       "version_major": 2,
       "version_minor": 0
      },
      "text/plain": [
       "  0%|          | 0/342400 [00:00<?, ?it/s]"
      ]
     },
     "metadata": {},
     "output_type": "display_data"
    },
    {
     "name": "stdout",
     "output_type": "stream",
     "text": [
      "Data dimensions: (90, 2)\n",
      "Generating URL ...\n",
      "Downloading data from https://earthengine.googleapis.com/v1/projects/earthengine-legacy/thumbnails/1de042ac75228cd9ad38099630a8d470-a1060e404c0eb39dc5c792f67d06d782:getPixels\n",
      "Please wait ...\n",
      "Data downloaded to /home/cristobal/Universidad/proyecto2_geoespaciales/proyecto_geoespaciales/temp/aoi2020-10-01.tif\n"
     ]
    },
    {
     "data": {
      "application/vnd.jupyter.widget-view+json": {
       "model_id": "538977b6dcea4a43ab8f6c003770de45",
       "version_major": 2,
       "version_minor": 0
      },
      "text/plain": [
       "  0%|          | 0/342400 [00:00<?, ?it/s]"
      ]
     },
     "metadata": {},
     "output_type": "display_data"
    },
    {
     "name": "stdout",
     "output_type": "stream",
     "text": [
      "Data dimensions: (90, 2)\n",
      "Generating URL ...\n",
      "Downloading data from https://earthengine.googleapis.com/v1/projects/earthengine-legacy/thumbnails/0de3756133b8f869e981d4a98bf17e56-e4cfdf6b6a47e23805445c2734d59420:getPixels\n",
      "Please wait ...\n",
      "Data downloaded to /home/cristobal/Universidad/proyecto2_geoespaciales/proyecto_geoespaciales/temp/aoi2020-11-01.tif\n"
     ]
    },
    {
     "data": {
      "application/vnd.jupyter.widget-view+json": {
       "model_id": "46bfc5ffb25042a29a4012a515ef1c69",
       "version_major": 2,
       "version_minor": 0
      },
      "text/plain": [
       "  0%|          | 0/342400 [00:00<?, ?it/s]"
      ]
     },
     "metadata": {},
     "output_type": "display_data"
    },
    {
     "name": "stdout",
     "output_type": "stream",
     "text": [
      "Data dimensions: (90, 2)\n",
      "Generating URL ...\n",
      "Downloading data from https://earthengine.googleapis.com/v1/projects/earthengine-legacy/thumbnails/3908184b78ea4f02be2214c058a5fcf7-dd35acff6bc251634abf8b456986c6a9:getPixels\n",
      "Please wait ...\n",
      "Data downloaded to /home/cristobal/Universidad/proyecto2_geoespaciales/proyecto_geoespaciales/temp/aoi2020-12-01.tif\n"
     ]
    },
    {
     "data": {
      "application/vnd.jupyter.widget-view+json": {
       "model_id": "cd0b9e2fc78f42c5a303833acc7de6dd",
       "version_major": 2,
       "version_minor": 0
      },
      "text/plain": [
       "  0%|          | 0/342400 [00:00<?, ?it/s]"
      ]
     },
     "metadata": {},
     "output_type": "display_data"
    },
    {
     "name": "stdout",
     "output_type": "stream",
     "text": [
      "Data dimensions: (90, 2)\n",
      "Generating URL ...\n",
      "Downloading data from https://earthengine.googleapis.com/v1/projects/earthengine-legacy/thumbnails/282d9ac455ae46be9d096ebe853e0da3-ef862936cf87e9be9fe345c5ccebcfba:getPixels\n",
      "Please wait ...\n",
      "Data downloaded to /home/cristobal/Universidad/proyecto2_geoespaciales/proyecto_geoespaciales/temp/aoi2021-1-01.tif\n"
     ]
    },
    {
     "data": {
      "application/vnd.jupyter.widget-view+json": {
       "model_id": "045fe3adc52347738ad866d3900f87ac",
       "version_major": 2,
       "version_minor": 0
      },
      "text/plain": [
       "  0%|          | 0/342400 [00:00<?, ?it/s]"
      ]
     },
     "metadata": {},
     "output_type": "display_data"
    },
    {
     "name": "stdout",
     "output_type": "stream",
     "text": [
      "Data dimensions: (90, 2)\n",
      "Generating URL ...\n",
      "Downloading data from https://earthengine.googleapis.com/v1/projects/earthengine-legacy/thumbnails/809e090dbf888039d72bf71c1a5fe282-584d058086126e611a1b07d726b0dcfa:getPixels\n",
      "Please wait ...\n",
      "Data downloaded to /home/cristobal/Universidad/proyecto2_geoespaciales/proyecto_geoespaciales/temp/aoi2021-3-01.tif\n"
     ]
    },
    {
     "data": {
      "application/vnd.jupyter.widget-view+json": {
       "model_id": "326c40d6d4d54151aa3833aaa95c490e",
       "version_major": 2,
       "version_minor": 0
      },
      "text/plain": [
       "  0%|          | 0/342400 [00:00<?, ?it/s]"
      ]
     },
     "metadata": {},
     "output_type": "display_data"
    },
    {
     "name": "stdout",
     "output_type": "stream",
     "text": [
      "Data dimensions: (90, 2)\n",
      "Generating URL ...\n",
      "Downloading data from https://earthengine.googleapis.com/v1/projects/earthengine-legacy/thumbnails/e1ef0fa8dd15a44d01aa03ba6d33dfcc-4eee636c7fddce3d5bb0e57cb20a3032:getPixels\n",
      "Please wait ...\n",
      "Data downloaded to /home/cristobal/Universidad/proyecto2_geoespaciales/proyecto_geoespaciales/temp/aoi2021-6-01.tif\n"
     ]
    },
    {
     "data": {
      "application/vnd.jupyter.widget-view+json": {
       "model_id": "9a482a142f5645cd913ddfa9c10ce5ad",
       "version_major": 2,
       "version_minor": 0
      },
      "text/plain": [
       "  0%|          | 0/342400 [00:00<?, ?it/s]"
      ]
     },
     "metadata": {},
     "output_type": "display_data"
    },
    {
     "name": "stdout",
     "output_type": "stream",
     "text": [
      "Data dimensions: (90, 2)\n",
      "Generating URL ...\n",
      "Downloading data from https://earthengine.googleapis.com/v1/projects/earthengine-legacy/thumbnails/4116ec5c9c16cac8a14ce32fce14db9e-22bda81c41fb3528728bb32892c83e20:getPixels\n",
      "Please wait ...\n",
      "Data downloaded to /home/cristobal/Universidad/proyecto2_geoespaciales/proyecto_geoespaciales/temp/aoi2021-7-01.tif\n"
     ]
    },
    {
     "data": {
      "application/vnd.jupyter.widget-view+json": {
       "model_id": "8ae54bd557d4476d9f4384abfa00bd62",
       "version_major": 2,
       "version_minor": 0
      },
      "text/plain": [
       "  0%|          | 0/342400 [00:00<?, ?it/s]"
      ]
     },
     "metadata": {},
     "output_type": "display_data"
    },
    {
     "name": "stdout",
     "output_type": "stream",
     "text": [
      "Data dimensions: (90, 2)\n",
      "Generating URL ...\n",
      "Downloading data from https://earthengine.googleapis.com/v1/projects/earthengine-legacy/thumbnails/38aff14c8286c4390506b118c0131a67-c86af9775f85b4c4a63ad1fd8834dd47:getPixels\n",
      "Please wait ...\n",
      "Data downloaded to /home/cristobal/Universidad/proyecto2_geoespaciales/proyecto_geoespaciales/temp/aoi2021-8-01.tif\n"
     ]
    },
    {
     "data": {
      "application/vnd.jupyter.widget-view+json": {
       "model_id": "e9f4a91ad0da4108aecfef18da1111ab",
       "version_major": 2,
       "version_minor": 0
      },
      "text/plain": [
       "  0%|          | 0/342400 [00:00<?, ?it/s]"
      ]
     },
     "metadata": {},
     "output_type": "display_data"
    },
    {
     "name": "stdout",
     "output_type": "stream",
     "text": [
      "Data dimensions: (90, 2)\n",
      "Generating URL ...\n",
      "Downloading data from https://earthengine.googleapis.com/v1/projects/earthengine-legacy/thumbnails/26a84af1ca68365f590929043a14ae6f-d8b1fb59a4e6f2baf52d12fd3ff0b10d:getPixels\n",
      "Please wait ...\n",
      "Data downloaded to /home/cristobal/Universidad/proyecto2_geoespaciales/proyecto_geoespaciales/temp/aoi2021-9-01.tif\n"
     ]
    },
    {
     "data": {
      "application/vnd.jupyter.widget-view+json": {
       "model_id": "0121b2c736aa4959878a01f3e78ca318",
       "version_major": 2,
       "version_minor": 0
      },
      "text/plain": [
       "  0%|          | 0/342400 [00:00<?, ?it/s]"
      ]
     },
     "metadata": {},
     "output_type": "display_data"
    },
    {
     "name": "stdout",
     "output_type": "stream",
     "text": [
      "Data dimensions: (90, 2)\n",
      "Generating URL ...\n",
      "Downloading data from https://earthengine.googleapis.com/v1/projects/earthengine-legacy/thumbnails/22b79ed675b91186b79d2f8d8054a0d6-eb85545e681ec3ad75a7f73c78f0264f:getPixels\n",
      "Please wait ...\n",
      "Data downloaded to /home/cristobal/Universidad/proyecto2_geoespaciales/proyecto_geoespaciales/temp/aoi2021-10-01.tif\n"
     ]
    },
    {
     "data": {
      "application/vnd.jupyter.widget-view+json": {
       "model_id": "08d8297355af418c86d74ed355056169",
       "version_major": 2,
       "version_minor": 0
      },
      "text/plain": [
       "  0%|          | 0/342400 [00:00<?, ?it/s]"
      ]
     },
     "metadata": {},
     "output_type": "display_data"
    },
    {
     "name": "stdout",
     "output_type": "stream",
     "text": [
      "Data dimensions: (90, 2)\n",
      "Generating URL ...\n",
      "Downloading data from https://earthengine.googleapis.com/v1/projects/earthengine-legacy/thumbnails/789c8282fb5a1175a29dd493a01b138d-c5fffa95945cad5610fc4ba1cc3731ad:getPixels\n",
      "Please wait ...\n",
      "Data downloaded to /home/cristobal/Universidad/proyecto2_geoespaciales/proyecto_geoespaciales/temp/aoi2021-11-01.tif\n"
     ]
    },
    {
     "data": {
      "application/vnd.jupyter.widget-view+json": {
       "model_id": "44b0fc505a434143b538147f17dfee2a",
       "version_major": 2,
       "version_minor": 0
      },
      "text/plain": [
       "  0%|          | 0/342400 [00:00<?, ?it/s]"
      ]
     },
     "metadata": {},
     "output_type": "display_data"
    },
    {
     "name": "stdout",
     "output_type": "stream",
     "text": [
      "Data dimensions: (90, 2)\n",
      "Generating URL ...\n",
      "Downloading data from https://earthengine.googleapis.com/v1/projects/earthengine-legacy/thumbnails/a70c67bc182a1589e781ba9c7d031edc-dd9d9df6a2d54b45e700bcc03c59e8aa:getPixels\n",
      "Please wait ...\n",
      "Data downloaded to /home/cristobal/Universidad/proyecto2_geoespaciales/proyecto_geoespaciales/temp/aoi2021-12-01.tif\n"
     ]
    },
    {
     "data": {
      "application/vnd.jupyter.widget-view+json": {
       "model_id": "44b3a0ea9efb4db29617f1c9258c56f6",
       "version_major": 2,
       "version_minor": 0
      },
      "text/plain": [
       "  0%|          | 0/342400 [00:00<?, ?it/s]"
      ]
     },
     "metadata": {},
     "output_type": "display_data"
    },
    {
     "name": "stdout",
     "output_type": "stream",
     "text": [
      "Data dimensions: (90, 2)\n",
      "Generating URL ...\n",
      "Downloading data from https://earthengine.googleapis.com/v1/projects/earthengine-legacy/thumbnails/fa3f038f7b318199d75fcaef0ce9dccd-b83e95d38ec5d88a214ada6d7fbc6abd:getPixels\n",
      "Please wait ...\n",
      "Data downloaded to /home/cristobal/Universidad/proyecto2_geoespaciales/proyecto_geoespaciales/temp/aoi2022-1-01.tif\n"
     ]
    },
    {
     "data": {
      "application/vnd.jupyter.widget-view+json": {
       "model_id": "0628598a5336494a934479eb0dc5805f",
       "version_major": 2,
       "version_minor": 0
      },
      "text/plain": [
       "  0%|          | 0/342400 [00:00<?, ?it/s]"
      ]
     },
     "metadata": {},
     "output_type": "display_data"
    },
    {
     "name": "stdout",
     "output_type": "stream",
     "text": [
      "Data dimensions: (90, 2)\n",
      "Generating URL ...\n",
      "Downloading data from https://earthengine.googleapis.com/v1/projects/earthengine-legacy/thumbnails/639dc288e2cc4cf201faaa32bd23966a-2cdb6f06724c3786c095d95fff38fc0f:getPixels\n",
      "Please wait ...\n",
      "Data downloaded to /home/cristobal/Universidad/proyecto2_geoespaciales/proyecto_geoespaciales/temp/aoi2022-2-01.tif\n"
     ]
    },
    {
     "data": {
      "application/vnd.jupyter.widget-view+json": {
       "model_id": "2e0126117fd34aeeaf035b4f7ea05b6b",
       "version_major": 2,
       "version_minor": 0
      },
      "text/plain": [
       "  0%|          | 0/342400 [00:00<?, ?it/s]"
      ]
     },
     "metadata": {},
     "output_type": "display_data"
    },
    {
     "name": "stdout",
     "output_type": "stream",
     "text": [
      "Data dimensions: (90, 2)\n",
      "Generating URL ...\n",
      "Downloading data from https://earthengine.googleapis.com/v1/projects/earthengine-legacy/thumbnails/3fa3890b611de719cf524c08ae1ac197-ebe61bc0e7f76c45fd59115ad706817e:getPixels\n",
      "Please wait ...\n",
      "Data downloaded to /home/cristobal/Universidad/proyecto2_geoespaciales/proyecto_geoespaciales/temp/aoi2022-3-01.tif\n"
     ]
    },
    {
     "data": {
      "application/vnd.jupyter.widget-view+json": {
       "model_id": "89220a6af5744a7b8065361ff63533ee",
       "version_major": 2,
       "version_minor": 0
      },
      "text/plain": [
       "  0%|          | 0/342400 [00:00<?, ?it/s]"
      ]
     },
     "metadata": {},
     "output_type": "display_data"
    },
    {
     "name": "stdout",
     "output_type": "stream",
     "text": [
      "Data dimensions: (90, 2)\n",
      "Generating URL ...\n",
      "Downloading data from https://earthengine.googleapis.com/v1/projects/earthengine-legacy/thumbnails/8b1901038138c472be9d6b8609536268-c0396a3976fb3e9b5d56f1ed519b31eb:getPixels\n",
      "Please wait ...\n",
      "Data downloaded to /home/cristobal/Universidad/proyecto2_geoespaciales/proyecto_geoespaciales/temp/aoi2022-4-01.tif\n"
     ]
    },
    {
     "data": {
      "application/vnd.jupyter.widget-view+json": {
       "model_id": "81b9d1aaf3904908ac4552d82addf752",
       "version_major": 2,
       "version_minor": 0
      },
      "text/plain": [
       "  0%|          | 0/342400 [00:00<?, ?it/s]"
      ]
     },
     "metadata": {},
     "output_type": "display_data"
    },
    {
     "name": "stdout",
     "output_type": "stream",
     "text": [
      "Data dimensions: (90, 2)\n",
      "Generating URL ...\n",
      "Downloading data from https://earthengine.googleapis.com/v1/projects/earthengine-legacy/thumbnails/2522a4ed0d3558325c46cf0f5fbbd7f6-b1c165cb945f1cdce56edd30c554f686:getPixels\n",
      "Please wait ...\n",
      "Data downloaded to /home/cristobal/Universidad/proyecto2_geoespaciales/proyecto_geoespaciales/temp/aoi2022-6-01.tif\n"
     ]
    },
    {
     "data": {
      "application/vnd.jupyter.widget-view+json": {
       "model_id": "3200f31b283048d99614eff90f4945ce",
       "version_major": 2,
       "version_minor": 0
      },
      "text/plain": [
       "  0%|          | 0/342400 [00:00<?, ?it/s]"
      ]
     },
     "metadata": {},
     "output_type": "display_data"
    },
    {
     "name": "stdout",
     "output_type": "stream",
     "text": [
      "Data dimensions: (90, 2)\n",
      "Generating URL ...\n",
      "Downloading data from https://earthengine.googleapis.com/v1/projects/earthengine-legacy/thumbnails/8ce9bd555b3ea033a9fc4aefd074400a-c2e6192d9dd6f4efc6488d6088c49673:getPixels\n",
      "Please wait ...\n",
      "Data downloaded to /home/cristobal/Universidad/proyecto2_geoespaciales/proyecto_geoespaciales/temp/aoi2022-7-01.tif\n"
     ]
    },
    {
     "data": {
      "application/vnd.jupyter.widget-view+json": {
       "model_id": "a14fc056cfbf44b69410c2f92f5d9a3e",
       "version_major": 2,
       "version_minor": 0
      },
      "text/plain": [
       "  0%|          | 0/342400 [00:00<?, ?it/s]"
      ]
     },
     "metadata": {},
     "output_type": "display_data"
    },
    {
     "name": "stdout",
     "output_type": "stream",
     "text": [
      "Data dimensions: (90, 2)\n",
      "Generating URL ...\n",
      "Downloading data from https://earthengine.googleapis.com/v1/projects/earthengine-legacy/thumbnails/4356c40242b236db29931f1a4e96015d-0acf7ccb3f4090bf288f00271b37c8d8:getPixels\n",
      "Please wait ...\n",
      "Data downloaded to /home/cristobal/Universidad/proyecto2_geoespaciales/proyecto_geoespaciales/temp/aoi2022-8-01.tif\n"
     ]
    },
    {
     "data": {
      "application/vnd.jupyter.widget-view+json": {
       "model_id": "2f54ad077a544f3495c7f4e1917a57ae",
       "version_major": 2,
       "version_minor": 0
      },
      "text/plain": [
       "  0%|          | 0/342400 [00:00<?, ?it/s]"
      ]
     },
     "metadata": {},
     "output_type": "display_data"
    },
    {
     "name": "stdout",
     "output_type": "stream",
     "text": [
      "Data dimensions: (90, 2)\n",
      "Generating URL ...\n",
      "Downloading data from https://earthengine.googleapis.com/v1/projects/earthengine-legacy/thumbnails/3add932148a0c065dfedf3219147f3bd-034745a5548643ea03aca08c4ee36673:getPixels\n",
      "Please wait ...\n",
      "Data downloaded to /home/cristobal/Universidad/proyecto2_geoespaciales/proyecto_geoespaciales/temp/aoi2022-9-01.tif\n"
     ]
    },
    {
     "data": {
      "application/vnd.jupyter.widget-view+json": {
       "model_id": "cc819218f4c7468290904172c0132440",
       "version_major": 2,
       "version_minor": 0
      },
      "text/plain": [
       "  0%|          | 0/342400 [00:00<?, ?it/s]"
      ]
     },
     "metadata": {},
     "output_type": "display_data"
    },
    {
     "name": "stdout",
     "output_type": "stream",
     "text": [
      "Data dimensions: (90, 2)\n",
      "Generating URL ...\n",
      "Downloading data from https://earthengine.googleapis.com/v1/projects/earthengine-legacy/thumbnails/fcba16c528e207a7683179afced99984-110bfdf9a59a0494fea8242fa577456f:getPixels\n",
      "Please wait ...\n",
      "Data downloaded to /home/cristobal/Universidad/proyecto2_geoespaciales/proyecto_geoespaciales/temp/aoi2022-10-01.tif\n"
     ]
    },
    {
     "data": {
      "application/vnd.jupyter.widget-view+json": {
       "model_id": "7252ce220de84418ae81782bebe38425",
       "version_major": 2,
       "version_minor": 0
      },
      "text/plain": [
       "  0%|          | 0/342400 [00:00<?, ?it/s]"
      ]
     },
     "metadata": {},
     "output_type": "display_data"
    },
    {
     "name": "stdout",
     "output_type": "stream",
     "text": [
      "Data dimensions: (90, 2)\n",
      "Generating URL ...\n",
      "Downloading data from https://earthengine.googleapis.com/v1/projects/earthengine-legacy/thumbnails/f24c765649b1f0fc175acbe1967ab6e5-ac1162f5c7659aa7d8766a821388cc9c:getPixels\n",
      "Please wait ...\n",
      "Data downloaded to /home/cristobal/Universidad/proyecto2_geoespaciales/proyecto_geoespaciales/temp/aoi2022-11-01.tif\n"
     ]
    },
    {
     "data": {
      "application/vnd.jupyter.widget-view+json": {
       "model_id": "c2138637d8db4116830559a33f2e5824",
       "version_major": 2,
       "version_minor": 0
      },
      "text/plain": [
       "  0%|          | 0/342400 [00:00<?, ?it/s]"
      ]
     },
     "metadata": {},
     "output_type": "display_data"
    },
    {
     "name": "stdout",
     "output_type": "stream",
     "text": [
      "Data dimensions: (90, 2)\n",
      "Generating URL ...\n",
      "Downloading data from https://earthengine.googleapis.com/v1/projects/earthengine-legacy/thumbnails/5516e6305c7b893cca93f3fc5d5a47a1-9e174783ac61bf9b61521a041d848f38:getPixels\n",
      "Please wait ...\n",
      "Data downloaded to /home/cristobal/Universidad/proyecto2_geoespaciales/proyecto_geoespaciales/temp/aoi2022-12-01.tif\n"
     ]
    },
    {
     "data": {
      "application/vnd.jupyter.widget-view+json": {
       "model_id": "d5526d22855e42f688e78d6d38d7c309",
       "version_major": 2,
       "version_minor": 0
      },
      "text/plain": [
       "  0%|          | 0/342400 [00:00<?, ?it/s]"
      ]
     },
     "metadata": {},
     "output_type": "display_data"
    },
    {
     "name": "stdout",
     "output_type": "stream",
     "text": [
      "Data dimensions: (90, 2)\n",
      "Generating URL ...\n",
      "Downloading data from https://earthengine.googleapis.com/v1/projects/earthengine-legacy/thumbnails/7bf46f42661a4d0594ec9d9208cd991d-8fadf7f5ea9fbdfaa8df63d0842bbbce:getPixels\n",
      "Please wait ...\n",
      "Data downloaded to /home/cristobal/Universidad/proyecto2_geoespaciales/proyecto_geoespaciales/temp/aoi2023-1-01.tif\n"
     ]
    },
    {
     "data": {
      "application/vnd.jupyter.widget-view+json": {
       "model_id": "db727b1fd0bd4471a0719d456115ace4",
       "version_major": 2,
       "version_minor": 0
      },
      "text/plain": [
       "  0%|          | 0/342400 [00:00<?, ?it/s]"
      ]
     },
     "metadata": {},
     "output_type": "display_data"
    },
    {
     "name": "stdout",
     "output_type": "stream",
     "text": [
      "Data dimensions: (90, 2)\n",
      "Generating URL ...\n",
      "Downloading data from https://earthengine.googleapis.com/v1/projects/earthengine-legacy/thumbnails/9f6eae37e3365fca1e95f67a6ec57538-b999c2ead266cb3b03c78a74cc808fd8:getPixels\n",
      "Please wait ...\n",
      "Data downloaded to /home/cristobal/Universidad/proyecto2_geoespaciales/proyecto_geoespaciales/temp/aoi2023-2-01.tif\n"
     ]
    },
    {
     "data": {
      "application/vnd.jupyter.widget-view+json": {
       "model_id": "f884120da33e43a689f4576e68e9e478",
       "version_major": 2,
       "version_minor": 0
      },
      "text/plain": [
       "  0%|          | 0/342400 [00:00<?, ?it/s]"
      ]
     },
     "metadata": {},
     "output_type": "display_data"
    },
    {
     "name": "stdout",
     "output_type": "stream",
     "text": [
      "Data dimensions: (90, 2)\n",
      "Generating URL ...\n",
      "Downloading data from https://earthengine.googleapis.com/v1/projects/earthengine-legacy/thumbnails/ff91c0aa10cd35f513ef299f99488eb4-16745e78e22aa21b920529ec7eecf515:getPixels\n",
      "Please wait ...\n",
      "Data downloaded to /home/cristobal/Universidad/proyecto2_geoespaciales/proyecto_geoespaciales/temp/aoi2023-3-01.tif\n"
     ]
    },
    {
     "data": {
      "application/vnd.jupyter.widget-view+json": {
       "model_id": "e70beaff067b4cd8a13f0a96fe2da897",
       "version_major": 2,
       "version_minor": 0
      },
      "text/plain": [
       "  0%|          | 0/342400 [00:00<?, ?it/s]"
      ]
     },
     "metadata": {},
     "output_type": "display_data"
    },
    {
     "name": "stdout",
     "output_type": "stream",
     "text": [
      "Data dimensions: (90, 2)\n",
      "Generating URL ...\n",
      "Downloading data from https://earthengine.googleapis.com/v1/projects/earthengine-legacy/thumbnails/e561d1c5c6c13d3bcfde9350d745aed3-018652794956d57752c3a631766c4e4f:getPixels\n",
      "Please wait ...\n",
      "Data downloaded to /home/cristobal/Universidad/proyecto2_geoespaciales/proyecto_geoespaciales/temp/aoi2023-4-01.tif\n"
     ]
    },
    {
     "data": {
      "application/vnd.jupyter.widget-view+json": {
       "model_id": "c3072343b2594ae0842b5dd83e9ffc76",
       "version_major": 2,
       "version_minor": 0
      },
      "text/plain": [
       "  0%|          | 0/342400 [00:00<?, ?it/s]"
      ]
     },
     "metadata": {},
     "output_type": "display_data"
    },
    {
     "name": "stdout",
     "output_type": "stream",
     "text": [
      "Data dimensions: (90, 2)\n",
      "Generating URL ...\n",
      "Downloading data from https://earthengine.googleapis.com/v1/projects/earthengine-legacy/thumbnails/19e2f8d6ad6a8424b0eb267f3f59dd22-196f22ea76bddb96aae2e1f32fffc08f:getPixels\n",
      "Please wait ...\n",
      "Data downloaded to /home/cristobal/Universidad/proyecto2_geoespaciales/proyecto_geoespaciales/temp/aoi2023-6-01.tif\n"
     ]
    },
    {
     "data": {
      "application/vnd.jupyter.widget-view+json": {
       "model_id": "ec92cbf0993a465a9ede418eebdfdde3",
       "version_major": 2,
       "version_minor": 0
      },
      "text/plain": [
       "  0%|          | 0/342400 [00:00<?, ?it/s]"
      ]
     },
     "metadata": {},
     "output_type": "display_data"
    },
    {
     "name": "stdout",
     "output_type": "stream",
     "text": [
      "Data dimensions: (90, 2)\n",
      "Generating URL ...\n",
      "Downloading data from https://earthengine.googleapis.com/v1/projects/earthengine-legacy/thumbnails/4dff0e4b7af91d5a9e702fbb90684297-6e12c2bc1bafee5a7f273a5d4d72fe68:getPixels\n",
      "Please wait ...\n",
      "Data downloaded to /home/cristobal/Universidad/proyecto2_geoespaciales/proyecto_geoespaciales/temp/aoi2023-7-01.tif\n"
     ]
    },
    {
     "data": {
      "application/vnd.jupyter.widget-view+json": {
       "model_id": "95d1424bd86b4999adc57a3fad864d12",
       "version_major": 2,
       "version_minor": 0
      },
      "text/plain": [
       "  0%|          | 0/342400 [00:00<?, ?it/s]"
      ]
     },
     "metadata": {},
     "output_type": "display_data"
    },
    {
     "name": "stdout",
     "output_type": "stream",
     "text": [
      "Data dimensions: (90, 2)\n",
      "Generating URL ...\n",
      "Downloading data from https://earthengine.googleapis.com/v1/projects/earthengine-legacy/thumbnails/f79b98f52e1f7271f9208527ecfe4e70-8e3a75f07c65e80ba400aa040b0fcd3f:getPixels\n",
      "Please wait ...\n",
      "Data downloaded to /home/cristobal/Universidad/proyecto2_geoespaciales/proyecto_geoespaciales/temp/aoi2023-8-01.tif\n"
     ]
    },
    {
     "data": {
      "application/vnd.jupyter.widget-view+json": {
       "model_id": "44c1748de4d341c0ad88cd0deba10278",
       "version_major": 2,
       "version_minor": 0
      },
      "text/plain": [
       "  0%|          | 0/342400 [00:00<?, ?it/s]"
      ]
     },
     "metadata": {},
     "output_type": "display_data"
    },
    {
     "name": "stdout",
     "output_type": "stream",
     "text": [
      "Data dimensions: (90, 2)\n",
      "Generating URL ...\n",
      "Downloading data from https://earthengine.googleapis.com/v1/projects/earthengine-legacy/thumbnails/16c2a29fe4bd8c4ee6b79c14408131bb-1981915c983bbddc6372405da666980a:getPixels\n",
      "Please wait ...\n",
      "Data downloaded to /home/cristobal/Universidad/proyecto2_geoespaciales/proyecto_geoespaciales/temp/aoi2023-9-01.tif\n"
     ]
    },
    {
     "data": {
      "application/vnd.jupyter.widget-view+json": {
       "model_id": "7eafaeeffbe34d3f8b21d7a95f1e83f4",
       "version_major": 2,
       "version_minor": 0
      },
      "text/plain": [
       "  0%|          | 0/342400 [00:00<?, ?it/s]"
      ]
     },
     "metadata": {},
     "output_type": "display_data"
    },
    {
     "name": "stdout",
     "output_type": "stream",
     "text": [
      "Data dimensions: (90, 2)\n",
      "Generating URL ...\n",
      "Downloading data from https://earthengine.googleapis.com/v1/projects/earthengine-legacy/thumbnails/2e6cd94c2d514d2d8611cca7af6d8769-0286ddf74351dc1c9761d2bde35c32df:getPixels\n",
      "Please wait ...\n",
      "Data downloaded to /home/cristobal/Universidad/proyecto2_geoespaciales/proyecto_geoespaciales/temp/aoi2023-10-01.tif\n"
     ]
    },
    {
     "data": {
      "application/vnd.jupyter.widget-view+json": {
       "model_id": "701b3f414a7f4792966170fa75cb2e1a",
       "version_major": 2,
       "version_minor": 0
      },
      "text/plain": [
       "  0%|          | 0/342400 [00:00<?, ?it/s]"
      ]
     },
     "metadata": {},
     "output_type": "display_data"
    },
    {
     "name": "stdout",
     "output_type": "stream",
     "text": [
      "Data dimensions: (90, 2)\n",
      "Generating URL ...\n",
      "Downloading data from https://earthengine.googleapis.com/v1/projects/earthengine-legacy/thumbnails/f697175dfd41be31d2c73e6c836e0eda-cbea3ae23c5e4d08a665e147aed8d740:getPixels\n",
      "Please wait ...\n",
      "Data downloaded to /home/cristobal/Universidad/proyecto2_geoespaciales/proyecto_geoespaciales/temp/aoi2023-12-01.tif\n"
     ]
    },
    {
     "data": {
      "application/vnd.jupyter.widget-view+json": {
       "model_id": "d27c87658a2c4533b302170c469ce235",
       "version_major": 2,
       "version_minor": 0
      },
      "text/plain": [
       "  0%|          | 0/342400 [00:00<?, ?it/s]"
      ]
     },
     "metadata": {},
     "output_type": "display_data"
    },
    {
     "name": "stdout",
     "output_type": "stream",
     "text": [
      "Data dimensions: (90, 2)\n",
      "Generating URL ...\n",
      "Downloading data from https://earthengine.googleapis.com/v1/projects/earthengine-legacy/thumbnails/c2a6118beab1523a94154bd3eaa8a064-87c1b09f5f5105dc772a423449476300:getPixels\n",
      "Please wait ...\n",
      "Data downloaded to /home/cristobal/Universidad/proyecto2_geoespaciales/proyecto_geoespaciales/temp/aoi2024-1-01.tif\n"
     ]
    },
    {
     "data": {
      "application/vnd.jupyter.widget-view+json": {
       "model_id": "487c70beffc44f708a9b4ba9ab474104",
       "version_major": 2,
       "version_minor": 0
      },
      "text/plain": [
       "  0%|          | 0/342400 [00:00<?, ?it/s]"
      ]
     },
     "metadata": {},
     "output_type": "display_data"
    },
    {
     "name": "stdout",
     "output_type": "stream",
     "text": [
      "Data dimensions: (90, 2)\n",
      "Generating URL ...\n",
      "Downloading data from https://earthengine.googleapis.com/v1/projects/earthengine-legacy/thumbnails/88bb68cf145da5a3969fa8098bf7c5f3-6cce985543c9b989551c998e57028b46:getPixels\n",
      "Please wait ...\n",
      "Data downloaded to /home/cristobal/Universidad/proyecto2_geoespaciales/proyecto_geoespaciales/temp/aoi2024-2-01.tif\n"
     ]
    },
    {
     "data": {
      "application/vnd.jupyter.widget-view+json": {
       "model_id": "c554af5a05b74276b075186073b4a367",
       "version_major": 2,
       "version_minor": 0
      },
      "text/plain": [
       "  0%|          | 0/342400 [00:00<?, ?it/s]"
      ]
     },
     "metadata": {},
     "output_type": "display_data"
    },
    {
     "name": "stdout",
     "output_type": "stream",
     "text": [
      "Data dimensions: (90, 2)\n",
      "Generating URL ...\n",
      "Downloading data from https://earthengine.googleapis.com/v1/projects/earthengine-legacy/thumbnails/125b078197b77e572e9475970a1763d0-1a4fe9df2bf7d0910c64052b34f4ecf6:getPixels\n",
      "Please wait ...\n",
      "Data downloaded to /home/cristobal/Universidad/proyecto2_geoespaciales/proyecto_geoespaciales/temp/aoi2024-3-01.tif\n"
     ]
    },
    {
     "data": {
      "application/vnd.jupyter.widget-view+json": {
       "model_id": "ece6e0bc1b6b4d689cf2350917070d5b",
       "version_major": 2,
       "version_minor": 0
      },
      "text/plain": [
       "  0%|          | 0/342400 [00:00<?, ?it/s]"
      ]
     },
     "metadata": {},
     "output_type": "display_data"
    },
    {
     "name": "stdout",
     "output_type": "stream",
     "text": [
      "Data dimensions: (90, 2)\n",
      "Generating URL ...\n",
      "Downloading data from https://earthengine.googleapis.com/v1/projects/earthengine-legacy/thumbnails/00677f200781c892960e2269e8ebcb21-69197f02c1b5b8fdd1bdd92352148d64:getPixels\n",
      "Please wait ...\n",
      "Data downloaded to /home/cristobal/Universidad/proyecto2_geoespaciales/proyecto_geoespaciales/temp/aoi2024-4-01.tif\n"
     ]
    },
    {
     "data": {
      "application/vnd.jupyter.widget-view+json": {
       "model_id": "99db817e90564ff6aece569dca43e8c9",
       "version_major": 2,
       "version_minor": 0
      },
      "text/plain": [
       "  0%|          | 0/342400 [00:00<?, ?it/s]"
      ]
     },
     "metadata": {},
     "output_type": "display_data"
    },
    {
     "name": "stdout",
     "output_type": "stream",
     "text": [
      "Data dimensions: (90, 2)\n"
     ]
    }
   ],
   "source": [
    "tiled_images = []\n",
    "for image, fecha in zip(imagenes, fechas_con_imagen):\n",
    "    image = image.clip(aoi).unmask() # Toma la imágen de un mes\n",
    "\n",
    "    geemap.ee_export_image(image, filename=f'temp/aoi{fecha}.tif', scale=30, region=aoi, file_per_band=False) # Exporta imagen\n",
    "\n",
    "    tif_file = f'temp/aoi{fecha}.tif' \n",
    "\n",
    "    img = rio.open(tif_file) #Se abre con rasterio\n",
    "    \n",
    "    output_file = 'temp/tiles.geojson'\n",
    "    tiles = generate_tiles(tif_file, output_file, 'LagunaAculeo', size=64) # Se generan las tiles usando la funcion que vimos en un notebook\n",
    "    tiled_images.append(tiles)\n",
    "    print('Data dimensions: {}'.format(tiles.shape))\n",
    "    #show_crop(tif_file, [tiles.iloc[23]['geometry']]) #Muestra un ejemplo"
   ]
  },
  {
   "cell_type": "code",
   "execution_count": 76,
   "id": "be227b60-6b12-4404-9142-e26f9ec706d8",
   "metadata": {},
   "outputs": [
    {
     "data": {
      "text/html": [
       "\n",
       "            <style>\n",
       "                .geemap-dark {\n",
       "                    --jp-widgets-color: white;\n",
       "                    --jp-widgets-label-color: white;\n",
       "                    --jp-ui-font-color1: white;\n",
       "                    --jp-layout-color2: #454545;\n",
       "                    background-color: #383838;\n",
       "                }\n",
       "\n",
       "                .geemap-dark .jupyter-button {\n",
       "                    --jp-layout-color3: #383838;\n",
       "                }\n",
       "\n",
       "                .geemap-colab {\n",
       "                    background-color: var(--colab-primary-surface-color, white);\n",
       "                }\n",
       "\n",
       "                .geemap-colab .jupyter-button {\n",
       "                    --jp-layout-color3: var(--colab-primary-surface-color, white);\n",
       "                }\n",
       "            </style>\n",
       "            "
      ],
      "text/plain": [
       "<IPython.core.display.HTML object>"
      ]
     },
     "metadata": {},
     "output_type": "display_data"
    }
   ],
   "source": [
    "def predict_crop(image, shape, classes, model, show=False):\n",
    "    \"\"\"Generates model prediction using trained model\n",
    "\n",
    "    Args:\n",
    "      image (str): Image file path (.tiff)\n",
    "      shape (geometry): The tile with which to crop the image\n",
    "      classes (list): List of LULC classes\n",
    "\n",
    "    Return\n",
    "      str: Predicted label\n",
    "    \"\"\"\n",
    "\n",
    "    with rio.open(image) as src:\n",
    "        # Crop source image using polygon shape\n",
    "        # See more information here:\n",
    "        # https://rasterio.readthedocs.io/en/latest/api/rasterio.mask.html#rasterio.mask.mask\n",
    "        out_image, out_transform = rio.mask.mask(src, shape, crop=True)\n",
    "        # Crop out black (zero) border\n",
    "        _, x_nonzero, y_nonzero = np.nonzero(out_image)\n",
    "        #print(out_image)\n",
    "        try:\n",
    "            out_image = out_image[\n",
    "          :,\n",
    "          np.min(x_nonzero):np.max(x_nonzero),\n",
    "          np.min(y_nonzero):np.max(y_nonzero)\n",
    "            ]\n",
    "        except:\n",
    "            pass\n",
    "\n",
    "        # Get the metadata of the source image and update it\n",
    "        # with the width, height, and transform of the cropped image\n",
    "        out_meta = src.meta\n",
    "        out_meta.update({\n",
    "              \"driver\": \"GTiff\",\n",
    "              \"height\": out_image.shape[1],\n",
    "              \"width\": out_image.shape[2],\n",
    "              \"transform\": out_transform\n",
    "        })\n",
    "        #print(out_image.min(),out_image.max())\n",
    "        # Save the cropped image as a temporary TIFF file.\n",
    "        temp_tif = 'temp/temp.tif'\n",
    "        with rasterio.open(temp_tif, \"w\", **out_meta) as dest:\n",
    "          dest.write(out_image)\n",
    "\n",
    "        # Open the cropped image and generated prediction\n",
    "        # using the trained Pytorch model\n",
    "        image = Image.open(temp_tif)\n",
    "        aaa = transform(image)\n",
    "        output = model(aaa.unsqueeze(0))\n",
    "        _, pred = torch.max(output, 1)\n",
    "        label = str(classes[int(pred[0])])\n",
    "\n",
    "        if show:\n",
    "          out_image.show(title=label)\n",
    "\n",
    "        return label\n",
    "\n",
    "    return None"
   ]
  },
  {
   "cell_type": "code",
   "execution_count": 77,
   "id": "ff344885-f250-4402-b024-260092b6bcfe",
   "metadata": {},
   "outputs": [
    {
     "data": {
      "text/html": [
       "\n",
       "            <style>\n",
       "                .geemap-dark {\n",
       "                    --jp-widgets-color: white;\n",
       "                    --jp-widgets-label-color: white;\n",
       "                    --jp-ui-font-color1: white;\n",
       "                    --jp-layout-color2: #454545;\n",
       "                    background-color: #383838;\n",
       "                }\n",
       "\n",
       "                .geemap-dark .jupyter-button {\n",
       "                    --jp-layout-color3: #383838;\n",
       "                }\n",
       "\n",
       "                .geemap-colab {\n",
       "                    background-color: var(--colab-primary-surface-color, white);\n",
       "                }\n",
       "\n",
       "                .geemap-colab .jupyter-button {\n",
       "                    --jp-layout-color3: var(--colab-primary-surface-color, white);\n",
       "                }\n",
       "            </style>\n",
       "            "
      ],
      "text/plain": [
       "<IPython.core.display.HTML object>"
      ]
     },
     "metadata": {},
     "output_type": "display_data"
    }
   ],
   "source": [
    "imagenet_mean, imagenet_std = [0.485, 0.456, 0.406], [0.229, 0.224, 0.225]\n",
    "\n",
    "transform = transforms.Compose([\n",
    "    transforms.Resize(224),\n",
    "    transforms.CenterCrop(224),\n",
    "    transforms.ToTensor(),\n",
    "    transforms.Normalize(imagenet_mean, imagenet_std)\n",
    "])"
   ]
  },
  {
   "cell_type": "markdown",
   "id": "0face3ea-b4d3-4917-9c12-590bf2005031",
   "metadata": {},
   "source": [
    "### Se hacen las predicciones"
   ]
  },
  {
   "cell_type": "code",
   "execution_count": 78,
   "id": "f72f369a-ebd8-4756-ad5d-ef66c247a417",
   "metadata": {
    "jp-MarkdownHeadingCollapsed": true,
    "scrolled": true
   },
   "outputs": [
    {
     "data": {
      "text/html": [
       "\n",
       "            <style>\n",
       "                .geemap-dark {\n",
       "                    --jp-widgets-color: white;\n",
       "                    --jp-widgets-label-color: white;\n",
       "                    --jp-ui-font-color1: white;\n",
       "                    --jp-layout-color2: #454545;\n",
       "                    background-color: #383838;\n",
       "                }\n",
       "\n",
       "                .geemap-dark .jupyter-button {\n",
       "                    --jp-layout-color3: #383838;\n",
       "                }\n",
       "\n",
       "                .geemap-colab {\n",
       "                    background-color: var(--colab-primary-surface-color, white);\n",
       "                }\n",
       "\n",
       "                .geemap-colab .jupyter-button {\n",
       "                    --jp-layout-color3: var(--colab-primary-surface-color, white);\n",
       "                }\n",
       "            </style>\n",
       "            "
      ],
      "text/plain": [
       "<IPython.core.display.HTML object>"
      ]
     },
     "metadata": {},
     "output_type": "display_data"
    },
    {
     "name": "stdout",
     "output_type": "stream",
     "text": [
      "mkdir: cannot create directory ‘preds’: File exists\n"
     ]
    },
    {
     "data": {
      "application/vnd.jupyter.widget-view+json": {
       "model_id": "32042f3d49004ac7b21cc401c4930066",
       "version_major": 2,
       "version_minor": 0
      },
      "text/plain": [
       "  0%|          | 0/90 [00:00<?, ?it/s]"
      ]
     },
     "metadata": {},
     "output_type": "display_data"
    },
    {
     "data": {
      "application/vnd.jupyter.widget-view+json": {
       "model_id": "e2e47c0c5827499cba1f03edc5e6df72",
       "version_major": 2,
       "version_minor": 0
      },
      "text/plain": [
       "  0%|          | 0/90 [00:00<?, ?it/s]"
      ]
     },
     "metadata": {},
     "output_type": "display_data"
    },
    {
     "data": {
      "application/vnd.jupyter.widget-view+json": {
       "model_id": "47e4335016674089add2d40640c1c4e7",
       "version_major": 2,
       "version_minor": 0
      },
      "text/plain": [
       "  0%|          | 0/90 [00:00<?, ?it/s]"
      ]
     },
     "metadata": {},
     "output_type": "display_data"
    },
    {
     "data": {
      "application/vnd.jupyter.widget-view+json": {
       "model_id": "faf8f0b44851445090e5e1487d3fd1db",
       "version_major": 2,
       "version_minor": 0
      },
      "text/plain": [
       "  0%|          | 0/90 [00:00<?, ?it/s]"
      ]
     },
     "metadata": {},
     "output_type": "display_data"
    },
    {
     "data": {
      "application/vnd.jupyter.widget-view+json": {
       "model_id": "9cebea59efe847129db93e7ef1112c79",
       "version_major": 2,
       "version_minor": 0
      },
      "text/plain": [
       "  0%|          | 0/90 [00:00<?, ?it/s]"
      ]
     },
     "metadata": {},
     "output_type": "display_data"
    },
    {
     "data": {
      "application/vnd.jupyter.widget-view+json": {
       "model_id": "efbeddd30a5341db855ef9e82421500f",
       "version_major": 2,
       "version_minor": 0
      },
      "text/plain": [
       "  0%|          | 0/90 [00:00<?, ?it/s]"
      ]
     },
     "metadata": {},
     "output_type": "display_data"
    },
    {
     "data": {
      "application/vnd.jupyter.widget-view+json": {
       "model_id": "587a2575374844a6afb6e849e47996b2",
       "version_major": 2,
       "version_minor": 0
      },
      "text/plain": [
       "  0%|          | 0/90 [00:00<?, ?it/s]"
      ]
     },
     "metadata": {},
     "output_type": "display_data"
    },
    {
     "data": {
      "application/vnd.jupyter.widget-view+json": {
       "model_id": "0e8c4e509fce40149b6bed032ede27c9",
       "version_major": 2,
       "version_minor": 0
      },
      "text/plain": [
       "  0%|          | 0/90 [00:00<?, ?it/s]"
      ]
     },
     "metadata": {},
     "output_type": "display_data"
    },
    {
     "data": {
      "application/vnd.jupyter.widget-view+json": {
       "model_id": "9131c45f1f4847708ccd25d4346b1ece",
       "version_major": 2,
       "version_minor": 0
      },
      "text/plain": [
       "  0%|          | 0/90 [00:00<?, ?it/s]"
      ]
     },
     "metadata": {},
     "output_type": "display_data"
    },
    {
     "data": {
      "application/vnd.jupyter.widget-view+json": {
       "model_id": "2a53826ddeb9406982c5320a19ed17ca",
       "version_major": 2,
       "version_minor": 0
      },
      "text/plain": [
       "  0%|          | 0/90 [00:00<?, ?it/s]"
      ]
     },
     "metadata": {},
     "output_type": "display_data"
    },
    {
     "data": {
      "application/vnd.jupyter.widget-view+json": {
       "model_id": "b3adab325e6b4e8b8bbb889569d3c3dc",
       "version_major": 2,
       "version_minor": 0
      },
      "text/plain": [
       "  0%|          | 0/90 [00:00<?, ?it/s]"
      ]
     },
     "metadata": {},
     "output_type": "display_data"
    },
    {
     "data": {
      "application/vnd.jupyter.widget-view+json": {
       "model_id": "4381b9d538114b80a25a7df895597e21",
       "version_major": 2,
       "version_minor": 0
      },
      "text/plain": [
       "  0%|          | 0/90 [00:00<?, ?it/s]"
      ]
     },
     "metadata": {},
     "output_type": "display_data"
    },
    {
     "data": {
      "application/vnd.jupyter.widget-view+json": {
       "model_id": "1ff6fc8114b4442ebea8bb66d5ac766d",
       "version_major": 2,
       "version_minor": 0
      },
      "text/plain": [
       "  0%|          | 0/90 [00:00<?, ?it/s]"
      ]
     },
     "metadata": {},
     "output_type": "display_data"
    },
    {
     "data": {
      "application/vnd.jupyter.widget-view+json": {
       "model_id": "ccdeea826a8e4457b11c252f9886549c",
       "version_major": 2,
       "version_minor": 0
      },
      "text/plain": [
       "  0%|          | 0/90 [00:00<?, ?it/s]"
      ]
     },
     "metadata": {},
     "output_type": "display_data"
    },
    {
     "data": {
      "application/vnd.jupyter.widget-view+json": {
       "model_id": "3f4785b8c56f4cab8511bf7290fa15d7",
       "version_major": 2,
       "version_minor": 0
      },
      "text/plain": [
       "  0%|          | 0/90 [00:00<?, ?it/s]"
      ]
     },
     "metadata": {},
     "output_type": "display_data"
    },
    {
     "data": {
      "application/vnd.jupyter.widget-view+json": {
       "model_id": "ac954f8bf6ba470b890d8d57068ec126",
       "version_major": 2,
       "version_minor": 0
      },
      "text/plain": [
       "  0%|          | 0/90 [00:00<?, ?it/s]"
      ]
     },
     "metadata": {},
     "output_type": "display_data"
    },
    {
     "data": {
      "application/vnd.jupyter.widget-view+json": {
       "model_id": "c4613e178e7b46e787ed4fd3d1afd615",
       "version_major": 2,
       "version_minor": 0
      },
      "text/plain": [
       "  0%|          | 0/90 [00:00<?, ?it/s]"
      ]
     },
     "metadata": {},
     "output_type": "display_data"
    },
    {
     "data": {
      "application/vnd.jupyter.widget-view+json": {
       "model_id": "43e32f52a91347059fffe2b00287a3e7",
       "version_major": 2,
       "version_minor": 0
      },
      "text/plain": [
       "  0%|          | 0/90 [00:00<?, ?it/s]"
      ]
     },
     "metadata": {},
     "output_type": "display_data"
    },
    {
     "data": {
      "application/vnd.jupyter.widget-view+json": {
       "model_id": "f554f6ef325346278d829b70e02b1805",
       "version_major": 2,
       "version_minor": 0
      },
      "text/plain": [
       "  0%|          | 0/90 [00:00<?, ?it/s]"
      ]
     },
     "metadata": {},
     "output_type": "display_data"
    },
    {
     "data": {
      "application/vnd.jupyter.widget-view+json": {
       "model_id": "73ade080dfca4657bb43dae04348fc0a",
       "version_major": 2,
       "version_minor": 0
      },
      "text/plain": [
       "  0%|          | 0/90 [00:00<?, ?it/s]"
      ]
     },
     "metadata": {},
     "output_type": "display_data"
    },
    {
     "data": {
      "application/vnd.jupyter.widget-view+json": {
       "model_id": "20b3476393a04775bdad5109f305d90a",
       "version_major": 2,
       "version_minor": 0
      },
      "text/plain": [
       "  0%|          | 0/90 [00:00<?, ?it/s]"
      ]
     },
     "metadata": {},
     "output_type": "display_data"
    },
    {
     "data": {
      "application/vnd.jupyter.widget-view+json": {
       "model_id": "a682abb1ee204253bc6fd5e1603351d6",
       "version_major": 2,
       "version_minor": 0
      },
      "text/plain": [
       "  0%|          | 0/90 [00:00<?, ?it/s]"
      ]
     },
     "metadata": {},
     "output_type": "display_data"
    },
    {
     "data": {
      "application/vnd.jupyter.widget-view+json": {
       "model_id": "f7dde203dbac43e38ea97566c453adb7",
       "version_major": 2,
       "version_minor": 0
      },
      "text/plain": [
       "  0%|          | 0/90 [00:00<?, ?it/s]"
      ]
     },
     "metadata": {},
     "output_type": "display_data"
    },
    {
     "data": {
      "application/vnd.jupyter.widget-view+json": {
       "model_id": "46eb4c739ae74a14b274d92a4d947ac2",
       "version_major": 2,
       "version_minor": 0
      },
      "text/plain": [
       "  0%|          | 0/90 [00:00<?, ?it/s]"
      ]
     },
     "metadata": {},
     "output_type": "display_data"
    },
    {
     "data": {
      "application/vnd.jupyter.widget-view+json": {
       "model_id": "5eeb5e1461e74112a6248eace9d4ae4c",
       "version_major": 2,
       "version_minor": 0
      },
      "text/plain": [
       "  0%|          | 0/90 [00:00<?, ?it/s]"
      ]
     },
     "metadata": {},
     "output_type": "display_data"
    },
    {
     "data": {
      "application/vnd.jupyter.widget-view+json": {
       "model_id": "04686bf57b6c4be6ab7a450b475a8183",
       "version_major": 2,
       "version_minor": 0
      },
      "text/plain": [
       "  0%|          | 0/90 [00:00<?, ?it/s]"
      ]
     },
     "metadata": {},
     "output_type": "display_data"
    },
    {
     "data": {
      "application/vnd.jupyter.widget-view+json": {
       "model_id": "867fe823b8a7416d89c70748791e7ff2",
       "version_major": 2,
       "version_minor": 0
      },
      "text/plain": [
       "  0%|          | 0/90 [00:00<?, ?it/s]"
      ]
     },
     "metadata": {},
     "output_type": "display_data"
    },
    {
     "data": {
      "application/vnd.jupyter.widget-view+json": {
       "model_id": "c4a31c2726d54c68972cbd89e073eb32",
       "version_major": 2,
       "version_minor": 0
      },
      "text/plain": [
       "  0%|          | 0/90 [00:00<?, ?it/s]"
      ]
     },
     "metadata": {},
     "output_type": "display_data"
    },
    {
     "data": {
      "application/vnd.jupyter.widget-view+json": {
       "model_id": "ad35b216bc5d4c75b58d2e901be6573e",
       "version_major": 2,
       "version_minor": 0
      },
      "text/plain": [
       "  0%|          | 0/90 [00:00<?, ?it/s]"
      ]
     },
     "metadata": {},
     "output_type": "display_data"
    },
    {
     "data": {
      "application/vnd.jupyter.widget-view+json": {
       "model_id": "a768cd68989445d7abfc8f2ac667f8f9",
       "version_major": 2,
       "version_minor": 0
      },
      "text/plain": [
       "  0%|          | 0/90 [00:00<?, ?it/s]"
      ]
     },
     "metadata": {},
     "output_type": "display_data"
    },
    {
     "data": {
      "application/vnd.jupyter.widget-view+json": {
       "model_id": "2510839ff1a644ffba872b411a8e6fb2",
       "version_major": 2,
       "version_minor": 0
      },
      "text/plain": [
       "  0%|          | 0/90 [00:00<?, ?it/s]"
      ]
     },
     "metadata": {},
     "output_type": "display_data"
    },
    {
     "data": {
      "application/vnd.jupyter.widget-view+json": {
       "model_id": "cb5c4644a1e9413bad61712cd0fb4ad0",
       "version_major": 2,
       "version_minor": 0
      },
      "text/plain": [
       "  0%|          | 0/90 [00:00<?, ?it/s]"
      ]
     },
     "metadata": {},
     "output_type": "display_data"
    },
    {
     "data": {
      "application/vnd.jupyter.widget-view+json": {
       "model_id": "4cdd709d2b6b438d82e1c7439ec6280d",
       "version_major": 2,
       "version_minor": 0
      },
      "text/plain": [
       "  0%|          | 0/90 [00:00<?, ?it/s]"
      ]
     },
     "metadata": {},
     "output_type": "display_data"
    },
    {
     "data": {
      "application/vnd.jupyter.widget-view+json": {
       "model_id": "77487be70a70487b8dc2afd96326c9e2",
       "version_major": 2,
       "version_minor": 0
      },
      "text/plain": [
       "  0%|          | 0/90 [00:00<?, ?it/s]"
      ]
     },
     "metadata": {},
     "output_type": "display_data"
    },
    {
     "data": {
      "application/vnd.jupyter.widget-view+json": {
       "model_id": "848790f3147843c8889ba598881066bd",
       "version_major": 2,
       "version_minor": 0
      },
      "text/plain": [
       "  0%|          | 0/90 [00:00<?, ?it/s]"
      ]
     },
     "metadata": {},
     "output_type": "display_data"
    },
    {
     "data": {
      "application/vnd.jupyter.widget-view+json": {
       "model_id": "23cbd2a0043f4392a163ebd3e2fb9b19",
       "version_major": 2,
       "version_minor": 0
      },
      "text/plain": [
       "  0%|          | 0/90 [00:00<?, ?it/s]"
      ]
     },
     "metadata": {},
     "output_type": "display_data"
    },
    {
     "data": {
      "application/vnd.jupyter.widget-view+json": {
       "model_id": "313b0ff087ec4c6db841286c4384036f",
       "version_major": 2,
       "version_minor": 0
      },
      "text/plain": [
       "  0%|          | 0/90 [00:00<?, ?it/s]"
      ]
     },
     "metadata": {},
     "output_type": "display_data"
    },
    {
     "data": {
      "application/vnd.jupyter.widget-view+json": {
       "model_id": "706eab9dff364c2caa510831f0219c02",
       "version_major": 2,
       "version_minor": 0
      },
      "text/plain": [
       "  0%|          | 0/90 [00:00<?, ?it/s]"
      ]
     },
     "metadata": {},
     "output_type": "display_data"
    },
    {
     "data": {
      "application/vnd.jupyter.widget-view+json": {
       "model_id": "022d1c0deb0040bbabce6c8ca8f172dc",
       "version_major": 2,
       "version_minor": 0
      },
      "text/plain": [
       "  0%|          | 0/90 [00:00<?, ?it/s]"
      ]
     },
     "metadata": {},
     "output_type": "display_data"
    },
    {
     "data": {
      "application/vnd.jupyter.widget-view+json": {
       "model_id": "60d45dec277c4b0391d9aa16c9efafc4",
       "version_major": 2,
       "version_minor": 0
      },
      "text/plain": [
       "  0%|          | 0/90 [00:00<?, ?it/s]"
      ]
     },
     "metadata": {},
     "output_type": "display_data"
    },
    {
     "data": {
      "application/vnd.jupyter.widget-view+json": {
       "model_id": "0b2a868979094668bb643b639fb189d3",
       "version_major": 2,
       "version_minor": 0
      },
      "text/plain": [
       "  0%|          | 0/90 [00:00<?, ?it/s]"
      ]
     },
     "metadata": {},
     "output_type": "display_data"
    },
    {
     "data": {
      "application/vnd.jupyter.widget-view+json": {
       "model_id": "334e3857656042e6b762b9abac6788ac",
       "version_major": 2,
       "version_minor": 0
      },
      "text/plain": [
       "  0%|          | 0/90 [00:00<?, ?it/s]"
      ]
     },
     "metadata": {},
     "output_type": "display_data"
    },
    {
     "data": {
      "application/vnd.jupyter.widget-view+json": {
       "model_id": "168eacdc0b8944058b7f5bf5fd21fd98",
       "version_major": 2,
       "version_minor": 0
      },
      "text/plain": [
       "  0%|          | 0/90 [00:00<?, ?it/s]"
      ]
     },
     "metadata": {},
     "output_type": "display_data"
    },
    {
     "data": {
      "application/vnd.jupyter.widget-view+json": {
       "model_id": "741d3411003d4467a9fce353cb4f58ec",
       "version_major": 2,
       "version_minor": 0
      },
      "text/plain": [
       "  0%|          | 0/90 [00:00<?, ?it/s]"
      ]
     },
     "metadata": {},
     "output_type": "display_data"
    },
    {
     "data": {
      "application/vnd.jupyter.widget-view+json": {
       "model_id": "aa948a30c99d480b922632c71e6f8ce9",
       "version_major": 2,
       "version_minor": 0
      },
      "text/plain": [
       "  0%|          | 0/90 [00:00<?, ?it/s]"
      ]
     },
     "metadata": {},
     "output_type": "display_data"
    },
    {
     "data": {
      "application/vnd.jupyter.widget-view+json": {
       "model_id": "ad925fc268274d1da3156ada040aef87",
       "version_major": 2,
       "version_minor": 0
      },
      "text/plain": [
       "  0%|          | 0/90 [00:00<?, ?it/s]"
      ]
     },
     "metadata": {},
     "output_type": "display_data"
    },
    {
     "data": {
      "application/vnd.jupyter.widget-view+json": {
       "model_id": "48733d34de8746ceb94ee8d7b57cdc5d",
       "version_major": 2,
       "version_minor": 0
      },
      "text/plain": [
       "  0%|          | 0/90 [00:00<?, ?it/s]"
      ]
     },
     "metadata": {},
     "output_type": "display_data"
    },
    {
     "data": {
      "application/vnd.jupyter.widget-view+json": {
       "model_id": "a9372b1b69c54391bbe0ef83dcf5327c",
       "version_major": 2,
       "version_minor": 0
      },
      "text/plain": [
       "  0%|          | 0/90 [00:00<?, ?it/s]"
      ]
     },
     "metadata": {},
     "output_type": "display_data"
    },
    {
     "data": {
      "application/vnd.jupyter.widget-view+json": {
       "model_id": "7b1d48eefaa94ad9af21275440d8ac7c",
       "version_major": 2,
       "version_minor": 0
      },
      "text/plain": [
       "  0%|          | 0/90 [00:00<?, ?it/s]"
      ]
     },
     "metadata": {},
     "output_type": "display_data"
    },
    {
     "data": {
      "application/vnd.jupyter.widget-view+json": {
       "model_id": "d6dbd45f14054714b2a6187ae1af67fc",
       "version_major": 2,
       "version_minor": 0
      },
      "text/plain": [
       "  0%|          | 0/90 [00:00<?, ?it/s]"
      ]
     },
     "metadata": {},
     "output_type": "display_data"
    },
    {
     "data": {
      "application/vnd.jupyter.widget-view+json": {
       "model_id": "19168975fb454dd484da49631c0013bd",
       "version_major": 2,
       "version_minor": 0
      },
      "text/plain": [
       "  0%|          | 0/90 [00:00<?, ?it/s]"
      ]
     },
     "metadata": {},
     "output_type": "display_data"
    },
    {
     "data": {
      "application/vnd.jupyter.widget-view+json": {
       "model_id": "8049f717a21b404fba2593c7a7b270e3",
       "version_major": 2,
       "version_minor": 0
      },
      "text/plain": [
       "  0%|          | 0/90 [00:00<?, ?it/s]"
      ]
     },
     "metadata": {},
     "output_type": "display_data"
    },
    {
     "data": {
      "application/vnd.jupyter.widget-view+json": {
       "model_id": "d4b7b29a781d4965b312522acd405c18",
       "version_major": 2,
       "version_minor": 0
      },
      "text/plain": [
       "  0%|          | 0/90 [00:00<?, ?it/s]"
      ]
     },
     "metadata": {},
     "output_type": "display_data"
    },
    {
     "data": {
      "application/vnd.jupyter.widget-view+json": {
       "model_id": "46210519d249410dac0d6789618e3d62",
       "version_major": 2,
       "version_minor": 0
      },
      "text/plain": [
       "  0%|          | 0/90 [00:00<?, ?it/s]"
      ]
     },
     "metadata": {},
     "output_type": "display_data"
    },
    {
     "data": {
      "application/vnd.jupyter.widget-view+json": {
       "model_id": "951f671270e941a3bc4f7d645640c304",
       "version_major": 2,
       "version_minor": 0
      },
      "text/plain": [
       "  0%|          | 0/90 [00:00<?, ?it/s]"
      ]
     },
     "metadata": {},
     "output_type": "display_data"
    },
    {
     "data": {
      "application/vnd.jupyter.widget-view+json": {
       "model_id": "83936f797d5d454b9a02b3cd96cf1940",
       "version_major": 2,
       "version_minor": 0
      },
      "text/plain": [
       "  0%|          | 0/90 [00:00<?, ?it/s]"
      ]
     },
     "metadata": {},
     "output_type": "display_data"
    },
    {
     "data": {
      "application/vnd.jupyter.widget-view+json": {
       "model_id": "3c19779b2f264967923856ec9182d119",
       "version_major": 2,
       "version_minor": 0
      },
      "text/plain": [
       "  0%|          | 0/90 [00:00<?, ?it/s]"
      ]
     },
     "metadata": {},
     "output_type": "display_data"
    },
    {
     "data": {
      "application/vnd.jupyter.widget-view+json": {
       "model_id": "6027f5a2172446d2ba0e45d8e7417ea3",
       "version_major": 2,
       "version_minor": 0
      },
      "text/plain": [
       "  0%|          | 0/90 [00:00<?, ?it/s]"
      ]
     },
     "metadata": {},
     "output_type": "display_data"
    },
    {
     "data": {
      "application/vnd.jupyter.widget-view+json": {
       "model_id": "aa2db599411b4859ae7346de9eb9876c",
       "version_major": 2,
       "version_minor": 0
      },
      "text/plain": [
       "  0%|          | 0/90 [00:00<?, ?it/s]"
      ]
     },
     "metadata": {},
     "output_type": "display_data"
    },
    {
     "data": {
      "application/vnd.jupyter.widget-view+json": {
       "model_id": "6d5e659d79484e3e9e824352e4a0742b",
       "version_major": 2,
       "version_minor": 0
      },
      "text/plain": [
       "  0%|          | 0/90 [00:00<?, ?it/s]"
      ]
     },
     "metadata": {},
     "output_type": "display_data"
    },
    {
     "data": {
      "application/vnd.jupyter.widget-view+json": {
       "model_id": "892845f490484a4b86d144acc6215fa7",
       "version_major": 2,
       "version_minor": 0
      },
      "text/plain": [
       "  0%|          | 0/90 [00:00<?, ?it/s]"
      ]
     },
     "metadata": {},
     "output_type": "display_data"
    },
    {
     "data": {
      "application/vnd.jupyter.widget-view+json": {
       "model_id": "50fb9c1d02d94288b2be20df7d5d4bf3",
       "version_major": 2,
       "version_minor": 0
      },
      "text/plain": [
       "  0%|          | 0/90 [00:00<?, ?it/s]"
      ]
     },
     "metadata": {},
     "output_type": "display_data"
    },
    {
     "data": {
      "application/vnd.jupyter.widget-view+json": {
       "model_id": "546ec88e75614f5a8e3f20ec8104c974",
       "version_major": 2,
       "version_minor": 0
      },
      "text/plain": [
       "  0%|          | 0/90 [00:00<?, ?it/s]"
      ]
     },
     "metadata": {},
     "output_type": "display_data"
    },
    {
     "data": {
      "application/vnd.jupyter.widget-view+json": {
       "model_id": "7c9a783bbc9e4220abe01cf5a3f013b5",
       "version_major": 2,
       "version_minor": 0
      },
      "text/plain": [
       "  0%|          | 0/90 [00:00<?, ?it/s]"
      ]
     },
     "metadata": {},
     "output_type": "display_data"
    },
    {
     "data": {
      "application/vnd.jupyter.widget-view+json": {
       "model_id": "b27e1df8f87a42f6a9cedfee36d9f6f8",
       "version_major": 2,
       "version_minor": 0
      },
      "text/plain": [
       "  0%|          | 0/90 [00:00<?, ?it/s]"
      ]
     },
     "metadata": {},
     "output_type": "display_data"
    },
    {
     "data": {
      "application/vnd.jupyter.widget-view+json": {
       "model_id": "0396b320ce0742e799a4bd617266fe00",
       "version_major": 2,
       "version_minor": 0
      },
      "text/plain": [
       "  0%|          | 0/90 [00:00<?, ?it/s]"
      ]
     },
     "metadata": {},
     "output_type": "display_data"
    },
    {
     "data": {
      "application/vnd.jupyter.widget-view+json": {
       "model_id": "08b2fb8b6c014757ae1303885aa14412",
       "version_major": 2,
       "version_minor": 0
      },
      "text/plain": [
       "  0%|          | 0/90 [00:00<?, ?it/s]"
      ]
     },
     "metadata": {},
     "output_type": "display_data"
    },
    {
     "data": {
      "application/vnd.jupyter.widget-view+json": {
       "model_id": "d03039fe31d4441b9e15868f556ea62a",
       "version_major": 2,
       "version_minor": 0
      },
      "text/plain": [
       "  0%|          | 0/90 [00:00<?, ?it/s]"
      ]
     },
     "metadata": {},
     "output_type": "display_data"
    },
    {
     "data": {
      "application/vnd.jupyter.widget-view+json": {
       "model_id": "3235e6e6a307482385e1293a27b9bb11",
       "version_major": 2,
       "version_minor": 0
      },
      "text/plain": [
       "  0%|          | 0/90 [00:00<?, ?it/s]"
      ]
     },
     "metadata": {},
     "output_type": "display_data"
    },
    {
     "data": {
      "application/vnd.jupyter.widget-view+json": {
       "model_id": "b2cec2f1c30d4c0faa917e7b6360b000",
       "version_major": 2,
       "version_minor": 0
      },
      "text/plain": [
       "  0%|          | 0/90 [00:00<?, ?it/s]"
      ]
     },
     "metadata": {},
     "output_type": "display_data"
    },
    {
     "data": {
      "application/vnd.jupyter.widget-view+json": {
       "model_id": "0fce37605191463082e515301de99295",
       "version_major": 2,
       "version_minor": 0
      },
      "text/plain": [
       "  0%|          | 0/90 [00:00<?, ?it/s]"
      ]
     },
     "metadata": {},
     "output_type": "display_data"
    },
    {
     "data": {
      "application/vnd.jupyter.widget-view+json": {
       "model_id": "e0c82f952b0947f596d4f0d33627001a",
       "version_major": 2,
       "version_minor": 0
      },
      "text/plain": [
       "  0%|          | 0/90 [00:00<?, ?it/s]"
      ]
     },
     "metadata": {},
     "output_type": "display_data"
    },
    {
     "data": {
      "application/vnd.jupyter.widget-view+json": {
       "model_id": "996e6e4ff9b046ddb8eb541a1ef78699",
       "version_major": 2,
       "version_minor": 0
      },
      "text/plain": [
       "  0%|          | 0/90 [00:00<?, ?it/s]"
      ]
     },
     "metadata": {},
     "output_type": "display_data"
    },
    {
     "data": {
      "application/vnd.jupyter.widget-view+json": {
       "model_id": "4b8f170b1eca4dc580111872cf5d1430",
       "version_major": 2,
       "version_minor": 0
      },
      "text/plain": [
       "  0%|          | 0/90 [00:00<?, ?it/s]"
      ]
     },
     "metadata": {},
     "output_type": "display_data"
    },
    {
     "data": {
      "application/vnd.jupyter.widget-view+json": {
       "model_id": "b0bf2fa400504848ace6ff3d74421cd8",
       "version_major": 2,
       "version_minor": 0
      },
      "text/plain": [
       "  0%|          | 0/90 [00:00<?, ?it/s]"
      ]
     },
     "metadata": {},
     "output_type": "display_data"
    },
    {
     "data": {
      "application/vnd.jupyter.widget-view+json": {
       "model_id": "582483f223d543ffbac68be9a7cb22b2",
       "version_major": 2,
       "version_minor": 0
      },
      "text/plain": [
       "  0%|          | 0/90 [00:00<?, ?it/s]"
      ]
     },
     "metadata": {},
     "output_type": "display_data"
    },
    {
     "data": {
      "application/vnd.jupyter.widget-view+json": {
       "model_id": "c2f677ecd8e0448db2bf48552e9729f9",
       "version_major": 2,
       "version_minor": 0
      },
      "text/plain": [
       "  0%|          | 0/90 [00:00<?, ?it/s]"
      ]
     },
     "metadata": {},
     "output_type": "display_data"
    },
    {
     "data": {
      "application/vnd.jupyter.widget-view+json": {
       "model_id": "4825fcf4375e4c40b2c9dc0c459c6b18",
       "version_major": 2,
       "version_minor": 0
      },
      "text/plain": [
       "  0%|          | 0/90 [00:00<?, ?it/s]"
      ]
     },
     "metadata": {},
     "output_type": "display_data"
    },
    {
     "data": {
      "application/vnd.jupyter.widget-view+json": {
       "model_id": "d867bf673ea54fa78336a2ba312ec55d",
       "version_major": 2,
       "version_minor": 0
      },
      "text/plain": [
       "  0%|          | 0/90 [00:00<?, ?it/s]"
      ]
     },
     "metadata": {},
     "output_type": "display_data"
    },
    {
     "data": {
      "application/vnd.jupyter.widget-view+json": {
       "model_id": "76729472314a4da2b56951584f1c5388",
       "version_major": 2,
       "version_minor": 0
      },
      "text/plain": [
       "  0%|          | 0/90 [00:00<?, ?it/s]"
      ]
     },
     "metadata": {},
     "output_type": "display_data"
    },
    {
     "data": {
      "application/vnd.jupyter.widget-view+json": {
       "model_id": "52bd0e21f9e54c75a422111c03d0e9b0",
       "version_major": 2,
       "version_minor": 0
      },
      "text/plain": [
       "  0%|          | 0/90 [00:00<?, ?it/s]"
      ]
     },
     "metadata": {},
     "output_type": "display_data"
    },
    {
     "data": {
      "application/vnd.jupyter.widget-view+json": {
       "model_id": "96ba26178c414bd9952d9a5910a0f6f2",
       "version_major": 2,
       "version_minor": 0
      },
      "text/plain": [
       "  0%|          | 0/90 [00:00<?, ?it/s]"
      ]
     },
     "metadata": {},
     "output_type": "display_data"
    },
    {
     "data": {
      "application/vnd.jupyter.widget-view+json": {
       "model_id": "e148175148d74a3ab9e03d38014e9840",
       "version_major": 2,
       "version_minor": 0
      },
      "text/plain": [
       "  0%|          | 0/90 [00:00<?, ?it/s]"
      ]
     },
     "metadata": {},
     "output_type": "display_data"
    },
    {
     "data": {
      "application/vnd.jupyter.widget-view+json": {
       "model_id": "b4d385fefa3b456cb01796dc06cd2a11",
       "version_major": 2,
       "version_minor": 0
      },
      "text/plain": [
       "  0%|          | 0/90 [00:00<?, ?it/s]"
      ]
     },
     "metadata": {},
     "output_type": "display_data"
    },
    {
     "data": {
      "application/vnd.jupyter.widget-view+json": {
       "model_id": "b46e911280d042d594b105ecd0a2358e",
       "version_major": 2,
       "version_minor": 0
      },
      "text/plain": [
       "  0%|          | 0/90 [00:00<?, ?it/s]"
      ]
     },
     "metadata": {},
     "output_type": "display_data"
    },
    {
     "data": {
      "application/vnd.jupyter.widget-view+json": {
       "model_id": "c73897f589ee4909b5e1efc0f9510339",
       "version_major": 2,
       "version_minor": 0
      },
      "text/plain": [
       "  0%|          | 0/90 [00:00<?, ?it/s]"
      ]
     },
     "metadata": {},
     "output_type": "display_data"
    },
    {
     "data": {
      "application/vnd.jupyter.widget-view+json": {
       "model_id": "0ee316ed1ce549d3b4332c83b4163749",
       "version_major": 2,
       "version_minor": 0
      },
      "text/plain": [
       "  0%|          | 0/90 [00:00<?, ?it/s]"
      ]
     },
     "metadata": {},
     "output_type": "display_data"
    },
    {
     "data": {
      "application/vnd.jupyter.widget-view+json": {
       "model_id": "53ee06d0635345b5accab1cb04e13370",
       "version_major": 2,
       "version_minor": 0
      },
      "text/plain": [
       "  0%|          | 0/90 [00:00<?, ?it/s]"
      ]
     },
     "metadata": {},
     "output_type": "display_data"
    },
    {
     "data": {
      "application/vnd.jupyter.widget-view+json": {
       "model_id": "e1238c0562594017a4f6d3ba5a69ab41",
       "version_major": 2,
       "version_minor": 0
      },
      "text/plain": [
       "  0%|          | 0/90 [00:00<?, ?it/s]"
      ]
     },
     "metadata": {},
     "output_type": "display_data"
    },
    {
     "data": {
      "application/vnd.jupyter.widget-view+json": {
       "model_id": "08508c255f62497983745547404a6e3f",
       "version_major": 2,
       "version_minor": 0
      },
      "text/plain": [
       "  0%|          | 0/90 [00:00<?, ?it/s]"
      ]
     },
     "metadata": {},
     "output_type": "display_data"
    },
    {
     "data": {
      "application/vnd.jupyter.widget-view+json": {
       "model_id": "ae48ac2d78034db183bd2bd71afe30b3",
       "version_major": 2,
       "version_minor": 0
      },
      "text/plain": [
       "  0%|          | 0/90 [00:00<?, ?it/s]"
      ]
     },
     "metadata": {},
     "output_type": "display_data"
    },
    {
     "data": {
      "application/vnd.jupyter.widget-view+json": {
       "model_id": "1ef4cf04bf3c4bf19d8f47ec275047b8",
       "version_major": 2,
       "version_minor": 0
      },
      "text/plain": [
       "  0%|          | 0/90 [00:00<?, ?it/s]"
      ]
     },
     "metadata": {},
     "output_type": "display_data"
    },
    {
     "data": {
      "application/vnd.jupyter.widget-view+json": {
       "model_id": "70ccede5eed5498bbf3667fae2aad631",
       "version_major": 2,
       "version_minor": 0
      },
      "text/plain": [
       "  0%|          | 0/90 [00:00<?, ?it/s]"
      ]
     },
     "metadata": {},
     "output_type": "display_data"
    },
    {
     "data": {
      "application/vnd.jupyter.widget-view+json": {
       "model_id": "f8be45f24b714a4abc703fdcd3e41edc",
       "version_major": 2,
       "version_minor": 0
      },
      "text/plain": [
       "  0%|          | 0/90 [00:00<?, ?it/s]"
      ]
     },
     "metadata": {},
     "output_type": "display_data"
    },
    {
     "data": {
      "application/vnd.jupyter.widget-view+json": {
       "model_id": "4097b6e9ca1c4618b78c9cf8122950fe",
       "version_major": 2,
       "version_minor": 0
      },
      "text/plain": [
       "  0%|          | 0/90 [00:00<?, ?it/s]"
      ]
     },
     "metadata": {},
     "output_type": "display_data"
    },
    {
     "data": {
      "application/vnd.jupyter.widget-view+json": {
       "model_id": "f543d3090983431fa909bfcfd9c5ed17",
       "version_major": 2,
       "version_minor": 0
      },
      "text/plain": [
       "  0%|          | 0/90 [00:00<?, ?it/s]"
      ]
     },
     "metadata": {},
     "output_type": "display_data"
    },
    {
     "data": {
      "application/vnd.jupyter.widget-view+json": {
       "model_id": "2d30dce5212d4560b1c0bbfdc2419780",
       "version_major": 2,
       "version_minor": 0
      },
      "text/plain": [
       "  0%|          | 0/90 [00:00<?, ?it/s]"
      ]
     },
     "metadata": {},
     "output_type": "display_data"
    },
    {
     "data": {
      "application/vnd.jupyter.widget-view+json": {
       "model_id": "d7c816c0b93c486ca6457a3d5da04174",
       "version_major": 2,
       "version_minor": 0
      },
      "text/plain": [
       "  0%|          | 0/90 [00:00<?, ?it/s]"
      ]
     },
     "metadata": {},
     "output_type": "display_data"
    },
    {
     "data": {
      "application/vnd.jupyter.widget-view+json": {
       "model_id": "52c279a07ce74f39aba692ba433edc60",
       "version_major": 2,
       "version_minor": 0
      },
      "text/plain": [
       "  0%|          | 0/90 [00:00<?, ?it/s]"
      ]
     },
     "metadata": {},
     "output_type": "display_data"
    },
    {
     "data": {
      "application/vnd.jupyter.widget-view+json": {
       "model_id": "b37bb42a4768404d892d95bbc987d397",
       "version_major": 2,
       "version_minor": 0
      },
      "text/plain": [
       "  0%|          | 0/90 [00:00<?, ?it/s]"
      ]
     },
     "metadata": {},
     "output_type": "display_data"
    }
   ],
   "source": [
    "!mkdir preds\n",
    "for tiles, fecha in zip(tiled_images, fechas_con_imagen):\n",
    "    labels = [] # Store predictions\n",
    "\n",
    "# iteración sobre tiles\n",
    "    tif_file = f'temp/aoi{fecha}.tif' \n",
    "    for index in tqdm(range(len(tiles)), total=len(tiles)):\n",
    "        label = predict_crop(tif_file, [tiles.iloc[index]['geometry']], classes, model)\n",
    "        labels.append(label)\n",
    "\n",
    "    tiles['pred'] = labels\n",
    "# Cleanup temporary files\n",
    "\n",
    "# Save predictions\n",
    "    filepath = f\"preds/{fecha}_preds.geojson\"\n",
    "    tiles.to_file(filepath, driver=\"GeoJSON\")"
   ]
  },
  {
   "cell_type": "markdown",
   "id": "be268072-5bbf-4d0f-9f23-58ae4465cb22",
   "metadata": {},
   "source": [
    "### Se calcula el area total de cada imágen, es decir, de cada fecha."
   ]
  },
  {
   "cell_type": "code",
   "execution_count": 79,
   "id": "fa519659-3405-4f12-9317-e77f17c73106",
   "metadata": {
    "scrolled": true
   },
   "outputs": [
    {
     "data": {
      "text/html": [
       "\n",
       "            <style>\n",
       "                .geemap-dark {\n",
       "                    --jp-widgets-color: white;\n",
       "                    --jp-widgets-label-color: white;\n",
       "                    --jp-ui-font-color1: white;\n",
       "                    --jp-layout-color2: #454545;\n",
       "                    background-color: #383838;\n",
       "                }\n",
       "\n",
       "                .geemap-dark .jupyter-button {\n",
       "                    --jp-layout-color3: #383838;\n",
       "                }\n",
       "\n",
       "                .geemap-colab {\n",
       "                    background-color: var(--colab-primary-surface-color, white);\n",
       "                }\n",
       "\n",
       "                .geemap-colab .jupyter-button {\n",
       "                    --jp-layout-color3: var(--colab-primary-surface-color, white);\n",
       "                }\n",
       "            </style>\n",
       "            "
      ],
      "text/plain": [
       "<IPython.core.display.HTML object>"
      ]
     },
     "metadata": {},
     "output_type": "display_data"
    },
    {
     "data": {
      "application/vnd.jupyter.widget-view+json": {
       "model_id": "960b2508035c48b89b41092af20a2bc9",
       "version_major": 2,
       "version_minor": 0
      },
      "text/plain": [
       "  0%|          | 0/100 [00:00<?, ?it/s]"
      ]
     },
     "metadata": {},
     "output_type": "display_data"
    },
    {
     "name": "stdout",
     "output_type": "stream",
     "text": [
      "2014-1-01 : 860160\n",
      "2014-2-01 : 983040\n",
      "2014-4-01 : 860160\n",
      "2014-6-01 : 122880\n",
      "2014-8-01 : 245760\n",
      "2014-10-01 : 491520\n",
      "2014-11-01 : 737280\n",
      "2015-1-01 : 737280\n",
      "2015-2-01 : 737280\n",
      "2015-3-01 : 614400\n",
      "2015-4-01 : 368640\n",
      "2015-5-01 : 368640\n",
      "2015-7-01 : 491520\n",
      "2015-10-01 : 245760\n",
      "2015-11-01 : 737280\n",
      "2015-12-01 : 860160\n",
      "2016-1-01 : 983040\n",
      "2016-3-01 : 368640\n",
      "2016-4-01 : 368640\n",
      "2016-5-01 : 122880\n",
      "2016-6-01 : 122880\n",
      "2016-8-01 : 614400\n",
      "2016-9-01 : 245760\n",
      "2016-10-01 : 1228800\n",
      "2016-11-01 : 368640\n",
      "2017-1-01 : 737280\n",
      "2017-2-01 : 614400\n",
      "2017-3-01 : 614400\n",
      "2017-6-01 : 0\n",
      "2017-7-01 : 491520\n",
      "2017-8-01 : 122880\n",
      "2017-11-01 : 614400\n",
      "2017-12-01 : 737280\n",
      "2018-1-01 : 614400\n",
      "2018-2-01 : 614400\n",
      "2018-3-01 : 491520\n",
      "2018-4-01 : 614400\n",
      "2018-5-01 : 860160\n",
      "2018-6-01 : 245760\n",
      "2018-7-01 : 122880\n",
      "2018-8-01 : 245760\n",
      "2018-9-01 : 491520\n",
      "2018-10-01 : 245760\n",
      "2018-11-01 : 491520\n",
      "2018-12-01 : 983040\n",
      "2019-1-01 : 737280\n",
      "2019-2-01 : 860160\n",
      "2019-3-01 : 983040\n",
      "2019-5-01 : 614400\n",
      "2019-6-01 : 491520\n",
      "2019-8-01 : 368640\n",
      "2019-9-01 : 491520\n",
      "2019-10-01 : 860160\n",
      "2019-11-01 : 983040\n",
      "2019-12-01 : 1597440\n",
      "2020-1-01 : 1474560\n",
      "2020-2-01 : 1351680\n",
      "2020-3-01 : 1105920\n",
      "2020-4-01 : 1843200\n",
      "2020-5-01 : 860160\n",
      "2020-7-01 : 245760\n",
      "2020-8-01 : 122880\n",
      "2020-9-01 : 860160\n",
      "2020-10-01 : 368640\n",
      "2020-11-01 : 614400\n",
      "2020-12-01 : 614400\n",
      "2021-1-01 : 860160\n",
      "2021-3-01 : 122880\n",
      "2021-6-01 : 614400\n",
      "2021-7-01 : 368640\n",
      "2021-8-01 : 368640\n",
      "2021-9-01 : 491520\n",
      "2021-10-01 : 368640\n",
      "2021-11-01 : 983040\n",
      "2021-12-01 : 1228800\n",
      "2022-1-01 : 1720320\n",
      "2022-2-01 : 983040\n",
      "2022-3-01 : 1105920\n",
      "2022-4-01 : 983040\n",
      "2022-6-01 : 0\n",
      "2022-7-01 : 245760\n",
      "2022-8-01 : 245760\n",
      "2022-9-01 : 122880\n",
      "2022-10-01 : 614400\n",
      "2022-11-01 : 983040\n",
      "2022-12-01 : 983040\n",
      "2023-1-01 : 983040\n",
      "2023-2-01 : 860160\n",
      "2023-3-01 : 737280\n",
      "2023-4-01 : 737280\n",
      "2023-6-01 : 245760\n",
      "2023-7-01 : 122880\n",
      "2023-8-01 : 368640\n",
      "2023-9-01 : 122880\n",
      "2023-10-01 : 614400\n",
      "2023-12-01 : 983040\n",
      "2024-1-01 : 983040\n",
      "2024-2-01 : 860160\n",
      "2024-3-01 : 614400\n",
      "2024-4-01 : 737280\n"
     ]
    }
   ],
   "source": [
    "areas_crop = []\n",
    "for tiles, fecha in tqdm(zip(tiled_images, fechas_con_imagen), total=len(tiled_images)):\n",
    "    #calcular área de   'AnnualCrop' y 'PermanentCrop' \n",
    "    bools = tiles.pred.map(lambda x: x == \"AnnualCrop\" or x == \"PermanentCrop\")\n",
    "    tiles = tiles[bools]\n",
    "    area = len(tiles)*(64**2)*30\n",
    "    areas_crop.append(area)\n",
    "    print(fecha,\":\",area)#64 pixeles cada bloque, cada pixel son 30m\n"
   ]
  },
  {
   "cell_type": "markdown",
   "id": "3bb74f5a-489c-44d2-b902-c584fd1e5bad",
   "metadata": {},
   "source": [
    "### Se calcula el área total de crops, considerando ambos tipos de crop"
   ]
  },
  {
   "cell_type": "code",
   "execution_count": 80,
   "id": "b107a0ca-c8ad-4f3f-9be1-c991e6138838",
   "metadata": {},
   "outputs": [
    {
     "data": {
      "text/html": [
       "\n",
       "            <style>\n",
       "                .geemap-dark {\n",
       "                    --jp-widgets-color: white;\n",
       "                    --jp-widgets-label-color: white;\n",
       "                    --jp-ui-font-color1: white;\n",
       "                    --jp-layout-color2: #454545;\n",
       "                    background-color: #383838;\n",
       "                }\n",
       "\n",
       "                .geemap-dark .jupyter-button {\n",
       "                    --jp-layout-color3: #383838;\n",
       "                }\n",
       "\n",
       "                .geemap-colab {\n",
       "                    background-color: var(--colab-primary-surface-color, white);\n",
       "                }\n",
       "\n",
       "                .geemap-colab .jupyter-button {\n",
       "                    --jp-layout-color3: var(--colab-primary-surface-color, white);\n",
       "                }\n",
       "            </style>\n",
       "            "
      ],
      "text/plain": [
       "<IPython.core.display.HTML object>"
      ]
     },
     "metadata": {},
     "output_type": "display_data"
    }
   ],
   "source": [
    "df_crop = pd.DataFrame()\n",
    "df_crop[\"area\"] = areas_crop\n",
    "df_crop[\"fecha\"] = fechas_con_imagen\n",
    "df_crop[\"año\"] = df[\"fecha\"].map(lambda x : x.year)\n",
    "df_crop_a = df_crop.groupby(by=\"año\")[\"area\"].mean()\n"
   ]
  },
  {
   "cell_type": "code",
   "execution_count": 81,
   "id": "2a75d03d-fd43-4254-900d-61825179e922",
   "metadata": {},
   "outputs": [
    {
     "data": {
      "text/html": [
       "\n",
       "            <style>\n",
       "                .geemap-dark {\n",
       "                    --jp-widgets-color: white;\n",
       "                    --jp-widgets-label-color: white;\n",
       "                    --jp-ui-font-color1: white;\n",
       "                    --jp-layout-color2: #454545;\n",
       "                    background-color: #383838;\n",
       "                }\n",
       "\n",
       "                .geemap-dark .jupyter-button {\n",
       "                    --jp-layout-color3: #383838;\n",
       "                }\n",
       "\n",
       "                .geemap-colab {\n",
       "                    background-color: var(--colab-primary-surface-color, white);\n",
       "                }\n",
       "\n",
       "                .geemap-colab .jupyter-button {\n",
       "                    --jp-layout-color3: var(--colab-primary-surface-color, white);\n",
       "                }\n",
       "            </style>\n",
       "            "
      ],
      "text/plain": [
       "<IPython.core.display.HTML object>"
      ]
     },
     "metadata": {},
     "output_type": "display_data"
    },
    {
     "data": {
      "text/plain": [
       "<Axes: xlabel='año', ylabel='area'>"
      ]
     },
     "execution_count": 81,
     "metadata": {},
     "output_type": "execute_result"
    },
    {
     "data": {
      "image/png": "[encoded data removed]",
      "text/plain": [
       "<Figure size 640x480 with 1 Axes>"
      ]
     },
     "metadata": {},
     "output_type": "display_data"
    }
   ],
   "source": [
    "sns.lineplot(df_crop_a)"
   ]
  },
  {
   "cell_type": "markdown",
   "id": "4f8dfae7-be3f-436e-90f5-3fd02cefff5d",
   "metadata": {},
   "source": [
    "fig. 3 Área obtenida de crop a lo largo del tiempo"
   ]
  },
  {
   "cell_type": "markdown",
   "id": "9c41597f-ad51-4172-be67-2664c5b8e47e",
   "metadata": {},
   "source": [
    "### Comprobamos como se categorizó los tiles"
   ]
  },
  {
   "cell_type": "code",
   "execution_count": null,
   "id": "dbc36d1f-013f-4935-b174-782e9d2d350b",
   "metadata": {},
   "outputs": [],
   "source": []
  },
  {
   "cell_type": "code",
   "execution_count": 85,
   "id": "a24b5342-0a80-4070-aa4a-afa05c7d3be4",
   "metadata": {},
   "outputs": [
    {
     "data": {
      "text/html": [
       "\n",
       "            <style>\n",
       "                .geemap-dark {\n",
       "                    --jp-widgets-color: white;\n",
       "                    --jp-widgets-label-color: white;\n",
       "                    --jp-ui-font-color1: white;\n",
       "                    --jp-layout-color2: #454545;\n",
       "                    background-color: #383838;\n",
       "                }\n",
       "\n",
       "                .geemap-dark .jupyter-button {\n",
       "                    --jp-layout-color3: #383838;\n",
       "                }\n",
       "\n",
       "                .geemap-colab {\n",
       "                    background-color: var(--colab-primary-surface-color, white);\n",
       "                }\n",
       "\n",
       "                .geemap-colab .jupyter-button {\n",
       "                    --jp-layout-color3: var(--colab-primary-surface-color, white);\n",
       "                }\n",
       "            </style>\n",
       "            "
      ],
      "text/plain": [
       "<IPython.core.display.HTML object>"
      ]
     },
     "metadata": {},
     "output_type": "display_data"
    },
    {
     "data": {
      "text/html": [
       "<div style=\"width:100%;\"><div style=\"position:relative;width:100%;height:0;padding-bottom:60%;\"><span style=\"color:#565656\">Make this Notebook Trusted to load map: File -> Trust Notebook</span><iframe srcdoc=\"&lt;!DOCTYPE html&gt;\n",
       "&lt;html&gt;\n",
       "&lt;head&gt;\n",
       "    \n",
       "    &lt;meta http-equiv=&quot;content-type&quot; content=&quot;text/html; charset=UTF-8&quot; /&gt;\n",
       "    \n",
       "        &lt;script&gt;\n",
       "            L_NO_TOUCH = false;\n",
       "            L_DISABLE_3D = false;\n",
       "        &lt;/script&gt;\n",
       "    \n",
       "    &lt;style&gt;html, body {width: 100%;height: 100%;margin: 0;padding: 0;}&lt;/style&gt;\n",
       "    &lt;style&gt;#map {position:absolute;top:0;bottom:0;right:0;left:0;}&lt;/style&gt;\n",
       "    &lt;script src=&quot;https://cdn.jsdelivr.net/npm/leaflet@1.9.3/dist/leaflet.js&quot;&gt;&lt;/script&gt;\n",
       "    &lt;script src=&quot;https://code.jquery.com/jquery-3.7.1.min.js&quot;&gt;&lt;/script&gt;\n",
       "    &lt;script src=&quot;https://cdn.jsdelivr.net/npm/bootstrap@5.2.2/dist/js/bootstrap.bundle.min.js&quot;&gt;&lt;/script&gt;\n",
       "    &lt;script src=&quot;https://cdnjs.cloudflare.com/ajax/libs/Leaflet.awesome-markers/2.0.2/leaflet.awesome-markers.js&quot;&gt;&lt;/script&gt;\n",
       "    &lt;link rel=&quot;stylesheet&quot; href=&quot;https://cdn.jsdelivr.net/npm/leaflet@1.9.3/dist/leaflet.css&quot;/&gt;\n",
       "    &lt;link rel=&quot;stylesheet&quot; href=&quot;https://cdn.jsdelivr.net/npm/bootstrap@5.2.2/dist/css/bootstrap.min.css&quot;/&gt;\n",
       "    &lt;link rel=&quot;stylesheet&quot; href=&quot;https://netdna.bootstrapcdn.com/bootstrap/3.0.0/css/bootstrap-glyphicons.css&quot;/&gt;\n",
       "    &lt;link rel=&quot;stylesheet&quot; href=&quot;https://cdn.jsdelivr.net/npm/@fortawesome/fontawesome-free@6.2.0/css/all.min.css&quot;/&gt;\n",
       "    &lt;link rel=&quot;stylesheet&quot; href=&quot;https://cdnjs.cloudflare.com/ajax/libs/Leaflet.awesome-markers/2.0.2/leaflet.awesome-markers.css&quot;/&gt;\n",
       "    &lt;link rel=&quot;stylesheet&quot; href=&quot;https://cdn.jsdelivr.net/gh/python-visualization/folium/folium/templates/leaflet.awesome.rotate.min.css&quot;/&gt;\n",
       "    \n",
       "            &lt;meta name=&quot;viewport&quot; content=&quot;width=device-width,\n",
       "                initial-scale=1.0, maximum-scale=1.0, user-scalable=no&quot; /&gt;\n",
       "            &lt;style&gt;\n",
       "                #map_b9cfbb1036899d1a8cd22a9522ebcb61 {\n",
       "                    position: relative;\n",
       "                    width: 100.0%;\n",
       "                    height: 100.0%;\n",
       "                    left: 0.0%;\n",
       "                    top: 0.0%;\n",
       "                }\n",
       "                .leaflet-container { font-size: 1rem; }\n",
       "            &lt;/style&gt;\n",
       "        \n",
       "&lt;/head&gt;\n",
       "&lt;body&gt;\n",
       "    \n",
       "    \n",
       "            &lt;div class=&quot;folium-map&quot; id=&quot;map_b9cfbb1036899d1a8cd22a9522ebcb61&quot; &gt;&lt;/div&gt;\n",
       "        \n",
       "&lt;/body&gt;\n",
       "&lt;script&gt;\n",
       "    \n",
       "    \n",
       "            var map_b9cfbb1036899d1a8cd22a9522ebcb61 = L.map(\n",
       "                &quot;map_b9cfbb1036899d1a8cd22a9522ebcb61&quot;,\n",
       "                {\n",
       "                    center: [-33.84565081436696, -70.91725911612781],\n",
       "                    crs: L.CRS.EPSG3857,\n",
       "                    zoom: 13,\n",
       "                    zoomControl: true,\n",
       "                    preferCanvas: false,\n",
       "                }\n",
       "            );\n",
       "\n",
       "            \n",
       "\n",
       "        \n",
       "    \n",
       "            var tile_layer_30d9baba190f1774b465cb03aab0d9cd = L.tileLayer(\n",
       "                &quot;https://tile.openstreetmap.org/{z}/{x}/{y}.png&quot;,\n",
       "                {&quot;attribution&quot;: &quot;\\u0026copy; \\u003ca href=\\&quot;https://www.openstreetmap.org/copyright\\&quot;\\u003eOpenStreetMap\\u003c/a\\u003e contributors&quot;, &quot;detectRetina&quot;: false, &quot;maxNativeZoom&quot;: 19, &quot;maxZoom&quot;: 19, &quot;minZoom&quot;: 0, &quot;noWrap&quot;: false, &quot;opacity&quot;: 1, &quot;subdomains&quot;: &quot;abc&quot;, &quot;tms&quot;: false}\n",
       "            );\n",
       "        \n",
       "    \n",
       "            tile_layer_30d9baba190f1774b465cb03aab0d9cd.addTo(map_b9cfbb1036899d1a8cd22a9522ebcb61);\n",
       "        \n",
       "    \n",
       "            var tile_layer_f48adaf6822016473c034200993089c5 = L.tileLayer(\n",
       "                &quot;https://mt1.google.com/vt/lyrs=s\\u0026x={x}\\u0026y={y}\\u0026z={z}&quot;,\n",
       "                {&quot;attribution&quot;: &quot;Google&quot;, &quot;detectRetina&quot;: false, &quot;maxZoom&quot;: 18, &quot;minZoom&quot;: 0, &quot;noWrap&quot;: false, &quot;opacity&quot;: 1, &quot;subdomains&quot;: &quot;abc&quot;, &quot;tms&quot;: false}\n",
       "            );\n",
       "        \n",
       "    \n",
       "            tile_layer_f48adaf6822016473c034200993089c5.addTo(map_b9cfbb1036899d1a8cd22a9522ebcb61);\n",
       "        \n",
       "    \n",
       "            var feature_group_aaf035c0b845dae7f2add2b3f3b8a42c = L.featureGroup(\n",
       "                {}\n",
       "            );\n",
       "        \n",
       "    \n",
       "        function geo_json_b9fe197f1489619eaa4404e745877a31_styler(feature) {\n",
       "            switch(feature.id) {\n",
       "                default:\n",
       "                    return {&quot;color&quot;: &quot;black&quot;, &quot;fillColor&quot;: &quot;#90ee90&quot;, &quot;fillOpacity&quot;: 0.5, &quot;weight&quot;: 1};\n",
       "            }\n",
       "        }\n",
       "\n",
       "        function geo_json_b9fe197f1489619eaa4404e745877a31_onEachFeature(feature, layer) {\n",
       "            layer.on({\n",
       "            });\n",
       "        };\n",
       "        var geo_json_b9fe197f1489619eaa4404e745877a31 = L.geoJson(null, {\n",
       "                onEachFeature: geo_json_b9fe197f1489619eaa4404e745877a31_onEachFeature,\n",
       "            \n",
       "                style: geo_json_b9fe197f1489619eaa4404e745877a31_styler,\n",
       "        });\n",
       "\n",
       "        function geo_json_b9fe197f1489619eaa4404e745877a31_add (data) {\n",
       "            geo_json_b9fe197f1489619eaa4404e745877a31\n",
       "                .addData(data);\n",
       "        }\n",
       "            geo_json_b9fe197f1489619eaa4404e745877a31_add({&quot;bbox&quot;: [-70.91723061023039, -33.85983867820348, -70.8654876498651, -33.773600410928005], &quot;features&quot;: [{&quot;bbox&quot;: [-70.8827353033202, -33.7908480643831, -70.8654876498651, -33.773600410928005], &quot;geometry&quot;: {&quot;coordinates&quot;: [[[-70.8654876498651, -33.7908480643831], [-70.8654876498651, -33.773600410928005], [-70.8827353033202, -33.773600410928005], [-70.8827353033202, -33.7908480643831], [-70.8654876498651, -33.7908480643831]]], &quot;type&quot;: &quot;Polygon&quot;}, &quot;id&quot;: &quot;7&quot;, &quot;properties&quot;: {&quot;color&quot;: &quot;#90ee90&quot;, &quot;id&quot;: &quot;lagunaaculeo-7&quot;, &quot;pred&quot;: &quot;AnnualCrop&quot;}, &quot;type&quot;: &quot;Feature&quot;}, {&quot;bbox&quot;: [-70.91723061023039, -33.85983867820348, -70.8999829567753, -33.84259102474839], &quot;geometry&quot;: {&quot;coordinates&quot;: [[[-70.8999829567753, -33.85983867820348], [-70.8999829567753, -33.84259102474839], [-70.91723061023039, -33.84259102474839], [-70.91723061023039, -33.85983867820348], [-70.8999829567753, -33.85983867820348]]], &quot;type&quot;: &quot;Polygon&quot;}, &quot;id&quot;: &quot;45&quot;, &quot;properties&quot;: {&quot;color&quot;: &quot;#90ee90&quot;, &quot;id&quot;: &quot;lagunaaculeo-45&quot;, &quot;pred&quot;: &quot;AnnualCrop&quot;}, &quot;type&quot;: &quot;Feature&quot;}], &quot;type&quot;: &quot;FeatureCollection&quot;});\n",
       "\n",
       "        \n",
       "    \n",
       "            geo_json_b9fe197f1489619eaa4404e745877a31.addTo(feature_group_aaf035c0b845dae7f2add2b3f3b8a42c);\n",
       "        \n",
       "    \n",
       "            feature_group_aaf035c0b845dae7f2add2b3f3b8a42c.addTo(map_b9cfbb1036899d1a8cd22a9522ebcb61);\n",
       "        \n",
       "    \n",
       "            var feature_group_260d884e46078a838b54cbb8fcf20d5b = L.featureGroup(\n",
       "                {}\n",
       "            );\n",
       "        \n",
       "    \n",
       "        function geo_json_209265acd2553b50b6337d45821b8214_styler(feature) {\n",
       "            switch(feature.id) {\n",
       "                default:\n",
       "                    return {&quot;color&quot;: &quot;black&quot;, &quot;fillColor&quot;: &quot;#9acd32&quot;, &quot;fillOpacity&quot;: 0.5, &quot;weight&quot;: 1};\n",
       "            }\n",
       "        }\n",
       "\n",
       "        function geo_json_209265acd2553b50b6337d45821b8214_onEachFeature(feature, layer) {\n",
       "            layer.on({\n",
       "            });\n",
       "        };\n",
       "        var geo_json_209265acd2553b50b6337d45821b8214 = L.geoJson(null, {\n",
       "                onEachFeature: geo_json_209265acd2553b50b6337d45821b8214_onEachFeature,\n",
       "            \n",
       "                style: geo_json_209265acd2553b50b6337d45821b8214_styler,\n",
       "        });\n",
       "\n",
       "        function geo_json_209265acd2553b50b6337d45821b8214_add (data) {\n",
       "            geo_json_209265acd2553b50b6337d45821b8214\n",
       "                .addData(data);\n",
       "        }\n",
       "            geo_json_209265acd2553b50b6337d45821b8214_add({&quot;bbox&quot;: [-71.00346887750587, -33.928829292023856, -70.83099234295491, -33.773600410928005], &quot;features&quot;: [{&quot;bbox&quot;: [-70.95172591714058, -33.7908480643831, -70.93447826368549, -33.773600410928005], &quot;geometry&quot;: {&quot;coordinates&quot;: [[[-70.93447826368549, -33.7908480643831], [-70.93447826368549, -33.773600410928005], [-70.95172591714058, -33.773600410928005], [-70.95172591714058, -33.7908480643831], [-70.93447826368549, -33.7908480643831]]], &quot;type&quot;: &quot;Polygon&quot;}, &quot;id&quot;: &quot;3&quot;, &quot;properties&quot;: {&quot;color&quot;: &quot;#9acd32&quot;, &quot;id&quot;: &quot;lagunaaculeo-3&quot;, &quot;pred&quot;: &quot;HerbaceousVegetation&quot;}, &quot;type&quot;: &quot;Feature&quot;}, {&quot;bbox&quot;: [-70.93447826368549, -33.7908480643831, -70.91723061023039, -33.773600410928005], &quot;geometry&quot;: {&quot;coordinates&quot;: [[[-70.91723061023039, -33.7908480643831], [-70.91723061023039, -33.773600410928005], [-70.93447826368549, -33.773600410928005], [-70.93447826368549, -33.7908480643831], [-70.91723061023039, -33.7908480643831]]], &quot;type&quot;: &quot;Polygon&quot;}, &quot;id&quot;: &quot;4&quot;, &quot;properties&quot;: {&quot;color&quot;: &quot;#9acd32&quot;, &quot;id&quot;: &quot;lagunaaculeo-4&quot;, &quot;pred&quot;: &quot;HerbaceousVegetation&quot;}, &quot;type&quot;: &quot;Feature&quot;}, {&quot;bbox&quot;: [-70.91723061023039, -33.7908480643831, -70.8999829567753, -33.773600410928005], &quot;geometry&quot;: {&quot;coordinates&quot;: [[[-70.8999829567753, -33.7908480643831], [-70.8999829567753, -33.773600410928005], [-70.91723061023039, -33.773600410928005], [-70.91723061023039, -33.7908480643831], [-70.8999829567753, -33.7908480643831]]], &quot;type&quot;: &quot;Polygon&quot;}, &quot;id&quot;: &quot;5&quot;, &quot;properties&quot;: {&quot;color&quot;: &quot;#9acd32&quot;, &quot;id&quot;: &quot;lagunaaculeo-5&quot;, &quot;pred&quot;: &quot;HerbaceousVegetation&quot;}, &quot;type&quot;: &quot;Feature&quot;}, {&quot;bbox&quot;: [-70.8999829567753, -33.7908480643831, -70.8827353033202, -33.773600410928005], &quot;geometry&quot;: {&quot;coordinates&quot;: [[[-70.8827353033202, -33.7908480643831], [-70.8827353033202, -33.773600410928005], [-70.8999829567753, -33.773600410928005], [-70.8999829567753, -33.7908480643831], [-70.8827353033202, -33.7908480643831]]], &quot;type&quot;: &quot;Polygon&quot;}, &quot;id&quot;: &quot;6&quot;, &quot;properties&quot;: {&quot;color&quot;: &quot;#9acd32&quot;, &quot;id&quot;: &quot;lagunaaculeo-6&quot;, &quot;pred&quot;: &quot;HerbaceousVegetation&quot;}, &quot;type&quot;: &quot;Feature&quot;}, {&quot;bbox&quot;: [-70.95172591714058, -33.80809571783819, -70.93447826368549, -33.7908480643831], &quot;geometry&quot;: {&quot;coordinates&quot;: [[[-70.93447826368549, -33.80809571783819], [-70.93447826368549, -33.7908480643831], [-70.95172591714058, -33.7908480643831], [-70.95172591714058, -33.80809571783819], [-70.93447826368549, -33.80809571783819]]], &quot;type&quot;: &quot;Polygon&quot;}, &quot;id&quot;: &quot;13&quot;, &quot;properties&quot;: {&quot;color&quot;: &quot;#9acd32&quot;, &quot;id&quot;: &quot;lagunaaculeo-13&quot;, &quot;pred&quot;: &quot;HerbaceousVegetation&quot;}, &quot;type&quot;: &quot;Feature&quot;}, {&quot;bbox&quot;: [-70.93447826368549, -33.80809571783819, -70.91723061023039, -33.7908480643831], &quot;geometry&quot;: {&quot;coordinates&quot;: [[[-70.91723061023039, -33.80809571783819], [-70.91723061023039, -33.7908480643831], [-70.93447826368549, -33.7908480643831], [-70.93447826368549, -33.80809571783819], [-70.91723061023039, -33.80809571783819]]], &quot;type&quot;: &quot;Polygon&quot;}, &quot;id&quot;: &quot;14&quot;, &quot;properties&quot;: {&quot;color&quot;: &quot;#9acd32&quot;, &quot;id&quot;: &quot;lagunaaculeo-14&quot;, &quot;pred&quot;: &quot;HerbaceousVegetation&quot;}, &quot;type&quot;: &quot;Feature&quot;}, {&quot;bbox&quot;: [-70.91723061023039, -33.80809571783819, -70.8999829567753, -33.7908480643831], &quot;geometry&quot;: {&quot;coordinates&quot;: [[[-70.8999829567753, -33.80809571783819], [-70.8999829567753, -33.7908480643831], [-70.91723061023039, -33.7908480643831], [-70.91723061023039, -33.80809571783819], [-70.8999829567753, -33.80809571783819]]], &quot;type&quot;: &quot;Polygon&quot;}, &quot;id&quot;: &quot;15&quot;, &quot;properties&quot;: {&quot;color&quot;: &quot;#9acd32&quot;, &quot;id&quot;: &quot;lagunaaculeo-15&quot;, &quot;pred&quot;: &quot;HerbaceousVegetation&quot;}, &quot;type&quot;: &quot;Feature&quot;}, {&quot;bbox&quot;: [-70.8999829567753, -33.80809571783819, -70.8827353033202, -33.7908480643831], &quot;geometry&quot;: {&quot;coordinates&quot;: [[[-70.8827353033202, -33.80809571783819], [-70.8827353033202, -33.7908480643831], [-70.8999829567753, -33.7908480643831], [-70.8999829567753, -33.80809571783819], [-70.8827353033202, -33.80809571783819]]], &quot;type&quot;: &quot;Polygon&quot;}, &quot;id&quot;: &quot;16&quot;, &quot;properties&quot;: {&quot;color&quot;: &quot;#9acd32&quot;, &quot;id&quot;: &quot;lagunaaculeo-16&quot;, &quot;pred&quot;: &quot;HerbaceousVegetation&quot;}, &quot;type&quot;: &quot;Feature&quot;}, {&quot;bbox&quot;: [-70.8827353033202, -33.80809571783819, -70.8654876498651, -33.7908480643831], &quot;geometry&quot;: {&quot;coordinates&quot;: [[[-70.8654876498651, -33.80809571783819], [-70.8654876498651, -33.7908480643831], [-70.8827353033202, -33.7908480643831], [-70.8827353033202, -33.80809571783819], [-70.8654876498651, -33.80809571783819]]], &quot;type&quot;: &quot;Polygon&quot;}, &quot;id&quot;: &quot;17&quot;, &quot;properties&quot;: {&quot;color&quot;: &quot;#9acd32&quot;, &quot;id&quot;: &quot;lagunaaculeo-17&quot;, &quot;pred&quot;: &quot;HerbaceousVegetation&quot;}, &quot;type&quot;: &quot;Feature&quot;}, {&quot;bbox&quot;: [-70.8654876498651, -33.80809571783819, -70.84823999641002, -33.7908480643831], &quot;geometry&quot;: {&quot;coordinates&quot;: [[[-70.84823999641002, -33.80809571783819], [-70.84823999641002, -33.7908480643831], [-70.8654876498651, -33.7908480643831], [-70.8654876498651, -33.80809571783819], [-70.84823999641002, -33.80809571783819]]], &quot;type&quot;: &quot;Polygon&quot;}, &quot;id&quot;: &quot;18&quot;, &quot;properties&quot;: {&quot;color&quot;: &quot;#9acd32&quot;, &quot;id&quot;: &quot;lagunaaculeo-18&quot;, &quot;pred&quot;: &quot;HerbaceousVegetation&quot;}, &quot;type&quot;: &quot;Feature&quot;}, {&quot;bbox&quot;: [-70.98622122405077, -33.825343371293286, -70.96897357059568, -33.80809571783819], &quot;geometry&quot;: {&quot;coordinates&quot;: [[[-70.96897357059568, -33.825343371293286], [-70.96897357059568, -33.80809571783819], [-70.98622122405077, -33.80809571783819], [-70.98622122405077, -33.825343371293286], [-70.96897357059568, -33.825343371293286]]], &quot;type&quot;: &quot;Polygon&quot;}, &quot;id&quot;: &quot;21&quot;, &quot;properties&quot;: {&quot;color&quot;: &quot;#9acd32&quot;, &quot;id&quot;: &quot;lagunaaculeo-21&quot;, &quot;pred&quot;: &quot;HerbaceousVegetation&quot;}, &quot;type&quot;: &quot;Feature&quot;}, {&quot;bbox&quot;: [-70.96897357059568, -33.825343371293286, -70.95172591714058, -33.80809571783819], &quot;geometry&quot;: {&quot;coordinates&quot;: [[[-70.95172591714058, -33.825343371293286], [-70.95172591714058, -33.80809571783819], [-70.96897357059568, -33.80809571783819], [-70.96897357059568, -33.825343371293286], [-70.95172591714058, -33.825343371293286]]], &quot;type&quot;: &quot;Polygon&quot;}, &quot;id&quot;: &quot;22&quot;, &quot;properties&quot;: {&quot;color&quot;: &quot;#9acd32&quot;, &quot;id&quot;: &quot;lagunaaculeo-22&quot;, &quot;pred&quot;: &quot;HerbaceousVegetation&quot;}, &quot;type&quot;: &quot;Feature&quot;}, {&quot;bbox&quot;: [-70.95172591714058, -33.825343371293286, -70.93447826368549, -33.80809571783819], &quot;geometry&quot;: {&quot;coordinates&quot;: [[[-70.93447826368549, -33.825343371293286], [-70.93447826368549, -33.80809571783819], [-70.95172591714058, -33.80809571783819], [-70.95172591714058, -33.825343371293286], [-70.93447826368549, -33.825343371293286]]], &quot;type&quot;: &quot;Polygon&quot;}, &quot;id&quot;: &quot;23&quot;, &quot;properties&quot;: {&quot;color&quot;: &quot;#9acd32&quot;, &quot;id&quot;: &quot;lagunaaculeo-23&quot;, &quot;pred&quot;: &quot;HerbaceousVegetation&quot;}, &quot;type&quot;: &quot;Feature&quot;}, {&quot;bbox&quot;: [-70.93447826368549, -33.825343371293286, -70.91723061023039, -33.80809571783819], &quot;geometry&quot;: {&quot;coordinates&quot;: [[[-70.91723061023039, -33.825343371293286], [-70.91723061023039, -33.80809571783819], [-70.93447826368549, -33.80809571783819], [-70.93447826368549, -33.825343371293286], [-70.91723061023039, -33.825343371293286]]], &quot;type&quot;: &quot;Polygon&quot;}, &quot;id&quot;: &quot;24&quot;, &quot;properties&quot;: {&quot;color&quot;: &quot;#9acd32&quot;, &quot;id&quot;: &quot;lagunaaculeo-24&quot;, &quot;pred&quot;: &quot;HerbaceousVegetation&quot;}, &quot;type&quot;: &quot;Feature&quot;}, {&quot;bbox&quot;: [-70.91723061023039, -33.825343371293286, -70.8999829567753, -33.80809571783819], &quot;geometry&quot;: {&quot;coordinates&quot;: [[[-70.8999829567753, -33.825343371293286], [-70.8999829567753, -33.80809571783819], [-70.91723061023039, -33.80809571783819], [-70.91723061023039, -33.825343371293286], [-70.8999829567753, -33.825343371293286]]], &quot;type&quot;: &quot;Polygon&quot;}, &quot;id&quot;: &quot;25&quot;, &quot;properties&quot;: {&quot;color&quot;: &quot;#9acd32&quot;, &quot;id&quot;: &quot;lagunaaculeo-25&quot;, &quot;pred&quot;: &quot;HerbaceousVegetation&quot;}, &quot;type&quot;: &quot;Feature&quot;}, {&quot;bbox&quot;: [-70.8999829567753, -33.825343371293286, -70.8827353033202, -33.80809571783819], &quot;geometry&quot;: {&quot;coordinates&quot;: [[[-70.8827353033202, -33.825343371293286], [-70.8827353033202, -33.80809571783819], [-70.8999829567753, -33.80809571783819], [-70.8999829567753, -33.825343371293286], [-70.8827353033202, -33.825343371293286]]], &quot;type&quot;: &quot;Polygon&quot;}, &quot;id&quot;: &quot;26&quot;, &quot;properties&quot;: {&quot;color&quot;: &quot;#9acd32&quot;, &quot;id&quot;: &quot;lagunaaculeo-26&quot;, &quot;pred&quot;: &quot;HerbaceousVegetation&quot;}, &quot;type&quot;: &quot;Feature&quot;}, {&quot;bbox&quot;: [-70.8827353033202, -33.825343371293286, -70.8654876498651, -33.80809571783819], &quot;geometry&quot;: {&quot;coordinates&quot;: [[[-70.8654876498651, -33.825343371293286], [-70.8654876498651, -33.80809571783819], [-70.8827353033202, -33.80809571783819], [-70.8827353033202, -33.825343371293286], [-70.8654876498651, -33.825343371293286]]], &quot;type&quot;: &quot;Polygon&quot;}, &quot;id&quot;: &quot;27&quot;, &quot;properties&quot;: {&quot;color&quot;: &quot;#9acd32&quot;, &quot;id&quot;: &quot;lagunaaculeo-27&quot;, &quot;pred&quot;: &quot;HerbaceousVegetation&quot;}, &quot;type&quot;: &quot;Feature&quot;}, {&quot;bbox&quot;: [-70.8654876498651, -33.825343371293286, -70.84823999641002, -33.80809571783819], &quot;geometry&quot;: {&quot;coordinates&quot;: [[[-70.84823999641002, -33.825343371293286], [-70.84823999641002, -33.80809571783819], [-70.8654876498651, -33.80809571783819], [-70.8654876498651, -33.825343371293286], [-70.84823999641002, -33.825343371293286]]], &quot;type&quot;: &quot;Polygon&quot;}, &quot;id&quot;: &quot;28&quot;, &quot;properties&quot;: {&quot;color&quot;: &quot;#9acd32&quot;, &quot;id&quot;: &quot;lagunaaculeo-28&quot;, &quot;pred&quot;: &quot;HerbaceousVegetation&quot;}, &quot;type&quot;: &quot;Feature&quot;}, {&quot;bbox&quot;: [-70.84823999641002, -33.825343371293286, -70.83099234295491, -33.80809571783819], &quot;geometry&quot;: {&quot;coordinates&quot;: [[[-70.83099234295491, -33.825343371293286], [-70.83099234295491, -33.80809571783819], [-70.84823999641002, -33.80809571783819], [-70.84823999641002, -33.825343371293286], [-70.83099234295491, -33.825343371293286]]], &quot;type&quot;: &quot;Polygon&quot;}, &quot;id&quot;: &quot;29&quot;, &quot;properties&quot;: {&quot;color&quot;: &quot;#9acd32&quot;, &quot;id&quot;: &quot;lagunaaculeo-29&quot;, &quot;pred&quot;: &quot;HerbaceousVegetation&quot;}, &quot;type&quot;: &quot;Feature&quot;}, {&quot;bbox&quot;: [-70.98622122405077, -33.84259102474839, -70.96897357059568, -33.825343371293286], &quot;geometry&quot;: {&quot;coordinates&quot;: [[[-70.96897357059568, -33.84259102474839], [-70.96897357059568, -33.825343371293286], [-70.98622122405077, -33.825343371293286], [-70.98622122405077, -33.84259102474839], [-70.96897357059568, -33.84259102474839]]], &quot;type&quot;: &quot;Polygon&quot;}, &quot;id&quot;: &quot;31&quot;, &quot;properties&quot;: {&quot;color&quot;: &quot;#9acd32&quot;, &quot;id&quot;: &quot;lagunaaculeo-31&quot;, &quot;pred&quot;: &quot;HerbaceousVegetation&quot;}, &quot;type&quot;: &quot;Feature&quot;}, {&quot;bbox&quot;: [-70.96897357059568, -33.84259102474839, -70.95172591714058, -33.825343371293286], &quot;geometry&quot;: {&quot;coordinates&quot;: [[[-70.95172591714058, -33.84259102474839], [-70.95172591714058, -33.825343371293286], [-70.96897357059568, -33.825343371293286], [-70.96897357059568, -33.84259102474839], [-70.95172591714058, -33.84259102474839]]], &quot;type&quot;: &quot;Polygon&quot;}, &quot;id&quot;: &quot;32&quot;, &quot;properties&quot;: {&quot;color&quot;: &quot;#9acd32&quot;, &quot;id&quot;: &quot;lagunaaculeo-32&quot;, &quot;pred&quot;: &quot;HerbaceousVegetation&quot;}, &quot;type&quot;: &quot;Feature&quot;}, {&quot;bbox&quot;: [-70.95172591714058, -33.84259102474839, -70.93447826368549, -33.825343371293286], &quot;geometry&quot;: {&quot;coordinates&quot;: [[[-70.93447826368549, -33.84259102474839], [-70.93447826368549, -33.825343371293286], [-70.95172591714058, -33.825343371293286], [-70.95172591714058, -33.84259102474839], [-70.93447826368549, -33.84259102474839]]], &quot;type&quot;: &quot;Polygon&quot;}, &quot;id&quot;: &quot;33&quot;, &quot;properties&quot;: {&quot;color&quot;: &quot;#9acd32&quot;, &quot;id&quot;: &quot;lagunaaculeo-33&quot;, &quot;pred&quot;: &quot;HerbaceousVegetation&quot;}, &quot;type&quot;: &quot;Feature&quot;}, {&quot;bbox&quot;: [-70.93447826368549, -33.84259102474839, -70.91723061023039, -33.825343371293286], &quot;geometry&quot;: {&quot;coordinates&quot;: [[[-70.91723061023039, -33.84259102474839], [-70.91723061023039, -33.825343371293286], [-70.93447826368549, -33.825343371293286], [-70.93447826368549, -33.84259102474839], [-70.91723061023039, -33.84259102474839]]], &quot;type&quot;: &quot;Polygon&quot;}, &quot;id&quot;: &quot;34&quot;, &quot;properties&quot;: {&quot;color&quot;: &quot;#9acd32&quot;, &quot;id&quot;: &quot;lagunaaculeo-34&quot;, &quot;pred&quot;: &quot;HerbaceousVegetation&quot;}, &quot;type&quot;: &quot;Feature&quot;}, {&quot;bbox&quot;: [-70.91723061023039, -33.84259102474839, -70.8999829567753, -33.825343371293286], &quot;geometry&quot;: {&quot;coordinates&quot;: [[[-70.8999829567753, -33.84259102474839], [-70.8999829567753, -33.825343371293286], [-70.91723061023039, -33.825343371293286], [-70.91723061023039, -33.84259102474839], [-70.8999829567753, -33.84259102474839]]], &quot;type&quot;: &quot;Polygon&quot;}, &quot;id&quot;: &quot;35&quot;, &quot;properties&quot;: {&quot;color&quot;: &quot;#9acd32&quot;, &quot;id&quot;: &quot;lagunaaculeo-35&quot;, &quot;pred&quot;: &quot;HerbaceousVegetation&quot;}, &quot;type&quot;: &quot;Feature&quot;}, {&quot;bbox&quot;: [-70.8999829567753, -33.84259102474839, -70.8827353033202, -33.825343371293286], &quot;geometry&quot;: {&quot;coordinates&quot;: [[[-70.8827353033202, -33.84259102474839], [-70.8827353033202, -33.825343371293286], [-70.8999829567753, -33.825343371293286], [-70.8999829567753, -33.84259102474839], [-70.8827353033202, -33.84259102474839]]], &quot;type&quot;: &quot;Polygon&quot;}, &quot;id&quot;: &quot;36&quot;, &quot;properties&quot;: {&quot;color&quot;: &quot;#9acd32&quot;, &quot;id&quot;: &quot;lagunaaculeo-36&quot;, &quot;pred&quot;: &quot;HerbaceousVegetation&quot;}, &quot;type&quot;: &quot;Feature&quot;}, {&quot;bbox&quot;: [-70.8827353033202, -33.84259102474839, -70.8654876498651, -33.825343371293286], &quot;geometry&quot;: {&quot;coordinates&quot;: [[[-70.8654876498651, -33.84259102474839], [-70.8654876498651, -33.825343371293286], [-70.8827353033202, -33.825343371293286], [-70.8827353033202, -33.84259102474839], [-70.8654876498651, -33.84259102474839]]], &quot;type&quot;: &quot;Polygon&quot;}, &quot;id&quot;: &quot;37&quot;, &quot;properties&quot;: {&quot;color&quot;: &quot;#9acd32&quot;, &quot;id&quot;: &quot;lagunaaculeo-37&quot;, &quot;pred&quot;: &quot;HerbaceousVegetation&quot;}, &quot;type&quot;: &quot;Feature&quot;}, {&quot;bbox&quot;: [-70.8654876498651, -33.84259102474839, -70.84823999641002, -33.825343371293286], &quot;geometry&quot;: {&quot;coordinates&quot;: [[[-70.84823999641002, -33.84259102474839], [-70.84823999641002, -33.825343371293286], [-70.8654876498651, -33.825343371293286], [-70.8654876498651, -33.84259102474839], [-70.84823999641002, -33.84259102474839]]], &quot;type&quot;: &quot;Polygon&quot;}, &quot;id&quot;: &quot;38&quot;, &quot;properties&quot;: {&quot;color&quot;: &quot;#9acd32&quot;, &quot;id&quot;: &quot;lagunaaculeo-38&quot;, &quot;pred&quot;: &quot;HerbaceousVegetation&quot;}, &quot;type&quot;: &quot;Feature&quot;}, {&quot;bbox&quot;: [-70.84823999641002, -33.84259102474839, -70.83099234295491, -33.825343371293286], &quot;geometry&quot;: {&quot;coordinates&quot;: [[[-70.83099234295491, -33.84259102474839], [-70.83099234295491, -33.825343371293286], [-70.84823999641002, -33.825343371293286], [-70.84823999641002, -33.84259102474839], [-70.83099234295491, -33.84259102474839]]], &quot;type&quot;: &quot;Polygon&quot;}, &quot;id&quot;: &quot;39&quot;, &quot;properties&quot;: {&quot;color&quot;: &quot;#9acd32&quot;, &quot;id&quot;: &quot;lagunaaculeo-39&quot;, &quot;pred&quot;: &quot;HerbaceousVegetation&quot;}, &quot;type&quot;: &quot;Feature&quot;}, {&quot;bbox&quot;: [-71.00346887750587, -33.85983867820348, -70.98622122405077, -33.84259102474839], &quot;geometry&quot;: {&quot;coordinates&quot;: [[[-70.98622122405077, -33.85983867820348], [-70.98622122405077, -33.84259102474839], [-71.00346887750587, -33.84259102474839], [-71.00346887750587, -33.85983867820348], [-70.98622122405077, -33.85983867820348]]], &quot;type&quot;: &quot;Polygon&quot;}, &quot;id&quot;: &quot;40&quot;, &quot;properties&quot;: {&quot;color&quot;: &quot;#9acd32&quot;, &quot;id&quot;: &quot;lagunaaculeo-40&quot;, &quot;pred&quot;: &quot;HerbaceousVegetation&quot;}, &quot;type&quot;: &quot;Feature&quot;}, {&quot;bbox&quot;: [-70.98622122405077, -33.85983867820348, -70.96897357059568, -33.84259102474839], &quot;geometry&quot;: {&quot;coordinates&quot;: [[[-70.96897357059568, -33.85983867820348], [-70.96897357059568, -33.84259102474839], [-70.98622122405077, -33.84259102474839], [-70.98622122405077, -33.85983867820348], [-70.96897357059568, -33.85983867820348]]], &quot;type&quot;: &quot;Polygon&quot;}, &quot;id&quot;: &quot;41&quot;, &quot;properties&quot;: {&quot;color&quot;: &quot;#9acd32&quot;, &quot;id&quot;: &quot;lagunaaculeo-41&quot;, &quot;pred&quot;: &quot;HerbaceousVegetation&quot;}, &quot;type&quot;: &quot;Feature&quot;}, {&quot;bbox&quot;: [-70.96897357059568, -33.85983867820348, -70.95172591714058, -33.84259102474839], &quot;geometry&quot;: {&quot;coordinates&quot;: [[[-70.95172591714058, -33.85983867820348], [-70.95172591714058, -33.84259102474839], [-70.96897357059568, -33.84259102474839], [-70.96897357059568, -33.85983867820348], [-70.95172591714058, -33.85983867820348]]], &quot;type&quot;: &quot;Polygon&quot;}, &quot;id&quot;: &quot;42&quot;, &quot;properties&quot;: {&quot;color&quot;: &quot;#9acd32&quot;, &quot;id&quot;: &quot;lagunaaculeo-42&quot;, &quot;pred&quot;: &quot;HerbaceousVegetation&quot;}, &quot;type&quot;: &quot;Feature&quot;}, {&quot;bbox&quot;: [-70.95172591714058, -33.85983867820348, -70.93447826368549, -33.84259102474839], &quot;geometry&quot;: {&quot;coordinates&quot;: [[[-70.93447826368549, -33.85983867820348], [-70.93447826368549, -33.84259102474839], [-70.95172591714058, -33.84259102474839], [-70.95172591714058, -33.85983867820348], [-70.93447826368549, -33.85983867820348]]], &quot;type&quot;: &quot;Polygon&quot;}, &quot;id&quot;: &quot;43&quot;, &quot;properties&quot;: {&quot;color&quot;: &quot;#9acd32&quot;, &quot;id&quot;: &quot;lagunaaculeo-43&quot;, &quot;pred&quot;: &quot;HerbaceousVegetation&quot;}, &quot;type&quot;: &quot;Feature&quot;}, {&quot;bbox&quot;: [-70.93447826368549, -33.85983867820348, -70.91723061023039, -33.84259102474839], &quot;geometry&quot;: {&quot;coordinates&quot;: [[[-70.91723061023039, -33.85983867820348], [-70.91723061023039, -33.84259102474839], [-70.93447826368549, -33.84259102474839], [-70.93447826368549, -33.85983867820348], [-70.91723061023039, -33.85983867820348]]], &quot;type&quot;: &quot;Polygon&quot;}, &quot;id&quot;: &quot;44&quot;, &quot;properties&quot;: {&quot;color&quot;: &quot;#9acd32&quot;, &quot;id&quot;: &quot;lagunaaculeo-44&quot;, &quot;pred&quot;: &quot;HerbaceousVegetation&quot;}, &quot;type&quot;: &quot;Feature&quot;}, {&quot;bbox&quot;: [-70.8999829567753, -33.85983867820348, -70.8827353033202, -33.84259102474839], &quot;geometry&quot;: {&quot;coordinates&quot;: [[[-70.8827353033202, -33.85983867820348], [-70.8827353033202, -33.84259102474839], [-70.8999829567753, -33.84259102474839], [-70.8999829567753, -33.85983867820348], [-70.8827353033202, -33.85983867820348]]], &quot;type&quot;: &quot;Polygon&quot;}, &quot;id&quot;: &quot;46&quot;, &quot;properties&quot;: {&quot;color&quot;: &quot;#9acd32&quot;, &quot;id&quot;: &quot;lagunaaculeo-46&quot;, &quot;pred&quot;: &quot;HerbaceousVegetation&quot;}, &quot;type&quot;: &quot;Feature&quot;}, {&quot;bbox&quot;: [-70.8827353033202, -33.85983867820348, -70.8654876498651, -33.84259102474839], &quot;geometry&quot;: {&quot;coordinates&quot;: [[[-70.8654876498651, -33.85983867820348], [-70.8654876498651, -33.84259102474839], [-70.8827353033202, -33.84259102474839], [-70.8827353033202, -33.85983867820348], [-70.8654876498651, -33.85983867820348]]], &quot;type&quot;: &quot;Polygon&quot;}, &quot;id&quot;: &quot;47&quot;, &quot;properties&quot;: {&quot;color&quot;: &quot;#9acd32&quot;, &quot;id&quot;: &quot;lagunaaculeo-47&quot;, &quot;pred&quot;: &quot;HerbaceousVegetation&quot;}, &quot;type&quot;: &quot;Feature&quot;}, {&quot;bbox&quot;: [-70.8654876498651, -33.85983867820348, -70.84823999641002, -33.84259102474839], &quot;geometry&quot;: {&quot;coordinates&quot;: [[[-70.84823999641002, -33.85983867820348], [-70.84823999641002, -33.84259102474839], [-70.8654876498651, -33.84259102474839], [-70.8654876498651, -33.85983867820348], [-70.84823999641002, -33.85983867820348]]], &quot;type&quot;: &quot;Polygon&quot;}, &quot;id&quot;: &quot;48&quot;, &quot;properties&quot;: {&quot;color&quot;: &quot;#9acd32&quot;, &quot;id&quot;: &quot;lagunaaculeo-48&quot;, &quot;pred&quot;: &quot;HerbaceousVegetation&quot;}, &quot;type&quot;: &quot;Feature&quot;}, {&quot;bbox&quot;: [-70.84823999641002, -33.85983867820348, -70.83099234295491, -33.84259102474839], &quot;geometry&quot;: {&quot;coordinates&quot;: [[[-70.83099234295491, -33.85983867820348], [-70.83099234295491, -33.84259102474839], [-70.84823999641002, -33.84259102474839], [-70.84823999641002, -33.85983867820348], [-70.83099234295491, -33.85983867820348]]], &quot;type&quot;: &quot;Polygon&quot;}, &quot;id&quot;: &quot;49&quot;, &quot;properties&quot;: {&quot;color&quot;: &quot;#9acd32&quot;, &quot;id&quot;: &quot;lagunaaculeo-49&quot;, &quot;pred&quot;: &quot;HerbaceousVegetation&quot;}, &quot;type&quot;: &quot;Feature&quot;}, {&quot;bbox&quot;: [-70.98622122405077, -33.877086331658575, -70.96897357059568, -33.85983867820348], &quot;geometry&quot;: {&quot;coordinates&quot;: [[[-70.96897357059568, -33.877086331658575], [-70.96897357059568, -33.85983867820348], [-70.98622122405077, -33.85983867820348], [-70.98622122405077, -33.877086331658575], [-70.96897357059568, -33.877086331658575]]], &quot;type&quot;: &quot;Polygon&quot;}, &quot;id&quot;: &quot;51&quot;, &quot;properties&quot;: {&quot;color&quot;: &quot;#9acd32&quot;, &quot;id&quot;: &quot;lagunaaculeo-51&quot;, &quot;pred&quot;: &quot;HerbaceousVegetation&quot;}, &quot;type&quot;: &quot;Feature&quot;}, {&quot;bbox&quot;: [-70.96897357059568, -33.877086331658575, -70.95172591714058, -33.85983867820348], &quot;geometry&quot;: {&quot;coordinates&quot;: [[[-70.95172591714058, -33.877086331658575], [-70.95172591714058, -33.85983867820348], [-70.96897357059568, -33.85983867820348], [-70.96897357059568, -33.877086331658575], [-70.95172591714058, -33.877086331658575]]], &quot;type&quot;: &quot;Polygon&quot;}, &quot;id&quot;: &quot;52&quot;, &quot;properties&quot;: {&quot;color&quot;: &quot;#9acd32&quot;, &quot;id&quot;: &quot;lagunaaculeo-52&quot;, &quot;pred&quot;: &quot;HerbaceousVegetation&quot;}, &quot;type&quot;: &quot;Feature&quot;}, {&quot;bbox&quot;: [-70.95172591714058, -33.877086331658575, -70.93447826368549, -33.85983867820348], &quot;geometry&quot;: {&quot;coordinates&quot;: [[[-70.93447826368549, -33.877086331658575], [-70.93447826368549, -33.85983867820348], [-70.95172591714058, -33.85983867820348], [-70.95172591714058, -33.877086331658575], [-70.93447826368549, -33.877086331658575]]], &quot;type&quot;: &quot;Polygon&quot;}, &quot;id&quot;: &quot;53&quot;, &quot;properties&quot;: {&quot;color&quot;: &quot;#9acd32&quot;, &quot;id&quot;: &quot;lagunaaculeo-53&quot;, &quot;pred&quot;: &quot;HerbaceousVegetation&quot;}, &quot;type&quot;: &quot;Feature&quot;}, {&quot;bbox&quot;: [-70.93447826368549, -33.877086331658575, -70.91723061023039, -33.85983867820348], &quot;geometry&quot;: {&quot;coordinates&quot;: [[[-70.91723061023039, -33.877086331658575], [-70.91723061023039, -33.85983867820348], [-70.93447826368549, -33.85983867820348], [-70.93447826368549, -33.877086331658575], [-70.91723061023039, -33.877086331658575]]], &quot;type&quot;: &quot;Polygon&quot;}, &quot;id&quot;: &quot;54&quot;, &quot;properties&quot;: {&quot;color&quot;: &quot;#9acd32&quot;, &quot;id&quot;: &quot;lagunaaculeo-54&quot;, &quot;pred&quot;: &quot;HerbaceousVegetation&quot;}, &quot;type&quot;: &quot;Feature&quot;}, {&quot;bbox&quot;: [-70.91723061023039, -33.877086331658575, -70.8999829567753, -33.85983867820348], &quot;geometry&quot;: {&quot;coordinates&quot;: [[[-70.8999829567753, -33.877086331658575], [-70.8999829567753, -33.85983867820348], [-70.91723061023039, -33.85983867820348], [-70.91723061023039, -33.877086331658575], [-70.8999829567753, -33.877086331658575]]], &quot;type&quot;: &quot;Polygon&quot;}, &quot;id&quot;: &quot;55&quot;, &quot;properties&quot;: {&quot;color&quot;: &quot;#9acd32&quot;, &quot;id&quot;: &quot;lagunaaculeo-55&quot;, &quot;pred&quot;: &quot;HerbaceousVegetation&quot;}, &quot;type&quot;: &quot;Feature&quot;}, {&quot;bbox&quot;: [-70.8827353033202, -33.877086331658575, -70.8654876498651, -33.85983867820348], &quot;geometry&quot;: {&quot;coordinates&quot;: [[[-70.8654876498651, -33.877086331658575], [-70.8654876498651, -33.85983867820348], [-70.8827353033202, -33.85983867820348], [-70.8827353033202, -33.877086331658575], [-70.8654876498651, -33.877086331658575]]], &quot;type&quot;: &quot;Polygon&quot;}, &quot;id&quot;: &quot;57&quot;, &quot;properties&quot;: {&quot;color&quot;: &quot;#9acd32&quot;, &quot;id&quot;: &quot;lagunaaculeo-57&quot;, &quot;pred&quot;: &quot;HerbaceousVegetation&quot;}, &quot;type&quot;: &quot;Feature&quot;}, {&quot;bbox&quot;: [-70.8654876498651, -33.877086331658575, -70.84823999641002, -33.85983867820348], &quot;geometry&quot;: {&quot;coordinates&quot;: [[[-70.84823999641002, -33.877086331658575], [-70.84823999641002, -33.85983867820348], [-70.8654876498651, -33.85983867820348], [-70.8654876498651, -33.877086331658575], [-70.84823999641002, -33.877086331658575]]], &quot;type&quot;: &quot;Polygon&quot;}, &quot;id&quot;: &quot;58&quot;, &quot;properties&quot;: {&quot;color&quot;: &quot;#9acd32&quot;, &quot;id&quot;: &quot;lagunaaculeo-58&quot;, &quot;pred&quot;: &quot;HerbaceousVegetation&quot;}, &quot;type&quot;: &quot;Feature&quot;}, {&quot;bbox&quot;: [-70.98622122405077, -33.89433398511367, -70.96897357059568, -33.877086331658575], &quot;geometry&quot;: {&quot;coordinates&quot;: [[[-70.96897357059568, -33.89433398511367], [-70.96897357059568, -33.877086331658575], [-70.98622122405077, -33.877086331658575], [-70.98622122405077, -33.89433398511367], [-70.96897357059568, -33.89433398511367]]], &quot;type&quot;: &quot;Polygon&quot;}, &quot;id&quot;: &quot;61&quot;, &quot;properties&quot;: {&quot;color&quot;: &quot;#9acd32&quot;, &quot;id&quot;: &quot;lagunaaculeo-61&quot;, &quot;pred&quot;: &quot;HerbaceousVegetation&quot;}, &quot;type&quot;: &quot;Feature&quot;}, {&quot;bbox&quot;: [-70.96897357059568, -33.89433398511367, -70.95172591714058, -33.877086331658575], &quot;geometry&quot;: {&quot;coordinates&quot;: [[[-70.95172591714058, -33.89433398511367], [-70.95172591714058, -33.877086331658575], [-70.96897357059568, -33.877086331658575], [-70.96897357059568, -33.89433398511367], [-70.95172591714058, -33.89433398511367]]], &quot;type&quot;: &quot;Polygon&quot;}, &quot;id&quot;: &quot;62&quot;, &quot;properties&quot;: {&quot;color&quot;: &quot;#9acd32&quot;, &quot;id&quot;: &quot;lagunaaculeo-62&quot;, &quot;pred&quot;: &quot;HerbaceousVegetation&quot;}, &quot;type&quot;: &quot;Feature&quot;}, {&quot;bbox&quot;: [-70.95172591714058, -33.89433398511367, -70.93447826368549, -33.877086331658575], &quot;geometry&quot;: {&quot;coordinates&quot;: [[[-70.93447826368549, -33.89433398511367], [-70.93447826368549, -33.877086331658575], [-70.95172591714058, -33.877086331658575], [-70.95172591714058, -33.89433398511367], [-70.93447826368549, -33.89433398511367]]], &quot;type&quot;: &quot;Polygon&quot;}, &quot;id&quot;: &quot;63&quot;, &quot;properties&quot;: {&quot;color&quot;: &quot;#9acd32&quot;, &quot;id&quot;: &quot;lagunaaculeo-63&quot;, &quot;pred&quot;: &quot;HerbaceousVegetation&quot;}, &quot;type&quot;: &quot;Feature&quot;}, {&quot;bbox&quot;: [-70.93447826368549, -33.89433398511367, -70.91723061023039, -33.877086331658575], &quot;geometry&quot;: {&quot;coordinates&quot;: [[[-70.91723061023039, -33.89433398511367], [-70.91723061023039, -33.877086331658575], [-70.93447826368549, -33.877086331658575], [-70.93447826368549, -33.89433398511367], [-70.91723061023039, -33.89433398511367]]], &quot;type&quot;: &quot;Polygon&quot;}, &quot;id&quot;: &quot;64&quot;, &quot;properties&quot;: {&quot;color&quot;: &quot;#9acd32&quot;, &quot;id&quot;: &quot;lagunaaculeo-64&quot;, &quot;pred&quot;: &quot;HerbaceousVegetation&quot;}, &quot;type&quot;: &quot;Feature&quot;}, {&quot;bbox&quot;: [-70.91723061023039, -33.89433398511367, -70.8999829567753, -33.877086331658575], &quot;geometry&quot;: {&quot;coordinates&quot;: [[[-70.8999829567753, -33.89433398511367], [-70.8999829567753, -33.877086331658575], [-70.91723061023039, -33.877086331658575], [-70.91723061023039, -33.89433398511367], [-70.8999829567753, -33.89433398511367]]], &quot;type&quot;: &quot;Polygon&quot;}, &quot;id&quot;: &quot;65&quot;, &quot;properties&quot;: {&quot;color&quot;: &quot;#9acd32&quot;, &quot;id&quot;: &quot;lagunaaculeo-65&quot;, &quot;pred&quot;: &quot;HerbaceousVegetation&quot;}, &quot;type&quot;: &quot;Feature&quot;}, {&quot;bbox&quot;: [-70.8999829567753, -33.89433398511367, -70.8827353033202, -33.877086331658575], &quot;geometry&quot;: {&quot;coordinates&quot;: [[[-70.8827353033202, -33.89433398511367], [-70.8827353033202, -33.877086331658575], [-70.8999829567753, -33.877086331658575], [-70.8999829567753, -33.89433398511367], [-70.8827353033202, -33.89433398511367]]], &quot;type&quot;: &quot;Polygon&quot;}, &quot;id&quot;: &quot;66&quot;, &quot;properties&quot;: {&quot;color&quot;: &quot;#9acd32&quot;, &quot;id&quot;: &quot;lagunaaculeo-66&quot;, &quot;pred&quot;: &quot;HerbaceousVegetation&quot;}, &quot;type&quot;: &quot;Feature&quot;}, {&quot;bbox&quot;: [-70.8827353033202, -33.89433398511367, -70.8654876498651, -33.877086331658575], &quot;geometry&quot;: {&quot;coordinates&quot;: [[[-70.8654876498651, -33.89433398511367], [-70.8654876498651, -33.877086331658575], [-70.8827353033202, -33.877086331658575], [-70.8827353033202, -33.89433398511367], [-70.8654876498651, -33.89433398511367]]], &quot;type&quot;: &quot;Polygon&quot;}, &quot;id&quot;: &quot;67&quot;, &quot;properties&quot;: {&quot;color&quot;: &quot;#9acd32&quot;, &quot;id&quot;: &quot;lagunaaculeo-67&quot;, &quot;pred&quot;: &quot;HerbaceousVegetation&quot;}, &quot;type&quot;: &quot;Feature&quot;}, {&quot;bbox&quot;: [-70.8654876498651, -33.89433398511367, -70.84823999641002, -33.877086331658575], &quot;geometry&quot;: {&quot;coordinates&quot;: [[[-70.84823999641002, -33.89433398511367], [-70.84823999641002, -33.877086331658575], [-70.8654876498651, -33.877086331658575], [-70.8654876498651, -33.89433398511367], [-70.84823999641002, -33.89433398511367]]], &quot;type&quot;: &quot;Polygon&quot;}, &quot;id&quot;: &quot;68&quot;, &quot;properties&quot;: {&quot;color&quot;: &quot;#9acd32&quot;, &quot;id&quot;: &quot;lagunaaculeo-68&quot;, &quot;pred&quot;: &quot;HerbaceousVegetation&quot;}, &quot;type&quot;: &quot;Feature&quot;}, {&quot;bbox&quot;: [-70.95172591714058, -33.91158163856876, -70.93447826368549, -33.89433398511367], &quot;geometry&quot;: {&quot;coordinates&quot;: [[[-70.93447826368549, -33.91158163856876], [-70.93447826368549, -33.89433398511367], [-70.95172591714058, -33.89433398511367], [-70.95172591714058, -33.91158163856876], [-70.93447826368549, -33.91158163856876]]], &quot;type&quot;: &quot;Polygon&quot;}, &quot;id&quot;: &quot;73&quot;, &quot;properties&quot;: {&quot;color&quot;: &quot;#9acd32&quot;, &quot;id&quot;: &quot;lagunaaculeo-73&quot;, &quot;pred&quot;: &quot;HerbaceousVegetation&quot;}, &quot;type&quot;: &quot;Feature&quot;}, {&quot;bbox&quot;: [-70.93447826368549, -33.91158163856876, -70.91723061023039, -33.89433398511367], &quot;geometry&quot;: {&quot;coordinates&quot;: [[[-70.91723061023039, -33.91158163856876], [-70.91723061023039, -33.89433398511367], [-70.93447826368549, -33.89433398511367], [-70.93447826368549, -33.91158163856876], [-70.91723061023039, -33.91158163856876]]], &quot;type&quot;: &quot;Polygon&quot;}, &quot;id&quot;: &quot;74&quot;, &quot;properties&quot;: {&quot;color&quot;: &quot;#9acd32&quot;, &quot;id&quot;: &quot;lagunaaculeo-74&quot;, &quot;pred&quot;: &quot;HerbaceousVegetation&quot;}, &quot;type&quot;: &quot;Feature&quot;}, {&quot;bbox&quot;: [-70.8999829567753, -33.91158163856876, -70.8827353033202, -33.89433398511367], &quot;geometry&quot;: {&quot;coordinates&quot;: [[[-70.8827353033202, -33.91158163856876], [-70.8827353033202, -33.89433398511367], [-70.8999829567753, -33.89433398511367], [-70.8999829567753, -33.91158163856876], [-70.8827353033202, -33.91158163856876]]], &quot;type&quot;: &quot;Polygon&quot;}, &quot;id&quot;: &quot;76&quot;, &quot;properties&quot;: {&quot;color&quot;: &quot;#9acd32&quot;, &quot;id&quot;: &quot;lagunaaculeo-76&quot;, &quot;pred&quot;: &quot;HerbaceousVegetation&quot;}, &quot;type&quot;: &quot;Feature&quot;}, {&quot;bbox&quot;: [-70.91723061023039, -33.928829292023856, -70.8999829567753, -33.91158163856876], &quot;geometry&quot;: {&quot;coordinates&quot;: [[[-70.8999829567753, -33.928829292023856], [-70.8999829567753, -33.91158163856876], [-70.91723061023039, -33.91158163856876], [-70.91723061023039, -33.928829292023856], [-70.8999829567753, -33.928829292023856]]], &quot;type&quot;: &quot;Polygon&quot;}, &quot;id&quot;: &quot;85&quot;, &quot;properties&quot;: {&quot;color&quot;: &quot;#9acd32&quot;, &quot;id&quot;: &quot;lagunaaculeo-85&quot;, &quot;pred&quot;: &quot;HerbaceousVegetation&quot;}, &quot;type&quot;: &quot;Feature&quot;}], &quot;type&quot;: &quot;FeatureCollection&quot;});\n",
       "\n",
       "        \n",
       "    \n",
       "            geo_json_209265acd2553b50b6337d45821b8214.addTo(feature_group_260d884e46078a838b54cbb8fcf20d5b);\n",
       "        \n",
       "    \n",
       "            feature_group_260d884e46078a838b54cbb8fcf20d5b.addTo(map_b9cfbb1036899d1a8cd22a9522ebcb61);\n",
       "        \n",
       "    \n",
       "            var feature_group_24baa3cb66ade1c6ceea744b4824de32 = L.featureGroup(\n",
       "                {}\n",
       "            );\n",
       "        \n",
       "    \n",
       "        function geo_json_a7de14fb5bbe875fa702798ebfd3380d_styler(feature) {\n",
       "            switch(feature.id) {\n",
       "                default:\n",
       "                    return {&quot;color&quot;: &quot;black&quot;, &quot;fillColor&quot;: &quot;#7fff00&quot;, &quot;fillOpacity&quot;: 0.5, &quot;weight&quot;: 1};\n",
       "            }\n",
       "        }\n",
       "\n",
       "        function geo_json_a7de14fb5bbe875fa702798ebfd3380d_onEachFeature(feature, layer) {\n",
       "            layer.on({\n",
       "            });\n",
       "        };\n",
       "        var geo_json_a7de14fb5bbe875fa702798ebfd3380d = L.geoJson(null, {\n",
       "                onEachFeature: geo_json_a7de14fb5bbe875fa702798ebfd3380d_onEachFeature,\n",
       "            \n",
       "                style: geo_json_a7de14fb5bbe875fa702798ebfd3380d_styler,\n",
       "        });\n",
       "\n",
       "        function geo_json_a7de14fb5bbe875fa702798ebfd3380d_add (data) {\n",
       "            geo_json_a7de14fb5bbe875fa702798ebfd3380d\n",
       "                .addData(data);\n",
       "        }\n",
       "            geo_json_a7de14fb5bbe875fa702798ebfd3380d_add({&quot;bbox&quot;: [-70.8999829567753, -33.877086331658575, -70.8827353033202, -33.85983867820348], &quot;features&quot;: [{&quot;bbox&quot;: [-70.8999829567753, -33.877086331658575, -70.8827353033202, -33.85983867820348], &quot;geometry&quot;: {&quot;coordinates&quot;: [[[-70.8827353033202, -33.877086331658575], [-70.8827353033202, -33.85983867820348], [-70.8999829567753, -33.85983867820348], [-70.8999829567753, -33.877086331658575], [-70.8827353033202, -33.877086331658575]]], &quot;type&quot;: &quot;Polygon&quot;}, &quot;id&quot;: &quot;56&quot;, &quot;properties&quot;: {&quot;color&quot;: &quot;#7fff00&quot;, &quot;id&quot;: &quot;lagunaaculeo-56&quot;, &quot;pred&quot;: &quot;PermanentCrop&quot;}, &quot;type&quot;: &quot;Feature&quot;}], &quot;type&quot;: &quot;FeatureCollection&quot;});\n",
       "\n",
       "        \n",
       "    \n",
       "            geo_json_a7de14fb5bbe875fa702798ebfd3380d.addTo(feature_group_24baa3cb66ade1c6ceea744b4824de32);\n",
       "        \n",
       "    \n",
       "            feature_group_24baa3cb66ade1c6ceea744b4824de32.addTo(map_b9cfbb1036899d1a8cd22a9522ebcb61);\n",
       "        \n",
       "    \n",
       "            var feature_group_3cd6790f79ce0d3e61ea2515189e8b0c = L.featureGroup(\n",
       "                {}\n",
       "            );\n",
       "        \n",
       "    \n",
       "        function geo_json_d90476a74d810233c506866884a76f1f_styler(feature) {\n",
       "            switch(feature.id) {\n",
       "                default:\n",
       "                    return {&quot;color&quot;: &quot;black&quot;, &quot;fillColor&quot;: &quot;#1e90ff&quot;, &quot;fillOpacity&quot;: 0.5, &quot;weight&quot;: 1};\n",
       "            }\n",
       "        }\n",
       "\n",
       "        function geo_json_d90476a74d810233c506866884a76f1f_onEachFeature(feature, layer) {\n",
       "            layer.on({\n",
       "            });\n",
       "        };\n",
       "        var geo_json_d90476a74d810233c506866884a76f1f = L.geoJson(null, {\n",
       "                onEachFeature: geo_json_d90476a74d810233c506866884a76f1f_onEachFeature,\n",
       "            \n",
       "                style: geo_json_d90476a74d810233c506866884a76f1f_styler,\n",
       "        });\n",
       "\n",
       "        function geo_json_d90476a74d810233c506866884a76f1f_add (data) {\n",
       "            geo_json_d90476a74d810233c506866884a76f1f\n",
       "                .addData(data);\n",
       "        }\n",
       "            geo_json_d90476a74d810233c506866884a76f1f_add({&quot;bbox&quot;: [-71.00346887750587, -33.928829292023856, -70.83099234295491, -33.773600410928005], &quot;features&quot;: [{&quot;bbox&quot;: [-71.00346887750587, -33.7908480643831, -70.98622122405077, -33.773600410928005], &quot;geometry&quot;: {&quot;coordinates&quot;: [[[-70.98622122405077, -33.7908480643831], [-70.98622122405077, -33.773600410928005], [-71.00346887750587, -33.773600410928005], [-71.00346887750587, -33.7908480643831], [-70.98622122405077, -33.7908480643831]]], &quot;type&quot;: &quot;Polygon&quot;}, &quot;id&quot;: &quot;0&quot;, &quot;properties&quot;: {&quot;color&quot;: &quot;#1e90ff&quot;, &quot;id&quot;: &quot;lagunaaculeo-0&quot;, &quot;pred&quot;: &quot;River&quot;}, &quot;type&quot;: &quot;Feature&quot;}, {&quot;bbox&quot;: [-70.98622122405077, -33.7908480643831, -70.96897357059568, -33.773600410928005], &quot;geometry&quot;: {&quot;coordinates&quot;: [[[-70.96897357059568, -33.7908480643831], [-70.96897357059568, -33.773600410928005], [-70.98622122405077, -33.773600410928005], [-70.98622122405077, -33.7908480643831], [-70.96897357059568, -33.7908480643831]]], &quot;type&quot;: &quot;Polygon&quot;}, &quot;id&quot;: &quot;1&quot;, &quot;properties&quot;: {&quot;color&quot;: &quot;#1e90ff&quot;, &quot;id&quot;: &quot;lagunaaculeo-1&quot;, &quot;pred&quot;: &quot;River&quot;}, &quot;type&quot;: &quot;Feature&quot;}, {&quot;bbox&quot;: [-70.96897357059568, -33.7908480643831, -70.95172591714058, -33.773600410928005], &quot;geometry&quot;: {&quot;coordinates&quot;: [[[-70.95172591714058, -33.7908480643831], [-70.95172591714058, -33.773600410928005], [-70.96897357059568, -33.773600410928005], [-70.96897357059568, -33.7908480643831], [-70.95172591714058, -33.7908480643831]]], &quot;type&quot;: &quot;Polygon&quot;}, &quot;id&quot;: &quot;2&quot;, &quot;properties&quot;: {&quot;color&quot;: &quot;#1e90ff&quot;, &quot;id&quot;: &quot;lagunaaculeo-2&quot;, &quot;pred&quot;: &quot;River&quot;}, &quot;type&quot;: &quot;Feature&quot;}, {&quot;bbox&quot;: [-70.8654876498651, -33.7908480643831, -70.84823999641002, -33.773600410928005], &quot;geometry&quot;: {&quot;coordinates&quot;: [[[-70.84823999641002, -33.7908480643831], [-70.84823999641002, -33.773600410928005], [-70.8654876498651, -33.773600410928005], [-70.8654876498651, -33.7908480643831], [-70.84823999641002, -33.7908480643831]]], &quot;type&quot;: &quot;Polygon&quot;}, &quot;id&quot;: &quot;8&quot;, &quot;properties&quot;: {&quot;color&quot;: &quot;#1e90ff&quot;, &quot;id&quot;: &quot;lagunaaculeo-8&quot;, &quot;pred&quot;: &quot;River&quot;}, &quot;type&quot;: &quot;Feature&quot;}, {&quot;bbox&quot;: [-70.84823999641002, -33.7908480643831, -70.83099234295491, -33.773600410928005], &quot;geometry&quot;: {&quot;coordinates&quot;: [[[-70.83099234295491, -33.7908480643831], [-70.83099234295491, -33.773600410928005], [-70.84823999641002, -33.773600410928005], [-70.84823999641002, -33.7908480643831], [-70.83099234295491, -33.7908480643831]]], &quot;type&quot;: &quot;Polygon&quot;}, &quot;id&quot;: &quot;9&quot;, &quot;properties&quot;: {&quot;color&quot;: &quot;#1e90ff&quot;, &quot;id&quot;: &quot;lagunaaculeo-9&quot;, &quot;pred&quot;: &quot;River&quot;}, &quot;type&quot;: &quot;Feature&quot;}, {&quot;bbox&quot;: [-71.00346887750587, -33.80809571783819, -70.98622122405077, -33.7908480643831], &quot;geometry&quot;: {&quot;coordinates&quot;: [[[-70.98622122405077, -33.80809571783819], [-70.98622122405077, -33.7908480643831], [-71.00346887750587, -33.7908480643831], [-71.00346887750587, -33.80809571783819], [-70.98622122405077, -33.80809571783819]]], &quot;type&quot;: &quot;Polygon&quot;}, &quot;id&quot;: &quot;10&quot;, &quot;properties&quot;: {&quot;color&quot;: &quot;#1e90ff&quot;, &quot;id&quot;: &quot;lagunaaculeo-10&quot;, &quot;pred&quot;: &quot;River&quot;}, &quot;type&quot;: &quot;Feature&quot;}, {&quot;bbox&quot;: [-70.98622122405077, -33.80809571783819, -70.96897357059568, -33.7908480643831], &quot;geometry&quot;: {&quot;coordinates&quot;: [[[-70.96897357059568, -33.80809571783819], [-70.96897357059568, -33.7908480643831], [-70.98622122405077, -33.7908480643831], [-70.98622122405077, -33.80809571783819], [-70.96897357059568, -33.80809571783819]]], &quot;type&quot;: &quot;Polygon&quot;}, &quot;id&quot;: &quot;11&quot;, &quot;properties&quot;: {&quot;color&quot;: &quot;#1e90ff&quot;, &quot;id&quot;: &quot;lagunaaculeo-11&quot;, &quot;pred&quot;: &quot;River&quot;}, &quot;type&quot;: &quot;Feature&quot;}, {&quot;bbox&quot;: [-70.96897357059568, -33.80809571783819, -70.95172591714058, -33.7908480643831], &quot;geometry&quot;: {&quot;coordinates&quot;: [[[-70.95172591714058, -33.80809571783819], [-70.95172591714058, -33.7908480643831], [-70.96897357059568, -33.7908480643831], [-70.96897357059568, -33.80809571783819], [-70.95172591714058, -33.80809571783819]]], &quot;type&quot;: &quot;Polygon&quot;}, &quot;id&quot;: &quot;12&quot;, &quot;properties&quot;: {&quot;color&quot;: &quot;#1e90ff&quot;, &quot;id&quot;: &quot;lagunaaculeo-12&quot;, &quot;pred&quot;: &quot;River&quot;}, &quot;type&quot;: &quot;Feature&quot;}, {&quot;bbox&quot;: [-70.84823999641002, -33.80809571783819, -70.83099234295491, -33.7908480643831], &quot;geometry&quot;: {&quot;coordinates&quot;: [[[-70.83099234295491, -33.80809571783819], [-70.83099234295491, -33.7908480643831], [-70.84823999641002, -33.7908480643831], [-70.84823999641002, -33.80809571783819], [-70.83099234295491, -33.80809571783819]]], &quot;type&quot;: &quot;Polygon&quot;}, &quot;id&quot;: &quot;19&quot;, &quot;properties&quot;: {&quot;color&quot;: &quot;#1e90ff&quot;, &quot;id&quot;: &quot;lagunaaculeo-19&quot;, &quot;pred&quot;: &quot;River&quot;}, &quot;type&quot;: &quot;Feature&quot;}, {&quot;bbox&quot;: [-71.00346887750587, -33.825343371293286, -70.98622122405077, -33.80809571783819], &quot;geometry&quot;: {&quot;coordinates&quot;: [[[-70.98622122405077, -33.825343371293286], [-70.98622122405077, -33.80809571783819], [-71.00346887750587, -33.80809571783819], [-71.00346887750587, -33.825343371293286], [-70.98622122405077, -33.825343371293286]]], &quot;type&quot;: &quot;Polygon&quot;}, &quot;id&quot;: &quot;20&quot;, &quot;properties&quot;: {&quot;color&quot;: &quot;#1e90ff&quot;, &quot;id&quot;: &quot;lagunaaculeo-20&quot;, &quot;pred&quot;: &quot;River&quot;}, &quot;type&quot;: &quot;Feature&quot;}, {&quot;bbox&quot;: [-71.00346887750587, -33.84259102474839, -70.98622122405077, -33.825343371293286], &quot;geometry&quot;: {&quot;coordinates&quot;: [[[-70.98622122405077, -33.84259102474839], [-70.98622122405077, -33.825343371293286], [-71.00346887750587, -33.825343371293286], [-71.00346887750587, -33.84259102474839], [-70.98622122405077, -33.84259102474839]]], &quot;type&quot;: &quot;Polygon&quot;}, &quot;id&quot;: &quot;30&quot;, &quot;properties&quot;: {&quot;color&quot;: &quot;#1e90ff&quot;, &quot;id&quot;: &quot;lagunaaculeo-30&quot;, &quot;pred&quot;: &quot;River&quot;}, &quot;type&quot;: &quot;Feature&quot;}, {&quot;bbox&quot;: [-71.00346887750587, -33.877086331658575, -70.98622122405077, -33.85983867820348], &quot;geometry&quot;: {&quot;coordinates&quot;: [[[-70.98622122405077, -33.877086331658575], [-70.98622122405077, -33.85983867820348], [-71.00346887750587, -33.85983867820348], [-71.00346887750587, -33.877086331658575], [-70.98622122405077, -33.877086331658575]]], &quot;type&quot;: &quot;Polygon&quot;}, &quot;id&quot;: &quot;50&quot;, &quot;properties&quot;: {&quot;color&quot;: &quot;#1e90ff&quot;, &quot;id&quot;: &quot;lagunaaculeo-50&quot;, &quot;pred&quot;: &quot;River&quot;}, &quot;type&quot;: &quot;Feature&quot;}, {&quot;bbox&quot;: [-70.84823999641002, -33.877086331658575, -70.83099234295491, -33.85983867820348], &quot;geometry&quot;: {&quot;coordinates&quot;: [[[-70.83099234295491, -33.877086331658575], [-70.83099234295491, -33.85983867820348], [-70.84823999641002, -33.85983867820348], [-70.84823999641002, -33.877086331658575], [-70.83099234295491, -33.877086331658575]]], &quot;type&quot;: &quot;Polygon&quot;}, &quot;id&quot;: &quot;59&quot;, &quot;properties&quot;: {&quot;color&quot;: &quot;#1e90ff&quot;, &quot;id&quot;: &quot;lagunaaculeo-59&quot;, &quot;pred&quot;: &quot;River&quot;}, &quot;type&quot;: &quot;Feature&quot;}, {&quot;bbox&quot;: [-71.00346887750587, -33.89433398511367, -70.98622122405077, -33.877086331658575], &quot;geometry&quot;: {&quot;coordinates&quot;: [[[-70.98622122405077, -33.89433398511367], [-70.98622122405077, -33.877086331658575], [-71.00346887750587, -33.877086331658575], [-71.00346887750587, -33.89433398511367], [-70.98622122405077, -33.89433398511367]]], &quot;type&quot;: &quot;Polygon&quot;}, &quot;id&quot;: &quot;60&quot;, &quot;properties&quot;: {&quot;color&quot;: &quot;#1e90ff&quot;, &quot;id&quot;: &quot;lagunaaculeo-60&quot;, &quot;pred&quot;: &quot;River&quot;}, &quot;type&quot;: &quot;Feature&quot;}, {&quot;bbox&quot;: [-70.84823999641002, -33.89433398511367, -70.83099234295491, -33.877086331658575], &quot;geometry&quot;: {&quot;coordinates&quot;: [[[-70.83099234295491, -33.89433398511367], [-70.83099234295491, -33.877086331658575], [-70.84823999641002, -33.877086331658575], [-70.84823999641002, -33.89433398511367], [-70.83099234295491, -33.89433398511367]]], &quot;type&quot;: &quot;Polygon&quot;}, &quot;id&quot;: &quot;69&quot;, &quot;properties&quot;: {&quot;color&quot;: &quot;#1e90ff&quot;, &quot;id&quot;: &quot;lagunaaculeo-69&quot;, &quot;pred&quot;: &quot;River&quot;}, &quot;type&quot;: &quot;Feature&quot;}, {&quot;bbox&quot;: [-71.00346887750587, -33.91158163856876, -70.98622122405077, -33.89433398511367], &quot;geometry&quot;: {&quot;coordinates&quot;: [[[-70.98622122405077, -33.91158163856876], [-70.98622122405077, -33.89433398511367], [-71.00346887750587, -33.89433398511367], [-71.00346887750587, -33.91158163856876], [-70.98622122405077, -33.91158163856876]]], &quot;type&quot;: &quot;Polygon&quot;}, &quot;id&quot;: &quot;70&quot;, &quot;properties&quot;: {&quot;color&quot;: &quot;#1e90ff&quot;, &quot;id&quot;: &quot;lagunaaculeo-70&quot;, &quot;pred&quot;: &quot;River&quot;}, &quot;type&quot;: &quot;Feature&quot;}, {&quot;bbox&quot;: [-70.98622122405077, -33.91158163856876, -70.96897357059568, -33.89433398511367], &quot;geometry&quot;: {&quot;coordinates&quot;: [[[-70.96897357059568, -33.91158163856876], [-70.96897357059568, -33.89433398511367], [-70.98622122405077, -33.89433398511367], [-70.98622122405077, -33.91158163856876], [-70.96897357059568, -33.91158163856876]]], &quot;type&quot;: &quot;Polygon&quot;}, &quot;id&quot;: &quot;71&quot;, &quot;properties&quot;: {&quot;color&quot;: &quot;#1e90ff&quot;, &quot;id&quot;: &quot;lagunaaculeo-71&quot;, &quot;pred&quot;: &quot;River&quot;}, &quot;type&quot;: &quot;Feature&quot;}, {&quot;bbox&quot;: [-70.96897357059568, -33.91158163856876, -70.95172591714058, -33.89433398511367], &quot;geometry&quot;: {&quot;coordinates&quot;: [[[-70.95172591714058, -33.91158163856876], [-70.95172591714058, -33.89433398511367], [-70.96897357059568, -33.89433398511367], [-70.96897357059568, -33.91158163856876], [-70.95172591714058, -33.91158163856876]]], &quot;type&quot;: &quot;Polygon&quot;}, &quot;id&quot;: &quot;72&quot;, &quot;properties&quot;: {&quot;color&quot;: &quot;#1e90ff&quot;, &quot;id&quot;: &quot;lagunaaculeo-72&quot;, &quot;pred&quot;: &quot;River&quot;}, &quot;type&quot;: &quot;Feature&quot;}, {&quot;bbox&quot;: [-70.91723061023039, -33.91158163856876, -70.8999829567753, -33.89433398511367], &quot;geometry&quot;: {&quot;coordinates&quot;: [[[-70.8999829567753, -33.91158163856876], [-70.8999829567753, -33.89433398511367], [-70.91723061023039, -33.89433398511367], [-70.91723061023039, -33.91158163856876], [-70.8999829567753, -33.91158163856876]]], &quot;type&quot;: &quot;Polygon&quot;}, &quot;id&quot;: &quot;75&quot;, &quot;properties&quot;: {&quot;color&quot;: &quot;#1e90ff&quot;, &quot;id&quot;: &quot;lagunaaculeo-75&quot;, &quot;pred&quot;: &quot;River&quot;}, &quot;type&quot;: &quot;Feature&quot;}, {&quot;bbox&quot;: [-70.8827353033202, -33.91158163856876, -70.8654876498651, -33.89433398511367], &quot;geometry&quot;: {&quot;coordinates&quot;: [[[-70.8654876498651, -33.91158163856876], [-70.8654876498651, -33.89433398511367], [-70.8827353033202, -33.89433398511367], [-70.8827353033202, -33.91158163856876], [-70.8654876498651, -33.91158163856876]]], &quot;type&quot;: &quot;Polygon&quot;}, &quot;id&quot;: &quot;77&quot;, &quot;properties&quot;: {&quot;color&quot;: &quot;#1e90ff&quot;, &quot;id&quot;: &quot;lagunaaculeo-77&quot;, &quot;pred&quot;: &quot;River&quot;}, &quot;type&quot;: &quot;Feature&quot;}, {&quot;bbox&quot;: [-70.8654876498651, -33.91158163856876, -70.84823999641002, -33.89433398511367], &quot;geometry&quot;: {&quot;coordinates&quot;: [[[-70.84823999641002, -33.91158163856876], [-70.84823999641002, -33.89433398511367], [-70.8654876498651, -33.89433398511367], [-70.8654876498651, -33.91158163856876], [-70.84823999641002, -33.91158163856876]]], &quot;type&quot;: &quot;Polygon&quot;}, &quot;id&quot;: &quot;78&quot;, &quot;properties&quot;: {&quot;color&quot;: &quot;#1e90ff&quot;, &quot;id&quot;: &quot;lagunaaculeo-78&quot;, &quot;pred&quot;: &quot;River&quot;}, &quot;type&quot;: &quot;Feature&quot;}, {&quot;bbox&quot;: [-70.84823999641002, -33.91158163856876, -70.83099234295491, -33.89433398511367], &quot;geometry&quot;: {&quot;coordinates&quot;: [[[-70.83099234295491, -33.91158163856876], [-70.83099234295491, -33.89433398511367], [-70.84823999641002, -33.89433398511367], [-70.84823999641002, -33.91158163856876], [-70.83099234295491, -33.91158163856876]]], &quot;type&quot;: &quot;Polygon&quot;}, &quot;id&quot;: &quot;79&quot;, &quot;properties&quot;: {&quot;color&quot;: &quot;#1e90ff&quot;, &quot;id&quot;: &quot;lagunaaculeo-79&quot;, &quot;pred&quot;: &quot;River&quot;}, &quot;type&quot;: &quot;Feature&quot;}, {&quot;bbox&quot;: [-71.00346887750587, -33.928829292023856, -70.98622122405077, -33.91158163856876], &quot;geometry&quot;: {&quot;coordinates&quot;: [[[-70.98622122405077, -33.928829292023856], [-70.98622122405077, -33.91158163856876], [-71.00346887750587, -33.91158163856876], [-71.00346887750587, -33.928829292023856], [-70.98622122405077, -33.928829292023856]]], &quot;type&quot;: &quot;Polygon&quot;}, &quot;id&quot;: &quot;80&quot;, &quot;properties&quot;: {&quot;color&quot;: &quot;#1e90ff&quot;, &quot;id&quot;: &quot;lagunaaculeo-80&quot;, &quot;pred&quot;: &quot;River&quot;}, &quot;type&quot;: &quot;Feature&quot;}, {&quot;bbox&quot;: [-70.98622122405077, -33.928829292023856, -70.96897357059568, -33.91158163856876], &quot;geometry&quot;: {&quot;coordinates&quot;: [[[-70.96897357059568, -33.928829292023856], [-70.96897357059568, -33.91158163856876], [-70.98622122405077, -33.91158163856876], [-70.98622122405077, -33.928829292023856], [-70.96897357059568, -33.928829292023856]]], &quot;type&quot;: &quot;Polygon&quot;}, &quot;id&quot;: &quot;81&quot;, &quot;properties&quot;: {&quot;color&quot;: &quot;#1e90ff&quot;, &quot;id&quot;: &quot;lagunaaculeo-81&quot;, &quot;pred&quot;: &quot;River&quot;}, &quot;type&quot;: &quot;Feature&quot;}, {&quot;bbox&quot;: [-70.96897357059568, -33.928829292023856, -70.95172591714058, -33.91158163856876], &quot;geometry&quot;: {&quot;coordinates&quot;: [[[-70.95172591714058, -33.928829292023856], [-70.95172591714058, -33.91158163856876], [-70.96897357059568, -33.91158163856876], [-70.96897357059568, -33.928829292023856], [-70.95172591714058, -33.928829292023856]]], &quot;type&quot;: &quot;Polygon&quot;}, &quot;id&quot;: &quot;82&quot;, &quot;properties&quot;: {&quot;color&quot;: &quot;#1e90ff&quot;, &quot;id&quot;: &quot;lagunaaculeo-82&quot;, &quot;pred&quot;: &quot;River&quot;}, &quot;type&quot;: &quot;Feature&quot;}, {&quot;bbox&quot;: [-70.95172591714058, -33.928829292023856, -70.93447826368549, -33.91158163856876], &quot;geometry&quot;: {&quot;coordinates&quot;: [[[-70.93447826368549, -33.928829292023856], [-70.93447826368549, -33.91158163856876], [-70.95172591714058, -33.91158163856876], [-70.95172591714058, -33.928829292023856], [-70.93447826368549, -33.928829292023856]]], &quot;type&quot;: &quot;Polygon&quot;}, &quot;id&quot;: &quot;83&quot;, &quot;properties&quot;: {&quot;color&quot;: &quot;#1e90ff&quot;, &quot;id&quot;: &quot;lagunaaculeo-83&quot;, &quot;pred&quot;: &quot;River&quot;}, &quot;type&quot;: &quot;Feature&quot;}, {&quot;bbox&quot;: [-70.93447826368549, -33.928829292023856, -70.91723061023039, -33.91158163856876], &quot;geometry&quot;: {&quot;coordinates&quot;: [[[-70.91723061023039, -33.928829292023856], [-70.91723061023039, -33.91158163856876], [-70.93447826368549, -33.91158163856876], [-70.93447826368549, -33.928829292023856], [-70.91723061023039, -33.928829292023856]]], &quot;type&quot;: &quot;Polygon&quot;}, &quot;id&quot;: &quot;84&quot;, &quot;properties&quot;: {&quot;color&quot;: &quot;#1e90ff&quot;, &quot;id&quot;: &quot;lagunaaculeo-84&quot;, &quot;pred&quot;: &quot;River&quot;}, &quot;type&quot;: &quot;Feature&quot;}, {&quot;bbox&quot;: [-70.8999829567753, -33.928829292023856, -70.8827353033202, -33.91158163856876], &quot;geometry&quot;: {&quot;coordinates&quot;: [[[-70.8827353033202, -33.928829292023856], [-70.8827353033202, -33.91158163856876], [-70.8999829567753, -33.91158163856876], [-70.8999829567753, -33.928829292023856], [-70.8827353033202, -33.928829292023856]]], &quot;type&quot;: &quot;Polygon&quot;}, &quot;id&quot;: &quot;86&quot;, &quot;properties&quot;: {&quot;color&quot;: &quot;#1e90ff&quot;, &quot;id&quot;: &quot;lagunaaculeo-86&quot;, &quot;pred&quot;: &quot;River&quot;}, &quot;type&quot;: &quot;Feature&quot;}, {&quot;bbox&quot;: [-70.8827353033202, -33.928829292023856, -70.8654876498651, -33.91158163856876], &quot;geometry&quot;: {&quot;coordinates&quot;: [[[-70.8654876498651, -33.928829292023856], [-70.8654876498651, -33.91158163856876], [-70.8827353033202, -33.91158163856876], [-70.8827353033202, -33.928829292023856], [-70.8654876498651, -33.928829292023856]]], &quot;type&quot;: &quot;Polygon&quot;}, &quot;id&quot;: &quot;87&quot;, &quot;properties&quot;: {&quot;color&quot;: &quot;#1e90ff&quot;, &quot;id&quot;: &quot;lagunaaculeo-87&quot;, &quot;pred&quot;: &quot;River&quot;}, &quot;type&quot;: &quot;Feature&quot;}, {&quot;bbox&quot;: [-70.8654876498651, -33.928829292023856, -70.84823999641002, -33.91158163856876], &quot;geometry&quot;: {&quot;coordinates&quot;: [[[-70.84823999641002, -33.928829292023856], [-70.84823999641002, -33.91158163856876], [-70.8654876498651, -33.91158163856876], [-70.8654876498651, -33.928829292023856], [-70.84823999641002, -33.928829292023856]]], &quot;type&quot;: &quot;Polygon&quot;}, &quot;id&quot;: &quot;88&quot;, &quot;properties&quot;: {&quot;color&quot;: &quot;#1e90ff&quot;, &quot;id&quot;: &quot;lagunaaculeo-88&quot;, &quot;pred&quot;: &quot;River&quot;}, &quot;type&quot;: &quot;Feature&quot;}, {&quot;bbox&quot;: [-70.84823999641002, -33.928829292023856, -70.83099234295491, -33.91158163856876], &quot;geometry&quot;: {&quot;coordinates&quot;: [[[-70.83099234295491, -33.928829292023856], [-70.83099234295491, -33.91158163856876], [-70.84823999641002, -33.91158163856876], [-70.84823999641002, -33.928829292023856], [-70.83099234295491, -33.928829292023856]]], &quot;type&quot;: &quot;Polygon&quot;}, &quot;id&quot;: &quot;89&quot;, &quot;properties&quot;: {&quot;color&quot;: &quot;#1e90ff&quot;, &quot;id&quot;: &quot;lagunaaculeo-89&quot;, &quot;pred&quot;: &quot;River&quot;}, &quot;type&quot;: &quot;Feature&quot;}], &quot;type&quot;: &quot;FeatureCollection&quot;});\n",
       "\n",
       "        \n",
       "    \n",
       "            geo_json_d90476a74d810233c506866884a76f1f.addTo(feature_group_3cd6790f79ce0d3e61ea2515189e8b0c);\n",
       "        \n",
       "    \n",
       "            feature_group_3cd6790f79ce0d3e61ea2515189e8b0c.addTo(map_b9cfbb1036899d1a8cd22a9522ebcb61);\n",
       "        \n",
       "    \n",
       "            var layer_control_88d3a2f1e2a9442ddbd09ac64e4aa990_layers = {\n",
       "                base_layers : {\n",
       "                    &quot;openstreetmap&quot; : tile_layer_30d9baba190f1774b465cb03aab0d9cd,\n",
       "                },\n",
       "                overlays :  {\n",
       "                    &quot;Google Satellite&quot; : tile_layer_f48adaf6822016473c034200993089c5,\n",
       "                    &quot;\\u003cspan style=\\&quot;color: lightgreen;\\&quot;\\u003eAnnualCrop\\u003c/span\\u003e&quot; : feature_group_aaf035c0b845dae7f2add2b3f3b8a42c,\n",
       "                    &quot;\\u003cspan style=\\&quot;color: yellowgreen;\\&quot;\\u003eHerbaceousVegetation\\u003c/span\\u003e&quot; : feature_group_260d884e46078a838b54cbb8fcf20d5b,\n",
       "                    &quot;\\u003cspan style=\\&quot;color: chartreuse;\\&quot;\\u003ePermanentCrop\\u003c/span\\u003e&quot; : feature_group_24baa3cb66ade1c6ceea744b4824de32,\n",
       "                    &quot;\\u003cspan style=\\&quot;color: dodgerblue;\\&quot;\\u003eRiver\\u003c/span\\u003e&quot; : feature_group_3cd6790f79ce0d3e61ea2515189e8b0c,\n",
       "                },\n",
       "            };\n",
       "            let layer_control_88d3a2f1e2a9442ddbd09ac64e4aa990 = L.control.layers(\n",
       "                layer_control_88d3a2f1e2a9442ddbd09ac64e4aa990_layers.base_layers,\n",
       "                layer_control_88d3a2f1e2a9442ddbd09ac64e4aa990_layers.overlays,\n",
       "                {&quot;autoZIndex&quot;: true, &quot;collapsed&quot;: true, &quot;position&quot;: &quot;topright&quot;}\n",
       "            ).addTo(map_b9cfbb1036899d1a8cd22a9522ebcb61);\n",
       "\n",
       "        \n",
       "&lt;/script&gt;\n",
       "&lt;/html&gt;\" style=\"position:absolute;width:100%;height:100%;left:0;top:0;border:none !important;\" allowfullscreen webkitallowfullscreen mozallowfullscreen></iframe></div></div>"
      ],
      "text/plain": [
       "<folium.folium.Map at 0x7fa77a4ec6d0>"
      ]
     },
     "execution_count": 85,
     "metadata": {},
     "output_type": "execute_result"
    }
   ],
   "source": [
    "# Instantiate map centered on the centroid\n",
    "colors = {\n",
    "  'AnnualCrop' : 'lightgreen',\n",
    "  'Forest' : 'forestgreen',\n",
    "  'HerbaceousVegetation' : 'yellowgreen',\n",
    "  'Highway' : 'gray',\n",
    "  'Industrial' : 'red',\n",
    "  'Pasture' : 'mediumseagreen',\n",
    "  'PermanentCrop' : 'chartreuse',\n",
    "  'Residential' : 'magenta',\n",
    "  'River' : 'dodgerblue',\n",
    "  'SeaLake' : 'blue'\n",
    "}\n",
    "tiles = tiled_images[24]\n",
    "\n",
    "tiles['color'] = tiles[\"pred\"].apply(\n",
    "  lambda x: cl.to_hex(colors.get(x))\n",
    ")\n",
    "\n",
    "\n",
    "map = folium.Map(location=[-33.84565081436696,-70.91725911612781],zoom_start=13)\n",
    "\n",
    "folium.TileLayer(\n",
    "      tiles = 'https://mt1.google.com/vt/lyrs=s&x={x}&y={y}&z={z}',\n",
    "      attr = 'Google',\n",
    "      name = 'Google Satellite',\n",
    "      overlay = True,\n",
    "      control = True\n",
    ").add_to(map)\n",
    "\n",
    "# Add LULC Map with legend\n",
    "legend_txt = '<span style=\"color: {col};\">{txt}</span>'\n",
    "for label, color in colors.items():\n",
    "\n",
    "  # Specify the legend color\n",
    "  name = legend_txt.format(txt=label, col=color)\n",
    "  feat_group = folium.FeatureGroup(name=name)\n",
    "\n",
    "  # Add GeoJSON to feature group\n",
    "  subtiles = tiles[tiles.pred==label]\n",
    "  if len(subtiles) > 0:\n",
    "    folium.GeoJson(\n",
    "        subtiles,\n",
    "        style_function=lambda feature: {\n",
    "          'fillColor': feature['properties']['color'],\n",
    "          'color': 'black',\n",
    "          'weight': 1,\n",
    "          'fillOpacity': 0.5,\n",
    "        },\n",
    "        name='LULC Map'\n",
    "    ).add_to(feat_group)\n",
    "    map.add_child(feat_group)\n",
    "\n",
    "folium.LayerControl().add_to(map)\n",
    "map"
   ]
  },
  {
   "cell_type": "code",
   "execution_count": 83,
   "id": "f90f3b28-43b6-4389-81a6-e051c50a6927",
   "metadata": {},
   "outputs": [
    {
     "data": {
      "text/html": [
       "\n",
       "            <style>\n",
       "                .geemap-dark {\n",
       "                    --jp-widgets-color: white;\n",
       "                    --jp-widgets-label-color: white;\n",
       "                    --jp-ui-font-color1: white;\n",
       "                    --jp-layout-color2: #454545;\n",
       "                    background-color: #383838;\n",
       "                }\n",
       "\n",
       "                .geemap-dark .jupyter-button {\n",
       "                    --jp-layout-color3: #383838;\n",
       "                }\n",
       "\n",
       "                .geemap-colab {\n",
       "                    background-color: var(--colab-primary-surface-color, white);\n",
       "                }\n",
       "\n",
       "                .geemap-colab .jupyter-button {\n",
       "                    --jp-layout-color3: var(--colab-primary-surface-color, white);\n",
       "                }\n",
       "            </style>\n",
       "            "
      ],
      "text/plain": [
       "<IPython.core.display.HTML object>"
      ]
     },
     "metadata": {},
     "output_type": "display_data"
    },
    {
     "data": {
      "image/png": "[encoded data removed]",
      "text/plain": [
       "<Figure size 800x800 with 3 Axes>"
      ]
     },
     "metadata": {},
     "output_type": "display_data"
    }
   ],
   "source": [
    "df_crop_a_19 = df_crop_a[df_crop_a.index >= 2019]\n",
    "fig, ax = plt.subplots(3, figsize=(8,8))\n",
    "ax[0].ticklabel_format(style='plain')\n",
    "ax[0].set_title(\"Área laguna (km²)\")\n",
    "ax[1].set_title(\"Precipitaciones (suma de mm)\")\n",
    "ax[2].set_title(\"Área predicha como cultivo (m²)\")\n",
    "ax[0].bar(df_p[\"año\"], df_p[\"km\"], color='m')\n",
    "ax[1].bar(lluvias[\"año\"],lluvias[\"sum_precip\"] , color='c')\n",
    "ax[2].bar(df_crop_a_19.index,df_crop_a_19, color='c')\n",
    "fig.suptitle(f\"Área medida de Laguna Aculeo VS Precipitaciones de la estación El Paico\")\n",
    "fig.tight_layout()\n",
    "plt.savefig(f\"visualizaciones/arealaguna_precip_areacrop.jpg\", dpi=\"figure\", format=\"jpg\")"
   ]
  },
  {
   "cell_type": "code",
   "execution_count": 84,
   "id": "bf982290-f2a2-447d-9775-f031a6ec66ba",
   "metadata": {},
   "outputs": [
    {
     "data": {
      "text/html": [
       "\n",
       "            <style>\n",
       "                .geemap-dark {\n",
       "                    --jp-widgets-color: white;\n",
       "                    --jp-widgets-label-color: white;\n",
       "                    --jp-ui-font-color1: white;\n",
       "                    --jp-layout-color2: #454545;\n",
       "                    background-color: #383838;\n",
       "                }\n",
       "\n",
       "                .geemap-dark .jupyter-button {\n",
       "                    --jp-layout-color3: #383838;\n",
       "                }\n",
       "\n",
       "                .geemap-colab {\n",
       "                    background-color: var(--colab-primary-surface-color, white);\n",
       "                }\n",
       "\n",
       "                .geemap-colab .jupyter-button {\n",
       "                    --jp-layout-color3: var(--colab-primary-surface-color, white);\n",
       "                }\n",
       "            </style>\n",
       "            "
      ],
      "text/plain": [
       "<IPython.core.display.HTML object>"
      ]
     },
     "metadata": {},
     "output_type": "display_data"
    },
    {
     "data": {
      "image/png": "[encoded data removed]",
      "text/plain": [
       "<Figure size 800x800 with 2 Axes>"
      ]
     },
     "metadata": {},
     "output_type": "display_data"
    }
   ],
   "source": [
    "df_crop_a_19 = df_crop_a[df_crop_a.index >= 2019]\n",
    "fig, ax = plt.subplots(2, figsize=(8,8))\n",
    "ax[0].ticklabel_format(style='plain')\n",
    "ax[0].set_title(\"Área laguna (km²)\")\n",
    "ax[1].set_title(\"Área predicha como cultivo (m²)\")\n",
    "ax[0].bar(df[\"año\"], df[\"km\"], color='m')\n",
    "ax[1].bar(df_crop_a.index,df_crop_a, color='c')\n",
    "fig.suptitle(f\"Área medida de Laguna Aculeo VS Precipitaciones de la estación El Paico\")\n",
    "fig.tight_layout()\n",
    "plt.savefig(f\"visualizaciones/arealaguna_areacrop.jpg\", dpi=\"figure\", format=\"jpg\")"
   ]
  },
  {
   "cell_type": "markdown",
   "id": "0817c463-aec9-40b3-bb14-f1a479fd37cc",
   "metadata": {},
   "source": [
    "fig. 4 Área predicha como cultivo vs Área de la Laguna Aculeo"
   ]
  },
  {
   "cell_type": "markdown",
   "id": "96e58890-92c9-4caa-a93a-ca4db439fe6e",
   "metadata": {},
   "source": [
    "### No hay correlación aparente entre las predicciones de cultivo y el área de la laguna."
   ]
  }
 ],
 "metadata": {
  "kernelspec": {
   "display_name": "Python 3 (ipykernel)",
   "language": "python",
   "name": "python3"
  },
  "language_info": {
   "codemirror_mode": {
    "name": "ipython",
    "version": 3
   },
   "file_extension": ".py",
   "mimetype": "text/x-python",
   "name": "python",
   "nbconvert_exporter": "python",
   "pygments_lexer": "ipython3",
   "version": "3.10.12"
  }
 },
 "nbformat": 4,
 "nbformat_minor": 5
}
