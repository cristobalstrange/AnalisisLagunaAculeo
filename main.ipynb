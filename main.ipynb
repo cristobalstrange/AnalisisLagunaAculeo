{
 "cells": [
  {
   "cell_type": "code",
   "execution_count": 131,
   "id": "76adca8f-5a18-4d4c-91a3-4588f0cb8a45",
   "metadata": {},
   "outputs": [
    {
     "data": {
      "text/html": [
       "\n",
       "            <style>\n",
       "                .geemap-dark {\n",
       "                    --jp-widgets-color: white;\n",
       "                    --jp-widgets-label-color: white;\n",
       "                    --jp-ui-font-color1: white;\n",
       "                    --jp-layout-color2: #454545;\n",
       "                    background-color: #383838;\n",
       "                }\n",
       "\n",
       "                .geemap-dark .jupyter-button {\n",
       "                    --jp-layout-color3: #383838;\n",
       "                }\n",
       "\n",
       "                .geemap-colab {\n",
       "                    background-color: var(--colab-primary-surface-color, white);\n",
       "                }\n",
       "\n",
       "                .geemap-colab .jupyter-button {\n",
       "                    --jp-layout-color3: var(--colab-primary-surface-color, white);\n",
       "                }\n",
       "            </style>\n",
       "            "
      ],
      "text/plain": [
       "<IPython.core.display.HTML object>"
      ]
     },
     "metadata": {},
     "output_type": "display_data"
    }
   ],
   "source": [
    "import geopandas as gpd\n",
    "import pandas as pd\n",
    "import geemap\n",
    "import ee\n",
    "import shapely\n",
    "import seaborn as sns\n",
    "import matplotlib.pyplot as plt"
   ]
  },
  {
   "cell_type": "code",
   "execution_count": 132,
   "id": "a0457bc6-e9ca-4b59-b5ae-9d3c2577927e",
   "metadata": {},
   "outputs": [
    {
     "data": {
      "text/html": [
       "\n",
       "            <style>\n",
       "                .geemap-dark {\n",
       "                    --jp-widgets-color: white;\n",
       "                    --jp-widgets-label-color: white;\n",
       "                    --jp-ui-font-color1: white;\n",
       "                    --jp-layout-color2: #454545;\n",
       "                    background-color: #383838;\n",
       "                }\n",
       "\n",
       "                .geemap-dark .jupyter-button {\n",
       "                    --jp-layout-color3: #383838;\n",
       "                }\n",
       "\n",
       "                .geemap-colab {\n",
       "                    background-color: var(--colab-primary-surface-color, white);\n",
       "                }\n",
       "\n",
       "                .geemap-colab .jupyter-button {\n",
       "                    --jp-layout-color3: var(--colab-primary-surface-color, white);\n",
       "                }\n",
       "            </style>\n",
       "            "
      ],
      "text/plain": [
       "<IPython.core.display.HTML object>"
      ]
     },
     "metadata": {},
     "output_type": "display_data"
    }
   ],
   "source": [
    "ee.Authenticate()\n",
    "ee.Initialize()"
   ]
  },
  {
   "cell_type": "markdown",
   "id": "09ed8c00-92fc-42c2-a2e5-25c428e794c7",
   "metadata": {},
   "source": [
    "Planificación General: Medir área total de la laguna a lo largo del tiempo -> hacer un área total del uso de suelo usando aquella red neuronal que clasificaba segun crop o algo asi -> Ver como avanzó crop e industrial a lo largo del tiempo."
   ]
  },
  {
   "cell_type": "markdown",
   "id": "66e71a69-267b-4e5c-8e2d-0ccc2d10f320",
   "metadata": {},
   "source": [
    "### Definimos como aoi un área de aproximadamente 5km alrededor de la Laguna de Aculeo, y el intervalo de tiempo de interés 2014-2024 ya que se secó alrededor de 2018, Además de la disponibilidad de landsat 8, que comienza en 2013"
   ]
  },
  {
   "cell_type": "code",
   "execution_count": 133,
   "id": "fe981c18-69ca-4b0b-afdd-b47e79f83e24",
   "metadata": {
    "scrolled": true
   },
   "outputs": [
    {
     "data": {
      "text/html": [
       "\n",
       "            <style>\n",
       "                .geemap-dark {\n",
       "                    --jp-widgets-color: white;\n",
       "                    --jp-widgets-label-color: white;\n",
       "                    --jp-ui-font-color1: white;\n",
       "                    --jp-layout-color2: #454545;\n",
       "                    background-color: #383838;\n",
       "                }\n",
       "\n",
       "                .geemap-dark .jupyter-button {\n",
       "                    --jp-layout-color3: #383838;\n",
       "                }\n",
       "\n",
       "                .geemap-colab {\n",
       "                    background-color: var(--colab-primary-surface-color, white);\n",
       "                }\n",
       "\n",
       "                .geemap-colab .jupyter-button {\n",
       "                    --jp-layout-color3: var(--colab-primary-surface-color, white);\n",
       "                }\n",
       "            </style>\n",
       "            "
      ],
      "text/plain": [
       "<IPython.core.display.HTML object>"
      ]
     },
     "metadata": {},
     "output_type": "display_data"
    },
    {
     "data": {
      "text/plain": [
       "['2014-1-01',\n",
       " '2014-2-01',\n",
       " '2014-3-01',\n",
       " '2014-4-01',\n",
       " '2014-5-01',\n",
       " '2014-6-01',\n",
       " '2014-7-01',\n",
       " '2014-8-01',\n",
       " '2014-9-01',\n",
       " '2014-10-01',\n",
       " '2014-11-01',\n",
       " '2014-12-01',\n",
       " '2015-1-01',\n",
       " '2015-2-01',\n",
       " '2015-3-01',\n",
       " '2015-4-01',\n",
       " '2015-5-01',\n",
       " '2015-6-01',\n",
       " '2015-7-01',\n",
       " '2015-8-01',\n",
       " '2015-9-01',\n",
       " '2015-10-01',\n",
       " '2015-11-01',\n",
       " '2015-12-01',\n",
       " '2016-1-01',\n",
       " '2016-2-01',\n",
       " '2016-3-01',\n",
       " '2016-4-01',\n",
       " '2016-5-01',\n",
       " '2016-6-01',\n",
       " '2016-7-01',\n",
       " '2016-8-01',\n",
       " '2016-9-01',\n",
       " '2016-10-01',\n",
       " '2016-11-01',\n",
       " '2016-12-01',\n",
       " '2017-1-01',\n",
       " '2017-2-01',\n",
       " '2017-3-01',\n",
       " '2017-4-01',\n",
       " '2017-5-01',\n",
       " '2017-6-01',\n",
       " '2017-7-01',\n",
       " '2017-8-01',\n",
       " '2017-9-01',\n",
       " '2017-10-01',\n",
       " '2017-11-01',\n",
       " '2017-12-01',\n",
       " '2018-1-01',\n",
       " '2018-2-01',\n",
       " '2018-3-01',\n",
       " '2018-4-01',\n",
       " '2018-5-01',\n",
       " '2018-6-01',\n",
       " '2018-7-01',\n",
       " '2018-8-01',\n",
       " '2018-9-01',\n",
       " '2018-10-01',\n",
       " '2018-11-01',\n",
       " '2018-12-01',\n",
       " '2019-1-01',\n",
       " '2019-2-01',\n",
       " '2019-3-01',\n",
       " '2019-4-01',\n",
       " '2019-5-01',\n",
       " '2019-6-01',\n",
       " '2019-7-01',\n",
       " '2019-8-01',\n",
       " '2019-9-01',\n",
       " '2019-10-01',\n",
       " '2019-11-01',\n",
       " '2019-12-01',\n",
       " '2020-1-01',\n",
       " '2020-2-01',\n",
       " '2020-3-01',\n",
       " '2020-4-01',\n",
       " '2020-5-01',\n",
       " '2020-6-01',\n",
       " '2020-7-01',\n",
       " '2020-8-01',\n",
       " '2020-9-01',\n",
       " '2020-10-01',\n",
       " '2020-11-01',\n",
       " '2020-12-01',\n",
       " '2021-1-01',\n",
       " '2021-2-01',\n",
       " '2021-3-01',\n",
       " '2021-4-01',\n",
       " '2021-5-01',\n",
       " '2021-6-01',\n",
       " '2021-7-01',\n",
       " '2021-8-01',\n",
       " '2021-9-01',\n",
       " '2021-10-01',\n",
       " '2021-11-01',\n",
       " '2021-12-01',\n",
       " '2022-1-01',\n",
       " '2022-2-01',\n",
       " '2022-3-01',\n",
       " '2022-4-01',\n",
       " '2022-5-01',\n",
       " '2022-6-01',\n",
       " '2022-7-01',\n",
       " '2022-8-01',\n",
       " '2022-9-01',\n",
       " '2022-10-01',\n",
       " '2022-11-01',\n",
       " '2022-12-01',\n",
       " '2023-1-01',\n",
       " '2023-2-01',\n",
       " '2023-3-01',\n",
       " '2023-4-01',\n",
       " '2023-5-01',\n",
       " '2023-6-01',\n",
       " '2023-7-01',\n",
       " '2023-8-01',\n",
       " '2023-9-01',\n",
       " '2023-10-01',\n",
       " '2023-11-01',\n",
       " '2023-12-01',\n",
       " '2024-1-01',\n",
       " '2024-2-01',\n",
       " '2024-3-01',\n",
       " '2024-4-01',\n",
       " '2024-5-01']"
      ]
     },
     "execution_count": 133,
     "metadata": {},
     "output_type": "execute_result"
    }
   ],
   "source": [
    "doi = [\"2014-01-01\",\"2024-01-01\"]\n",
    "doi_intervalar = []\n",
    "for i in range(14,25):\n",
    "    for j in range(1,13):\n",
    "        if i == 24 and j >= 6:\n",
    "            break\n",
    "        doi_intervalar.append(str(2000+i)+ \"-\" +  str(j)+ \"-01\")\n",
    "doi_intervalar"
   ]
  },
  {
   "cell_type": "code",
   "execution_count": 134,
   "id": "d1c54370-da6f-48ed-8a94-1eea4119cec3",
   "metadata": {},
   "outputs": [
    {
     "data": {
      "text/html": [
       "\n",
       "            <style>\n",
       "                .geemap-dark {\n",
       "                    --jp-widgets-color: white;\n",
       "                    --jp-widgets-label-color: white;\n",
       "                    --jp-ui-font-color1: white;\n",
       "                    --jp-layout-color2: #454545;\n",
       "                    background-color: #383838;\n",
       "                }\n",
       "\n",
       "                .geemap-dark .jupyter-button {\n",
       "                    --jp-layout-color3: #383838;\n",
       "                }\n",
       "\n",
       "                .geemap-colab {\n",
       "                    background-color: var(--colab-primary-surface-color, white);\n",
       "                }\n",
       "\n",
       "                .geemap-colab .jupyter-button {\n",
       "                    --jp-layout-color3: var(--colab-primary-surface-color, white);\n",
       "                }\n",
       "            </style>\n",
       "            "
      ],
      "text/plain": [
       "<IPython.core.display.HTML object>"
      ]
     },
     "metadata": {},
     "output_type": "display_data"
    },
    {
     "data": {
      "text/plain": [
       "77601512.35539426"
      ]
     },
     "execution_count": 134,
     "metadata": {},
     "output_type": "execute_result"
    }
   ],
   "source": [
    "ee.Geometry.Point([-70.91725911612781,-33.84565081436696]).buffer(5000).area().getInfo()"
   ]
  },
  {
   "cell_type": "code",
   "execution_count": 135,
   "id": "0f0e48f7-3e2e-4650-a70d-7219fcd84153",
   "metadata": {
    "scrolled": true
   },
   "outputs": [
    {
     "data": {
      "text/html": [
       "\n",
       "            <style>\n",
       "                .geemap-dark {\n",
       "                    --jp-widgets-color: white;\n",
       "                    --jp-widgets-label-color: white;\n",
       "                    --jp-ui-font-color1: white;\n",
       "                    --jp-layout-color2: #454545;\n",
       "                    background-color: #383838;\n",
       "                }\n",
       "\n",
       "                .geemap-dark .jupyter-button {\n",
       "                    --jp-layout-color3: #383838;\n",
       "                }\n",
       "\n",
       "                .geemap-colab {\n",
       "                    background-color: var(--colab-primary-surface-color, white);\n",
       "                }\n",
       "\n",
       "                .geemap-colab .jupyter-button {\n",
       "                    --jp-layout-color3: var(--colab-primary-surface-color, white);\n",
       "                }\n",
       "            </style>\n",
       "            "
      ],
      "text/plain": [
       "<IPython.core.display.HTML object>"
      ]
     },
     "metadata": {},
     "output_type": "display_data"
    },
    {
     "data": {
      "application/vnd.jupyter.widget-view+json": {
       "model_id": "3228b07dd7434154b3506cfa793b9e7d",
       "version_major": 2,
       "version_minor": 0
      },
      "text/plain": [
       "Map(center=[-33.84565081436696, -70.91725911612781], controls=(WidgetControl(options=['position', 'transparent…"
      ]
     },
     "metadata": {},
     "output_type": "display_data"
    }
   ],
   "source": [
    "# aoi = gpd.GeoSeries(shapely.Point(),crs=\"EPSG:4326\").to_crs(\"EPSG:32719\")\n",
    "aoi = ee.Geometry.Point([-70.91725911612781,-33.84565081436696]).buffer(5000)\n",
    "# aoi_bbox = ee.Geometry.Polygon(json.loads(aoi)['features'][0]['geometry']['coordinates'], 'EPSG:4326')\n",
    "\n",
    "m = geemap.Map(center=[-33.84565081436696, -70.91725911612781], zoom=15)\n",
    "\n",
    "m.addLayer(aoi,name='aoi')\n",
    "m"
   ]
  },
  {
   "cell_type": "code",
   "execution_count": 136,
   "id": "8c7b88b8-1680-4b54-be02-8e0d9484391b",
   "metadata": {},
   "outputs": [
    {
     "data": {
      "text/html": [
       "\n",
       "            <style>\n",
       "                .geemap-dark {\n",
       "                    --jp-widgets-color: white;\n",
       "                    --jp-widgets-label-color: white;\n",
       "                    --jp-ui-font-color1: white;\n",
       "                    --jp-layout-color2: #454545;\n",
       "                    background-color: #383838;\n",
       "                }\n",
       "\n",
       "                .geemap-dark .jupyter-button {\n",
       "                    --jp-layout-color3: #383838;\n",
       "                }\n",
       "\n",
       "                .geemap-colab {\n",
       "                    background-color: var(--colab-primary-surface-color, white);\n",
       "                }\n",
       "\n",
       "                .geemap-colab .jupyter-button {\n",
       "                    --jp-layout-color3: var(--colab-primary-surface-color, white);\n",
       "                }\n",
       "            </style>\n",
       "            "
      ],
      "text/plain": [
       "<IPython.core.display.HTML object>"
      ]
     },
     "metadata": {},
     "output_type": "display_data"
    }
   ],
   "source": [
    "def apply_scale_factors(image):\n",
    "  optical_bands = image.select('SR_B.').multiply(0.0000275).add(-0.2)\n",
    "  thermal_bands = image.select('ST_B.*').multiply(0.00341802).add(149.0)\n",
    "  return image.addBands(optical_bands, None, True)"
   ]
  },
  {
   "cell_type": "markdown",
   "id": "6069609a-830d-4cee-a8de-04cb239b2f18",
   "metadata": {},
   "source": [
    "### Calculamos el NDWI para cada mes, conservando las fechas que tienen imágenes en condiciones para posteriormente armar el dataframe"
   ]
  },
  {
   "cell_type": "code",
   "execution_count": 137,
   "id": "89926e14-9930-4fc9-aedf-7eef07a60e3e",
   "metadata": {
    "scrolled": true
   },
   "outputs": [
    {
     "data": {
      "text/html": [
       "\n",
       "            <style>\n",
       "                .geemap-dark {\n",
       "                    --jp-widgets-color: white;\n",
       "                    --jp-widgets-label-color: white;\n",
       "                    --jp-ui-font-color1: white;\n",
       "                    --jp-layout-color2: #454545;\n",
       "                    background-color: #383838;\n",
       "                }\n",
       "\n",
       "                .geemap-dark .jupyter-button {\n",
       "                    --jp-layout-color3: #383838;\n",
       "                }\n",
       "\n",
       "                .geemap-colab {\n",
       "                    background-color: var(--colab-primary-surface-color, white);\n",
       "                }\n",
       "\n",
       "                .geemap-colab .jupyter-button {\n",
       "                    --jp-layout-color3: var(--colab-primary-surface-color, white);\n",
       "                }\n",
       "            </style>\n",
       "            "
      ],
      "text/plain": [
       "<IPython.core.display.HTML object>"
      ]
     },
     "metadata": {},
     "output_type": "display_data"
    },
    {
     "name": "stdout",
     "output_type": "stream",
     "text": [
      "2014-1-01 2014-2-01\n",
      "2014-2-01 2014-3-01\n",
      "2014-3-01 2014-4-01\n",
      "Colección Vacía\n",
      "2014-4-01 2014-5-01\n",
      "2014-5-01 2014-6-01\n",
      "Colección Vacía\n",
      "2014-6-01 2014-7-01\n",
      "2014-7-01 2014-8-01\n",
      "Colección Vacía\n",
      "2014-8-01 2014-9-01\n",
      "2014-9-01 2014-10-01\n",
      "Colección Vacía\n",
      "2014-10-01 2014-11-01\n",
      "2014-11-01 2014-12-01\n",
      "2014-12-01 2015-1-01\n",
      "Colección Vacía\n",
      "2015-1-01 2015-2-01\n",
      "2015-2-01 2015-3-01\n",
      "2015-3-01 2015-4-01\n",
      "2015-4-01 2015-5-01\n",
      "2015-5-01 2015-6-01\n",
      "2015-6-01 2015-7-01\n",
      "Colección Vacía\n",
      "2015-7-01 2015-8-01\n",
      "2015-8-01 2015-9-01\n",
      "Colección Vacía\n",
      "2015-9-01 2015-10-01\n",
      "Colección Vacía\n",
      "2015-10-01 2015-11-01\n",
      "2015-11-01 2015-12-01\n",
      "2015-12-01 2016-1-01\n",
      "2016-1-01 2016-2-01\n",
      "2016-2-01 2016-3-01\n",
      "Colección Vacía\n",
      "2016-3-01 2016-4-01\n",
      "2016-4-01 2016-5-01\n",
      "2016-5-01 2016-6-01\n",
      "2016-6-01 2016-7-01\n",
      "2016-7-01 2016-8-01\n",
      "Colección Vacía\n",
      "2016-8-01 2016-9-01\n",
      "2016-9-01 2016-10-01\n",
      "2016-10-01 2016-11-01\n",
      "2016-11-01 2016-12-01\n",
      "2016-12-01 2017-1-01\n",
      "Colección Vacía\n",
      "2017-1-01 2017-2-01\n",
      "2017-2-01 2017-3-01\n",
      "2017-3-01 2017-4-01\n",
      "2017-4-01 2017-5-01\n",
      "Colección Vacía\n",
      "2017-5-01 2017-6-01\n",
      "Colección Vacía\n",
      "2017-6-01 2017-7-01\n",
      "2017-7-01 2017-8-01\n",
      "2017-8-01 2017-9-01\n",
      "2017-9-01 2017-10-01\n",
      "Colección Vacía\n",
      "2017-10-01 2017-11-01\n",
      "Colección Vacía\n",
      "2017-11-01 2017-12-01\n",
      "2017-12-01 2018-1-01\n",
      "2018-1-01 2018-2-01\n",
      "2018-2-01 2018-3-01\n",
      "2018-3-01 2018-4-01\n",
      "2018-4-01 2018-5-01\n",
      "2018-5-01 2018-6-01\n",
      "2018-6-01 2018-7-01\n",
      "2018-7-01 2018-8-01\n",
      "2018-8-01 2018-9-01\n",
      "2018-9-01 2018-10-01\n",
      "2018-10-01 2018-11-01\n",
      "Colección Vacía\n",
      "2018-11-01 2018-12-01\n",
      "Colección Vacía\n",
      "2018-12-01 2019-1-01\n",
      "Colección Vacía\n",
      "2019-1-01 2019-2-01\n",
      "Colección Vacía\n",
      "2019-2-01 2019-3-01\n",
      "Colección Vacía\n",
      "2019-3-01 2019-4-01\n",
      "Colección Vacía\n",
      "2019-4-01 2019-5-01\n",
      "Colección Vacía\n",
      "2019-5-01 2019-6-01\n",
      "Colección Vacía\n",
      "2019-6-01 2019-7-01\n",
      "Colección Vacía\n",
      "2019-7-01 2019-8-01\n",
      "Colección Vacía\n",
      "2019-8-01 2019-9-01\n",
      "Colección Vacía\n",
      "2019-9-01 2019-10-01\n",
      "2019-10-01 2019-11-01\n",
      "2019-11-01 2019-12-01\n",
      "2019-12-01 2020-1-01\n",
      "2020-1-01 2020-2-01\n",
      "2020-2-01 2020-3-01\n",
      "2020-3-01 2020-4-01\n",
      "2020-4-01 2020-5-01\n",
      "2020-5-01 2020-6-01\n",
      "2020-6-01 2020-7-01\n",
      "Colección Vacía\n",
      "2020-7-01 2020-8-01\n",
      "2020-8-01 2020-9-01\n",
      "2020-9-01 2020-10-01\n",
      "2020-10-01 2020-11-01\n",
      "2020-11-01 2020-12-01\n",
      "2020-12-01 2021-1-01\n",
      "2021-1-01 2021-2-01\n",
      "2021-2-01 2021-3-01\n",
      "Colección Vacía\n",
      "2021-3-01 2021-4-01\n",
      "2021-4-01 2021-5-01\n",
      "Colección Vacía\n",
      "2021-5-01 2021-6-01\n",
      "Colección Vacía\n",
      "2021-6-01 2021-7-01\n",
      "2021-7-01 2021-8-01\n",
      "2021-8-01 2021-9-01\n",
      "2021-9-01 2021-10-01\n",
      "2021-10-01 2021-11-01\n",
      "2021-11-01 2021-12-01\n",
      "2021-12-01 2022-1-01\n",
      "2022-1-01 2022-2-01\n",
      "2022-2-01 2022-3-01\n",
      "2022-3-01 2022-4-01\n",
      "2022-4-01 2022-5-01\n",
      "2022-5-01 2022-6-01\n",
      "Colección Vacía\n",
      "2022-6-01 2022-7-01\n",
      "2022-7-01 2022-8-01\n",
      "2022-8-01 2022-9-01\n",
      "2022-9-01 2022-10-01\n",
      "2022-10-01 2022-11-01\n",
      "2022-11-01 2022-12-01\n",
      "2022-12-01 2023-1-01\n",
      "2023-1-01 2023-2-01\n",
      "2023-2-01 2023-3-01\n",
      "2023-3-01 2023-4-01\n",
      "2023-4-01 2023-5-01\n",
      "2023-5-01 2023-6-01\n",
      "Colección Vacía\n",
      "2023-6-01 2023-7-01\n",
      "2023-7-01 2023-8-01\n",
      "2023-8-01 2023-9-01\n",
      "2023-9-01 2023-10-01\n",
      "2023-10-01 2023-11-01\n",
      "2023-11-01 2023-12-01\n",
      "Colección Vacía\n",
      "2023-12-01 2024-1-01\n",
      "2024-1-01 2024-2-01\n",
      "2024-2-01 2024-3-01\n",
      "2024-3-01 2024-4-01\n",
      "2024-4-01 2024-5-01\n"
     ]
    }
   ],
   "source": [
    "# Map = geemap.Map(center=[-33.84565081436696, -70.91725911612781],zoom=12)\n",
    "\n",
    "# NDWI usado: http://archive.eclass.uth.gr/eclass/modules/document/file.php/MHXC241/PROJECT/Mc_Feeters_NDWI_01431169608948714.pdf\n",
    "\n",
    "imagenes_ndwi = []\n",
    "fechas_con_imagen = []\n",
    "for i in tqdm(range(len(doi_intervalar)-1), total=len(doi_intervalar)-1)):\n",
    "    inicio = doi_intervalar[i]\n",
    "    fin = doi_intervalar[i+1]\n",
    "    print(inicio, fin)\n",
    "    \n",
    "# Obtenemos imágenes\n",
    "    \n",
    "    landsat_collection = ee.ImageCollection(\"LANDSAT/LC08/C02/T1_L2\").filter(ee.Filter.lessThan(leftField=\"CLOUD_COVER_LAND\", rightValue=20)).filterDate(inicio,fin).filterBounds(aoi).select(['SR_B3', 'SR_B5'])\n",
    "# Hacemos escalamientos correspondientes\n",
    "    \n",
    "    landsat_collection = landsat_collection.map(apply_scale_factors)\n",
    "# Obtenemos geomediana para reducir a una imágen\n",
    "    \n",
    "    try: # Si no hay ninguna imágen para ese mes, esta siguiente linea dará error, por lo que esta linea lo maneja (de forma un poco bruta, pero funciona)\n",
    "        r = ee.Reducer.geometricMedian(2).setOutputs([\"geom_\" + nombre for nombre in landsat_collection.first().bandNames().getInfo()])\n",
    "    except:\n",
    "        print(\"Colección Vacía\")\n",
    "        continue\n",
    "    geomediana = landsat_collection.reduce(r)\n",
    "#Calculamos ndwi\n",
    "    ndwi = geomediana.normalizedDifference([\"geom_SR_B3\",\"geom_SR_B5\"])\n",
    "    geomediana = geomediana.addBands(ndwi)\n",
    "# Agregamos a la lista\n",
    "    imagenes_ndwi.append(geomediana)\n",
    "    fechas_con_imagen.append(inicio) # Guardamos las fechas para después\n",
    "\n",
    "ndwis = ee.ImageCollection.fromImages(imagenes_ndwi)\n",
    "\n",
    "\n"
   ]
  },
  {
   "cell_type": "markdown",
   "id": "26653a5f-f4f3-484c-9340-8a425195bb03",
   "metadata": {},
   "source": [
    "### Exportamos un video time-lapse del nivel de agua de la Laguna"
   ]
  },
  {
   "cell_type": "code",
   "execution_count": 138,
   "id": "3cdcfc5b-ec62-4327-b4f6-9d7cd7c5ed26",
   "metadata": {},
   "outputs": [
    {
     "data": {
      "text/html": [
       "\n",
       "            <style>\n",
       "                .geemap-dark {\n",
       "                    --jp-widgets-color: white;\n",
       "                    --jp-widgets-label-color: white;\n",
       "                    --jp-ui-font-color1: white;\n",
       "                    --jp-layout-color2: #454545;\n",
       "                    background-color: #383838;\n",
       "                }\n",
       "\n",
       "                .geemap-dark .jupyter-button {\n",
       "                    --jp-layout-color3: #383838;\n",
       "                }\n",
       "\n",
       "                .geemap-colab {\n",
       "                    background-color: var(--colab-primary-surface-color, white);\n",
       "                }\n",
       "\n",
       "                .geemap-colab .jupyter-button {\n",
       "                    --jp-layout-color3: var(--colab-primary-surface-color, white);\n",
       "                }\n",
       "            </style>\n",
       "            "
      ],
      "text/plain": [
       "<IPython.core.display.HTML object>"
      ]
     },
     "metadata": {},
     "output_type": "display_data"
    },
    {
     "name": "stdout",
     "output_type": "stream",
     "text": [
      "https://earthengine.googleapis.com/v1/projects/earthengine-legacy/videoThumbnails/14a70b0c89247d9c699429048e848d43-5b10e7014df9db0a333c6ebd5e22efb4:getPixels\n"
     ]
    }
   ],
   "source": [
    "\n",
    "videoArgs = {'dimensions': 500,\n",
    "             'region': aoi,\n",
    "             'framesPerSecond': 5,\n",
    "            'bands': [\"nd\"], \"palette\":[\"green\", \"blue\"]}\n",
    "\n",
    "## Cambios: Mejor calcular todas los ndwi y hacer un video de eso yo creo\n",
    "print(ndwis.getVideoThumbURL(videoArgs))"
   ]
  },
  {
   "cell_type": "markdown",
   "id": "dbcb174e-e498-471e-85d7-f27116b2693c",
   "metadata": {},
   "source": [
    "### Casualmente se obtuvo 100 imaǵenes de meses tales que tuvieron al menos una imágen con una cobertura aceptable de nubes, para la que se calculó la geomediana de las bandas, y luego se computó el ndwi, ahora se busca obtener el area total de agua para cada imágen."
   ]
  },
  {
   "cell_type": "code",
   "execution_count": 139,
   "id": "5d444a52-994f-48d4-a100-e56d05dc219d",
   "metadata": {
    "scrolled": true
   },
   "outputs": [
    {
     "data": {
      "text/html": [
       "\n",
       "            <style>\n",
       "                .geemap-dark {\n",
       "                    --jp-widgets-color: white;\n",
       "                    --jp-widgets-label-color: white;\n",
       "                    --jp-ui-font-color1: white;\n",
       "                    --jp-layout-color2: #454545;\n",
       "                    background-color: #383838;\n",
       "                }\n",
       "\n",
       "                .geemap-dark .jupyter-button {\n",
       "                    --jp-layout-color3: #383838;\n",
       "                }\n",
       "\n",
       "                .geemap-colab {\n",
       "                    background-color: var(--colab-primary-surface-color, white);\n",
       "                }\n",
       "\n",
       "                .geemap-colab .jupyter-button {\n",
       "                    --jp-layout-color3: var(--colab-primary-surface-color, white);\n",
       "                }\n",
       "            </style>\n",
       "            "
      ],
      "text/plain": [
       "<IPython.core.display.HTML object>"
      ]
     },
     "metadata": {},
     "output_type": "display_data"
    },
    {
     "data": {
      "text/html": [
       "<div><style>:root {\n",
       "  --font-color-primary: var(--jp-content-font-color0, rgba(0, 0, 0, 1));\n",
       "  --font-color-secondary: var(--jp-content-font-color2, rgba(0, 0, 0, 0.6));\n",
       "  --font-color-accent: rgba(123, 31, 162, 1);\n",
       "  --border-color: var(--jp-border-color2, #e0e0e0);\n",
       "  --background-color: var(--jp-layout-color0, white);\n",
       "  --background-color-row-even: var(--jp-layout-color1, white);\n",
       "  --background-color-row-odd: var(--jp-layout-color2, #eeeeee);\n",
       "}\n",
       "\n",
       "html[theme=\"dark\"],\n",
       "body[data-theme=\"dark\"],\n",
       "body.vscode-dark {\n",
       "  --font-color-primary: rgba(255, 255, 255, 1);\n",
       "  --font-color-secondary: rgba(255, 255, 255, 0.6);\n",
       "  --font-color-accent: rgb(173, 132, 190);\n",
       "  --border-color: #2e2e2e;\n",
       "  --background-color: #111111;\n",
       "  --background-color-row-even: #111111;\n",
       "  --background-color-row-odd: #313131;\n",
       "}\n",
       "\n",
       ".ee {\n",
       "  padding: 1em;\n",
       "  line-height: 1.5em;\n",
       "  min-width: 300px;\n",
       "  max-width: 1200px;\n",
       "  overflow-y: scroll;\n",
       "  max-height: 600px;\n",
       "  border: 1px solid var(--border-color);\n",
       "  font-family: monospace;\n",
       "}\n",
       "\n",
       ".ee li {\n",
       "  list-style-type: none;\n",
       "}\n",
       "\n",
       ".ee ul {\n",
       "  padding-left: 1.5em !important;\n",
       "  margin: 0;\n",
       "}\n",
       "\n",
       ".ee > ul {\n",
       "  padding-left: 0 !important;\n",
       "}\n",
       "\n",
       ".ee-open,\n",
       ".ee-shut {\n",
       "  color: var(--font-color-secondary);\n",
       "  cursor: pointer;\n",
       "  margin: 0;\n",
       "}\n",
       "\n",
       ".ee-open:hover,\n",
       ".ee-shut:hover {\n",
       "  color: var(--font-color-primary);\n",
       "}\n",
       "\n",
       ".ee-k {\n",
       "  color: var(--font-color-accent);\n",
       "  margin-right: 6px;\n",
       "}\n",
       "\n",
       ".ee-v {\n",
       "  color: var(--font-color-primary);\n",
       "}\n",
       "\n",
       ".ee-toggle {\n",
       "  display: none;\n",
       "}\n",
       "\n",
       ".ee-shut + ul {\n",
       "  display: none;\n",
       "}\n",
       "\n",
       ".ee-open + ul {\n",
       "  display: block;\n",
       "}\n",
       "\n",
       ".ee-shut::before {\n",
       "  display: inline-block;\n",
       "  content: \"▼\";\n",
       "  margin-right: 6px;\n",
       "  transform: rotate(-90deg);\n",
       "  transition: transform 0.2s;\n",
       "}\n",
       "\n",
       ".ee-open::before {\n",
       "  transform: rotate(0deg);\n",
       "  display: inline-block;\n",
       "  content: \"▼\";\n",
       "  margin-right: 6px;\n",
       "  transition: transform 0.2s;\n",
       "}\n",
       "</style><div class='ee'><ul><li><label class='ee-shut'>Image (3 bands)<input type='checkbox' class='ee-toggle'></label><ul><li><span class='ee-k'>type:</span><span class='ee-v'>Image</span></li><li><label class='ee-shut'>bands: List (3 elements)<input type='checkbox' class='ee-toggle'></label><ul><li><label class='ee-shut'>0: \"geom_SR_B3\", int ∈ [0, 1], EPSG:4326<input type='checkbox' class='ee-toggle'></label><ul><li><span class='ee-k'>id:</span><span class='ee-v'>geom_SR_B3</span></li><li><span class='ee-k'>crs:</span><span class='ee-v'>EPSG:4326</span></li><li><label class='ee-shut'>crs_transform: [1, 0, 0, 0, 1, 0]<input type='checkbox' class='ee-toggle'></label><ul><li><span class='ee-k'>0:</span><span class='ee-v'>1</span></li><li><span class='ee-k'>1:</span><span class='ee-v'>0</span></li><li><span class='ee-k'>2:</span><span class='ee-v'>0</span></li><li><span class='ee-k'>3:</span><span class='ee-v'>0</span></li><li><span class='ee-k'>4:</span><span class='ee-v'>1</span></li><li><span class='ee-k'>5:</span><span class='ee-v'>0</span></li></ul></li><li><label class='ee-shut'>data_type: int ∈ [0, 1]<input type='checkbox' class='ee-toggle'></label><ul><li><span class='ee-k'>type:</span><span class='ee-v'>PixelType</span></li><li><span class='ee-k'>max:</span><span class='ee-v'>1</span></li><li><span class='ee-k'>min:</span><span class='ee-v'>0</span></li><li><span class='ee-k'>precision:</span><span class='ee-v'>int</span></li></ul></li></ul></li><li><label class='ee-shut'>1: \"geom_SR_B5\", int ∈ [0, 1], EPSG:4326<input type='checkbox' class='ee-toggle'></label><ul><li><span class='ee-k'>id:</span><span class='ee-v'>geom_SR_B5</span></li><li><span class='ee-k'>crs:</span><span class='ee-v'>EPSG:4326</span></li><li><label class='ee-shut'>crs_transform: [1, 0, 0, 0, 1, 0]<input type='checkbox' class='ee-toggle'></label><ul><li><span class='ee-k'>0:</span><span class='ee-v'>1</span></li><li><span class='ee-k'>1:</span><span class='ee-v'>0</span></li><li><span class='ee-k'>2:</span><span class='ee-v'>0</span></li><li><span class='ee-k'>3:</span><span class='ee-v'>0</span></li><li><span class='ee-k'>4:</span><span class='ee-v'>1</span></li><li><span class='ee-k'>5:</span><span class='ee-v'>0</span></li></ul></li><li><label class='ee-shut'>data_type: int ∈ [0, 1]<input type='checkbox' class='ee-toggle'></label><ul><li><span class='ee-k'>type:</span><span class='ee-v'>PixelType</span></li><li><span class='ee-k'>max:</span><span class='ee-v'>1</span></li><li><span class='ee-k'>min:</span><span class='ee-v'>0</span></li><li><span class='ee-k'>precision:</span><span class='ee-v'>int</span></li></ul></li></ul></li><li><label class='ee-shut'>2: \"nd\", int ∈ [0, 1], EPSG:4326<input type='checkbox' class='ee-toggle'></label><ul><li><span class='ee-k'>id:</span><span class='ee-v'>nd</span></li><li><span class='ee-k'>crs:</span><span class='ee-v'>EPSG:4326</span></li><li><label class='ee-shut'>crs_transform: [1, 0, 0, 0, 1, 0]<input type='checkbox' class='ee-toggle'></label><ul><li><span class='ee-k'>0:</span><span class='ee-v'>1</span></li><li><span class='ee-k'>1:</span><span class='ee-v'>0</span></li><li><span class='ee-k'>2:</span><span class='ee-v'>0</span></li><li><span class='ee-k'>3:</span><span class='ee-v'>0</span></li><li><span class='ee-k'>4:</span><span class='ee-v'>1</span></li><li><span class='ee-k'>5:</span><span class='ee-v'>0</span></li></ul></li><li><label class='ee-shut'>data_type: int ∈ [0, 1]<input type='checkbox' class='ee-toggle'></label><ul><li><span class='ee-k'>type:</span><span class='ee-v'>PixelType</span></li><li><span class='ee-k'>max:</span><span class='ee-v'>1</span></li><li><span class='ee-k'>min:</span><span class='ee-v'>0</span></li><li><span class='ee-k'>precision:</span><span class='ee-v'>int</span></li></ul></li></ul></li></ul></li></ul></li></ul></div><script>function toggleHeader() {\n",
       "    const parent = this.parentElement;\n",
       "    parent.className = parent.className === \"ee-open\" ? \"ee-shut\" : \"ee-open\";\n",
       "}\n",
       "\n",
       "for (let c of document.getElementsByClassName(\"ee-toggle\")) {\n",
       "    c.onclick = toggleHeader;\n",
       "}</script></div>"
      ],
      "text/plain": [
       "<ee.image.Image at 0x7f3f74a32140>"
      ]
     },
     "execution_count": 139,
     "metadata": {},
     "output_type": "execute_result"
    }
   ],
   "source": [
    "imagenes_binarias = [] #Imágenes binarias con píxeles diciendo si ese pixel tiene o no agua\n",
    "for ndwi in imagenes_ndwi: # ndwi es una imágen que contiene 3 bandas, siendo una de estas ndwi\n",
    "    imagenes_binarias.append(ndwi.gt(0.3).selfMask()) # Guardamos las imágenes de forma binaria\n",
    "\n",
    "imagenes_binarias[0]"
   ]
  },
  {
   "cell_type": "code",
   "execution_count": 140,
   "id": "94ad00b9-67ac-43ca-919e-5cca63ce3041",
   "metadata": {},
   "outputs": [
    {
     "data": {
      "text/html": [
       "\n",
       "            <style>\n",
       "                .geemap-dark {\n",
       "                    --jp-widgets-color: white;\n",
       "                    --jp-widgets-label-color: white;\n",
       "                    --jp-ui-font-color1: white;\n",
       "                    --jp-layout-color2: #454545;\n",
       "                    background-color: #383838;\n",
       "                }\n",
       "\n",
       "                .geemap-dark .jupyter-button {\n",
       "                    --jp-layout-color3: #383838;\n",
       "                }\n",
       "\n",
       "                .geemap-colab {\n",
       "                    background-color: var(--colab-primary-surface-color, white);\n",
       "                }\n",
       "\n",
       "                .geemap-colab .jupyter-button {\n",
       "                    --jp-layout-color3: var(--colab-primary-surface-color, white);\n",
       "                }\n",
       "            </style>\n",
       "            "
      ],
      "text/plain": [
       "<IPython.core.display.HTML object>"
      ]
     },
     "metadata": {},
     "output_type": "display_data"
    },
    {
     "data": {
      "application/vnd.jupyter.widget-view+json": {
       "model_id": "c77049760bc74980a9b09b0e82881fbb",
       "version_major": 2,
       "version_minor": 0
      },
      "text/plain": [
       "Map(center=[-33.84565081436696, -70.91725911612781], controls=(WidgetControl(options=['position', 'transparent…"
      ]
     },
     "metadata": {},
     "output_type": "display_data"
    }
   ],
   "source": [
    "m = geemap.Map(center=[-33.84565081436696, -70.91725911612781], zoom=15)\n",
    "vis = {\n",
    "    'bands': ['nd']\n",
    "}\n",
    "\n",
    "\n",
    "m.addLayer(aoi,name='aoi')\n",
    "m.addLayer(imagenes_binarias[0].clip(aoi), vis,name='agua')\n",
    "\n",
    "m"
   ]
  },
  {
   "cell_type": "code",
   "execution_count": 141,
   "id": "3fdb42c0-25a3-4626-aeb0-b511b1d8d5ea",
   "metadata": {
    "scrolled": true
   },
   "outputs": [
    {
     "data": {
      "text/html": [
       "\n",
       "            <style>\n",
       "                .geemap-dark {\n",
       "                    --jp-widgets-color: white;\n",
       "                    --jp-widgets-label-color: white;\n",
       "                    --jp-ui-font-color1: white;\n",
       "                    --jp-layout-color2: #454545;\n",
       "                    background-color: #383838;\n",
       "                }\n",
       "\n",
       "                .geemap-dark .jupyter-button {\n",
       "                    --jp-layout-color3: #383838;\n",
       "                }\n",
       "\n",
       "                .geemap-colab {\n",
       "                    background-color: var(--colab-primary-surface-color, white);\n",
       "                }\n",
       "\n",
       "                .geemap-colab .jupyter-button {\n",
       "                    --jp-layout-color3: var(--colab-primary-surface-color, white);\n",
       "                }\n",
       "            </style>\n",
       "            "
      ],
      "text/plain": [
       "<IPython.core.display.HTML object>"
      ]
     },
     "metadata": {},
     "output_type": "display_data"
    },
    {
     "data": {
      "text/plain": [
       "[(5646227.292114258, 5.646227292114258),\n",
       " (7319313.66809082, 7.31931366809082),\n",
       " (5105671.21484375, 5.10567121484375),\n",
       " (7210462.703491211, 7.210462703491211),\n",
       " (7162003.768676758, 7.162003768676758)]"
      ]
     },
     "execution_count": 141,
     "metadata": {},
     "output_type": "execute_result"
    }
   ],
   "source": [
    "# Este segmento de código saca el área para cada imágen\n",
    "\n",
    "areas = []\n",
    "for imagen_binaria in imagenes_binarias:\n",
    "    pixelarea = ee.Image.pixelArea()\n",
    "    flood_extent2 = pixelarea.updateMask(imagen_binaria.select(\"nd\"))\n",
    "    suma = flood_extent2.reduceRegion(ee.Reducer.sum(), aoi, scale=30)\n",
    "    suma = suma.getNumber('area').getInfo()# en metros cuadrados\n",
    "    square_meters = suma\n",
    "    square_kilometers = square_meters / (1e6)\n",
    "    areas.append((square_meters,square_kilometers))\n",
    "\n",
    "areas[0:5]\n",
    "    "
   ]
  },
  {
   "cell_type": "markdown",
   "id": "3e3aae44-d5a3-449f-a3da-260ddb8d04b6",
   "metadata": {},
   "source": [
    "### Se arma el dataframe con las áreas a través del tiempo"
   ]
  },
  {
   "cell_type": "code",
   "execution_count": 142,
   "id": "0a56ef7e-c456-4417-b88b-955df2ca655a",
   "metadata": {},
   "outputs": [
    {
     "data": {
      "text/html": [
       "\n",
       "            <style>\n",
       "                .geemap-dark {\n",
       "                    --jp-widgets-color: white;\n",
       "                    --jp-widgets-label-color: white;\n",
       "                    --jp-ui-font-color1: white;\n",
       "                    --jp-layout-color2: #454545;\n",
       "                    background-color: #383838;\n",
       "                }\n",
       "\n",
       "                .geemap-dark .jupyter-button {\n",
       "                    --jp-layout-color3: #383838;\n",
       "                }\n",
       "\n",
       "                .geemap-colab {\n",
       "                    background-color: var(--colab-primary-surface-color, white);\n",
       "                }\n",
       "\n",
       "                .geemap-colab .jupyter-button {\n",
       "                    --jp-layout-color3: var(--colab-primary-surface-color, white);\n",
       "                }\n",
       "            </style>\n",
       "            "
      ],
      "text/plain": [
       "<IPython.core.display.HTML object>"
      ]
     },
     "metadata": {},
     "output_type": "display_data"
    },
    {
     "data": {
      "text/html": [
       "<div>\n",
       "<style scoped>\n",
       "    .dataframe tbody tr th:only-of-type {\n",
       "        vertical-align: middle;\n",
       "    }\n",
       "\n",
       "    .dataframe tbody tr th {\n",
       "        vertical-align: top;\n",
       "    }\n",
       "\n",
       "    .dataframe thead th {\n",
       "        text-align: right;\n",
       "    }\n",
       "</style>\n",
       "<table border=\"1\" class=\"dataframe\">\n",
       "  <thead>\n",
       "    <tr style=\"text-align: right;\">\n",
       "      <th></th>\n",
       "      <th>m</th>\n",
       "      <th>km</th>\n",
       "      <th>fecha</th>\n",
       "      <th>año</th>\n",
       "      <th>mes</th>\n",
       "    </tr>\n",
       "  </thead>\n",
       "  <tbody>\n",
       "    <tr>\n",
       "      <th>0</th>\n",
       "      <td>5.646227e+06</td>\n",
       "      <td>5.646227</td>\n",
       "      <td>2014-01-01</td>\n",
       "      <td>2014</td>\n",
       "      <td>1</td>\n",
       "    </tr>\n",
       "    <tr>\n",
       "      <th>1</th>\n",
       "      <td>7.319314e+06</td>\n",
       "      <td>7.319314</td>\n",
       "      <td>2014-02-01</td>\n",
       "      <td>2014</td>\n",
       "      <td>2</td>\n",
       "    </tr>\n",
       "    <tr>\n",
       "      <th>2</th>\n",
       "      <td>5.105671e+06</td>\n",
       "      <td>5.105671</td>\n",
       "      <td>2014-04-01</td>\n",
       "      <td>2014</td>\n",
       "      <td>4</td>\n",
       "    </tr>\n",
       "    <tr>\n",
       "      <th>3</th>\n",
       "      <td>7.210463e+06</td>\n",
       "      <td>7.210463</td>\n",
       "      <td>2014-06-01</td>\n",
       "      <td>2014</td>\n",
       "      <td>6</td>\n",
       "    </tr>\n",
       "    <tr>\n",
       "      <th>4</th>\n",
       "      <td>7.162004e+06</td>\n",
       "      <td>7.162004</td>\n",
       "      <td>2014-08-01</td>\n",
       "      <td>2014</td>\n",
       "      <td>8</td>\n",
       "    </tr>\n",
       "    <tr>\n",
       "      <th>...</th>\n",
       "      <td>...</td>\n",
       "      <td>...</td>\n",
       "      <td>...</td>\n",
       "      <td>...</td>\n",
       "      <td>...</td>\n",
       "    </tr>\n",
       "    <tr>\n",
       "      <th>86</th>\n",
       "      <td>5.040128e+06</td>\n",
       "      <td>5.040128</td>\n",
       "      <td>2023-12-01</td>\n",
       "      <td>2023</td>\n",
       "      <td>12</td>\n",
       "    </tr>\n",
       "    <tr>\n",
       "      <th>87</th>\n",
       "      <td>4.727712e+06</td>\n",
       "      <td>4.727712</td>\n",
       "      <td>2024-01-01</td>\n",
       "      <td>2024</td>\n",
       "      <td>1</td>\n",
       "    </tr>\n",
       "    <tr>\n",
       "      <th>88</th>\n",
       "      <td>4.030591e+06</td>\n",
       "      <td>4.030591</td>\n",
       "      <td>2024-02-01</td>\n",
       "      <td>2024</td>\n",
       "      <td>2</td>\n",
       "    </tr>\n",
       "    <tr>\n",
       "      <th>89</th>\n",
       "      <td>2.138354e+06</td>\n",
       "      <td>2.138354</td>\n",
       "      <td>2024-03-01</td>\n",
       "      <td>2024</td>\n",
       "      <td>3</td>\n",
       "    </tr>\n",
       "    <tr>\n",
       "      <th>90</th>\n",
       "      <td>1.553813e+06</td>\n",
       "      <td>1.553813</td>\n",
       "      <td>2024-04-01</td>\n",
       "      <td>2024</td>\n",
       "      <td>4</td>\n",
       "    </tr>\n",
       "  </tbody>\n",
       "</table>\n",
       "<p>91 rows × 5 columns</p>\n",
       "</div>"
      ],
      "text/plain": [
       "               m        km      fecha   año mes\n",
       "0   5.646227e+06  5.646227 2014-01-01  2014   1\n",
       "1   7.319314e+06  7.319314 2014-02-01  2014   2\n",
       "2   5.105671e+06  5.105671 2014-04-01  2014   4\n",
       "3   7.210463e+06  7.210463 2014-06-01  2014   6\n",
       "4   7.162004e+06  7.162004 2014-08-01  2014   8\n",
       "..           ...       ...        ...   ...  ..\n",
       "86  5.040128e+06  5.040128 2023-12-01  2023  12\n",
       "87  4.727712e+06  4.727712 2024-01-01  2024   1\n",
       "88  4.030591e+06  4.030591 2024-02-01  2024   2\n",
       "89  2.138354e+06  2.138354 2024-03-01  2024   3\n",
       "90  1.553813e+06  1.553813 2024-04-01  2024   4\n",
       "\n",
       "[91 rows x 5 columns]"
      ]
     },
     "execution_count": 142,
     "metadata": {},
     "output_type": "execute_result"
    }
   ],
   "source": [
    "df = pd.DataFrame(areas, columns=[\"m\", \"km\"])\n",
    "df[\"fecha\"] = fechas_con_imagen\n",
    "df[\"año\"] = df[\"fecha\"].map(lambda x: (x.split(\"-\")[0]))\n",
    "df[\"mes\"] = df[\"fecha\"].map(lambda x: (x.split(\"-\")[1]))\n",
    "df[\"fecha\"] = pd.to_datetime(df[\"fecha\"])\n",
    "df"
   ]
  },
  {
   "cell_type": "markdown",
   "id": "6d551274-72fd-4b65-89ef-86396dcefd74",
   "metadata": {},
   "source": [
    "## Gráficos"
   ]
  },
  {
   "cell_type": "code",
   "execution_count": 184,
   "id": "0f3e1e4a-fa37-4e5f-92f0-33a97574b393",
   "metadata": {},
   "outputs": [
    {
     "data": {
      "text/html": [
       "\n",
       "            <style>\n",
       "                .geemap-dark {\n",
       "                    --jp-widgets-color: white;\n",
       "                    --jp-widgets-label-color: white;\n",
       "                    --jp-ui-font-color1: white;\n",
       "                    --jp-layout-color2: #454545;\n",
       "                    background-color: #383838;\n",
       "                }\n",
       "\n",
       "                .geemap-dark .jupyter-button {\n",
       "                    --jp-layout-color3: #383838;\n",
       "                }\n",
       "\n",
       "                .geemap-colab {\n",
       "                    background-color: var(--colab-primary-surface-color, white);\n",
       "                }\n",
       "\n",
       "                .geemap-colab .jupyter-button {\n",
       "                    --jp-layout-color3: var(--colab-primary-surface-color, white);\n",
       "                }\n",
       "            </style>\n",
       "            "
      ],
      "text/plain": [
       "<IPython.core.display.HTML object>"
      ]
     },
     "metadata": {},
     "output_type": "display_data"
    },
    {
     "data": {
      "image/png": "[encoded data removed]",
      "text/plain": [
       "<Figure size 640x480 with 1 Axes>"
      ]
     },
     "metadata": {},
     "output_type": "display_data"
    }
   ],
   "source": [
    "plot = sns.lineplot(y=df[\"km\"], x=df[\"año\"])\n",
    "fig = plot.get_figure()\n",
    "fig.savefig(\"visualizaciones/area_segun_tiempo.png\") "
   ]
  },
  {
   "cell_type": "markdown",
   "id": "30237311-97bd-4bb9-9c6c-acda6009010d",
   "metadata": {},
   "source": [
    "fig. 1 área de la laguna aculeo a lo largo del tiempo."
   ]
  },
  {
   "cell_type": "code",
   "execution_count": 144,
   "id": "99208ced-2332-490d-b023-18b790a20742",
   "metadata": {},
   "outputs": [
    {
     "data": {
      "text/html": [
       "\n",
       "            <style>\n",
       "                .geemap-dark {\n",
       "                    --jp-widgets-color: white;\n",
       "                    --jp-widgets-label-color: white;\n",
       "                    --jp-ui-font-color1: white;\n",
       "                    --jp-layout-color2: #454545;\n",
       "                    background-color: #383838;\n",
       "                }\n",
       "\n",
       "                .geemap-dark .jupyter-button {\n",
       "                    --jp-layout-color3: #383838;\n",
       "                }\n",
       "\n",
       "                .geemap-colab {\n",
       "                    background-color: var(--colab-primary-surface-color, white);\n",
       "                }\n",
       "\n",
       "                .geemap-colab .jupyter-button {\n",
       "                    --jp-layout-color3: var(--colab-primary-surface-color, white);\n",
       "                }\n",
       "            </style>\n",
       "            "
      ],
      "text/plain": [
       "<IPython.core.display.HTML object>"
      ]
     },
     "metadata": {},
     "output_type": "display_data"
    },
    {
     "data": {
      "image/png": "[encoded data removed]",
      "text/plain": [
       "<Figure size 640x480 with 1 Axes>"
      ]
     },
     "metadata": {},
     "output_type": "display_data"
    }
   ],
   "source": [
    "\n",
    "plot = sns.lineplot(y=df[\"km\"], x=df[\"fecha\"])\n",
    "fig = plot.get_figure()\n",
    "# fig.savefig(\"visualizaciones/area_segun_tiempo.png\") "
   ]
  },
  {
   "cell_type": "markdown",
   "id": "e23446c9-9a63-456e-b368-f4f7e7e72302",
   "metadata": {},
   "source": [
    "Si lo ploteamos como fecha entera, las fluctuaciones generan _peaks_ muy grandes y cuesta un poco más interpretar el gráfico."
   ]
  },
  {
   "cell_type": "code",
   "execution_count": 145,
   "id": "58c289fc-33b0-4f00-accb-802e63b73fbf",
   "metadata": {},
   "outputs": [
    {
     "data": {
      "text/html": [
       "\n",
       "            <style>\n",
       "                .geemap-dark {\n",
       "                    --jp-widgets-color: white;\n",
       "                    --jp-widgets-label-color: white;\n",
       "                    --jp-ui-font-color1: white;\n",
       "                    --jp-layout-color2: #454545;\n",
       "                    background-color: #383838;\n",
       "                }\n",
       "\n",
       "                .geemap-dark .jupyter-button {\n",
       "                    --jp-layout-color3: #383838;\n",
       "                }\n",
       "\n",
       "                .geemap-colab {\n",
       "                    background-color: var(--colab-primary-surface-color, white);\n",
       "                }\n",
       "\n",
       "                .geemap-colab .jupyter-button {\n",
       "                    --jp-layout-color3: var(--colab-primary-surface-color, white);\n",
       "                }\n",
       "            </style>\n",
       "            "
      ],
      "text/plain": [
       "<IPython.core.display.HTML object>"
      ]
     },
     "metadata": {},
     "output_type": "display_data"
    },
    {
     "data": {
      "text/html": [
       "<div>\n",
       "<style scoped>\n",
       "    .dataframe tbody tr th:only-of-type {\n",
       "        vertical-align: middle;\n",
       "    }\n",
       "\n",
       "    .dataframe tbody tr th {\n",
       "        vertical-align: top;\n",
       "    }\n",
       "\n",
       "    .dataframe thead th {\n",
       "        text-align: right;\n",
       "    }\n",
       "</style>\n",
       "<table border=\"1\" class=\"dataframe\">\n",
       "  <thead>\n",
       "    <tr style=\"text-align: right;\">\n",
       "      <th></th>\n",
       "      <th>sum_precip</th>\n",
       "      <th>año</th>\n",
       "    </tr>\n",
       "  </thead>\n",
       "  <tbody>\n",
       "    <tr>\n",
       "      <th>0</th>\n",
       "      <td>16.7</td>\n",
       "      <td>2019</td>\n",
       "    </tr>\n",
       "    <tr>\n",
       "      <th>1</th>\n",
       "      <td>48.8</td>\n",
       "      <td>2020</td>\n",
       "    </tr>\n",
       "    <tr>\n",
       "      <th>2</th>\n",
       "      <td>12.8</td>\n",
       "      <td>2021</td>\n",
       "    </tr>\n",
       "    <tr>\n",
       "      <th>3</th>\n",
       "      <td>116.0</td>\n",
       "      <td>2022</td>\n",
       "    </tr>\n",
       "    <tr>\n",
       "      <th>4</th>\n",
       "      <td>347.8</td>\n",
       "      <td>2023</td>\n",
       "    </tr>\n",
       "  </tbody>\n",
       "</table>\n",
       "</div>"
      ],
      "text/plain": [
       "   sum_precip   año\n",
       "0        16.7  2019\n",
       "1        48.8  2020\n",
       "2        12.8  2021\n",
       "3       116.0  2022\n",
       "4       347.8  2023"
      ]
     },
     "execution_count": 145,
     "metadata": {},
     "output_type": "execute_result"
    }
   ],
   "source": [
    "lluvias = pd.read_csv(\"data/suma_anual_precip.csv\")\n",
    "lluvias.head()\n"
   ]
  },
  {
   "cell_type": "code",
   "execution_count": 146,
   "id": "0e621d08-389f-4856-8347-becf0adbb8cc",
   "metadata": {},
   "outputs": [
    {
     "data": {
      "text/html": [
       "\n",
       "            <style>\n",
       "                .geemap-dark {\n",
       "                    --jp-widgets-color: white;\n",
       "                    --jp-widgets-label-color: white;\n",
       "                    --jp-ui-font-color1: white;\n",
       "                    --jp-layout-color2: #454545;\n",
       "                    background-color: #383838;\n",
       "                }\n",
       "\n",
       "                .geemap-dark .jupyter-button {\n",
       "                    --jp-layout-color3: #383838;\n",
       "                }\n",
       "\n",
       "                .geemap-colab {\n",
       "                    background-color: var(--colab-primary-surface-color, white);\n",
       "                }\n",
       "\n",
       "                .geemap-colab .jupyter-button {\n",
       "                    --jp-layout-color3: var(--colab-primary-surface-color, white);\n",
       "                }\n",
       "            </style>\n",
       "            "
      ],
      "text/plain": [
       "<IPython.core.display.HTML object>"
      ]
     },
     "metadata": {},
     "output_type": "display_data"
    },
    {
     "data": {
      "text/plain": [
       "<Axes: xlabel='año', ylabel='sum_precip'>"
      ]
     },
     "execution_count": 146,
     "metadata": {},
     "output_type": "execute_result"
    },
    {
     "data": {
      "image/png": "[encoded data removed]",
      "text/plain": [
       "<Figure size 640x480 with 1 Axes>"
      ]
     },
     "metadata": {},
     "output_type": "display_data"
    }
   ],
   "source": [
    "sns.lineplot(lluvias,x=\"año\",y=\"sum_precip\")"
   ]
  },
  {
   "cell_type": "code",
   "execution_count": 147,
   "id": "10bbd481-c09c-470a-bf2d-74d6f051c4c4",
   "metadata": {},
   "outputs": [
    {
     "data": {
      "text/html": [
       "\n",
       "            <style>\n",
       "                .geemap-dark {\n",
       "                    --jp-widgets-color: white;\n",
       "                    --jp-widgets-label-color: white;\n",
       "                    --jp-ui-font-color1: white;\n",
       "                    --jp-layout-color2: #454545;\n",
       "                    background-color: #383838;\n",
       "                }\n",
       "\n",
       "                .geemap-dark .jupyter-button {\n",
       "                    --jp-layout-color3: #383838;\n",
       "                }\n",
       "\n",
       "                .geemap-colab {\n",
       "                    background-color: var(--colab-primary-surface-color, white);\n",
       "                }\n",
       "\n",
       "                .geemap-colab .jupyter-button {\n",
       "                    --jp-layout-color3: var(--colab-primary-surface-color, white);\n",
       "                }\n",
       "            </style>\n",
       "            "
      ],
      "text/plain": [
       "<IPython.core.display.HTML object>"
      ]
     },
     "metadata": {},
     "output_type": "display_data"
    },
    {
     "data": {
      "image/png": "[encoded data removed]",
      "text/plain": [
       "<Figure size 640x480 with 1 Axes>"
      ]
     },
     "metadata": {},
     "output_type": "display_data"
    }
   ],
   "source": [
    "df_p = df.astype({\"año\":int})\n",
    "df_p = df_p[df_p[\"año\"] >= 2019] #Acotamos el dataframe del área de la laguna aculeo para compararlo con los datos de lluvias\n",
    "\n",
    "plot = sns.lineplot(y=df_p[\"km\"], x=df_p[\"año\"])"
   ]
  },
  {
   "cell_type": "code",
   "execution_count": 148,
   "id": "ddaced93-88ff-49a3-9686-2929656e705f",
   "metadata": {},
   "outputs": [
    {
     "data": {
      "text/html": [
       "\n",
       "            <style>\n",
       "                .geemap-dark {\n",
       "                    --jp-widgets-color: white;\n",
       "                    --jp-widgets-label-color: white;\n",
       "                    --jp-ui-font-color1: white;\n",
       "                    --jp-layout-color2: #454545;\n",
       "                    background-color: #383838;\n",
       "                }\n",
       "\n",
       "                .geemap-dark .jupyter-button {\n",
       "                    --jp-layout-color3: #383838;\n",
       "                }\n",
       "\n",
       "                .geemap-colab {\n",
       "                    background-color: var(--colab-primary-surface-color, white);\n",
       "                }\n",
       "\n",
       "                .geemap-colab .jupyter-button {\n",
       "                    --jp-layout-color3: var(--colab-primary-surface-color, white);\n",
       "                }\n",
       "            </style>\n",
       "            "
      ],
      "text/plain": [
       "<IPython.core.display.HTML object>"
      ]
     },
     "metadata": {},
     "output_type": "display_data"
    },
    {
     "data": {
      "image/png": "[encoded data removed]",
      "text/plain": [
       "<Figure size 800x800 with 2 Axes>"
      ]
     },
     "metadata": {},
     "output_type": "display_data"
    }
   ],
   "source": [
    "fig, ax = plt.subplots(2, figsize=(8,8))\n",
    "ax[0].ticklabel_format(style='plain')\n",
    "ax[0].set_title(\"Área laguna (km)\")\n",
    "ax[1].set_title(\"Precipitaciones (suma de mm)\")\n",
    "ax[0].bar(df_p[\"año\"], df_p[\"km\"], color='m')\n",
    "ax[1].bar(lluvias[\"año\"],lluvias[\"sum_precip\"] , color='c')\n",
    "fig.suptitle(f\"Área medida de Laguna Aculeo VS Precipitaciones de la estación El Paico\")\n",
    "fig.tight_layout()\n",
    "    # plt.savefig(f\"Graficos\\\\{date.today()}.jpg\", dpi=\"figure\", format=\"jpg\")"
   ]
  },
  {
   "cell_type": "markdown",
   "id": "16ccbe76-644f-4c16-bb1c-e2d6bef7e049",
   "metadata": {},
   "source": [
    "fig. 2 Área medida de Laguna Aculeo VS Precipitaciones de la estación El Paico"
   ]
  },
  {
   "cell_type": "markdown",
   "id": "86bbf272-7d4d-4cbe-ab26-9fc849af19a4",
   "metadata": {},
   "source": [
    "### Dado la limitación del _scope_ de este análisis, tales como que hay meses sin datos en precipitaciones, y meses sin datos satelitales, sólo podemos hacer el análisis de forma anual, de todas maneras se encuentra una suerte de correlación entre la lluvia y el área, verificando la hipótesis de que la laguna se secó dada la sequía que se está viviendo."
   ]
  },
  {
   "cell_type": "markdown",
   "id": "911dff74-c6c1-4a3e-828b-b28c6fa6fc85",
   "metadata": {},
   "source": [
    "### Ahora se repetirá el proceso de recopilar imágenes, para obtener en esta ocasión imágenes RGB y aplicar el modelo "
   ]
  },
  {
   "cell_type": "code",
   "execution_count": 149,
   "id": "8a5c91a2-3038-42d5-a13a-ca9ee5d8c2e9",
   "metadata": {},
   "outputs": [
    {
     "data": {
      "text/html": [
       "\n",
       "            <style>\n",
       "                .geemap-dark {\n",
       "                    --jp-widgets-color: white;\n",
       "                    --jp-widgets-label-color: white;\n",
       "                    --jp-ui-font-color1: white;\n",
       "                    --jp-layout-color2: #454545;\n",
       "                    background-color: #383838;\n",
       "                }\n",
       "\n",
       "                .geemap-dark .jupyter-button {\n",
       "                    --jp-layout-color3: #383838;\n",
       "                }\n",
       "\n",
       "                .geemap-colab {\n",
       "                    background-color: var(--colab-primary-surface-color, white);\n",
       "                }\n",
       "\n",
       "                .geemap-colab .jupyter-button {\n",
       "                    --jp-layout-color3: var(--colab-primary-surface-color, white);\n",
       "                }\n",
       "            </style>\n",
       "            "
      ],
      "text/plain": [
       "<IPython.core.display.HTML object>"
      ]
     },
     "metadata": {},
     "output_type": "display_data"
    }
   ],
   "source": [
    "# Standard imports\n",
    "from tqdm.notebook import tqdm\n",
    "import requests\n",
    "import json\n",
    "\n",
    "import pandas as pd\n",
    "import numpy as np\n",
    "from PIL import Image\n",
    "\n",
    "# Geospatial processing packages\n",
    "import geopandas as gpd\n",
    "import geojson\n",
    "\n",
    "import shapely\n",
    "import rasterio as rio\n",
    "from rasterio.plot import show, reshape_as_image\n",
    "import rasterio.mask\n",
    "from shapely.geometry import box\n",
    "\n",
    "# Mapping and plotting libraries\n",
    "import matplotlib.pyplot as plt\n",
    "import matplotlib.colors as cl\n",
    "import ee\n",
    "import eeconvert as eec\n",
    "import geemap\n",
    "#import geemap.eefolium as emap\n",
    "import folium\n",
    "\n",
    "# Deep learning libraries\n",
    "import torch\n",
    "from torchvision import datasets, models, transforms"
   ]
  },
  {
   "cell_type": "code",
   "execution_count": 150,
   "id": "7f3e368a-9cb7-45ed-af94-b60a1fa0c503",
   "metadata": {},
   "outputs": [
    {
     "data": {
      "text/html": [
       "\n",
       "            <style>\n",
       "                .geemap-dark {\n",
       "                    --jp-widgets-color: white;\n",
       "                    --jp-widgets-label-color: white;\n",
       "                    --jp-ui-font-color1: white;\n",
       "                    --jp-layout-color2: #454545;\n",
       "                    background-color: #383838;\n",
       "                }\n",
       "\n",
       "                .geemap-dark .jupyter-button {\n",
       "                    --jp-layout-color3: #383838;\n",
       "                }\n",
       "\n",
       "                .geemap-colab {\n",
       "                    background-color: var(--colab-primary-surface-color, white);\n",
       "                }\n",
       "\n",
       "                .geemap-colab .jupyter-button {\n",
       "                    --jp-layout-color3: var(--colab-primary-surface-color, white);\n",
       "                }\n",
       "            </style>\n",
       "            "
      ],
      "text/plain": [
       "<IPython.core.display.HTML object>"
      ]
     },
     "metadata": {},
     "output_type": "display_data"
    }
   ],
   "source": [
    "def apply_scale_factors(image):\n",
    "  optical_bands = image.select('SR_B.').multiply(0.0000275).add(-0.2)\n",
    "  thermal_bands = image.select('ST_B.*').multiply(0.00341802).add(149.0)#\n",
    "  return image.addBands(optical_bands, None, True)#.addBands(thermal_bands, None, True)"
   ]
  },
  {
   "cell_type": "code",
   "execution_count": 151,
   "id": "0c19608a-c267-49e1-bd2a-5bf79e962ffa",
   "metadata": {
    "scrolled": true
   },
   "outputs": [
    {
     "data": {
      "text/html": [
       "\n",
       "            <style>\n",
       "                .geemap-dark {\n",
       "                    --jp-widgets-color: white;\n",
       "                    --jp-widgets-label-color: white;\n",
       "                    --jp-ui-font-color1: white;\n",
       "                    --jp-layout-color2: #454545;\n",
       "                    background-color: #383838;\n",
       "                }\n",
       "\n",
       "                .geemap-dark .jupyter-button {\n",
       "                    --jp-layout-color3: #383838;\n",
       "                }\n",
       "\n",
       "                .geemap-colab {\n",
       "                    background-color: var(--colab-primary-surface-color, white);\n",
       "                }\n",
       "\n",
       "                .geemap-colab .jupyter-button {\n",
       "                    --jp-layout-color3: var(--colab-primary-surface-color, white);\n",
       "                }\n",
       "            </style>\n",
       "            "
      ],
      "text/plain": [
       "<IPython.core.display.HTML object>"
      ]
     },
     "metadata": {},
     "output_type": "display_data"
    },
    {
     "name": "stdout",
     "output_type": "stream",
     "text": [
      "2014-1-01 2014-2-01\n",
      "2014-2-01 2014-3-01\n",
      "2014-3-01 2014-4-01\n",
      "Colección Vacía\n",
      "2014-4-01 2014-5-01\n",
      "2014-5-01 2014-6-01\n",
      "Colección Vacía\n",
      "2014-6-01 2014-7-01\n",
      "2014-7-01 2014-8-01\n",
      "Colección Vacía\n",
      "2014-8-01 2014-9-01\n",
      "2014-9-01 2014-10-01\n",
      "Colección Vacía\n",
      "2014-10-01 2014-11-01\n",
      "2014-11-01 2014-12-01\n",
      "2014-12-01 2015-1-01\n",
      "Colección Vacía\n",
      "2015-1-01 2015-2-01\n",
      "2015-2-01 2015-3-01\n",
      "2015-3-01 2015-4-01\n",
      "2015-4-01 2015-5-01\n",
      "2015-5-01 2015-6-01\n",
      "2015-6-01 2015-7-01\n",
      "Colección Vacía\n",
      "2015-7-01 2015-8-01\n",
      "2015-8-01 2015-9-01\n",
      "Colección Vacía\n",
      "2015-9-01 2015-10-01\n",
      "Colección Vacía\n",
      "2015-10-01 2015-11-01\n",
      "2015-11-01 2015-12-01\n",
      "2015-12-01 2016-1-01\n",
      "2016-1-01 2016-2-01\n",
      "2016-2-01 2016-3-01\n",
      "Colección Vacía\n",
      "2016-3-01 2016-4-01\n",
      "2016-4-01 2016-5-01\n",
      "2016-5-01 2016-6-01\n",
      "2016-6-01 2016-7-01\n",
      "2016-7-01 2016-8-01\n",
      "Colección Vacía\n",
      "2016-8-01 2016-9-01\n",
      "2016-9-01 2016-10-01\n",
      "2016-10-01 2016-11-01\n",
      "2016-11-01 2016-12-01\n",
      "2016-12-01 2017-1-01\n",
      "Colección Vacía\n",
      "2017-1-01 2017-2-01\n",
      "2017-2-01 2017-3-01\n",
      "2017-3-01 2017-4-01\n",
      "2017-4-01 2017-5-01\n",
      "Colección Vacía\n",
      "2017-5-01 2017-6-01\n",
      "Colección Vacía\n",
      "2017-6-01 2017-7-01\n",
      "2017-7-01 2017-8-01\n",
      "2017-8-01 2017-9-01\n",
      "2017-9-01 2017-10-01\n",
      "Colección Vacía\n",
      "2017-10-01 2017-11-01\n",
      "Colección Vacía\n",
      "2017-11-01 2017-12-01\n",
      "2017-12-01 2018-1-01\n",
      "2018-1-01 2018-2-01\n",
      "2018-2-01 2018-3-01\n",
      "2018-3-01 2018-4-01\n",
      "2018-4-01 2018-5-01\n",
      "2018-5-01 2018-6-01\n",
      "2018-6-01 2018-7-01\n",
      "2018-7-01 2018-8-01\n",
      "2018-8-01 2018-9-01\n",
      "2018-9-01 2018-10-01\n",
      "2018-10-01 2018-11-01\n",
      "2018-11-01 2018-12-01\n",
      "2018-12-01 2019-1-01\n",
      "2019-1-01 2019-2-01\n",
      "2019-2-01 2019-3-01\n",
      "2019-3-01 2019-4-01\n",
      "2019-4-01 2019-5-01\n",
      "Colección Vacía\n",
      "2019-5-01 2019-6-01\n",
      "2019-6-01 2019-7-01\n",
      "2019-7-01 2019-8-01\n",
      "Colección Vacía\n",
      "2019-8-01 2019-9-01\n",
      "2019-9-01 2019-10-01\n",
      "2019-10-01 2019-11-01\n",
      "2019-11-01 2019-12-01\n",
      "2019-12-01 2020-1-01\n",
      "2020-1-01 2020-2-01\n",
      "2020-2-01 2020-3-01\n",
      "2020-3-01 2020-4-01\n",
      "2020-4-01 2020-5-01\n",
      "2020-5-01 2020-6-01\n",
      "2020-6-01 2020-7-01\n",
      "Colección Vacía\n",
      "2020-7-01 2020-8-01\n",
      "2020-8-01 2020-9-01\n",
      "2020-9-01 2020-10-01\n",
      "2020-10-01 2020-11-01\n",
      "2020-11-01 2020-12-01\n",
      "2020-12-01 2021-1-01\n",
      "2021-1-01 2021-2-01\n",
      "2021-2-01 2021-3-01\n",
      "Colección Vacía\n",
      "2021-3-01 2021-4-01\n",
      "2021-4-01 2021-5-01\n",
      "Colección Vacía\n",
      "2021-5-01 2021-6-01\n",
      "Colección Vacía\n",
      "2021-6-01 2021-7-01\n",
      "2021-7-01 2021-8-01\n",
      "2021-8-01 2021-9-01\n",
      "2021-9-01 2021-10-01\n",
      "2021-10-01 2021-11-01\n",
      "2021-11-01 2021-12-01\n",
      "2021-12-01 2022-1-01\n",
      "2022-1-01 2022-2-01\n",
      "2022-2-01 2022-3-01\n",
      "2022-3-01 2022-4-01\n",
      "2022-4-01 2022-5-01\n",
      "2022-5-01 2022-6-01\n",
      "Colección Vacía\n",
      "2022-6-01 2022-7-01\n",
      "2022-7-01 2022-8-01\n",
      "2022-8-01 2022-9-01\n",
      "2022-9-01 2022-10-01\n",
      "2022-10-01 2022-11-01\n",
      "2022-11-01 2022-12-01\n",
      "2022-12-01 2023-1-01\n",
      "2023-1-01 2023-2-01\n",
      "2023-2-01 2023-3-01\n",
      "2023-3-01 2023-4-01\n",
      "2023-4-01 2023-5-01\n",
      "2023-5-01 2023-6-01\n",
      "Colección Vacía\n",
      "2023-6-01 2023-7-01\n",
      "2023-7-01 2023-8-01\n",
      "2023-8-01 2023-9-01\n",
      "2023-9-01 2023-10-01\n",
      "2023-10-01 2023-11-01\n",
      "2023-11-01 2023-12-01\n",
      "Colección Vacía\n",
      "2023-12-01 2024-1-01\n",
      "2024-1-01 2024-2-01\n",
      "2024-2-01 2024-3-01\n",
      "2024-3-01 2024-4-01\n",
      "2024-4-01 2024-5-01\n"
     ]
    }
   ],
   "source": [
    "imagenes = []\n",
    "fechas_con_imagen = []\n",
    "for i in range(len(doi_intervalar)-1):\n",
    "    inicio = doi_intervalar[i]\n",
    "    fin = doi_intervalar[i+1]\n",
    "    print(inicio, fin)\n",
    "    \n",
    "# Obtenemos imágenes\n",
    "    \n",
    "    landsat_collection = ee.ImageCollection(\"LANDSAT/LC08/C02/T1_L2\").filter(ee.Filter.lessThan(leftField=\"CLOUD_COVER_LAND\", rightValue=20)).filterDate(inicio,fin).filterBounds(aoi).select([\"SR_B4\",\"SR_B3\",\"SR_B2\"])\n",
    "    landsat_collection = landsat_collection.map(apply_scale_factors)\n",
    "    # Exporta imagen\n",
    "    \n",
    "# Obtenemos geomediana para reducir a una imágen\n",
    "    \n",
    "    try: # Si no hay ninguna imágen para ese mes, esta siguiente linea dará error, por lo que esta linea lo maneja (de forma un poco bruta, pero funciona)\n",
    "        r = ee.Reducer.geometricMedian(3).setOutputs([\"geom_\" + nombre for nombre in landsat_collection.first().bandNames().getInfo()])\n",
    "    except:\n",
    "        print(\"Colección Vacía\")\n",
    "        continue\n",
    "    geomediana = landsat_collection.reduce(r)\n",
    "    geomediana = geomediana.visualize(bands=['geom_SR_B4', 'geom_SR_B3', 'geom_SR_B2'], min=0.0, max=0.3)\n",
    "# Agregamos a la lista\n",
    "    #geemap.ee_export_image(geomediana, filename=f'test.tif', scale=30, region=aoi, file_per_band=False) # Exporta imagen\n",
    "    imagenes.append(geomediana)\n",
    "    fechas_con_imagen.append(inicio) # Guardamos las fechas para después\n"
   ]
  },
  {
   "cell_type": "code",
   "execution_count": 155,
   "id": "5ff985e8-dd65-4f07-8416-dcad86b1e0fc",
   "metadata": {},
   "outputs": [
    {
     "data": {
      "text/html": [
       "\n",
       "            <style>\n",
       "                .geemap-dark {\n",
       "                    --jp-widgets-color: white;\n",
       "                    --jp-widgets-label-color: white;\n",
       "                    --jp-ui-font-color1: white;\n",
       "                    --jp-layout-color2: #454545;\n",
       "                    background-color: #383838;\n",
       "                }\n",
       "\n",
       "                .geemap-dark .jupyter-button {\n",
       "                    --jp-layout-color3: #383838;\n",
       "                }\n",
       "\n",
       "                .geemap-colab {\n",
       "                    background-color: var(--colab-primary-surface-color, white);\n",
       "                }\n",
       "\n",
       "                .geemap-colab .jupyter-button {\n",
       "                    --jp-layout-color3: var(--colab-primary-surface-color, white);\n",
       "                }\n",
       "            </style>\n",
       "            "
      ],
      "text/plain": [
       "<IPython.core.display.HTML object>"
      ]
     },
     "metadata": {},
     "output_type": "display_data"
    },
    {
     "data": {
      "application/vnd.jupyter.widget-view+json": {
       "model_id": "a32041ceba4442f1a2b30d05b703608c",
       "version_major": 2,
       "version_minor": 0
      },
      "text/plain": [
       "Map(center=[0, 0], controls=(WidgetControl(options=['position', 'transparent_bg'], widget=SearchDataGUI(childr…"
      ]
     },
     "metadata": {},
     "output_type": "display_data"
    }
   ],
   "source": [
    "image = imagenes[0].clip(aoi)\n",
    "# Visualize map\n",
    "Map = geemap.Map(zoom=16)\n",
    "Map.addLayer(image,{} ,'Landsat 8')\n",
    "Map.addLayerControl()\n",
    "Map.centerObject(aoi)\n",
    "Map"
   ]
  },
  {
   "cell_type": "code",
   "execution_count": 156,
   "id": "520addb1-a387-4d69-91cf-37919c5fdf2a",
   "metadata": {},
   "outputs": [
    {
     "data": {
      "text/html": [
       "\n",
       "            <style>\n",
       "                .geemap-dark {\n",
       "                    --jp-widgets-color: white;\n",
       "                    --jp-widgets-label-color: white;\n",
       "                    --jp-ui-font-color1: white;\n",
       "                    --jp-layout-color2: #454545;\n",
       "                    background-color: #383838;\n",
       "                }\n",
       "\n",
       "                .geemap-dark .jupyter-button {\n",
       "                    --jp-layout-color3: #383838;\n",
       "                }\n",
       "\n",
       "                .geemap-colab {\n",
       "                    background-color: var(--colab-primary-surface-color, white);\n",
       "                }\n",
       "\n",
       "                .geemap-colab .jupyter-button {\n",
       "                    --jp-layout-color3: var(--colab-primary-surface-color, white);\n",
       "                }\n",
       "            </style>\n",
       "            "
      ],
      "text/plain": [
       "<IPython.core.display.HTML object>"
      ]
     },
     "metadata": {},
     "output_type": "display_data"
    }
   ],
   "source": [
    "def generate_tiles(image_file, output_file, area_str, size=64): #código extraido del jupyter notebook que vimos en clase.\n",
    "    \"\"\"Generates 64 x 64 polygon tiles.\n",
    "\n",
    "    Args:\n",
    "      image_file (str): Image file path (.tif)\n",
    "      output_file (str): Output file path (.geojson)\n",
    "      area_str (str): Name of the region\n",
    "      size(int): Window size\n",
    "\n",
    "    Returns:\n",
    "      GeoPandas DataFrame: Contains 64 x 64 polygon tiles\n",
    "    \"\"\"\n",
    "\n",
    "    # Open the raster image using rasterio\n",
    "    raster = rio.open(image_file)\n",
    "    width, height = raster.shape\n",
    "\n",
    "    # Create a dictionary which will contain our 64 x 64 px polygon tiles\n",
    "    # Later we'll convert this dict into a GeoPandas DataFrame.\n",
    "    geo_dict = { 'id' : [], 'geometry' : []}\n",
    "    index = 0\n",
    "\n",
    "    # Do a sliding window across the raster image\n",
    "    with tqdm(total=width*height) as pbar:\n",
    "      for w in range(0, width, size):\n",
    "          for h in range(0, height, size):\n",
    "              # Create a Window of your desired size\n",
    "              window = rio.windows.Window(h, w, size, size)\n",
    "              # Get the georeferenced window bounds\n",
    "              bbox = rio.windows.bounds(window, raster.transform)\n",
    "              # Create a shapely geometry from the bounding box\n",
    "              bbox = box(*bbox)\n",
    "\n",
    "              # Create a unique id for each geometry\n",
    "              uid = '{}-{}'.format(area_str.lower().replace(' ', '_'), index)\n",
    "\n",
    "              # Update dictionary\n",
    "              geo_dict['id'].append(uid)\n",
    "              geo_dict['geometry'].append(bbox)\n",
    "\n",
    "              index += 1\n",
    "              pbar.update(size*size)\n",
    "\n",
    "    # Cast dictionary as a GeoPandas DataFrame\n",
    "    results = gpd.GeoDataFrame(pd.DataFrame(geo_dict))\n",
    "    # Set CRS to EPSG:4326\n",
    "    results.crs = {'init' :'epsg:4326'}\n",
    "    # Save file as GeoJSON\n",
    "    results.to_file(output_file, driver=\"GeoJSON\")\n",
    "\n",
    "    raster.close()\n",
    "    return results\n",
    "\n",
    "def show_crop(image, shape, title=''):\n",
    "  \"\"\"Crops an image based on the polygon shape.\n",
    "  Reference: https://rasterio.readthedocs.io/en/latest/api/rasterio.mask.html#rasterio.mask.mask\n",
    "\n",
    "  Args:\n",
    "    image (str): Image file path (.tif)\n",
    "    shape (geometry): The tile with which to crop the image\n",
    "    title(str): Image title\n",
    "  \"\"\"\n",
    "\n",
    "  with rio.open(image) as src:\n",
    "      out_image, out_transform = rio.mask.mask(src, shape, crop=True)\n",
    "      # Crop out black (zero) border\n",
    "      _, x_nonzero, y_nonzero = np.nonzero(out_image)\n",
    "      out_image = out_image[\n",
    "        :,\n",
    "        np.min(x_nonzero):np.max(x_nonzero),\n",
    "        np.min(y_nonzero):np.max(y_nonzero)\n",
    "      ]\n",
    "      # Visualize image\n",
    "      show(out_image, title=title)\n"
   ]
  },
  {
   "cell_type": "markdown",
   "id": "2eaee56c-6f7e-4d7a-8a3c-ea9f46f6d7cb",
   "metadata": {},
   "source": [
    "### Se carga el modelo"
   ]
  },
  {
   "cell_type": "code",
   "execution_count": 157,
   "id": "9297c4cb-5ae5-4fee-bc29-a9ea3868194e",
   "metadata": {},
   "outputs": [
    {
     "data": {
      "text/html": [
       "\n",
       "            <style>\n",
       "                .geemap-dark {\n",
       "                    --jp-widgets-color: white;\n",
       "                    --jp-widgets-label-color: white;\n",
       "                    --jp-ui-font-color1: white;\n",
       "                    --jp-layout-color2: #454545;\n",
       "                    background-color: #383838;\n",
       "                }\n",
       "\n",
       "                .geemap-dark .jupyter-button {\n",
       "                    --jp-layout-color3: #383838;\n",
       "                }\n",
       "\n",
       "                .geemap-colab {\n",
       "                    background-color: var(--colab-primary-surface-color, white);\n",
       "                }\n",
       "\n",
       "                .geemap-colab .jupyter-button {\n",
       "                    --jp-layout-color3: var(--colab-primary-surface-color, white);\n",
       "                }\n",
       "            </style>\n",
       "            "
      ],
      "text/plain": [
       "<IPython.core.display.HTML object>"
      ]
     },
     "metadata": {},
     "output_type": "display_data"
    },
    {
     "name": "stdout",
     "output_type": "stream",
     "text": [
      "mkdir: cannot create directory ‘temp’: File exists\n",
      "Model file recursos/best_resnet50_10.pth successfully loaded.\n"
     ]
    }
   ],
   "source": [
    "!mkdir temp\n",
    "classes = [\n",
    "  'AnnualCrop',\n",
    "  'Forest',\n",
    "  'HerbaceousVegetation',\n",
    "  'Highway',\n",
    "  'Industrial',\n",
    "  'Pasture',\n",
    "  'PermanentCrop',\n",
    "  'Residential',\n",
    "  'River',\n",
    "  'SeaLake'\n",
    "]\n",
    "device = torch.device(\"cuda:0\" if torch.cuda.is_available() else \"cpu\")\n",
    "model_file = 'recursos/best_resnet50_10.pth'\n",
    "\n",
    "model = models.resnet50(pretrained=True)\n",
    "num_ftrs = model.fc.in_features\n",
    "model.fc = torch.nn.Linear(num_ftrs, 10)\n",
    "\n",
    "#cargar los parámetros del modelo\n",
    "model.load_state_dict(torch.load(model_file, map_location=device))\n",
    "model.eval()\n",
    "\n",
    "print('Model file {} successfully loaded.'.format(model_file))"
   ]
  },
  {
   "cell_type": "markdown",
   "id": "84ec2d4e-937c-49d4-a854-d9a4e943203d",
   "metadata": {},
   "source": [
    "### Se generan los tiles"
   ]
  },
  {
   "cell_type": "code",
   "execution_count": 158,
   "id": "1fd809a6-f68a-4be8-aa8f-445ea9024428",
   "metadata": {
    "scrolled": true
   },
   "outputs": [
    {
     "data": {
      "text/html": [
       "\n",
       "            <style>\n",
       "                .geemap-dark {\n",
       "                    --jp-widgets-color: white;\n",
       "                    --jp-widgets-label-color: white;\n",
       "                    --jp-ui-font-color1: white;\n",
       "                    --jp-layout-color2: #454545;\n",
       "                    background-color: #383838;\n",
       "                }\n",
       "\n",
       "                .geemap-dark .jupyter-button {\n",
       "                    --jp-layout-color3: #383838;\n",
       "                }\n",
       "\n",
       "                .geemap-colab {\n",
       "                    background-color: var(--colab-primary-surface-color, white);\n",
       "                }\n",
       "\n",
       "                .geemap-colab .jupyter-button {\n",
       "                    --jp-layout-color3: var(--colab-primary-surface-color, white);\n",
       "                }\n",
       "            </style>\n",
       "            "
      ],
      "text/plain": [
       "<IPython.core.display.HTML object>"
      ]
     },
     "metadata": {},
     "output_type": "display_data"
    },
    {
     "name": "stdout",
     "output_type": "stream",
     "text": [
      "Generating URL ...\n",
      "Downloading data from https://earthengine.googleapis.com/v1/projects/earthengine-legacy/thumbnails/346938714350adfa64557442663acbcd-7e413419bc1fa24da1e6edff9956d8cd:getPixels\n",
      "Please wait ...\n",
      "Data downloaded to /home/cristobal/Universidad/proyecto2_geoespaciales/proyecto_geoespaciales/temp/aoi2014-1-01.tif\n"
     ]
    },
    {
     "data": {
      "application/vnd.jupyter.widget-view+json": {
       "model_id": "dc9ff25a523948fa95aa0df95a5b4348",
       "version_major": 2,
       "version_minor": 0
      },
      "text/plain": [
       "  0%|          | 0/134000 [00:00<?, ?it/s]"
      ]
     },
     "metadata": {},
     "output_type": "display_data"
    },
    {
     "name": "stdout",
     "output_type": "stream",
     "text": [
      "Data dimensions: (42, 2)\n",
      "Generating URL ...\n",
      "Downloading data from https://earthengine.googleapis.com/v1/projects/earthengine-legacy/thumbnails/e89465b6aba1faf77bbd916e6f104627-28490ada643c2267b6ecade88207d839:getPixels\n",
      "Please wait ...\n",
      "Data downloaded to /home/cristobal/Universidad/proyecto2_geoespaciales/proyecto_geoespaciales/temp/aoi2014-2-01.tif\n"
     ]
    },
    {
     "data": {
      "application/vnd.jupyter.widget-view+json": {
       "model_id": "0e940c6db02d4cb49c2a1d097a676c15",
       "version_major": 2,
       "version_minor": 0
      },
      "text/plain": [
       "  0%|          | 0/134000 [00:00<?, ?it/s]"
      ]
     },
     "metadata": {},
     "output_type": "display_data"
    },
    {
     "name": "stdout",
     "output_type": "stream",
     "text": [
      "Data dimensions: (42, 2)\n",
      "Generating URL ...\n",
      "Downloading data from https://earthengine.googleapis.com/v1/projects/earthengine-legacy/thumbnails/cc56447ac31d7b223ecb3cedcc5d0d9e-d1309a3ab47b980754a6c6833e351e10:getPixels\n",
      "Please wait ...\n",
      "Data downloaded to /home/cristobal/Universidad/proyecto2_geoespaciales/proyecto_geoespaciales/temp/aoi2014-4-01.tif\n"
     ]
    },
    {
     "data": {
      "application/vnd.jupyter.widget-view+json": {
       "model_id": "fee7d4de77d6410cbcdb6457b5e9854d",
       "version_major": 2,
       "version_minor": 0
      },
      "text/plain": [
       "  0%|          | 0/134000 [00:00<?, ?it/s]"
      ]
     },
     "metadata": {},
     "output_type": "display_data"
    },
    {
     "name": "stdout",
     "output_type": "stream",
     "text": [
      "Data dimensions: (42, 2)\n",
      "Generating URL ...\n",
      "Downloading data from https://earthengine.googleapis.com/v1/projects/earthengine-legacy/thumbnails/7067f31180fcf2c8a9a4631c662ec492-a2aef23ffc42acb746895135223b90b6:getPixels\n",
      "Please wait ...\n",
      "Data downloaded to /home/cristobal/Universidad/proyecto2_geoespaciales/proyecto_geoespaciales/temp/aoi2014-6-01.tif\n"
     ]
    },
    {
     "data": {
      "application/vnd.jupyter.widget-view+json": {
       "model_id": "8713764e7d9b4555916588b389eb0128",
       "version_major": 2,
       "version_minor": 0
      },
      "text/plain": [
       "  0%|          | 0/134000 [00:00<?, ?it/s]"
      ]
     },
     "metadata": {},
     "output_type": "display_data"
    },
    {
     "name": "stdout",
     "output_type": "stream",
     "text": [
      "Data dimensions: (42, 2)\n",
      "Generating URL ...\n",
      "Downloading data from https://earthengine.googleapis.com/v1/projects/earthengine-legacy/thumbnails/a4fae911fb5e33deb61175e587ae2d88-b5c3d49e7d9e406cf529169985cf9f43:getPixels\n",
      "Please wait ...\n",
      "Data downloaded to /home/cristobal/Universidad/proyecto2_geoespaciales/proyecto_geoespaciales/temp/aoi2014-8-01.tif\n"
     ]
    },
    {
     "data": {
      "application/vnd.jupyter.widget-view+json": {
       "model_id": "0327d8fafaea4dbf927114fad5443f6e",
       "version_major": 2,
       "version_minor": 0
      },
      "text/plain": [
       "  0%|          | 0/134000 [00:00<?, ?it/s]"
      ]
     },
     "metadata": {},
     "output_type": "display_data"
    },
    {
     "name": "stdout",
     "output_type": "stream",
     "text": [
      "Data dimensions: (42, 2)\n",
      "Generating URL ...\n",
      "Downloading data from https://earthengine.googleapis.com/v1/projects/earthengine-legacy/thumbnails/0d28f68bf829c60cbfea5b586aff0ce0-94496e9addda91d54e7afd9b17f26d94:getPixels\n",
      "Please wait ...\n",
      "Data downloaded to /home/cristobal/Universidad/proyecto2_geoespaciales/proyecto_geoespaciales/temp/aoi2014-10-01.tif\n"
     ]
    },
    {
     "data": {
      "application/vnd.jupyter.widget-view+json": {
       "model_id": "0c9ac7817d7848a38f3f381ba195d93d",
       "version_major": 2,
       "version_minor": 0
      },
      "text/plain": [
       "  0%|          | 0/134000 [00:00<?, ?it/s]"
      ]
     },
     "metadata": {},
     "output_type": "display_data"
    },
    {
     "name": "stdout",
     "output_type": "stream",
     "text": [
      "Data dimensions: (42, 2)\n",
      "Generating URL ...\n",
      "Downloading data from https://earthengine.googleapis.com/v1/projects/earthengine-legacy/thumbnails/757d1d28441e069d9dd6080953fb4ccf-0c2e45eef51b84668d351bc1bb286253:getPixels\n",
      "Please wait ...\n",
      "Data downloaded to /home/cristobal/Universidad/proyecto2_geoespaciales/proyecto_geoespaciales/temp/aoi2014-11-01.tif\n"
     ]
    },
    {
     "data": {
      "application/vnd.jupyter.widget-view+json": {
       "model_id": "3610f3b8d4d94d268262391e5dadb12e",
       "version_major": 2,
       "version_minor": 0
      },
      "text/plain": [
       "  0%|          | 0/134000 [00:00<?, ?it/s]"
      ]
     },
     "metadata": {},
     "output_type": "display_data"
    },
    {
     "name": "stdout",
     "output_type": "stream",
     "text": [
      "Data dimensions: (42, 2)\n",
      "Generating URL ...\n",
      "Downloading data from https://earthengine.googleapis.com/v1/projects/earthengine-legacy/thumbnails/4491caccd2a882f49fcc58ac36cd3470-83b4c1787fd18ad6993e948c1a788125:getPixels\n",
      "Please wait ...\n",
      "Data downloaded to /home/cristobal/Universidad/proyecto2_geoespaciales/proyecto_geoespaciales/temp/aoi2015-1-01.tif\n"
     ]
    },
    {
     "data": {
      "application/vnd.jupyter.widget-view+json": {
       "model_id": "6fd9b710909c4f6385d10dcb20d866c3",
       "version_major": 2,
       "version_minor": 0
      },
      "text/plain": [
       "  0%|          | 0/134000 [00:00<?, ?it/s]"
      ]
     },
     "metadata": {},
     "output_type": "display_data"
    },
    {
     "name": "stdout",
     "output_type": "stream",
     "text": [
      "Data dimensions: (42, 2)\n",
      "Generating URL ...\n",
      "Downloading data from https://earthengine.googleapis.com/v1/projects/earthengine-legacy/thumbnails/38b7265dd98c62d190347c5c0a04d2d4-466551cf248a9988c805b0606aed341e:getPixels\n",
      "Please wait ...\n",
      "Data downloaded to /home/cristobal/Universidad/proyecto2_geoespaciales/proyecto_geoespaciales/temp/aoi2015-2-01.tif\n"
     ]
    },
    {
     "data": {
      "application/vnd.jupyter.widget-view+json": {
       "model_id": "40b869e5ead140ae842e36a74cb645cd",
       "version_major": 2,
       "version_minor": 0
      },
      "text/plain": [
       "  0%|          | 0/134000 [00:00<?, ?it/s]"
      ]
     },
     "metadata": {},
     "output_type": "display_data"
    },
    {
     "name": "stdout",
     "output_type": "stream",
     "text": [
      "Data dimensions: (42, 2)\n",
      "Generating URL ...\n",
      "Downloading data from https://earthengine.googleapis.com/v1/projects/earthengine-legacy/thumbnails/7795d336cbc1ab1efb56e6db20e1b60a-bc0bd8dcc66dae5b08b52f19bbea62c6:getPixels\n",
      "Please wait ...\n",
      "Data downloaded to /home/cristobal/Universidad/proyecto2_geoespaciales/proyecto_geoespaciales/temp/aoi2015-3-01.tif\n"
     ]
    },
    {
     "data": {
      "application/vnd.jupyter.widget-view+json": {
       "model_id": "7e6789078472478d90bb398cda447e93",
       "version_major": 2,
       "version_minor": 0
      },
      "text/plain": [
       "  0%|          | 0/134000 [00:00<?, ?it/s]"
      ]
     },
     "metadata": {},
     "output_type": "display_data"
    },
    {
     "name": "stdout",
     "output_type": "stream",
     "text": [
      "Data dimensions: (42, 2)\n",
      "Generating URL ...\n",
      "Downloading data from https://earthengine.googleapis.com/v1/projects/earthengine-legacy/thumbnails/59d7baacc5a187f2f9bb33f35c78b329-b72238d5d37bb72c12d74a6fac28d9e1:getPixels\n",
      "Please wait ...\n",
      "Data downloaded to /home/cristobal/Universidad/proyecto2_geoespaciales/proyecto_geoespaciales/temp/aoi2015-4-01.tif\n"
     ]
    },
    {
     "data": {
      "application/vnd.jupyter.widget-view+json": {
       "model_id": "ebe4123a353a4b2baf1bb3de21da5e29",
       "version_major": 2,
       "version_minor": 0
      },
      "text/plain": [
       "  0%|          | 0/134000 [00:00<?, ?it/s]"
      ]
     },
     "metadata": {},
     "output_type": "display_data"
    },
    {
     "name": "stdout",
     "output_type": "stream",
     "text": [
      "Data dimensions: (42, 2)\n",
      "Generating URL ...\n",
      "Downloading data from https://earthengine.googleapis.com/v1/projects/earthengine-legacy/thumbnails/aac61b6ff229448442f78a868f8259ff-b6be4416011f9c50ff8f396ff520973c:getPixels\n",
      "Please wait ...\n",
      "Data downloaded to /home/cristobal/Universidad/proyecto2_geoespaciales/proyecto_geoespaciales/temp/aoi2015-5-01.tif\n"
     ]
    },
    {
     "data": {
      "application/vnd.jupyter.widget-view+json": {
       "model_id": "cdfbced62ae9414b8aec41c19a983f75",
       "version_major": 2,
       "version_minor": 0
      },
      "text/plain": [
       "  0%|          | 0/134000 [00:00<?, ?it/s]"
      ]
     },
     "metadata": {},
     "output_type": "display_data"
    },
    {
     "name": "stdout",
     "output_type": "stream",
     "text": [
      "Data dimensions: (42, 2)\n",
      "Generating URL ...\n",
      "Downloading data from https://earthengine.googleapis.com/v1/projects/earthengine-legacy/thumbnails/974c6d3e5383fb454c53dfb71cf05f4f-744e5e93f0f48cda85b3bdfac21c02d9:getPixels\n",
      "Please wait ...\n",
      "Data downloaded to /home/cristobal/Universidad/proyecto2_geoespaciales/proyecto_geoespaciales/temp/aoi2015-7-01.tif\n"
     ]
    },
    {
     "data": {
      "application/vnd.jupyter.widget-view+json": {
       "model_id": "1308b496c3194e3eb23ddef83c7ace77",
       "version_major": 2,
       "version_minor": 0
      },
      "text/plain": [
       "  0%|          | 0/134000 [00:00<?, ?it/s]"
      ]
     },
     "metadata": {},
     "output_type": "display_data"
    },
    {
     "name": "stdout",
     "output_type": "stream",
     "text": [
      "Data dimensions: (42, 2)\n",
      "Generating URL ...\n",
      "Downloading data from https://earthengine.googleapis.com/v1/projects/earthengine-legacy/thumbnails/b0a58ff846dd60758855199216453be5-bcc580420dfb3ec82135a276cc710b02:getPixels\n",
      "Please wait ...\n",
      "Data downloaded to /home/cristobal/Universidad/proyecto2_geoespaciales/proyecto_geoespaciales/temp/aoi2015-10-01.tif\n"
     ]
    },
    {
     "data": {
      "application/vnd.jupyter.widget-view+json": {
       "model_id": "76e1fbc64e7648e392113bdf489c48cd",
       "version_major": 2,
       "version_minor": 0
      },
      "text/plain": [
       "  0%|          | 0/134000 [00:00<?, ?it/s]"
      ]
     },
     "metadata": {},
     "output_type": "display_data"
    },
    {
     "name": "stdout",
     "output_type": "stream",
     "text": [
      "Data dimensions: (42, 2)\n",
      "Generating URL ...\n",
      "Downloading data from https://earthengine.googleapis.com/v1/projects/earthengine-legacy/thumbnails/d1448456f4edd761f2af63f62f3677b7-fc6cce9e8a58d299a9b9cf585108545a:getPixels\n",
      "Please wait ...\n",
      "Data downloaded to /home/cristobal/Universidad/proyecto2_geoespaciales/proyecto_geoespaciales/temp/aoi2015-11-01.tif\n"
     ]
    },
    {
     "data": {
      "application/vnd.jupyter.widget-view+json": {
       "model_id": "88e62d787cde4cbe8c01233adf7b4bc4",
       "version_major": 2,
       "version_minor": 0
      },
      "text/plain": [
       "  0%|          | 0/134000 [00:00<?, ?it/s]"
      ]
     },
     "metadata": {},
     "output_type": "display_data"
    },
    {
     "name": "stdout",
     "output_type": "stream",
     "text": [
      "Data dimensions: (42, 2)\n",
      "Generating URL ...\n",
      "Downloading data from https://earthengine.googleapis.com/v1/projects/earthengine-legacy/thumbnails/be5726fa09a56fbae3b07a462eba2c18-40779c7d08a6814a068a51e7ea99af16:getPixels\n",
      "Please wait ...\n",
      "Data downloaded to /home/cristobal/Universidad/proyecto2_geoespaciales/proyecto_geoespaciales/temp/aoi2015-12-01.tif\n"
     ]
    },
    {
     "data": {
      "application/vnd.jupyter.widget-view+json": {
       "model_id": "8af822c9dd00434a83fe846ebbc49d0a",
       "version_major": 2,
       "version_minor": 0
      },
      "text/plain": [
       "  0%|          | 0/134000 [00:00<?, ?it/s]"
      ]
     },
     "metadata": {},
     "output_type": "display_data"
    },
    {
     "name": "stdout",
     "output_type": "stream",
     "text": [
      "Data dimensions: (42, 2)\n",
      "Generating URL ...\n",
      "Downloading data from https://earthengine.googleapis.com/v1/projects/earthengine-legacy/thumbnails/c287f58a8b924bd1725552d40ce35b6b-e2d857c258642fd4a7846c60a790f1d8:getPixels\n",
      "Please wait ...\n",
      "Data downloaded to /home/cristobal/Universidad/proyecto2_geoespaciales/proyecto_geoespaciales/temp/aoi2016-1-01.tif\n"
     ]
    },
    {
     "data": {
      "application/vnd.jupyter.widget-view+json": {
       "model_id": "cc2bc3dc548146f59b6b19994a8d4bab",
       "version_major": 2,
       "version_minor": 0
      },
      "text/plain": [
       "  0%|          | 0/134000 [00:00<?, ?it/s]"
      ]
     },
     "metadata": {},
     "output_type": "display_data"
    },
    {
     "name": "stdout",
     "output_type": "stream",
     "text": [
      "Data dimensions: (42, 2)\n",
      "Generating URL ...\n",
      "Downloading data from https://earthengine.googleapis.com/v1/projects/earthengine-legacy/thumbnails/f576fd380083564bef49ebfa3f0dad9b-3f135189e521f77697d911364b91b3e8:getPixels\n",
      "Please wait ...\n",
      "Data downloaded to /home/cristobal/Universidad/proyecto2_geoespaciales/proyecto_geoespaciales/temp/aoi2016-3-01.tif\n"
     ]
    },
    {
     "data": {
      "application/vnd.jupyter.widget-view+json": {
       "model_id": "5bf32497539c40608fc637af0ca727cc",
       "version_major": 2,
       "version_minor": 0
      },
      "text/plain": [
       "  0%|          | 0/134000 [00:00<?, ?it/s]"
      ]
     },
     "metadata": {},
     "output_type": "display_data"
    },
    {
     "name": "stdout",
     "output_type": "stream",
     "text": [
      "Data dimensions: (42, 2)\n",
      "Generating URL ...\n",
      "Downloading data from https://earthengine.googleapis.com/v1/projects/earthengine-legacy/thumbnails/f8a4ce032eba0fc916d9b60ee80c97ff-2b145a68fae5c16bceeb88103e00faca:getPixels\n",
      "Please wait ...\n",
      "Data downloaded to /home/cristobal/Universidad/proyecto2_geoespaciales/proyecto_geoespaciales/temp/aoi2016-4-01.tif\n"
     ]
    },
    {
     "data": {
      "application/vnd.jupyter.widget-view+json": {
       "model_id": "69d9d61f550b4f30b57aee7c09d661ac",
       "version_major": 2,
       "version_minor": 0
      },
      "text/plain": [
       "  0%|          | 0/134000 [00:00<?, ?it/s]"
      ]
     },
     "metadata": {},
     "output_type": "display_data"
    },
    {
     "name": "stdout",
     "output_type": "stream",
     "text": [
      "Data dimensions: (42, 2)\n",
      "Generating URL ...\n",
      "Downloading data from https://earthengine.googleapis.com/v1/projects/earthengine-legacy/thumbnails/facfad57aa2d5976ff20fa0032911cb1-54845fca72f1acfdc31dc8b0d07036da:getPixels\n",
      "Please wait ...\n",
      "Data downloaded to /home/cristobal/Universidad/proyecto2_geoespaciales/proyecto_geoespaciales/temp/aoi2016-5-01.tif\n"
     ]
    },
    {
     "data": {
      "application/vnd.jupyter.widget-view+json": {
       "model_id": "64a7a6ea238e44c28b0eddadb9ad4dff",
       "version_major": 2,
       "version_minor": 0
      },
      "text/plain": [
       "  0%|          | 0/134000 [00:00<?, ?it/s]"
      ]
     },
     "metadata": {},
     "output_type": "display_data"
    },
    {
     "name": "stdout",
     "output_type": "stream",
     "text": [
      "Data dimensions: (42, 2)\n",
      "Generating URL ...\n",
      "Downloading data from https://earthengine.googleapis.com/v1/projects/earthengine-legacy/thumbnails/4085248e1a6e73d9caee06f33b7dd9b6-3233ad97d72f08d449efdde7e22e3573:getPixels\n",
      "Please wait ...\n",
      "Data downloaded to /home/cristobal/Universidad/proyecto2_geoespaciales/proyecto_geoespaciales/temp/aoi2016-6-01.tif\n"
     ]
    },
    {
     "data": {
      "application/vnd.jupyter.widget-view+json": {
       "model_id": "a17f5afb0cf1499982b9b8aa48e47416",
       "version_major": 2,
       "version_minor": 0
      },
      "text/plain": [
       "  0%|          | 0/134000 [00:00<?, ?it/s]"
      ]
     },
     "metadata": {},
     "output_type": "display_data"
    },
    {
     "name": "stdout",
     "output_type": "stream",
     "text": [
      "Data dimensions: (42, 2)\n",
      "Generating URL ...\n",
      "Downloading data from https://earthengine.googleapis.com/v1/projects/earthengine-legacy/thumbnails/45056583c18cfab467cab9e8ab4ab226-c2209cad6b240f34319db1d2735dfd3b:getPixels\n",
      "Please wait ...\n",
      "Data downloaded to /home/cristobal/Universidad/proyecto2_geoespaciales/proyecto_geoespaciales/temp/aoi2016-8-01.tif\n"
     ]
    },
    {
     "data": {
      "application/vnd.jupyter.widget-view+json": {
       "model_id": "55e76fa35ed4419f8632a13946438578",
       "version_major": 2,
       "version_minor": 0
      },
      "text/plain": [
       "  0%|          | 0/134000 [00:00<?, ?it/s]"
      ]
     },
     "metadata": {},
     "output_type": "display_data"
    },
    {
     "name": "stdout",
     "output_type": "stream",
     "text": [
      "Data dimensions: (42, 2)\n",
      "Generating URL ...\n",
      "Downloading data from https://earthengine.googleapis.com/v1/projects/earthengine-legacy/thumbnails/b22ae1b4868e1ae8efb6a3514868edf6-cf50fb9a9b6a45ae11e271549b61b52e:getPixels\n",
      "Please wait ...\n",
      "Data downloaded to /home/cristobal/Universidad/proyecto2_geoespaciales/proyecto_geoespaciales/temp/aoi2016-9-01.tif\n"
     ]
    },
    {
     "data": {
      "application/vnd.jupyter.widget-view+json": {
       "model_id": "4552df4427cd42278b27625c21d18a53",
       "version_major": 2,
       "version_minor": 0
      },
      "text/plain": [
       "  0%|          | 0/134000 [00:00<?, ?it/s]"
      ]
     },
     "metadata": {},
     "output_type": "display_data"
    },
    {
     "name": "stdout",
     "output_type": "stream",
     "text": [
      "Data dimensions: (42, 2)\n",
      "Generating URL ...\n",
      "Downloading data from https://earthengine.googleapis.com/v1/projects/earthengine-legacy/thumbnails/683932c9b35126f77ba81e59f5baca61-05f884386a04260b35153aa3db8a2abd:getPixels\n",
      "Please wait ...\n",
      "Data downloaded to /home/cristobal/Universidad/proyecto2_geoespaciales/proyecto_geoespaciales/temp/aoi2016-10-01.tif\n"
     ]
    },
    {
     "data": {
      "application/vnd.jupyter.widget-view+json": {
       "model_id": "2a5959a949a24d3eb5b65e055e781ed5",
       "version_major": 2,
       "version_minor": 0
      },
      "text/plain": [
       "  0%|          | 0/134000 [00:00<?, ?it/s]"
      ]
     },
     "metadata": {},
     "output_type": "display_data"
    },
    {
     "name": "stdout",
     "output_type": "stream",
     "text": [
      "Data dimensions: (42, 2)\n",
      "Generating URL ...\n",
      "Downloading data from https://earthengine.googleapis.com/v1/projects/earthengine-legacy/thumbnails/a0e1abececfb49858d74d9ddec0ccb78-b76b12f8de8601686c151d61c56a2109:getPixels\n",
      "Please wait ...\n",
      "Data downloaded to /home/cristobal/Universidad/proyecto2_geoespaciales/proyecto_geoespaciales/temp/aoi2016-11-01.tif\n"
     ]
    },
    {
     "data": {
      "application/vnd.jupyter.widget-view+json": {
       "model_id": "25a6d9a382184ca8bec053c9b845d085",
       "version_major": 2,
       "version_minor": 0
      },
      "text/plain": [
       "  0%|          | 0/134000 [00:00<?, ?it/s]"
      ]
     },
     "metadata": {},
     "output_type": "display_data"
    },
    {
     "name": "stdout",
     "output_type": "stream",
     "text": [
      "Data dimensions: (42, 2)\n",
      "Generating URL ...\n",
      "Downloading data from https://earthengine.googleapis.com/v1/projects/earthengine-legacy/thumbnails/eed7e150777e752f5edd2c4b666ed320-63b7817f671e4f21c46c5d7fdb5e51e4:getPixels\n",
      "Please wait ...\n",
      "Data downloaded to /home/cristobal/Universidad/proyecto2_geoespaciales/proyecto_geoespaciales/temp/aoi2017-1-01.tif\n"
     ]
    },
    {
     "data": {
      "application/vnd.jupyter.widget-view+json": {
       "model_id": "16108b7258da4d8b943923ad118f5284",
       "version_major": 2,
       "version_minor": 0
      },
      "text/plain": [
       "  0%|          | 0/134000 [00:00<?, ?it/s]"
      ]
     },
     "metadata": {},
     "output_type": "display_data"
    },
    {
     "name": "stdout",
     "output_type": "stream",
     "text": [
      "Data dimensions: (42, 2)\n",
      "Generating URL ...\n",
      "Downloading data from https://earthengine.googleapis.com/v1/projects/earthengine-legacy/thumbnails/e6aabb8bfee0519797f5b821c6ae3cab-d1ea4bcc812273d7406ae7c651554526:getPixels\n",
      "Please wait ...\n",
      "Data downloaded to /home/cristobal/Universidad/proyecto2_geoespaciales/proyecto_geoespaciales/temp/aoi2017-2-01.tif\n"
     ]
    },
    {
     "data": {
      "application/vnd.jupyter.widget-view+json": {
       "model_id": "308e95fa24cf407aacba0613f30db825",
       "version_major": 2,
       "version_minor": 0
      },
      "text/plain": [
       "  0%|          | 0/134000 [00:00<?, ?it/s]"
      ]
     },
     "metadata": {},
     "output_type": "display_data"
    },
    {
     "name": "stdout",
     "output_type": "stream",
     "text": [
      "Data dimensions: (42, 2)\n",
      "Generating URL ...\n",
      "Downloading data from https://earthengine.googleapis.com/v1/projects/earthengine-legacy/thumbnails/a50d300aaa21541ae527c4d2a6f7af80-18d4c0b1af4347f22b61371752e720ce:getPixels\n",
      "Please wait ...\n",
      "Data downloaded to /home/cristobal/Universidad/proyecto2_geoespaciales/proyecto_geoespaciales/temp/aoi2017-3-01.tif\n"
     ]
    },
    {
     "data": {
      "application/vnd.jupyter.widget-view+json": {
       "model_id": "c4f8b4ca9d2942c6a922e6fc35278ae5",
       "version_major": 2,
       "version_minor": 0
      },
      "text/plain": [
       "  0%|          | 0/134000 [00:00<?, ?it/s]"
      ]
     },
     "metadata": {},
     "output_type": "display_data"
    },
    {
     "name": "stdout",
     "output_type": "stream",
     "text": [
      "Data dimensions: (42, 2)\n",
      "Generating URL ...\n",
      "Downloading data from https://earthengine.googleapis.com/v1/projects/earthengine-legacy/thumbnails/ca745015411677444890e54e6ebc705c-35b02fdf723aa6b364298dcd529423e8:getPixels\n",
      "Please wait ...\n",
      "Data downloaded to /home/cristobal/Universidad/proyecto2_geoespaciales/proyecto_geoespaciales/temp/aoi2017-6-01.tif\n"
     ]
    },
    {
     "data": {
      "application/vnd.jupyter.widget-view+json": {
       "model_id": "c4cdbc49d989453a9af137c5f93e702c",
       "version_major": 2,
       "version_minor": 0
      },
      "text/plain": [
       "  0%|          | 0/134000 [00:00<?, ?it/s]"
      ]
     },
     "metadata": {},
     "output_type": "display_data"
    },
    {
     "name": "stdout",
     "output_type": "stream",
     "text": [
      "Data dimensions: (42, 2)\n",
      "Generating URL ...\n",
      "Downloading data from https://earthengine.googleapis.com/v1/projects/earthengine-legacy/thumbnails/dd98573fc8ba56b4473810b6b10d927c-c3e35062fa52bc21bd8513747327eb4f:getPixels\n",
      "Please wait ...\n",
      "Data downloaded to /home/cristobal/Universidad/proyecto2_geoespaciales/proyecto_geoespaciales/temp/aoi2017-7-01.tif\n"
     ]
    },
    {
     "data": {
      "application/vnd.jupyter.widget-view+json": {
       "model_id": "6f3fc62974e14a32937b5a024b125bcd",
       "version_major": 2,
       "version_minor": 0
      },
      "text/plain": [
       "  0%|          | 0/134000 [00:00<?, ?it/s]"
      ]
     },
     "metadata": {},
     "output_type": "display_data"
    },
    {
     "name": "stdout",
     "output_type": "stream",
     "text": [
      "Data dimensions: (42, 2)\n",
      "Generating URL ...\n",
      "Downloading data from https://earthengine.googleapis.com/v1/projects/earthengine-legacy/thumbnails/471b0434a35039643638e1a5e69301e7-b7b0af8cbc62c48c1aafbc2fdac3dfcd:getPixels\n",
      "Please wait ...\n",
      "Data downloaded to /home/cristobal/Universidad/proyecto2_geoespaciales/proyecto_geoespaciales/temp/aoi2017-8-01.tif\n"
     ]
    },
    {
     "data": {
      "application/vnd.jupyter.widget-view+json": {
       "model_id": "f646402e8000440788fcf1d4c36422c7",
       "version_major": 2,
       "version_minor": 0
      },
      "text/plain": [
       "  0%|          | 0/134000 [00:00<?, ?it/s]"
      ]
     },
     "metadata": {},
     "output_type": "display_data"
    },
    {
     "name": "stdout",
     "output_type": "stream",
     "text": [
      "Data dimensions: (42, 2)\n",
      "Generating URL ...\n",
      "Downloading data from https://earthengine.googleapis.com/v1/projects/earthengine-legacy/thumbnails/63c2546335108df8c93ae4e626772b61-b10c6e247157714b0e0da6101e11c5b1:getPixels\n",
      "Please wait ...\n",
      "Data downloaded to /home/cristobal/Universidad/proyecto2_geoespaciales/proyecto_geoespaciales/temp/aoi2017-11-01.tif\n"
     ]
    },
    {
     "data": {
      "application/vnd.jupyter.widget-view+json": {
       "model_id": "7efe29fb669245c68f7c7905c25031dd",
       "version_major": 2,
       "version_minor": 0
      },
      "text/plain": [
       "  0%|          | 0/134000 [00:00<?, ?it/s]"
      ]
     },
     "metadata": {},
     "output_type": "display_data"
    },
    {
     "name": "stdout",
     "output_type": "stream",
     "text": [
      "Data dimensions: (42, 2)\n",
      "Generating URL ...\n",
      "Downloading data from https://earthengine.googleapis.com/v1/projects/earthengine-legacy/thumbnails/02e672292ddf0ae4483f019343166bb6-ab7471b7318d21ec43cb9ee6c679a4fd:getPixels\n",
      "Please wait ...\n",
      "Data downloaded to /home/cristobal/Universidad/proyecto2_geoespaciales/proyecto_geoespaciales/temp/aoi2017-12-01.tif\n"
     ]
    },
    {
     "data": {
      "application/vnd.jupyter.widget-view+json": {
       "model_id": "bc97cc1fbf1348f0a0c1d6d3bfebbf96",
       "version_major": 2,
       "version_minor": 0
      },
      "text/plain": [
       "  0%|          | 0/134000 [00:00<?, ?it/s]"
      ]
     },
     "metadata": {},
     "output_type": "display_data"
    },
    {
     "name": "stdout",
     "output_type": "stream",
     "text": [
      "Data dimensions: (42, 2)\n",
      "Generating URL ...\n",
      "Downloading data from https://earthengine.googleapis.com/v1/projects/earthengine-legacy/thumbnails/bb9a063f16376871763b7a51fd03c173-59f313db836542973384b74e2eee2837:getPixels\n",
      "Please wait ...\n",
      "Data downloaded to /home/cristobal/Universidad/proyecto2_geoespaciales/proyecto_geoespaciales/temp/aoi2018-1-01.tif\n"
     ]
    },
    {
     "data": {
      "application/vnd.jupyter.widget-view+json": {
       "model_id": "af0af88f6bf948c4b9703fc7e7e84544",
       "version_major": 2,
       "version_minor": 0
      },
      "text/plain": [
       "  0%|          | 0/134000 [00:00<?, ?it/s]"
      ]
     },
     "metadata": {},
     "output_type": "display_data"
    },
    {
     "name": "stdout",
     "output_type": "stream",
     "text": [
      "Data dimensions: (42, 2)\n",
      "Generating URL ...\n",
      "Downloading data from https://earthengine.googleapis.com/v1/projects/earthengine-legacy/thumbnails/229a3ab30b8d891b35383530e1bfcb97-3c430833a8308460af09d4b8d0bc3b0a:getPixels\n",
      "Please wait ...\n",
      "Data downloaded to /home/cristobal/Universidad/proyecto2_geoespaciales/proyecto_geoespaciales/temp/aoi2018-2-01.tif\n"
     ]
    },
    {
     "data": {
      "application/vnd.jupyter.widget-view+json": {
       "model_id": "c508ced3bc664522bc9c07792f102651",
       "version_major": 2,
       "version_minor": 0
      },
      "text/plain": [
       "  0%|          | 0/134000 [00:00<?, ?it/s]"
      ]
     },
     "metadata": {},
     "output_type": "display_data"
    },
    {
     "name": "stdout",
     "output_type": "stream",
     "text": [
      "Data dimensions: (42, 2)\n",
      "Generating URL ...\n",
      "Downloading data from https://earthengine.googleapis.com/v1/projects/earthengine-legacy/thumbnails/5402983e778ed6c42768e95323f5a767-298b0e9b9f78678c7956400ca59fdac0:getPixels\n",
      "Please wait ...\n",
      "Data downloaded to /home/cristobal/Universidad/proyecto2_geoespaciales/proyecto_geoespaciales/temp/aoi2018-3-01.tif\n"
     ]
    },
    {
     "data": {
      "application/vnd.jupyter.widget-view+json": {
       "model_id": "6c552cd1f744436c8869bfd20a379a8b",
       "version_major": 2,
       "version_minor": 0
      },
      "text/plain": [
       "  0%|          | 0/134000 [00:00<?, ?it/s]"
      ]
     },
     "metadata": {},
     "output_type": "display_data"
    },
    {
     "name": "stdout",
     "output_type": "stream",
     "text": [
      "Data dimensions: (42, 2)\n",
      "Generating URL ...\n",
      "Downloading data from https://earthengine.googleapis.com/v1/projects/earthengine-legacy/thumbnails/d33b66b9629ebb0ecd950671e7e7a2b3-532b981bdba41ef78d2a7b9ed15447b6:getPixels\n",
      "Please wait ...\n",
      "Data downloaded to /home/cristobal/Universidad/proyecto2_geoespaciales/proyecto_geoespaciales/temp/aoi2018-4-01.tif\n"
     ]
    },
    {
     "data": {
      "application/vnd.jupyter.widget-view+json": {
       "model_id": "dfc592fc1cd14272add75ac0e4191fd3",
       "version_major": 2,
       "version_minor": 0
      },
      "text/plain": [
       "  0%|          | 0/134000 [00:00<?, ?it/s]"
      ]
     },
     "metadata": {},
     "output_type": "display_data"
    },
    {
     "name": "stdout",
     "output_type": "stream",
     "text": [
      "Data dimensions: (42, 2)\n",
      "Generating URL ...\n",
      "Downloading data from https://earthengine.googleapis.com/v1/projects/earthengine-legacy/thumbnails/031da70c606deb50bdebed5e75af5049-2defc0a66c63d179486958b38527e411:getPixels\n",
      "Please wait ...\n",
      "Data downloaded to /home/cristobal/Universidad/proyecto2_geoespaciales/proyecto_geoespaciales/temp/aoi2018-5-01.tif\n"
     ]
    },
    {
     "data": {
      "application/vnd.jupyter.widget-view+json": {
       "model_id": "9d836589d09048eb86732d7401f55f27",
       "version_major": 2,
       "version_minor": 0
      },
      "text/plain": [
       "  0%|          | 0/134000 [00:00<?, ?it/s]"
      ]
     },
     "metadata": {},
     "output_type": "display_data"
    },
    {
     "name": "stdout",
     "output_type": "stream",
     "text": [
      "Data dimensions: (42, 2)\n",
      "Generating URL ...\n",
      "Downloading data from https://earthengine.googleapis.com/v1/projects/earthengine-legacy/thumbnails/d6500dee92e3e72a32fd45e0038fd934-9e84290788180e1cfe3640c7696b396a:getPixels\n",
      "Please wait ...\n",
      "Data downloaded to /home/cristobal/Universidad/proyecto2_geoespaciales/proyecto_geoespaciales/temp/aoi2018-6-01.tif\n"
     ]
    },
    {
     "data": {
      "application/vnd.jupyter.widget-view+json": {
       "model_id": "0d8eb08e963a40cc9e216974eb1a9634",
       "version_major": 2,
       "version_minor": 0
      },
      "text/plain": [
       "  0%|          | 0/134000 [00:00<?, ?it/s]"
      ]
     },
     "metadata": {},
     "output_type": "display_data"
    },
    {
     "name": "stdout",
     "output_type": "stream",
     "text": [
      "Data dimensions: (42, 2)\n",
      "Generating URL ...\n",
      "Downloading data from https://earthengine.googleapis.com/v1/projects/earthengine-legacy/thumbnails/0417a129aa2ecfec33bf1ddd63fefd62-8ebf3bd01cc5537bf20f10c278a42e74:getPixels\n",
      "Please wait ...\n",
      "Data downloaded to /home/cristobal/Universidad/proyecto2_geoespaciales/proyecto_geoespaciales/temp/aoi2018-7-01.tif\n"
     ]
    },
    {
     "data": {
      "application/vnd.jupyter.widget-view+json": {
       "model_id": "d4731f81950d4ffdb1211952a08c67b3",
       "version_major": 2,
       "version_minor": 0
      },
      "text/plain": [
       "  0%|          | 0/134000 [00:00<?, ?it/s]"
      ]
     },
     "metadata": {},
     "output_type": "display_data"
    },
    {
     "name": "stdout",
     "output_type": "stream",
     "text": [
      "Data dimensions: (42, 2)\n",
      "Generating URL ...\n",
      "Downloading data from https://earthengine.googleapis.com/v1/projects/earthengine-legacy/thumbnails/320d814ffb5f527a34de7c0671f304aa-6c3a15fcb0effbdf85033c3c934d9601:getPixels\n",
      "Please wait ...\n",
      "Data downloaded to /home/cristobal/Universidad/proyecto2_geoespaciales/proyecto_geoespaciales/temp/aoi2018-8-01.tif\n"
     ]
    },
    {
     "data": {
      "application/vnd.jupyter.widget-view+json": {
       "model_id": "8a7c1511d0ab4b0fb99af87000201bc2",
       "version_major": 2,
       "version_minor": 0
      },
      "text/plain": [
       "  0%|          | 0/134000 [00:00<?, ?it/s]"
      ]
     },
     "metadata": {},
     "output_type": "display_data"
    },
    {
     "name": "stdout",
     "output_type": "stream",
     "text": [
      "Data dimensions: (42, 2)\n",
      "Generating URL ...\n",
      "Downloading data from https://earthengine.googleapis.com/v1/projects/earthengine-legacy/thumbnails/7b5113f7aaba43f939edab4315310605-ca782ecf0aa33d653af08e12b08b08b1:getPixels\n",
      "Please wait ...\n",
      "Data downloaded to /home/cristobal/Universidad/proyecto2_geoespaciales/proyecto_geoespaciales/temp/aoi2018-9-01.tif\n"
     ]
    },
    {
     "data": {
      "application/vnd.jupyter.widget-view+json": {
       "model_id": "707ed7086a4e465aa8e03d32ad4651c7",
       "version_major": 2,
       "version_minor": 0
      },
      "text/plain": [
       "  0%|          | 0/134000 [00:00<?, ?it/s]"
      ]
     },
     "metadata": {},
     "output_type": "display_data"
    },
    {
     "name": "stdout",
     "output_type": "stream",
     "text": [
      "Data dimensions: (42, 2)\n",
      "Generating URL ...\n",
      "Downloading data from https://earthengine.googleapis.com/v1/projects/earthengine-legacy/thumbnails/268d502ee56f347b057d2dd91f751e27-0e9cac71d26c8cc3649ec53d1ce96956:getPixels\n",
      "Please wait ...\n",
      "Data downloaded to /home/cristobal/Universidad/proyecto2_geoespaciales/proyecto_geoespaciales/temp/aoi2018-10-01.tif\n"
     ]
    },
    {
     "data": {
      "application/vnd.jupyter.widget-view+json": {
       "model_id": "575cf4c74dfc448480d3374a199e3940",
       "version_major": 2,
       "version_minor": 0
      },
      "text/plain": [
       "  0%|          | 0/134000 [00:00<?, ?it/s]"
      ]
     },
     "metadata": {},
     "output_type": "display_data"
    },
    {
     "name": "stdout",
     "output_type": "stream",
     "text": [
      "Data dimensions: (42, 2)\n",
      "Generating URL ...\n",
      "Downloading data from https://earthengine.googleapis.com/v1/projects/earthengine-legacy/thumbnails/122a3b4fe29efb149706638413936b56-4866bad702b4976c8198fb67f64a363f:getPixels\n",
      "Please wait ...\n",
      "Data downloaded to /home/cristobal/Universidad/proyecto2_geoespaciales/proyecto_geoespaciales/temp/aoi2018-11-01.tif\n"
     ]
    },
    {
     "data": {
      "application/vnd.jupyter.widget-view+json": {
       "model_id": "edb89ac56c91433b8ccb0d3c36de1f20",
       "version_major": 2,
       "version_minor": 0
      },
      "text/plain": [
       "  0%|          | 0/134000 [00:00<?, ?it/s]"
      ]
     },
     "metadata": {},
     "output_type": "display_data"
    },
    {
     "name": "stdout",
     "output_type": "stream",
     "text": [
      "Data dimensions: (42, 2)\n",
      "Generating URL ...\n",
      "Downloading data from https://earthengine.googleapis.com/v1/projects/earthengine-legacy/thumbnails/220f0169960a6cfc8e92f86d574d3a1f-4cc0d6fa78c08d877647139e281d3270:getPixels\n",
      "Please wait ...\n",
      "Data downloaded to /home/cristobal/Universidad/proyecto2_geoespaciales/proyecto_geoespaciales/temp/aoi2018-12-01.tif\n"
     ]
    },
    {
     "data": {
      "application/vnd.jupyter.widget-view+json": {
       "model_id": "f9af8aa6bec44012981f2f13dc7b39d8",
       "version_major": 2,
       "version_minor": 0
      },
      "text/plain": [
       "  0%|          | 0/134000 [00:00<?, ?it/s]"
      ]
     },
     "metadata": {},
     "output_type": "display_data"
    },
    {
     "name": "stdout",
     "output_type": "stream",
     "text": [
      "Data dimensions: (42, 2)\n",
      "Generating URL ...\n",
      "Downloading data from https://earthengine.googleapis.com/v1/projects/earthengine-legacy/thumbnails/5bb487ba83f79611fa7bf7a2c08c9dd3-ea8eae6a1a12dbcafb0aa561b7febf2e:getPixels\n",
      "Please wait ...\n",
      "Data downloaded to /home/cristobal/Universidad/proyecto2_geoespaciales/proyecto_geoespaciales/temp/aoi2019-1-01.tif\n"
     ]
    },
    {
     "data": {
      "application/vnd.jupyter.widget-view+json": {
       "model_id": "36a5aaaf4db54b77a0ccdb3050100207",
       "version_major": 2,
       "version_minor": 0
      },
      "text/plain": [
       "  0%|          | 0/134000 [00:00<?, ?it/s]"
      ]
     },
     "metadata": {},
     "output_type": "display_data"
    },
    {
     "name": "stdout",
     "output_type": "stream",
     "text": [
      "Data dimensions: (42, 2)\n",
      "Generating URL ...\n",
      "Downloading data from https://earthengine.googleapis.com/v1/projects/earthengine-legacy/thumbnails/cd17d55a430b15834788f20d6d179cc8-2557d627c438c0d982868fd4f428e9f0:getPixels\n",
      "Please wait ...\n",
      "Data downloaded to /home/cristobal/Universidad/proyecto2_geoespaciales/proyecto_geoespaciales/temp/aoi2019-2-01.tif\n"
     ]
    },
    {
     "data": {
      "application/vnd.jupyter.widget-view+json": {
       "model_id": "6183b662e97149e0a3b3d6f9022a3172",
       "version_major": 2,
       "version_minor": 0
      },
      "text/plain": [
       "  0%|          | 0/134000 [00:00<?, ?it/s]"
      ]
     },
     "metadata": {},
     "output_type": "display_data"
    },
    {
     "name": "stdout",
     "output_type": "stream",
     "text": [
      "Data dimensions: (42, 2)\n",
      "Generating URL ...\n",
      "Downloading data from https://earthengine.googleapis.com/v1/projects/earthengine-legacy/thumbnails/c08fafc407eeddc0fa2fceb44ff077f7-d23d133c5ffe61218e6fee04b80e3685:getPixels\n",
      "Please wait ...\n",
      "Data downloaded to /home/cristobal/Universidad/proyecto2_geoespaciales/proyecto_geoespaciales/temp/aoi2019-3-01.tif\n"
     ]
    },
    {
     "data": {
      "application/vnd.jupyter.widget-view+json": {
       "model_id": "ff1d466420484c469a3c127238b9e2f6",
       "version_major": 2,
       "version_minor": 0
      },
      "text/plain": [
       "  0%|          | 0/134000 [00:00<?, ?it/s]"
      ]
     },
     "metadata": {},
     "output_type": "display_data"
    },
    {
     "name": "stdout",
     "output_type": "stream",
     "text": [
      "Data dimensions: (42, 2)\n",
      "Generating URL ...\n",
      "Downloading data from https://earthengine.googleapis.com/v1/projects/earthengine-legacy/thumbnails/b0be6b27637e24e93ae6ac3bcf756f45-4672ed3a029eb5d3b89b643f3c28b52f:getPixels\n",
      "Please wait ...\n",
      "Data downloaded to /home/cristobal/Universidad/proyecto2_geoespaciales/proyecto_geoespaciales/temp/aoi2019-5-01.tif\n"
     ]
    },
    {
     "data": {
      "application/vnd.jupyter.widget-view+json": {
       "model_id": "e15dbe49f1014ec0b675d5e66768422c",
       "version_major": 2,
       "version_minor": 0
      },
      "text/plain": [
       "  0%|          | 0/134000 [00:00<?, ?it/s]"
      ]
     },
     "metadata": {},
     "output_type": "display_data"
    },
    {
     "name": "stdout",
     "output_type": "stream",
     "text": [
      "Data dimensions: (42, 2)\n",
      "Generating URL ...\n",
      "Downloading data from https://earthengine.googleapis.com/v1/projects/earthengine-legacy/thumbnails/914a566b21e02e81c4a766fbb0d78e13-1b6358f5529f1d2a2397e5d8e641890f:getPixels\n",
      "Please wait ...\n",
      "Data downloaded to /home/cristobal/Universidad/proyecto2_geoespaciales/proyecto_geoespaciales/temp/aoi2019-6-01.tif\n"
     ]
    },
    {
     "data": {
      "application/vnd.jupyter.widget-view+json": {
       "model_id": "0a5b9fd914b748c4b64aa0619c04e07c",
       "version_major": 2,
       "version_minor": 0
      },
      "text/plain": [
       "  0%|          | 0/134000 [00:00<?, ?it/s]"
      ]
     },
     "metadata": {},
     "output_type": "display_data"
    },
    {
     "name": "stdout",
     "output_type": "stream",
     "text": [
      "Data dimensions: (42, 2)\n",
      "Generating URL ...\n",
      "Downloading data from https://earthengine.googleapis.com/v1/projects/earthengine-legacy/thumbnails/a1ea23169a96096e67a644680b1161e1-95212da5f76534da56ae6a8d32f98744:getPixels\n",
      "Please wait ...\n",
      "Data downloaded to /home/cristobal/Universidad/proyecto2_geoespaciales/proyecto_geoespaciales/temp/aoi2019-8-01.tif\n"
     ]
    },
    {
     "data": {
      "application/vnd.jupyter.widget-view+json": {
       "model_id": "fab5bb18d8e648d2b802e89ecba69c41",
       "version_major": 2,
       "version_minor": 0
      },
      "text/plain": [
       "  0%|          | 0/134000 [00:00<?, ?it/s]"
      ]
     },
     "metadata": {},
     "output_type": "display_data"
    },
    {
     "name": "stdout",
     "output_type": "stream",
     "text": [
      "Data dimensions: (42, 2)\n",
      "Generating URL ...\n",
      "Downloading data from https://earthengine.googleapis.com/v1/projects/earthengine-legacy/thumbnails/7f4a46bb2ab7a2ef201df746b9b66fab-5985b28d0f6d1a1d92be427a1fe77095:getPixels\n",
      "Please wait ...\n",
      "Data downloaded to /home/cristobal/Universidad/proyecto2_geoespaciales/proyecto_geoespaciales/temp/aoi2019-9-01.tif\n"
     ]
    },
    {
     "data": {
      "application/vnd.jupyter.widget-view+json": {
       "model_id": "055ad06289fe4e12933db5f82a753afa",
       "version_major": 2,
       "version_minor": 0
      },
      "text/plain": [
       "  0%|          | 0/134000 [00:00<?, ?it/s]"
      ]
     },
     "metadata": {},
     "output_type": "display_data"
    },
    {
     "name": "stdout",
     "output_type": "stream",
     "text": [
      "Data dimensions: (42, 2)\n",
      "Generating URL ...\n",
      "Downloading data from https://earthengine.googleapis.com/v1/projects/earthengine-legacy/thumbnails/d11fdcec6b1d6df4ebd07af11c969634-59991f38a01b0129b23cf7a1cdb0bb06:getPixels\n",
      "Please wait ...\n",
      "Data downloaded to /home/cristobal/Universidad/proyecto2_geoespaciales/proyecto_geoespaciales/temp/aoi2019-10-01.tif\n"
     ]
    },
    {
     "data": {
      "application/vnd.jupyter.widget-view+json": {
       "model_id": "36f73e752fcd4c0eaaf509fc25d0c3f9",
       "version_major": 2,
       "version_minor": 0
      },
      "text/plain": [
       "  0%|          | 0/134000 [00:00<?, ?it/s]"
      ]
     },
     "metadata": {},
     "output_type": "display_data"
    },
    {
     "name": "stdout",
     "output_type": "stream",
     "text": [
      "Data dimensions: (42, 2)\n",
      "Generating URL ...\n",
      "Downloading data from https://earthengine.googleapis.com/v1/projects/earthengine-legacy/thumbnails/dcb8ab8fbca1bdf61310cc9c0fbd4a43-1bbb6d9cc2382bbad86d34a1bfe2f597:getPixels\n",
      "Please wait ...\n",
      "Data downloaded to /home/cristobal/Universidad/proyecto2_geoespaciales/proyecto_geoespaciales/temp/aoi2019-11-01.tif\n"
     ]
    },
    {
     "data": {
      "application/vnd.jupyter.widget-view+json": {
       "model_id": "b94cf30975fe4c09a50ce983218ca669",
       "version_major": 2,
       "version_minor": 0
      },
      "text/plain": [
       "  0%|          | 0/134000 [00:00<?, ?it/s]"
      ]
     },
     "metadata": {},
     "output_type": "display_data"
    },
    {
     "name": "stdout",
     "output_type": "stream",
     "text": [
      "Data dimensions: (42, 2)\n",
      "Generating URL ...\n",
      "Downloading data from https://earthengine.googleapis.com/v1/projects/earthengine-legacy/thumbnails/27e294973f4e0712c8aff63e7eae1ffb-07971458c5634f3103ae6f664a360e92:getPixels\n",
      "Please wait ...\n",
      "Data downloaded to /home/cristobal/Universidad/proyecto2_geoespaciales/proyecto_geoespaciales/temp/aoi2019-12-01.tif\n"
     ]
    },
    {
     "data": {
      "application/vnd.jupyter.widget-view+json": {
       "model_id": "c9f984240ccd4c3b94e83e250dd9e017",
       "version_major": 2,
       "version_minor": 0
      },
      "text/plain": [
       "  0%|          | 0/134000 [00:00<?, ?it/s]"
      ]
     },
     "metadata": {},
     "output_type": "display_data"
    },
    {
     "name": "stdout",
     "output_type": "stream",
     "text": [
      "Data dimensions: (42, 2)\n",
      "Generating URL ...\n",
      "Downloading data from https://earthengine.googleapis.com/v1/projects/earthengine-legacy/thumbnails/a772170f1bd5cf73e86e8a528e7175cf-dad3a1e2b0c8bae256c68a26d8db9784:getPixels\n",
      "Please wait ...\n",
      "Data downloaded to /home/cristobal/Universidad/proyecto2_geoespaciales/proyecto_geoespaciales/temp/aoi2020-1-01.tif\n"
     ]
    },
    {
     "data": {
      "application/vnd.jupyter.widget-view+json": {
       "model_id": "9a4ed03975054464aab96f4f9d7f0caa",
       "version_major": 2,
       "version_minor": 0
      },
      "text/plain": [
       "  0%|          | 0/134000 [00:00<?, ?it/s]"
      ]
     },
     "metadata": {},
     "output_type": "display_data"
    },
    {
     "name": "stdout",
     "output_type": "stream",
     "text": [
      "Data dimensions: (42, 2)\n",
      "Generating URL ...\n",
      "Downloading data from https://earthengine.googleapis.com/v1/projects/earthengine-legacy/thumbnails/4f0aa5a2a0a7efebcf2312752ef6a481-5b9419d356988a02310262d4c7adaab5:getPixels\n",
      "Please wait ...\n",
      "Data downloaded to /home/cristobal/Universidad/proyecto2_geoespaciales/proyecto_geoespaciales/temp/aoi2020-2-01.tif\n"
     ]
    },
    {
     "data": {
      "application/vnd.jupyter.widget-view+json": {
       "model_id": "9ec19f1ea20043168decd28c77dab942",
       "version_major": 2,
       "version_minor": 0
      },
      "text/plain": [
       "  0%|          | 0/134000 [00:00<?, ?it/s]"
      ]
     },
     "metadata": {},
     "output_type": "display_data"
    },
    {
     "name": "stdout",
     "output_type": "stream",
     "text": [
      "Data dimensions: (42, 2)\n",
      "Generating URL ...\n",
      "Downloading data from https://earthengine.googleapis.com/v1/projects/earthengine-legacy/thumbnails/9be415acf8afdd42ad79426a3bc55a14-7cf9bc40803982d67f127009c36b7b1a:getPixels\n",
      "Please wait ...\n",
      "Data downloaded to /home/cristobal/Universidad/proyecto2_geoespaciales/proyecto_geoespaciales/temp/aoi2020-3-01.tif\n"
     ]
    },
    {
     "data": {
      "application/vnd.jupyter.widget-view+json": {
       "model_id": "1ad83c1715b44cccbbbdae74a4cae13e",
       "version_major": 2,
       "version_minor": 0
      },
      "text/plain": [
       "  0%|          | 0/134000 [00:00<?, ?it/s]"
      ]
     },
     "metadata": {},
     "output_type": "display_data"
    },
    {
     "name": "stdout",
     "output_type": "stream",
     "text": [
      "Data dimensions: (42, 2)\n",
      "Generating URL ...\n",
      "Downloading data from https://earthengine.googleapis.com/v1/projects/earthengine-legacy/thumbnails/0d6ccf42c6ecde9e994b20d75a7b032f-6d63b818a8be6f726d1221058498bb8d:getPixels\n",
      "Please wait ...\n",
      "Data downloaded to /home/cristobal/Universidad/proyecto2_geoespaciales/proyecto_geoespaciales/temp/aoi2020-4-01.tif\n"
     ]
    },
    {
     "data": {
      "application/vnd.jupyter.widget-view+json": {
       "model_id": "bc5069905315448caf93fe2677ac5ed1",
       "version_major": 2,
       "version_minor": 0
      },
      "text/plain": [
       "  0%|          | 0/134000 [00:00<?, ?it/s]"
      ]
     },
     "metadata": {},
     "output_type": "display_data"
    },
    {
     "name": "stdout",
     "output_type": "stream",
     "text": [
      "Data dimensions: (42, 2)\n",
      "Generating URL ...\n",
      "Downloading data from https://earthengine.googleapis.com/v1/projects/earthengine-legacy/thumbnails/4fd14eb5c6d082c90d66208a0be9bbd7-d59290258c220ccc0d02b694f67e358a:getPixels\n",
      "Please wait ...\n",
      "Data downloaded to /home/cristobal/Universidad/proyecto2_geoespaciales/proyecto_geoespaciales/temp/aoi2020-5-01.tif\n"
     ]
    },
    {
     "data": {
      "application/vnd.jupyter.widget-view+json": {
       "model_id": "b6b3837d08f84e4a8d33f2b3d3016446",
       "version_major": 2,
       "version_minor": 0
      },
      "text/plain": [
       "  0%|          | 0/134000 [00:00<?, ?it/s]"
      ]
     },
     "metadata": {},
     "output_type": "display_data"
    },
    {
     "name": "stdout",
     "output_type": "stream",
     "text": [
      "Data dimensions: (42, 2)\n",
      "Generating URL ...\n",
      "Downloading data from https://earthengine.googleapis.com/v1/projects/earthengine-legacy/thumbnails/4bfa8624914811fb6eb75d8d81f8d169-c0284d0825e6bb698893d32c9115deff:getPixels\n",
      "Please wait ...\n",
      "Data downloaded to /home/cristobal/Universidad/proyecto2_geoespaciales/proyecto_geoespaciales/temp/aoi2020-7-01.tif\n"
     ]
    },
    {
     "data": {
      "application/vnd.jupyter.widget-view+json": {
       "model_id": "37d819d4a8a043e090eabccb761c7f9c",
       "version_major": 2,
       "version_minor": 0
      },
      "text/plain": [
       "  0%|          | 0/134000 [00:00<?, ?it/s]"
      ]
     },
     "metadata": {},
     "output_type": "display_data"
    },
    {
     "name": "stdout",
     "output_type": "stream",
     "text": [
      "Data dimensions: (42, 2)\n",
      "Generating URL ...\n",
      "Downloading data from https://earthengine.googleapis.com/v1/projects/earthengine-legacy/thumbnails/fc632dfd80ab9127e53719a044451e69-fe40853d60e4ba7c57c3c84e0b43e143:getPixels\n",
      "Please wait ...\n",
      "Data downloaded to /home/cristobal/Universidad/proyecto2_geoespaciales/proyecto_geoespaciales/temp/aoi2020-8-01.tif\n"
     ]
    },
    {
     "data": {
      "application/vnd.jupyter.widget-view+json": {
       "model_id": "f6deb38616d344dc84cc3d0a1bc9de07",
       "version_major": 2,
       "version_minor": 0
      },
      "text/plain": [
       "  0%|          | 0/134000 [00:00<?, ?it/s]"
      ]
     },
     "metadata": {},
     "output_type": "display_data"
    },
    {
     "name": "stdout",
     "output_type": "stream",
     "text": [
      "Data dimensions: (42, 2)\n",
      "Generating URL ...\n",
      "Downloading data from https://earthengine.googleapis.com/v1/projects/earthengine-legacy/thumbnails/7d44e5618d1c4f8ba063043410f8d799-144b6de7cf79aa67e946f85372fcd469:getPixels\n",
      "Please wait ...\n",
      "Data downloaded to /home/cristobal/Universidad/proyecto2_geoespaciales/proyecto_geoespaciales/temp/aoi2020-9-01.tif\n"
     ]
    },
    {
     "data": {
      "application/vnd.jupyter.widget-view+json": {
       "model_id": "a4cd60fc463e44b2ad9ea7584afbacc1",
       "version_major": 2,
       "version_minor": 0
      },
      "text/plain": [
       "  0%|          | 0/134000 [00:00<?, ?it/s]"
      ]
     },
     "metadata": {},
     "output_type": "display_data"
    },
    {
     "name": "stdout",
     "output_type": "stream",
     "text": [
      "Data dimensions: (42, 2)\n",
      "Generating URL ...\n",
      "Downloading data from https://earthengine.googleapis.com/v1/projects/earthengine-legacy/thumbnails/a6da27dc9552c98ddb77dede3f79f7ea-641f3ba90c21b9a360bf9220fcdc9eb5:getPixels\n",
      "Please wait ...\n",
      "Data downloaded to /home/cristobal/Universidad/proyecto2_geoespaciales/proyecto_geoespaciales/temp/aoi2020-10-01.tif\n"
     ]
    },
    {
     "data": {
      "application/vnd.jupyter.widget-view+json": {
       "model_id": "2c042b4a5bb941638f6d8784d02e7281",
       "version_major": 2,
       "version_minor": 0
      },
      "text/plain": [
       "  0%|          | 0/134000 [00:00<?, ?it/s]"
      ]
     },
     "metadata": {},
     "output_type": "display_data"
    },
    {
     "name": "stdout",
     "output_type": "stream",
     "text": [
      "Data dimensions: (42, 2)\n",
      "Generating URL ...\n",
      "Downloading data from https://earthengine.googleapis.com/v1/projects/earthengine-legacy/thumbnails/26f05d41729cb5af2d4964117127f4eb-6e03d4a126c9fbcd984e3ef011fce5b4:getPixels\n",
      "Please wait ...\n",
      "Data downloaded to /home/cristobal/Universidad/proyecto2_geoespaciales/proyecto_geoespaciales/temp/aoi2020-11-01.tif\n"
     ]
    },
    {
     "data": {
      "application/vnd.jupyter.widget-view+json": {
       "model_id": "dee52fedc93747cda5e817e7d4641562",
       "version_major": 2,
       "version_minor": 0
      },
      "text/plain": [
       "  0%|          | 0/134000 [00:00<?, ?it/s]"
      ]
     },
     "metadata": {},
     "output_type": "display_data"
    },
    {
     "name": "stdout",
     "output_type": "stream",
     "text": [
      "Data dimensions: (42, 2)\n",
      "Generating URL ...\n",
      "Downloading data from https://earthengine.googleapis.com/v1/projects/earthengine-legacy/thumbnails/5561e73bf22d0490035fe8806eeb1050-7812377f58acd9ac8cef70d2e65b2929:getPixels\n",
      "Please wait ...\n",
      "Data downloaded to /home/cristobal/Universidad/proyecto2_geoespaciales/proyecto_geoespaciales/temp/aoi2020-12-01.tif\n"
     ]
    },
    {
     "data": {
      "application/vnd.jupyter.widget-view+json": {
       "model_id": "13eff567a3c54dd29747ef58151b0f4b",
       "version_major": 2,
       "version_minor": 0
      },
      "text/plain": [
       "  0%|          | 0/134000 [00:00<?, ?it/s]"
      ]
     },
     "metadata": {},
     "output_type": "display_data"
    },
    {
     "name": "stdout",
     "output_type": "stream",
     "text": [
      "Data dimensions: (42, 2)\n",
      "Generating URL ...\n",
      "Downloading data from https://earthengine.googleapis.com/v1/projects/earthengine-legacy/thumbnails/6e23876d547ab158401eb51f53e2c405-9743efda3f506a45be66bbbd010bd8ee:getPixels\n",
      "Please wait ...\n",
      "Data downloaded to /home/cristobal/Universidad/proyecto2_geoespaciales/proyecto_geoespaciales/temp/aoi2021-1-01.tif\n"
     ]
    },
    {
     "data": {
      "application/vnd.jupyter.widget-view+json": {
       "model_id": "70e0e179cf3b448db912f705ed83b645",
       "version_major": 2,
       "version_minor": 0
      },
      "text/plain": [
       "  0%|          | 0/134000 [00:00<?, ?it/s]"
      ]
     },
     "metadata": {},
     "output_type": "display_data"
    },
    {
     "name": "stdout",
     "output_type": "stream",
     "text": [
      "Data dimensions: (42, 2)\n",
      "Generating URL ...\n",
      "Downloading data from https://earthengine.googleapis.com/v1/projects/earthengine-legacy/thumbnails/4c07cf3ba968a06cef801bebf615b260-7caad7975c63a41f62847ab3dbd479c9:getPixels\n",
      "Please wait ...\n",
      "Data downloaded to /home/cristobal/Universidad/proyecto2_geoespaciales/proyecto_geoespaciales/temp/aoi2021-3-01.tif\n"
     ]
    },
    {
     "data": {
      "application/vnd.jupyter.widget-view+json": {
       "model_id": "ad7d23e76a614cfe89e4acb31ad58693",
       "version_major": 2,
       "version_minor": 0
      },
      "text/plain": [
       "  0%|          | 0/134000 [00:00<?, ?it/s]"
      ]
     },
     "metadata": {},
     "output_type": "display_data"
    },
    {
     "name": "stdout",
     "output_type": "stream",
     "text": [
      "Data dimensions: (42, 2)\n",
      "Generating URL ...\n",
      "Downloading data from https://earthengine.googleapis.com/v1/projects/earthengine-legacy/thumbnails/5ad9d0c7c5c3d54ed987b552be1f1dea-e52f43f89e6657f47daf8d7b3b878a9c:getPixels\n",
      "Please wait ...\n",
      "Data downloaded to /home/cristobal/Universidad/proyecto2_geoespaciales/proyecto_geoespaciales/temp/aoi2021-6-01.tif\n"
     ]
    },
    {
     "data": {
      "application/vnd.jupyter.widget-view+json": {
       "model_id": "f775c1570e574609b7a53e396733601b",
       "version_major": 2,
       "version_minor": 0
      },
      "text/plain": [
       "  0%|          | 0/134000 [00:00<?, ?it/s]"
      ]
     },
     "metadata": {},
     "output_type": "display_data"
    },
    {
     "name": "stdout",
     "output_type": "stream",
     "text": [
      "Data dimensions: (42, 2)\n",
      "Generating URL ...\n",
      "Downloading data from https://earthengine.googleapis.com/v1/projects/earthengine-legacy/thumbnails/69b0ad1aa5227ff5f7acf136719a3e06-470b2530c5ab3ee6deb0129407d6eb88:getPixels\n",
      "Please wait ...\n",
      "Data downloaded to /home/cristobal/Universidad/proyecto2_geoespaciales/proyecto_geoespaciales/temp/aoi2021-7-01.tif\n"
     ]
    },
    {
     "data": {
      "application/vnd.jupyter.widget-view+json": {
       "model_id": "91699a3aca1e4f168b7e90580e66da85",
       "version_major": 2,
       "version_minor": 0
      },
      "text/plain": [
       "  0%|          | 0/134000 [00:00<?, ?it/s]"
      ]
     },
     "metadata": {},
     "output_type": "display_data"
    },
    {
     "name": "stdout",
     "output_type": "stream",
     "text": [
      "Data dimensions: (42, 2)\n",
      "Generating URL ...\n",
      "Downloading data from https://earthengine.googleapis.com/v1/projects/earthengine-legacy/thumbnails/699e5aa72af4cf64a581db0be01aaea1-9851342e0cac6889de3c8416590897fc:getPixels\n",
      "Please wait ...\n",
      "Data downloaded to /home/cristobal/Universidad/proyecto2_geoespaciales/proyecto_geoespaciales/temp/aoi2021-8-01.tif\n"
     ]
    },
    {
     "data": {
      "application/vnd.jupyter.widget-view+json": {
       "model_id": "e6a891d6b4dd4b17ae68c073e7296e14",
       "version_major": 2,
       "version_minor": 0
      },
      "text/plain": [
       "  0%|          | 0/134000 [00:00<?, ?it/s]"
      ]
     },
     "metadata": {},
     "output_type": "display_data"
    },
    {
     "name": "stdout",
     "output_type": "stream",
     "text": [
      "Data dimensions: (42, 2)\n",
      "Generating URL ...\n",
      "Downloading data from https://earthengine.googleapis.com/v1/projects/earthengine-legacy/thumbnails/6e2ffc2d8764996724bac95b2ec6060b-b8597a80a8ecb05eba8b042be13e3a33:getPixels\n",
      "Please wait ...\n",
      "Data downloaded to /home/cristobal/Universidad/proyecto2_geoespaciales/proyecto_geoespaciales/temp/aoi2021-9-01.tif\n"
     ]
    },
    {
     "data": {
      "application/vnd.jupyter.widget-view+json": {
       "model_id": "3be62f7e13904db6b609e9819fe005db",
       "version_major": 2,
       "version_minor": 0
      },
      "text/plain": [
       "  0%|          | 0/134000 [00:00<?, ?it/s]"
      ]
     },
     "metadata": {},
     "output_type": "display_data"
    },
    {
     "name": "stdout",
     "output_type": "stream",
     "text": [
      "Data dimensions: (42, 2)\n",
      "Generating URL ...\n",
      "Downloading data from https://earthengine.googleapis.com/v1/projects/earthengine-legacy/thumbnails/c277b135c10291effb40d829e7dd66a7-f32c8b54075743bb00255589b03dd363:getPixels\n",
      "Please wait ...\n",
      "Data downloaded to /home/cristobal/Universidad/proyecto2_geoespaciales/proyecto_geoespaciales/temp/aoi2021-10-01.tif\n"
     ]
    },
    {
     "data": {
      "application/vnd.jupyter.widget-view+json": {
       "model_id": "3c9b9068010546f7a84dcb00f6a5aac6",
       "version_major": 2,
       "version_minor": 0
      },
      "text/plain": [
       "  0%|          | 0/134000 [00:00<?, ?it/s]"
      ]
     },
     "metadata": {},
     "output_type": "display_data"
    },
    {
     "name": "stdout",
     "output_type": "stream",
     "text": [
      "Data dimensions: (42, 2)\n",
      "Generating URL ...\n",
      "Downloading data from https://earthengine.googleapis.com/v1/projects/earthengine-legacy/thumbnails/18274f510cc3fc2bedc5fa247b324419-b13c78892f1510ea105825713975da82:getPixels\n",
      "Please wait ...\n",
      "Data downloaded to /home/cristobal/Universidad/proyecto2_geoespaciales/proyecto_geoespaciales/temp/aoi2021-11-01.tif\n"
     ]
    },
    {
     "data": {
      "application/vnd.jupyter.widget-view+json": {
       "model_id": "4987c3d6541d4099a2c970641bd34111",
       "version_major": 2,
       "version_minor": 0
      },
      "text/plain": [
       "  0%|          | 0/134000 [00:00<?, ?it/s]"
      ]
     },
     "metadata": {},
     "output_type": "display_data"
    },
    {
     "name": "stdout",
     "output_type": "stream",
     "text": [
      "Data dimensions: (42, 2)\n",
      "Generating URL ...\n",
      "Downloading data from https://earthengine.googleapis.com/v1/projects/earthengine-legacy/thumbnails/5baad16e509b54f703e5a5bd0ad7615a-cef12458c1dcb51117027f67a24fcf19:getPixels\n",
      "Please wait ...\n",
      "Data downloaded to /home/cristobal/Universidad/proyecto2_geoespaciales/proyecto_geoespaciales/temp/aoi2021-12-01.tif\n"
     ]
    },
    {
     "data": {
      "application/vnd.jupyter.widget-view+json": {
       "model_id": "4bc98ec74b0d49438389e8344ef6c396",
       "version_major": 2,
       "version_minor": 0
      },
      "text/plain": [
       "  0%|          | 0/134000 [00:00<?, ?it/s]"
      ]
     },
     "metadata": {},
     "output_type": "display_data"
    },
    {
     "name": "stdout",
     "output_type": "stream",
     "text": [
      "Data dimensions: (42, 2)\n",
      "Generating URL ...\n",
      "Downloading data from https://earthengine.googleapis.com/v1/projects/earthengine-legacy/thumbnails/e5d1303a860f052463819550cd39258e-6db55156efce0bcbef20774b4f4199ae:getPixels\n",
      "Please wait ...\n",
      "Data downloaded to /home/cristobal/Universidad/proyecto2_geoespaciales/proyecto_geoespaciales/temp/aoi2022-1-01.tif\n"
     ]
    },
    {
     "data": {
      "application/vnd.jupyter.widget-view+json": {
       "model_id": "9235af1be570438baad08b24bd5e9130",
       "version_major": 2,
       "version_minor": 0
      },
      "text/plain": [
       "  0%|          | 0/134000 [00:00<?, ?it/s]"
      ]
     },
     "metadata": {},
     "output_type": "display_data"
    },
    {
     "name": "stdout",
     "output_type": "stream",
     "text": [
      "Data dimensions: (42, 2)\n",
      "Generating URL ...\n",
      "Downloading data from https://earthengine.googleapis.com/v1/projects/earthengine-legacy/thumbnails/e8e25451588a6f17eea100d4af67f12f-596ab877062b9a41f80b2f4876cd62a4:getPixels\n",
      "Please wait ...\n",
      "Data downloaded to /home/cristobal/Universidad/proyecto2_geoespaciales/proyecto_geoespaciales/temp/aoi2022-2-01.tif\n"
     ]
    },
    {
     "data": {
      "application/vnd.jupyter.widget-view+json": {
       "model_id": "d713f106813b46a5b49e7df32f399f6c",
       "version_major": 2,
       "version_minor": 0
      },
      "text/plain": [
       "  0%|          | 0/134000 [00:00<?, ?it/s]"
      ]
     },
     "metadata": {},
     "output_type": "display_data"
    },
    {
     "name": "stdout",
     "output_type": "stream",
     "text": [
      "Data dimensions: (42, 2)\n",
      "Generating URL ...\n",
      "Downloading data from https://earthengine.googleapis.com/v1/projects/earthengine-legacy/thumbnails/283caaac30898ea16aefe5076615b168-2b57e973b4df6ff9cb16f70874d8f5ea:getPixels\n",
      "Please wait ...\n",
      "Data downloaded to /home/cristobal/Universidad/proyecto2_geoespaciales/proyecto_geoespaciales/temp/aoi2022-3-01.tif\n"
     ]
    },
    {
     "data": {
      "application/vnd.jupyter.widget-view+json": {
       "model_id": "56e64a2c078f40bfa3bcc743d9d08243",
       "version_major": 2,
       "version_minor": 0
      },
      "text/plain": [
       "  0%|          | 0/134000 [00:00<?, ?it/s]"
      ]
     },
     "metadata": {},
     "output_type": "display_data"
    },
    {
     "name": "stdout",
     "output_type": "stream",
     "text": [
      "Data dimensions: (42, 2)\n",
      "Generating URL ...\n",
      "Downloading data from https://earthengine.googleapis.com/v1/projects/earthengine-legacy/thumbnails/f01fe181a8c6849a7fd40e5211e6d0d9-ad1879a9503fc65bb087f126a2c7e235:getPixels\n",
      "Please wait ...\n",
      "Data downloaded to /home/cristobal/Universidad/proyecto2_geoespaciales/proyecto_geoespaciales/temp/aoi2022-4-01.tif\n"
     ]
    },
    {
     "data": {
      "application/vnd.jupyter.widget-view+json": {
       "model_id": "d31264aba29e4fb79314773f9316c023",
       "version_major": 2,
       "version_minor": 0
      },
      "text/plain": [
       "  0%|          | 0/134000 [00:00<?, ?it/s]"
      ]
     },
     "metadata": {},
     "output_type": "display_data"
    },
    {
     "name": "stdout",
     "output_type": "stream",
     "text": [
      "Data dimensions: (42, 2)\n",
      "Generating URL ...\n",
      "Downloading data from https://earthengine.googleapis.com/v1/projects/earthengine-legacy/thumbnails/1ae50ff7d80dd0b30da608747e1a17ce-882c9dfa9f9f0ce52eeae0381ed9c516:getPixels\n",
      "Please wait ...\n",
      "Data downloaded to /home/cristobal/Universidad/proyecto2_geoespaciales/proyecto_geoespaciales/temp/aoi2022-6-01.tif\n"
     ]
    },
    {
     "data": {
      "application/vnd.jupyter.widget-view+json": {
       "model_id": "2b1aa953821648e1864b616b0a596939",
       "version_major": 2,
       "version_minor": 0
      },
      "text/plain": [
       "  0%|          | 0/134000 [00:00<?, ?it/s]"
      ]
     },
     "metadata": {},
     "output_type": "display_data"
    },
    {
     "name": "stdout",
     "output_type": "stream",
     "text": [
      "Data dimensions: (42, 2)\n",
      "Generating URL ...\n",
      "Downloading data from https://earthengine.googleapis.com/v1/projects/earthengine-legacy/thumbnails/7c9264ac5b919cea99db63d72737fbbc-5b5527cd81ed1dbb34f191c0d8d8482e:getPixels\n",
      "Please wait ...\n",
      "Data downloaded to /home/cristobal/Universidad/proyecto2_geoespaciales/proyecto_geoespaciales/temp/aoi2022-7-01.tif\n"
     ]
    },
    {
     "data": {
      "application/vnd.jupyter.widget-view+json": {
       "model_id": "979683889cbb4f0dab62508351fad081",
       "version_major": 2,
       "version_minor": 0
      },
      "text/plain": [
       "  0%|          | 0/134000 [00:00<?, ?it/s]"
      ]
     },
     "metadata": {},
     "output_type": "display_data"
    },
    {
     "name": "stdout",
     "output_type": "stream",
     "text": [
      "Data dimensions: (42, 2)\n",
      "Generating URL ...\n",
      "Downloading data from https://earthengine.googleapis.com/v1/projects/earthengine-legacy/thumbnails/3cc71fcaf8fbf41fd7dab573c8aef9db-6716ef75c50f13a24bf8ee47cc734eab:getPixels\n",
      "Please wait ...\n",
      "Data downloaded to /home/cristobal/Universidad/proyecto2_geoespaciales/proyecto_geoespaciales/temp/aoi2022-8-01.tif\n"
     ]
    },
    {
     "data": {
      "application/vnd.jupyter.widget-view+json": {
       "model_id": "ec3b95180d1e42249e87db0ec5715f88",
       "version_major": 2,
       "version_minor": 0
      },
      "text/plain": [
       "  0%|          | 0/134000 [00:00<?, ?it/s]"
      ]
     },
     "metadata": {},
     "output_type": "display_data"
    },
    {
     "name": "stdout",
     "output_type": "stream",
     "text": [
      "Data dimensions: (42, 2)\n",
      "Generating URL ...\n",
      "Downloading data from https://earthengine.googleapis.com/v1/projects/earthengine-legacy/thumbnails/4d73c91d9b32d372fd61f76d99285b4d-e87e73dc7def9788182dfc0d654dfbe9:getPixels\n",
      "Please wait ...\n",
      "Data downloaded to /home/cristobal/Universidad/proyecto2_geoespaciales/proyecto_geoespaciales/temp/aoi2022-9-01.tif\n"
     ]
    },
    {
     "data": {
      "application/vnd.jupyter.widget-view+json": {
       "model_id": "c8accf74b4f94b039c7e2e69e2027851",
       "version_major": 2,
       "version_minor": 0
      },
      "text/plain": [
       "  0%|          | 0/134000 [00:00<?, ?it/s]"
      ]
     },
     "metadata": {},
     "output_type": "display_data"
    },
    {
     "name": "stdout",
     "output_type": "stream",
     "text": [
      "Data dimensions: (42, 2)\n",
      "Generating URL ...\n",
      "Downloading data from https://earthengine.googleapis.com/v1/projects/earthengine-legacy/thumbnails/06fe4249370a26ffa78a8b066a05fdb6-879846a18c87688f327528bd0473c2da:getPixels\n",
      "Please wait ...\n",
      "Data downloaded to /home/cristobal/Universidad/proyecto2_geoespaciales/proyecto_geoespaciales/temp/aoi2022-10-01.tif\n"
     ]
    },
    {
     "data": {
      "application/vnd.jupyter.widget-view+json": {
       "model_id": "d56dce9b582b4206bd4a43bbbbb52777",
       "version_major": 2,
       "version_minor": 0
      },
      "text/plain": [
       "  0%|          | 0/134000 [00:00<?, ?it/s]"
      ]
     },
     "metadata": {},
     "output_type": "display_data"
    },
    {
     "name": "stdout",
     "output_type": "stream",
     "text": [
      "Data dimensions: (42, 2)\n",
      "Generating URL ...\n",
      "Downloading data from https://earthengine.googleapis.com/v1/projects/earthengine-legacy/thumbnails/8e600ac7bd01f67ad38e0c1592d65fa8-83a6a0839788badf8c54a0d1f014d687:getPixels\n",
      "Please wait ...\n",
      "Data downloaded to /home/cristobal/Universidad/proyecto2_geoespaciales/proyecto_geoespaciales/temp/aoi2022-11-01.tif\n"
     ]
    },
    {
     "data": {
      "application/vnd.jupyter.widget-view+json": {
       "model_id": "02f52d1d1b1f49b4a09bda3b85229fe9",
       "version_major": 2,
       "version_minor": 0
      },
      "text/plain": [
       "  0%|          | 0/134000 [00:00<?, ?it/s]"
      ]
     },
     "metadata": {},
     "output_type": "display_data"
    },
    {
     "name": "stdout",
     "output_type": "stream",
     "text": [
      "Data dimensions: (42, 2)\n",
      "Generating URL ...\n",
      "Downloading data from https://earthengine.googleapis.com/v1/projects/earthengine-legacy/thumbnails/e81a4886eda5fac6edbde9c27f1a096b-6b026fb66452dfbca1830daa93ebf6d9:getPixels\n",
      "Please wait ...\n",
      "Data downloaded to /home/cristobal/Universidad/proyecto2_geoespaciales/proyecto_geoespaciales/temp/aoi2022-12-01.tif\n"
     ]
    },
    {
     "data": {
      "application/vnd.jupyter.widget-view+json": {
       "model_id": "bfd69e17d19c486eb17f96fc9ea45f03",
       "version_major": 2,
       "version_minor": 0
      },
      "text/plain": [
       "  0%|          | 0/134000 [00:00<?, ?it/s]"
      ]
     },
     "metadata": {},
     "output_type": "display_data"
    },
    {
     "name": "stdout",
     "output_type": "stream",
     "text": [
      "Data dimensions: (42, 2)\n",
      "Generating URL ...\n",
      "Downloading data from https://earthengine.googleapis.com/v1/projects/earthengine-legacy/thumbnails/eea87e4154e443e8249ecbfae7b45e57-032910b1a328632d645afacceabff4d8:getPixels\n",
      "Please wait ...\n",
      "Data downloaded to /home/cristobal/Universidad/proyecto2_geoespaciales/proyecto_geoespaciales/temp/aoi2023-1-01.tif\n"
     ]
    },
    {
     "data": {
      "application/vnd.jupyter.widget-view+json": {
       "model_id": "740df48123fc450a9afc3ac76c38009a",
       "version_major": 2,
       "version_minor": 0
      },
      "text/plain": [
       "  0%|          | 0/134000 [00:00<?, ?it/s]"
      ]
     },
     "metadata": {},
     "output_type": "display_data"
    },
    {
     "name": "stdout",
     "output_type": "stream",
     "text": [
      "Data dimensions: (42, 2)\n",
      "Generating URL ...\n",
      "Downloading data from https://earthengine.googleapis.com/v1/projects/earthengine-legacy/thumbnails/3b8eed004a4022b045ba58221796b54d-ff0a9580bc444b3b6844568514af0462:getPixels\n",
      "Please wait ...\n",
      "Data downloaded to /home/cristobal/Universidad/proyecto2_geoespaciales/proyecto_geoespaciales/temp/aoi2023-2-01.tif\n"
     ]
    },
    {
     "data": {
      "application/vnd.jupyter.widget-view+json": {
       "model_id": "5c4af3f8522d49eb8a371514390e0f44",
       "version_major": 2,
       "version_minor": 0
      },
      "text/plain": [
       "  0%|          | 0/134000 [00:00<?, ?it/s]"
      ]
     },
     "metadata": {},
     "output_type": "display_data"
    },
    {
     "name": "stdout",
     "output_type": "stream",
     "text": [
      "Data dimensions: (42, 2)\n",
      "Generating URL ...\n",
      "Downloading data from https://earthengine.googleapis.com/v1/projects/earthengine-legacy/thumbnails/3c9ad7c59f020436bef8e991445b62b7-83ee05bc4695858ebfcf74945a02d9c1:getPixels\n",
      "Please wait ...\n",
      "Data downloaded to /home/cristobal/Universidad/proyecto2_geoespaciales/proyecto_geoespaciales/temp/aoi2023-3-01.tif\n"
     ]
    },
    {
     "data": {
      "application/vnd.jupyter.widget-view+json": {
       "model_id": "d06b81c759724162a054490945149bfd",
       "version_major": 2,
       "version_minor": 0
      },
      "text/plain": [
       "  0%|          | 0/134000 [00:00<?, ?it/s]"
      ]
     },
     "metadata": {},
     "output_type": "display_data"
    },
    {
     "name": "stdout",
     "output_type": "stream",
     "text": [
      "Data dimensions: (42, 2)\n",
      "Generating URL ...\n",
      "Downloading data from https://earthengine.googleapis.com/v1/projects/earthengine-legacy/thumbnails/6e3d8af57ecff957c720044947231088-039ba07d646f152ab399a6eebef03e3c:getPixels\n",
      "Please wait ...\n",
      "Data downloaded to /home/cristobal/Universidad/proyecto2_geoespaciales/proyecto_geoespaciales/temp/aoi2023-4-01.tif\n"
     ]
    },
    {
     "data": {
      "application/vnd.jupyter.widget-view+json": {
       "model_id": "5198ce537f1c4b82b227637ae161b368",
       "version_major": 2,
       "version_minor": 0
      },
      "text/plain": [
       "  0%|          | 0/134000 [00:00<?, ?it/s]"
      ]
     },
     "metadata": {},
     "output_type": "display_data"
    },
    {
     "name": "stdout",
     "output_type": "stream",
     "text": [
      "Data dimensions: (42, 2)\n",
      "Generating URL ...\n",
      "Downloading data from https://earthengine.googleapis.com/v1/projects/earthengine-legacy/thumbnails/d2979ba5cdd92021f5f9c6181b319739-63075cf1c35155d68de3e852513dcfec:getPixels\n",
      "Please wait ...\n",
      "Data downloaded to /home/cristobal/Universidad/proyecto2_geoespaciales/proyecto_geoespaciales/temp/aoi2023-6-01.tif\n"
     ]
    },
    {
     "data": {
      "application/vnd.jupyter.widget-view+json": {
       "model_id": "98d8c02771a64777846dc4190fd3dc15",
       "version_major": 2,
       "version_minor": 0
      },
      "text/plain": [
       "  0%|          | 0/134000 [00:00<?, ?it/s]"
      ]
     },
     "metadata": {},
     "output_type": "display_data"
    },
    {
     "name": "stdout",
     "output_type": "stream",
     "text": [
      "Data dimensions: (42, 2)\n",
      "Generating URL ...\n",
      "Downloading data from https://earthengine.googleapis.com/v1/projects/earthengine-legacy/thumbnails/31ace283de18d6b3c82fbe249ed15c19-8c6472b494ba86cdc2fcf25414023f4f:getPixels\n",
      "Please wait ...\n",
      "Data downloaded to /home/cristobal/Universidad/proyecto2_geoespaciales/proyecto_geoespaciales/temp/aoi2023-7-01.tif\n"
     ]
    },
    {
     "data": {
      "application/vnd.jupyter.widget-view+json": {
       "model_id": "fbf6f62bb93c4396a94bd41ed28a5cd4",
       "version_major": 2,
       "version_minor": 0
      },
      "text/plain": [
       "  0%|          | 0/134000 [00:00<?, ?it/s]"
      ]
     },
     "metadata": {},
     "output_type": "display_data"
    },
    {
     "name": "stdout",
     "output_type": "stream",
     "text": [
      "Data dimensions: (42, 2)\n",
      "Generating URL ...\n",
      "Downloading data from https://earthengine.googleapis.com/v1/projects/earthengine-legacy/thumbnails/1c849e8d2baf2603f8751071a9e9e5c7-ecfe0be8c96a3a94f632e23e10f1cb5f:getPixels\n",
      "Please wait ...\n",
      "Data downloaded to /home/cristobal/Universidad/proyecto2_geoespaciales/proyecto_geoespaciales/temp/aoi2023-8-01.tif\n"
     ]
    },
    {
     "data": {
      "application/vnd.jupyter.widget-view+json": {
       "model_id": "377f3730c7704f67b5f1e42d2ac8acbb",
       "version_major": 2,
       "version_minor": 0
      },
      "text/plain": [
       "  0%|          | 0/134000 [00:00<?, ?it/s]"
      ]
     },
     "metadata": {},
     "output_type": "display_data"
    },
    {
     "name": "stdout",
     "output_type": "stream",
     "text": [
      "Data dimensions: (42, 2)\n",
      "Generating URL ...\n",
      "Downloading data from https://earthengine.googleapis.com/v1/projects/earthengine-legacy/thumbnails/fc9411bd6d51515ccdf6e2fced8989a4-12beb3ce6f0312eebca082b1d9f35a7e:getPixels\n",
      "Please wait ...\n",
      "Data downloaded to /home/cristobal/Universidad/proyecto2_geoespaciales/proyecto_geoespaciales/temp/aoi2023-9-01.tif\n"
     ]
    },
    {
     "data": {
      "application/vnd.jupyter.widget-view+json": {
       "model_id": "2ca738a982b746f29e9f68af4bd3189c",
       "version_major": 2,
       "version_minor": 0
      },
      "text/plain": [
       "  0%|          | 0/134000 [00:00<?, ?it/s]"
      ]
     },
     "metadata": {},
     "output_type": "display_data"
    },
    {
     "name": "stdout",
     "output_type": "stream",
     "text": [
      "Data dimensions: (42, 2)\n",
      "Generating URL ...\n",
      "Downloading data from https://earthengine.googleapis.com/v1/projects/earthengine-legacy/thumbnails/0dabbd58718bab4857242fed17e0e4a7-44cd039de468cab8d525e72f01768a79:getPixels\n",
      "Please wait ...\n",
      "Data downloaded to /home/cristobal/Universidad/proyecto2_geoespaciales/proyecto_geoespaciales/temp/aoi2023-10-01.tif\n"
     ]
    },
    {
     "data": {
      "application/vnd.jupyter.widget-view+json": {
       "model_id": "9d49f8b25ed1444baad7a22ec0540e5b",
       "version_major": 2,
       "version_minor": 0
      },
      "text/plain": [
       "  0%|          | 0/134000 [00:00<?, ?it/s]"
      ]
     },
     "metadata": {},
     "output_type": "display_data"
    },
    {
     "name": "stdout",
     "output_type": "stream",
     "text": [
      "Data dimensions: (42, 2)\n",
      "Generating URL ...\n",
      "Downloading data from https://earthengine.googleapis.com/v1/projects/earthengine-legacy/thumbnails/221238769fd16c34b53f44ebc2016d03-c13c84aaeb8d5f18b7a188003f407d7c:getPixels\n",
      "Please wait ...\n",
      "Data downloaded to /home/cristobal/Universidad/proyecto2_geoespaciales/proyecto_geoespaciales/temp/aoi2023-12-01.tif\n"
     ]
    },
    {
     "data": {
      "application/vnd.jupyter.widget-view+json": {
       "model_id": "97ec5b75138244d08db1aa62fe6c452f",
       "version_major": 2,
       "version_minor": 0
      },
      "text/plain": [
       "  0%|          | 0/134000 [00:00<?, ?it/s]"
      ]
     },
     "metadata": {},
     "output_type": "display_data"
    },
    {
     "name": "stdout",
     "output_type": "stream",
     "text": [
      "Data dimensions: (42, 2)\n",
      "Generating URL ...\n",
      "Downloading data from https://earthengine.googleapis.com/v1/projects/earthengine-legacy/thumbnails/e2285b79e464c4cb984df88e53698a98-fb8d87c39eec97a2a74d54a54babfa9a:getPixels\n",
      "Please wait ...\n",
      "Data downloaded to /home/cristobal/Universidad/proyecto2_geoespaciales/proyecto_geoespaciales/temp/aoi2024-1-01.tif\n"
     ]
    },
    {
     "data": {
      "application/vnd.jupyter.widget-view+json": {
       "model_id": "fbb180c209cd4033b8fa4ef1330cb6e4",
       "version_major": 2,
       "version_minor": 0
      },
      "text/plain": [
       "  0%|          | 0/134000 [00:00<?, ?it/s]"
      ]
     },
     "metadata": {},
     "output_type": "display_data"
    },
    {
     "name": "stdout",
     "output_type": "stream",
     "text": [
      "Data dimensions: (42, 2)\n",
      "Generating URL ...\n",
      "Downloading data from https://earthengine.googleapis.com/v1/projects/earthengine-legacy/thumbnails/9796c63870f0ab72ef54dc0cfb6494b7-e7c555e9edb7253ac8931f6f27017705:getPixels\n",
      "Please wait ...\n",
      "Data downloaded to /home/cristobal/Universidad/proyecto2_geoespaciales/proyecto_geoespaciales/temp/aoi2024-2-01.tif\n"
     ]
    },
    {
     "data": {
      "application/vnd.jupyter.widget-view+json": {
       "model_id": "ade8ee4f98504826a4009bb7cae52aa9",
       "version_major": 2,
       "version_minor": 0
      },
      "text/plain": [
       "  0%|          | 0/134000 [00:00<?, ?it/s]"
      ]
     },
     "metadata": {},
     "output_type": "display_data"
    },
    {
     "name": "stdout",
     "output_type": "stream",
     "text": [
      "Data dimensions: (42, 2)\n",
      "Generating URL ...\n",
      "Downloading data from https://earthengine.googleapis.com/v1/projects/earthengine-legacy/thumbnails/2c71c9ca17e5713fc51e819e21f354c7-e8365d09e55d4672d984440ba2d6efab:getPixels\n",
      "Please wait ...\n",
      "Data downloaded to /home/cristobal/Universidad/proyecto2_geoespaciales/proyecto_geoespaciales/temp/aoi2024-3-01.tif\n"
     ]
    },
    {
     "data": {
      "application/vnd.jupyter.widget-view+json": {
       "model_id": "d62743843218420f8821ffc7c2fbef0e",
       "version_major": 2,
       "version_minor": 0
      },
      "text/plain": [
       "  0%|          | 0/134000 [00:00<?, ?it/s]"
      ]
     },
     "metadata": {},
     "output_type": "display_data"
    },
    {
     "name": "stdout",
     "output_type": "stream",
     "text": [
      "Data dimensions: (42, 2)\n",
      "Generating URL ...\n",
      "Downloading data from https://earthengine.googleapis.com/v1/projects/earthengine-legacy/thumbnails/adfde68ab9f961b5a7a2d2df89f7c434-26f2bebce5faa067067b4d63bd9da630:getPixels\n",
      "Please wait ...\n",
      "Data downloaded to /home/cristobal/Universidad/proyecto2_geoespaciales/proyecto_geoespaciales/temp/aoi2024-4-01.tif\n"
     ]
    },
    {
     "data": {
      "application/vnd.jupyter.widget-view+json": {
       "model_id": "7b01ebefada84e0ca7d64126812e2096",
       "version_major": 2,
       "version_minor": 0
      },
      "text/plain": [
       "  0%|          | 0/134000 [00:00<?, ?it/s]"
      ]
     },
     "metadata": {},
     "output_type": "display_data"
    },
    {
     "name": "stdout",
     "output_type": "stream",
     "text": [
      "Data dimensions: (42, 2)\n"
     ]
    }
   ],
   "source": [
    "tiled_images = []\n",
    "for image, fecha in zip(imagenes, fechas_con_imagen):\n",
    "    image = image.clip(aoi).unmask() # Toma la imágen de un mes\n",
    "\n",
    "    geemap.ee_export_image(image, filename=f'temp/aoi{fecha}.tif', scale=30, region=aoi, file_per_band=False) # Exporta imagen\n",
    "\n",
    "    tif_file = f'temp/aoi{fecha}.tif' \n",
    "\n",
    "    img = rio.open(tif_file) #Se abre con rasterio\n",
    "    \n",
    "    output_file = 'temp/tiles.geojson'\n",
    "    tiles = generate_tiles(tif_file, output_file, 'LagunaAculeo', size=64) # Se generan las tiles usando la funcion que vimos en un notebook\n",
    "    tiled_images.append(tiles)\n",
    "    print('Data dimensions: {}'.format(tiles.shape))\n",
    "    #show_crop(tif_file, [tiles.iloc[23]['geometry']]) #Muestra un ejemplo"
   ]
  },
  {
   "cell_type": "code",
   "execution_count": 159,
   "id": "be227b60-6b12-4404-9142-e26f9ec706d8",
   "metadata": {},
   "outputs": [
    {
     "data": {
      "text/html": [
       "\n",
       "            <style>\n",
       "                .geemap-dark {\n",
       "                    --jp-widgets-color: white;\n",
       "                    --jp-widgets-label-color: white;\n",
       "                    --jp-ui-font-color1: white;\n",
       "                    --jp-layout-color2: #454545;\n",
       "                    background-color: #383838;\n",
       "                }\n",
       "\n",
       "                .geemap-dark .jupyter-button {\n",
       "                    --jp-layout-color3: #383838;\n",
       "                }\n",
       "\n",
       "                .geemap-colab {\n",
       "                    background-color: var(--colab-primary-surface-color, white);\n",
       "                }\n",
       "\n",
       "                .geemap-colab .jupyter-button {\n",
       "                    --jp-layout-color3: var(--colab-primary-surface-color, white);\n",
       "                }\n",
       "            </style>\n",
       "            "
      ],
      "text/plain": [
       "<IPython.core.display.HTML object>"
      ]
     },
     "metadata": {},
     "output_type": "display_data"
    }
   ],
   "source": [
    "def predict_crop(image, shape, classes, model, show=False):\n",
    "    \"\"\"Generates model prediction using trained model\n",
    "\n",
    "    Args:\n",
    "      image (str): Image file path (.tiff)\n",
    "      shape (geometry): The tile with which to crop the image\n",
    "      classes (list): List of LULC classes\n",
    "\n",
    "    Return\n",
    "      str: Predicted label\n",
    "    \"\"\"\n",
    "\n",
    "    with rio.open(image) as src:\n",
    "        # Crop source image using polygon shape\n",
    "        # See more information here:\n",
    "        # https://rasterio.readthedocs.io/en/latest/api/rasterio.mask.html#rasterio.mask.mask\n",
    "        out_image, out_transform = rio.mask.mask(src, shape, crop=True)\n",
    "        # Crop out black (zero) border\n",
    "        _, x_nonzero, y_nonzero = np.nonzero(out_image)\n",
    "        #print(out_image)\n",
    "        try:\n",
    "            out_image = out_image[\n",
    "          :,\n",
    "          np.min(x_nonzero):np.max(x_nonzero),\n",
    "          np.min(y_nonzero):np.max(y_nonzero)\n",
    "            ]\n",
    "        except:\n",
    "            pass\n",
    "\n",
    "        # Get the metadata of the source image and update it\n",
    "        # with the width, height, and transform of the cropped image\n",
    "        out_meta = src.meta\n",
    "        out_meta.update({\n",
    "              \"driver\": \"GTiff\",\n",
    "              \"height\": out_image.shape[1],\n",
    "              \"width\": out_image.shape[2],\n",
    "              \"transform\": out_transform\n",
    "        })\n",
    "        #print(out_image.min(),out_image.max())\n",
    "        # Save the cropped image as a temporary TIFF file.\n",
    "        temp_tif = 'temp/temp.tif'\n",
    "        with rasterio.open(temp_tif, \"w\", **out_meta) as dest:\n",
    "          dest.write(out_image)\n",
    "\n",
    "        # Open the cropped image and generated prediction\n",
    "        # using the trained Pytorch model\n",
    "        image = Image.open(temp_tif)\n",
    "        aaa = transform(image)\n",
    "        output = model(aaa.unsqueeze(0))\n",
    "        _, pred = torch.max(output, 1)\n",
    "        label = str(classes[int(pred[0])])\n",
    "\n",
    "        if show:\n",
    "          out_image.show(title=label)\n",
    "\n",
    "        return label\n",
    "\n",
    "    return None"
   ]
  },
  {
   "cell_type": "code",
   "execution_count": 160,
   "id": "ff344885-f250-4402-b024-260092b6bcfe",
   "metadata": {},
   "outputs": [
    {
     "data": {
      "text/html": [
       "\n",
       "            <style>\n",
       "                .geemap-dark {\n",
       "                    --jp-widgets-color: white;\n",
       "                    --jp-widgets-label-color: white;\n",
       "                    --jp-ui-font-color1: white;\n",
       "                    --jp-layout-color2: #454545;\n",
       "                    background-color: #383838;\n",
       "                }\n",
       "\n",
       "                .geemap-dark .jupyter-button {\n",
       "                    --jp-layout-color3: #383838;\n",
       "                }\n",
       "\n",
       "                .geemap-colab {\n",
       "                    background-color: var(--colab-primary-surface-color, white);\n",
       "                }\n",
       "\n",
       "                .geemap-colab .jupyter-button {\n",
       "                    --jp-layout-color3: var(--colab-primary-surface-color, white);\n",
       "                }\n",
       "            </style>\n",
       "            "
      ],
      "text/plain": [
       "<IPython.core.display.HTML object>"
      ]
     },
     "metadata": {},
     "output_type": "display_data"
    }
   ],
   "source": [
    "imagenet_mean, imagenet_std = [0.485, 0.456, 0.406], [0.229, 0.224, 0.225]\n",
    "\n",
    "transform = transforms.Compose([\n",
    "    transforms.Resize(224),\n",
    "    transforms.CenterCrop(224),\n",
    "    transforms.ToTensor(),\n",
    "    transforms.Normalize(imagenet_mean, imagenet_std)\n",
    "])"
   ]
  },
  {
   "cell_type": "markdown",
   "id": "0face3ea-b4d3-4917-9c12-590bf2005031",
   "metadata": {},
   "source": [
    "### Se hacen las predicciones"
   ]
  },
  {
   "cell_type": "code",
   "execution_count": 161,
   "id": "f72f369a-ebd8-4756-ad5d-ef66c247a417",
   "metadata": {
    "jp-MarkdownHeadingCollapsed": true,
    "scrolled": true
   },
   "outputs": [
    {
     "data": {
      "text/html": [
       "\n",
       "            <style>\n",
       "                .geemap-dark {\n",
       "                    --jp-widgets-color: white;\n",
       "                    --jp-widgets-label-color: white;\n",
       "                    --jp-ui-font-color1: white;\n",
       "                    --jp-layout-color2: #454545;\n",
       "                    background-color: #383838;\n",
       "                }\n",
       "\n",
       "                .geemap-dark .jupyter-button {\n",
       "                    --jp-layout-color3: #383838;\n",
       "                }\n",
       "\n",
       "                .geemap-colab {\n",
       "                    background-color: var(--colab-primary-surface-color, white);\n",
       "                }\n",
       "\n",
       "                .geemap-colab .jupyter-button {\n",
       "                    --jp-layout-color3: var(--colab-primary-surface-color, white);\n",
       "                }\n",
       "            </style>\n",
       "            "
      ],
      "text/plain": [
       "<IPython.core.display.HTML object>"
      ]
     },
     "metadata": {},
     "output_type": "display_data"
    },
    {
     "data": {
      "application/vnd.jupyter.widget-view+json": {
       "model_id": "77ea8661e9784c06ac17cb7db8525dcb",
       "version_major": 2,
       "version_minor": 0
      },
      "text/plain": [
       "  0%|          | 0/42 [00:00<?, ?it/s]"
      ]
     },
     "metadata": {},
     "output_type": "display_data"
    },
    {
     "data": {
      "application/vnd.jupyter.widget-view+json": {
       "model_id": "b9bdb7466b8b4f4f99ea46532f0e1f73",
       "version_major": 2,
       "version_minor": 0
      },
      "text/plain": [
       "  0%|          | 0/42 [00:00<?, ?it/s]"
      ]
     },
     "metadata": {},
     "output_type": "display_data"
    },
    {
     "data": {
      "application/vnd.jupyter.widget-view+json": {
       "model_id": "07fd1cfe6b6f4b4f93960ef434568a7d",
       "version_major": 2,
       "version_minor": 0
      },
      "text/plain": [
       "  0%|          | 0/42 [00:00<?, ?it/s]"
      ]
     },
     "metadata": {},
     "output_type": "display_data"
    },
    {
     "data": {
      "application/vnd.jupyter.widget-view+json": {
       "model_id": "8dab9187f89c4fb79e85d36a3766c142",
       "version_major": 2,
       "version_minor": 0
      },
      "text/plain": [
       "  0%|          | 0/42 [00:00<?, ?it/s]"
      ]
     },
     "metadata": {},
     "output_type": "display_data"
    },
    {
     "data": {
      "application/vnd.jupyter.widget-view+json": {
       "model_id": "1e2dadfd36a3456e8855a80b95277ffa",
       "version_major": 2,
       "version_minor": 0
      },
      "text/plain": [
       "  0%|          | 0/42 [00:00<?, ?it/s]"
      ]
     },
     "metadata": {},
     "output_type": "display_data"
    },
    {
     "data": {
      "application/vnd.jupyter.widget-view+json": {
       "model_id": "c3e42ee140a54af4bfed8aa6b6490f56",
       "version_major": 2,
       "version_minor": 0
      },
      "text/plain": [
       "  0%|          | 0/42 [00:00<?, ?it/s]"
      ]
     },
     "metadata": {},
     "output_type": "display_data"
    },
    {
     "data": {
      "application/vnd.jupyter.widget-view+json": {
       "model_id": "87f8257ca97d4cea80e3e56d96e735ef",
       "version_major": 2,
       "version_minor": 0
      },
      "text/plain": [
       "  0%|          | 0/42 [00:00<?, ?it/s]"
      ]
     },
     "metadata": {},
     "output_type": "display_data"
    },
    {
     "data": {
      "application/vnd.jupyter.widget-view+json": {
       "model_id": "58bfb55efd8c4652ac36166dd74ddfd0",
       "version_major": 2,
       "version_minor": 0
      },
      "text/plain": [
       "  0%|          | 0/42 [00:00<?, ?it/s]"
      ]
     },
     "metadata": {},
     "output_type": "display_data"
    },
    {
     "data": {
      "application/vnd.jupyter.widget-view+json": {
       "model_id": "c4423c206c56418ca32b9b1d1278acde",
       "version_major": 2,
       "version_minor": 0
      },
      "text/plain": [
       "  0%|          | 0/42 [00:00<?, ?it/s]"
      ]
     },
     "metadata": {},
     "output_type": "display_data"
    },
    {
     "data": {
      "application/vnd.jupyter.widget-view+json": {
       "model_id": "9c92299c46f84455add9acbbf57d6ba5",
       "version_major": 2,
       "version_minor": 0
      },
      "text/plain": [
       "  0%|          | 0/42 [00:00<?, ?it/s]"
      ]
     },
     "metadata": {},
     "output_type": "display_data"
    },
    {
     "data": {
      "application/vnd.jupyter.widget-view+json": {
       "model_id": "75b5c04623004b21968f4d81d6c82280",
       "version_major": 2,
       "version_minor": 0
      },
      "text/plain": [
       "  0%|          | 0/42 [00:00<?, ?it/s]"
      ]
     },
     "metadata": {},
     "output_type": "display_data"
    },
    {
     "data": {
      "application/vnd.jupyter.widget-view+json": {
       "model_id": "ea5ff439e7e945d4859327aff12cd44f",
       "version_major": 2,
       "version_minor": 0
      },
      "text/plain": [
       "  0%|          | 0/42 [00:00<?, ?it/s]"
      ]
     },
     "metadata": {},
     "output_type": "display_data"
    },
    {
     "data": {
      "application/vnd.jupyter.widget-view+json": {
       "model_id": "37631ca0baf34a458a937a2b2cf0acd7",
       "version_major": 2,
       "version_minor": 0
      },
      "text/plain": [
       "  0%|          | 0/42 [00:00<?, ?it/s]"
      ]
     },
     "metadata": {},
     "output_type": "display_data"
    },
    {
     "data": {
      "application/vnd.jupyter.widget-view+json": {
       "model_id": "351dda7567f74115bc44186fcbdbd278",
       "version_major": 2,
       "version_minor": 0
      },
      "text/plain": [
       "  0%|          | 0/42 [00:00<?, ?it/s]"
      ]
     },
     "metadata": {},
     "output_type": "display_data"
    },
    {
     "data": {
      "application/vnd.jupyter.widget-view+json": {
       "model_id": "822a2735cd434f678db776cb6a2d1332",
       "version_major": 2,
       "version_minor": 0
      },
      "text/plain": [
       "  0%|          | 0/42 [00:00<?, ?it/s]"
      ]
     },
     "metadata": {},
     "output_type": "display_data"
    },
    {
     "data": {
      "application/vnd.jupyter.widget-view+json": {
       "model_id": "8a6df56fcd9e4819b821d610e45899ff",
       "version_major": 2,
       "version_minor": 0
      },
      "text/plain": [
       "  0%|          | 0/42 [00:00<?, ?it/s]"
      ]
     },
     "metadata": {},
     "output_type": "display_data"
    },
    {
     "data": {
      "application/vnd.jupyter.widget-view+json": {
       "model_id": "a2cfd743c3fa44c787cae29709f25ac5",
       "version_major": 2,
       "version_minor": 0
      },
      "text/plain": [
       "  0%|          | 0/42 [00:00<?, ?it/s]"
      ]
     },
     "metadata": {},
     "output_type": "display_data"
    },
    {
     "data": {
      "application/vnd.jupyter.widget-view+json": {
       "model_id": "ee3aa1e7958b40cc97033f76d5cf6336",
       "version_major": 2,
       "version_minor": 0
      },
      "text/plain": [
       "  0%|          | 0/42 [00:00<?, ?it/s]"
      ]
     },
     "metadata": {},
     "output_type": "display_data"
    },
    {
     "data": {
      "application/vnd.jupyter.widget-view+json": {
       "model_id": "fb11f3d6a1234201a3ed90e1a99013bb",
       "version_major": 2,
       "version_minor": 0
      },
      "text/plain": [
       "  0%|          | 0/42 [00:00<?, ?it/s]"
      ]
     },
     "metadata": {},
     "output_type": "display_data"
    },
    {
     "data": {
      "application/vnd.jupyter.widget-view+json": {
       "model_id": "cab1eb2dc3ca4ceb80d10eda934ac57b",
       "version_major": 2,
       "version_minor": 0
      },
      "text/plain": [
       "  0%|          | 0/42 [00:00<?, ?it/s]"
      ]
     },
     "metadata": {},
     "output_type": "display_data"
    },
    {
     "data": {
      "application/vnd.jupyter.widget-view+json": {
       "model_id": "8c04719c477a4913a71fe7d44d5834c1",
       "version_major": 2,
       "version_minor": 0
      },
      "text/plain": [
       "  0%|          | 0/42 [00:00<?, ?it/s]"
      ]
     },
     "metadata": {},
     "output_type": "display_data"
    },
    {
     "data": {
      "application/vnd.jupyter.widget-view+json": {
       "model_id": "f2d422227242420cb0c338f9036c8b8a",
       "version_major": 2,
       "version_minor": 0
      },
      "text/plain": [
       "  0%|          | 0/42 [00:00<?, ?it/s]"
      ]
     },
     "metadata": {},
     "output_type": "display_data"
    },
    {
     "data": {
      "application/vnd.jupyter.widget-view+json": {
       "model_id": "bdce7f50109647dbbdafe2b8fafcaff9",
       "version_major": 2,
       "version_minor": 0
      },
      "text/plain": [
       "  0%|          | 0/42 [00:00<?, ?it/s]"
      ]
     },
     "metadata": {},
     "output_type": "display_data"
    },
    {
     "data": {
      "application/vnd.jupyter.widget-view+json": {
       "model_id": "ed1c414714004ae78862f8b405f2e08e",
       "version_major": 2,
       "version_minor": 0
      },
      "text/plain": [
       "  0%|          | 0/42 [00:00<?, ?it/s]"
      ]
     },
     "metadata": {},
     "output_type": "display_data"
    },
    {
     "data": {
      "application/vnd.jupyter.widget-view+json": {
       "model_id": "740fa7a3f51741d6bd2137594faeaa4c",
       "version_major": 2,
       "version_minor": 0
      },
      "text/plain": [
       "  0%|          | 0/42 [00:00<?, ?it/s]"
      ]
     },
     "metadata": {},
     "output_type": "display_data"
    },
    {
     "data": {
      "application/vnd.jupyter.widget-view+json": {
       "model_id": "1593f178a3aa4031832e297a5d9d7d22",
       "version_major": 2,
       "version_minor": 0
      },
      "text/plain": [
       "  0%|          | 0/42 [00:00<?, ?it/s]"
      ]
     },
     "metadata": {},
     "output_type": "display_data"
    },
    {
     "data": {
      "application/vnd.jupyter.widget-view+json": {
       "model_id": "031cecbd8817405faeb958fae6d458d3",
       "version_major": 2,
       "version_minor": 0
      },
      "text/plain": [
       "  0%|          | 0/42 [00:00<?, ?it/s]"
      ]
     },
     "metadata": {},
     "output_type": "display_data"
    },
    {
     "data": {
      "application/vnd.jupyter.widget-view+json": {
       "model_id": "4310d6e6c01b43b392a01f106c9d07fd",
       "version_major": 2,
       "version_minor": 0
      },
      "text/plain": [
       "  0%|          | 0/42 [00:00<?, ?it/s]"
      ]
     },
     "metadata": {},
     "output_type": "display_data"
    },
    {
     "data": {
      "application/vnd.jupyter.widget-view+json": {
       "model_id": "ee4f607202e34c379974dc57aee127d3",
       "version_major": 2,
       "version_minor": 0
      },
      "text/plain": [
       "  0%|          | 0/42 [00:00<?, ?it/s]"
      ]
     },
     "metadata": {},
     "output_type": "display_data"
    },
    {
     "data": {
      "application/vnd.jupyter.widget-view+json": {
       "model_id": "2e00b708c1e34d039c00ad67234f4519",
       "version_major": 2,
       "version_minor": 0
      },
      "text/plain": [
       "  0%|          | 0/42 [00:00<?, ?it/s]"
      ]
     },
     "metadata": {},
     "output_type": "display_data"
    },
    {
     "data": {
      "application/vnd.jupyter.widget-view+json": {
       "model_id": "6bad267359d54562849dc4c75d08f65a",
       "version_major": 2,
       "version_minor": 0
      },
      "text/plain": [
       "  0%|          | 0/42 [00:00<?, ?it/s]"
      ]
     },
     "metadata": {},
     "output_type": "display_data"
    },
    {
     "data": {
      "application/vnd.jupyter.widget-view+json": {
       "model_id": "9d6553e38a804856a1f0f05d2485ed3a",
       "version_major": 2,
       "version_minor": 0
      },
      "text/plain": [
       "  0%|          | 0/42 [00:00<?, ?it/s]"
      ]
     },
     "metadata": {},
     "output_type": "display_data"
    },
    {
     "data": {
      "application/vnd.jupyter.widget-view+json": {
       "model_id": "3a039b92258d4e62a1e2712268ac3494",
       "version_major": 2,
       "version_minor": 0
      },
      "text/plain": [
       "  0%|          | 0/42 [00:00<?, ?it/s]"
      ]
     },
     "metadata": {},
     "output_type": "display_data"
    },
    {
     "data": {
      "application/vnd.jupyter.widget-view+json": {
       "model_id": "890c88b2af564592aa51889684cc1ef5",
       "version_major": 2,
       "version_minor": 0
      },
      "text/plain": [
       "  0%|          | 0/42 [00:00<?, ?it/s]"
      ]
     },
     "metadata": {},
     "output_type": "display_data"
    },
    {
     "data": {
      "application/vnd.jupyter.widget-view+json": {
       "model_id": "6735ec3f0dbf4d9daa1787e29127db34",
       "version_major": 2,
       "version_minor": 0
      },
      "text/plain": [
       "  0%|          | 0/42 [00:00<?, ?it/s]"
      ]
     },
     "metadata": {},
     "output_type": "display_data"
    },
    {
     "data": {
      "application/vnd.jupyter.widget-view+json": {
       "model_id": "8930aed741e245d69927e9119ab2f55d",
       "version_major": 2,
       "version_minor": 0
      },
      "text/plain": [
       "  0%|          | 0/42 [00:00<?, ?it/s]"
      ]
     },
     "metadata": {},
     "output_type": "display_data"
    },
    {
     "data": {
      "application/vnd.jupyter.widget-view+json": {
       "model_id": "dacda363a8144fadbd4f2f590adbf93b",
       "version_major": 2,
       "version_minor": 0
      },
      "text/plain": [
       "  0%|          | 0/42 [00:00<?, ?it/s]"
      ]
     },
     "metadata": {},
     "output_type": "display_data"
    },
    {
     "data": {
      "application/vnd.jupyter.widget-view+json": {
       "model_id": "80251a7115af4ded82c0f2e399fd9aa6",
       "version_major": 2,
       "version_minor": 0
      },
      "text/plain": [
       "  0%|          | 0/42 [00:00<?, ?it/s]"
      ]
     },
     "metadata": {},
     "output_type": "display_data"
    },
    {
     "data": {
      "application/vnd.jupyter.widget-view+json": {
       "model_id": "2a7f03805641443d8d4f830dfacc559b",
       "version_major": 2,
       "version_minor": 0
      },
      "text/plain": [
       "  0%|          | 0/42 [00:00<?, ?it/s]"
      ]
     },
     "metadata": {},
     "output_type": "display_data"
    },
    {
     "data": {
      "application/vnd.jupyter.widget-view+json": {
       "model_id": "00754d8072984f538d177cd39d2b2015",
       "version_major": 2,
       "version_minor": 0
      },
      "text/plain": [
       "  0%|          | 0/42 [00:00<?, ?it/s]"
      ]
     },
     "metadata": {},
     "output_type": "display_data"
    },
    {
     "data": {
      "application/vnd.jupyter.widget-view+json": {
       "model_id": "552b991e8da64efbbe7b0c98ff0a1e55",
       "version_major": 2,
       "version_minor": 0
      },
      "text/plain": [
       "  0%|          | 0/42 [00:00<?, ?it/s]"
      ]
     },
     "metadata": {},
     "output_type": "display_data"
    },
    {
     "data": {
      "application/vnd.jupyter.widget-view+json": {
       "model_id": "3de0e0dd1dea4000a52f4a757eefb301",
       "version_major": 2,
       "version_minor": 0
      },
      "text/plain": [
       "  0%|          | 0/42 [00:00<?, ?it/s]"
      ]
     },
     "metadata": {},
     "output_type": "display_data"
    },
    {
     "data": {
      "application/vnd.jupyter.widget-view+json": {
       "model_id": "d20d1ac441f345d68b921c18815de522",
       "version_major": 2,
       "version_minor": 0
      },
      "text/plain": [
       "  0%|          | 0/42 [00:00<?, ?it/s]"
      ]
     },
     "metadata": {},
     "output_type": "display_data"
    },
    {
     "data": {
      "application/vnd.jupyter.widget-view+json": {
       "model_id": "35dc8c0eb80b4c92a95889d22ad782d8",
       "version_major": 2,
       "version_minor": 0
      },
      "text/plain": [
       "  0%|          | 0/42 [00:00<?, ?it/s]"
      ]
     },
     "metadata": {},
     "output_type": "display_data"
    },
    {
     "data": {
      "application/vnd.jupyter.widget-view+json": {
       "model_id": "7b27bd541dcc4e7b9acd958bbf87b03e",
       "version_major": 2,
       "version_minor": 0
      },
      "text/plain": [
       "  0%|          | 0/42 [00:00<?, ?it/s]"
      ]
     },
     "metadata": {},
     "output_type": "display_data"
    },
    {
     "data": {
      "application/vnd.jupyter.widget-view+json": {
       "model_id": "2fcf0c6b29ca43b7b842cc491df2b53b",
       "version_major": 2,
       "version_minor": 0
      },
      "text/plain": [
       "  0%|          | 0/42 [00:00<?, ?it/s]"
      ]
     },
     "metadata": {},
     "output_type": "display_data"
    },
    {
     "data": {
      "application/vnd.jupyter.widget-view+json": {
       "model_id": "57d3b67c263b4322bd56ce059671db57",
       "version_major": 2,
       "version_minor": 0
      },
      "text/plain": [
       "  0%|          | 0/42 [00:00<?, ?it/s]"
      ]
     },
     "metadata": {},
     "output_type": "display_data"
    },
    {
     "data": {
      "application/vnd.jupyter.widget-view+json": {
       "model_id": "4fc25247c2404368bb8fb91203416232",
       "version_major": 2,
       "version_minor": 0
      },
      "text/plain": [
       "  0%|          | 0/42 [00:00<?, ?it/s]"
      ]
     },
     "metadata": {},
     "output_type": "display_data"
    },
    {
     "data": {
      "application/vnd.jupyter.widget-view+json": {
       "model_id": "f39c349917254fdba3deea3c390ce7ce",
       "version_major": 2,
       "version_minor": 0
      },
      "text/plain": [
       "  0%|          | 0/42 [00:00<?, ?it/s]"
      ]
     },
     "metadata": {},
     "output_type": "display_data"
    },
    {
     "data": {
      "application/vnd.jupyter.widget-view+json": {
       "model_id": "41623e5f7b5746109196f79cc1dfc707",
       "version_major": 2,
       "version_minor": 0
      },
      "text/plain": [
       "  0%|          | 0/42 [00:00<?, ?it/s]"
      ]
     },
     "metadata": {},
     "output_type": "display_data"
    },
    {
     "data": {
      "application/vnd.jupyter.widget-view+json": {
       "model_id": "d4f67b5ae8cc49c4ac4509a60fe749f4",
       "version_major": 2,
       "version_minor": 0
      },
      "text/plain": [
       "  0%|          | 0/42 [00:00<?, ?it/s]"
      ]
     },
     "metadata": {},
     "output_type": "display_data"
    },
    {
     "data": {
      "application/vnd.jupyter.widget-view+json": {
       "model_id": "f99f4333bed8473c89cbefb005de4d59",
       "version_major": 2,
       "version_minor": 0
      },
      "text/plain": [
       "  0%|          | 0/42 [00:00<?, ?it/s]"
      ]
     },
     "metadata": {},
     "output_type": "display_data"
    },
    {
     "data": {
      "application/vnd.jupyter.widget-view+json": {
       "model_id": "35be7df811d842c896a86f876fc5b506",
       "version_major": 2,
       "version_minor": 0
      },
      "text/plain": [
       "  0%|          | 0/42 [00:00<?, ?it/s]"
      ]
     },
     "metadata": {},
     "output_type": "display_data"
    },
    {
     "data": {
      "application/vnd.jupyter.widget-view+json": {
       "model_id": "e2ab1f050d974cd7bf21f18611eaa3b5",
       "version_major": 2,
       "version_minor": 0
      },
      "text/plain": [
       "  0%|          | 0/42 [00:00<?, ?it/s]"
      ]
     },
     "metadata": {},
     "output_type": "display_data"
    },
    {
     "data": {
      "application/vnd.jupyter.widget-view+json": {
       "model_id": "a9685a6575f74a6db7545d44da9a2494",
       "version_major": 2,
       "version_minor": 0
      },
      "text/plain": [
       "  0%|          | 0/42 [00:00<?, ?it/s]"
      ]
     },
     "metadata": {},
     "output_type": "display_data"
    },
    {
     "data": {
      "application/vnd.jupyter.widget-view+json": {
       "model_id": "28780e93e70a4805a7df4d008f79c6df",
       "version_major": 2,
       "version_minor": 0
      },
      "text/plain": [
       "  0%|          | 0/42 [00:00<?, ?it/s]"
      ]
     },
     "metadata": {},
     "output_type": "display_data"
    },
    {
     "data": {
      "application/vnd.jupyter.widget-view+json": {
       "model_id": "10a3099cbd044eab94a4bade14b8ee22",
       "version_major": 2,
       "version_minor": 0
      },
      "text/plain": [
       "  0%|          | 0/42 [00:00<?, ?it/s]"
      ]
     },
     "metadata": {},
     "output_type": "display_data"
    },
    {
     "data": {
      "application/vnd.jupyter.widget-view+json": {
       "model_id": "7c761246145f4337989d3b41c562368a",
       "version_major": 2,
       "version_minor": 0
      },
      "text/plain": [
       "  0%|          | 0/42 [00:00<?, ?it/s]"
      ]
     },
     "metadata": {},
     "output_type": "display_data"
    },
    {
     "data": {
      "application/vnd.jupyter.widget-view+json": {
       "model_id": "72b0a168788342c2a80f3d04cf89c204",
       "version_major": 2,
       "version_minor": 0
      },
      "text/plain": [
       "  0%|          | 0/42 [00:00<?, ?it/s]"
      ]
     },
     "metadata": {},
     "output_type": "display_data"
    },
    {
     "data": {
      "application/vnd.jupyter.widget-view+json": {
       "model_id": "30ffe0ab776d4a6fbd2faaec573c2652",
       "version_major": 2,
       "version_minor": 0
      },
      "text/plain": [
       "  0%|          | 0/42 [00:00<?, ?it/s]"
      ]
     },
     "metadata": {},
     "output_type": "display_data"
    },
    {
     "data": {
      "application/vnd.jupyter.widget-view+json": {
       "model_id": "561b8fe48f394fd68e213f4a06019c09",
       "version_major": 2,
       "version_minor": 0
      },
      "text/plain": [
       "  0%|          | 0/42 [00:00<?, ?it/s]"
      ]
     },
     "metadata": {},
     "output_type": "display_data"
    },
    {
     "data": {
      "application/vnd.jupyter.widget-view+json": {
       "model_id": "d2de6c9881334f3dab8590ec9a4db2c8",
       "version_major": 2,
       "version_minor": 0
      },
      "text/plain": [
       "  0%|          | 0/42 [00:00<?, ?it/s]"
      ]
     },
     "metadata": {},
     "output_type": "display_data"
    },
    {
     "data": {
      "application/vnd.jupyter.widget-view+json": {
       "model_id": "f83ae03ef31f4bb9ae4629df712bf97e",
       "version_major": 2,
       "version_minor": 0
      },
      "text/plain": [
       "  0%|          | 0/42 [00:00<?, ?it/s]"
      ]
     },
     "metadata": {},
     "output_type": "display_data"
    },
    {
     "data": {
      "application/vnd.jupyter.widget-view+json": {
       "model_id": "cebf97ef787a4d62b9cf91bfe31c0901",
       "version_major": 2,
       "version_minor": 0
      },
      "text/plain": [
       "  0%|          | 0/42 [00:00<?, ?it/s]"
      ]
     },
     "metadata": {},
     "output_type": "display_data"
    },
    {
     "data": {
      "application/vnd.jupyter.widget-view+json": {
       "model_id": "55ade583db9244dbb2783f89be0d6e8c",
       "version_major": 2,
       "version_minor": 0
      },
      "text/plain": [
       "  0%|          | 0/42 [00:00<?, ?it/s]"
      ]
     },
     "metadata": {},
     "output_type": "display_data"
    },
    {
     "data": {
      "application/vnd.jupyter.widget-view+json": {
       "model_id": "cb048fc1deb94b3ba3953a479b9b28ba",
       "version_major": 2,
       "version_minor": 0
      },
      "text/plain": [
       "  0%|          | 0/42 [00:00<?, ?it/s]"
      ]
     },
     "metadata": {},
     "output_type": "display_data"
    },
    {
     "data": {
      "application/vnd.jupyter.widget-view+json": {
       "model_id": "7f9f0b7f09e5473da9ada6508f153c57",
       "version_major": 2,
       "version_minor": 0
      },
      "text/plain": [
       "  0%|          | 0/42 [00:00<?, ?it/s]"
      ]
     },
     "metadata": {},
     "output_type": "display_data"
    },
    {
     "data": {
      "application/vnd.jupyter.widget-view+json": {
       "model_id": "d55f2eba21b64c85b0a0a75b598c9d10",
       "version_major": 2,
       "version_minor": 0
      },
      "text/plain": [
       "  0%|          | 0/42 [00:00<?, ?it/s]"
      ]
     },
     "metadata": {},
     "output_type": "display_data"
    },
    {
     "data": {
      "application/vnd.jupyter.widget-view+json": {
       "model_id": "ea04df19da7544ee8df661045612ee0a",
       "version_major": 2,
       "version_minor": 0
      },
      "text/plain": [
       "  0%|          | 0/42 [00:00<?, ?it/s]"
      ]
     },
     "metadata": {},
     "output_type": "display_data"
    },
    {
     "data": {
      "application/vnd.jupyter.widget-view+json": {
       "model_id": "7ef16042b98f4893aad156bc3b37a777",
       "version_major": 2,
       "version_minor": 0
      },
      "text/plain": [
       "  0%|          | 0/42 [00:00<?, ?it/s]"
      ]
     },
     "metadata": {},
     "output_type": "display_data"
    },
    {
     "data": {
      "application/vnd.jupyter.widget-view+json": {
       "model_id": "0caff9aa4940446b8dabb428bb298098",
       "version_major": 2,
       "version_minor": 0
      },
      "text/plain": [
       "  0%|          | 0/42 [00:00<?, ?it/s]"
      ]
     },
     "metadata": {},
     "output_type": "display_data"
    },
    {
     "data": {
      "application/vnd.jupyter.widget-view+json": {
       "model_id": "ad282b5287924d2897752294fbdc9be2",
       "version_major": 2,
       "version_minor": 0
      },
      "text/plain": [
       "  0%|          | 0/42 [00:00<?, ?it/s]"
      ]
     },
     "metadata": {},
     "output_type": "display_data"
    },
    {
     "data": {
      "application/vnd.jupyter.widget-view+json": {
       "model_id": "27c7f7e8ec5e4153a7b1ba56c66f2c51",
       "version_major": 2,
       "version_minor": 0
      },
      "text/plain": [
       "  0%|          | 0/42 [00:00<?, ?it/s]"
      ]
     },
     "metadata": {},
     "output_type": "display_data"
    },
    {
     "data": {
      "application/vnd.jupyter.widget-view+json": {
       "model_id": "cbc908ea8a53466a861b0cec7ee8116c",
       "version_major": 2,
       "version_minor": 0
      },
      "text/plain": [
       "  0%|          | 0/42 [00:00<?, ?it/s]"
      ]
     },
     "metadata": {},
     "output_type": "display_data"
    },
    {
     "data": {
      "application/vnd.jupyter.widget-view+json": {
       "model_id": "772b1968c0734dc59490cadd06fa654d",
       "version_major": 2,
       "version_minor": 0
      },
      "text/plain": [
       "  0%|          | 0/42 [00:00<?, ?it/s]"
      ]
     },
     "metadata": {},
     "output_type": "display_data"
    },
    {
     "data": {
      "application/vnd.jupyter.widget-view+json": {
       "model_id": "2dd6f1f2df2e418fbf02626616234ab2",
       "version_major": 2,
       "version_minor": 0
      },
      "text/plain": [
       "  0%|          | 0/42 [00:00<?, ?it/s]"
      ]
     },
     "metadata": {},
     "output_type": "display_data"
    },
    {
     "data": {
      "application/vnd.jupyter.widget-view+json": {
       "model_id": "44e856932fcd48ecae80785545f9852a",
       "version_major": 2,
       "version_minor": 0
      },
      "text/plain": [
       "  0%|          | 0/42 [00:00<?, ?it/s]"
      ]
     },
     "metadata": {},
     "output_type": "display_data"
    },
    {
     "data": {
      "application/vnd.jupyter.widget-view+json": {
       "model_id": "89e5adf67ea24c10b5c9ab347f3866da",
       "version_major": 2,
       "version_minor": 0
      },
      "text/plain": [
       "  0%|          | 0/42 [00:00<?, ?it/s]"
      ]
     },
     "metadata": {},
     "output_type": "display_data"
    },
    {
     "data": {
      "application/vnd.jupyter.widget-view+json": {
       "model_id": "eb897dac3359448b8e237abfbab481a6",
       "version_major": 2,
       "version_minor": 0
      },
      "text/plain": [
       "  0%|          | 0/42 [00:00<?, ?it/s]"
      ]
     },
     "metadata": {},
     "output_type": "display_data"
    },
    {
     "data": {
      "application/vnd.jupyter.widget-view+json": {
       "model_id": "2dd8902c515a4e29b748e4cb6b993fa2",
       "version_major": 2,
       "version_minor": 0
      },
      "text/plain": [
       "  0%|          | 0/42 [00:00<?, ?it/s]"
      ]
     },
     "metadata": {},
     "output_type": "display_data"
    },
    {
     "data": {
      "application/vnd.jupyter.widget-view+json": {
       "model_id": "5a338c54effb4284ad6ac2cad34c9e7c",
       "version_major": 2,
       "version_minor": 0
      },
      "text/plain": [
       "  0%|          | 0/42 [00:00<?, ?it/s]"
      ]
     },
     "metadata": {},
     "output_type": "display_data"
    },
    {
     "data": {
      "application/vnd.jupyter.widget-view+json": {
       "model_id": "39518670e241456fb95860a63d4e515a",
       "version_major": 2,
       "version_minor": 0
      },
      "text/plain": [
       "  0%|          | 0/42 [00:00<?, ?it/s]"
      ]
     },
     "metadata": {},
     "output_type": "display_data"
    },
    {
     "data": {
      "application/vnd.jupyter.widget-view+json": {
       "model_id": "fe50390912034360b43d37d33575ecbe",
       "version_major": 2,
       "version_minor": 0
      },
      "text/plain": [
       "  0%|          | 0/42 [00:00<?, ?it/s]"
      ]
     },
     "metadata": {},
     "output_type": "display_data"
    },
    {
     "data": {
      "application/vnd.jupyter.widget-view+json": {
       "model_id": "622dec3931c34548b0e35c8a47325da8",
       "version_major": 2,
       "version_minor": 0
      },
      "text/plain": [
       "  0%|          | 0/42 [00:00<?, ?it/s]"
      ]
     },
     "metadata": {},
     "output_type": "display_data"
    },
    {
     "data": {
      "application/vnd.jupyter.widget-view+json": {
       "model_id": "60b3008d51384e07a94adcc35da6ab0b",
       "version_major": 2,
       "version_minor": 0
      },
      "text/plain": [
       "  0%|          | 0/42 [00:00<?, ?it/s]"
      ]
     },
     "metadata": {},
     "output_type": "display_data"
    },
    {
     "data": {
      "application/vnd.jupyter.widget-view+json": {
       "model_id": "dfb109e71d8b4655a997a3df875ab1d7",
       "version_major": 2,
       "version_minor": 0
      },
      "text/plain": [
       "  0%|          | 0/42 [00:00<?, ?it/s]"
      ]
     },
     "metadata": {},
     "output_type": "display_data"
    },
    {
     "data": {
      "application/vnd.jupyter.widget-view+json": {
       "model_id": "27844f0aab8249d69f8988e24997787e",
       "version_major": 2,
       "version_minor": 0
      },
      "text/plain": [
       "  0%|          | 0/42 [00:00<?, ?it/s]"
      ]
     },
     "metadata": {},
     "output_type": "display_data"
    },
    {
     "data": {
      "application/vnd.jupyter.widget-view+json": {
       "model_id": "43826d9d7b8e46b0b9e0d549bd952bfa",
       "version_major": 2,
       "version_minor": 0
      },
      "text/plain": [
       "  0%|          | 0/42 [00:00<?, ?it/s]"
      ]
     },
     "metadata": {},
     "output_type": "display_data"
    },
    {
     "data": {
      "application/vnd.jupyter.widget-view+json": {
       "model_id": "618907192e4f4e9cabae67bc1561387b",
       "version_major": 2,
       "version_minor": 0
      },
      "text/plain": [
       "  0%|          | 0/42 [00:00<?, ?it/s]"
      ]
     },
     "metadata": {},
     "output_type": "display_data"
    },
    {
     "data": {
      "application/vnd.jupyter.widget-view+json": {
       "model_id": "ac1ab9facfa940a8b7679b5671fb6054",
       "version_major": 2,
       "version_minor": 0
      },
      "text/plain": [
       "  0%|          | 0/42 [00:00<?, ?it/s]"
      ]
     },
     "metadata": {},
     "output_type": "display_data"
    },
    {
     "data": {
      "application/vnd.jupyter.widget-view+json": {
       "model_id": "1862e327134d4b44996e137043d598f0",
       "version_major": 2,
       "version_minor": 0
      },
      "text/plain": [
       "  0%|          | 0/42 [00:00<?, ?it/s]"
      ]
     },
     "metadata": {},
     "output_type": "display_data"
    },
    {
     "data": {
      "application/vnd.jupyter.widget-view+json": {
       "model_id": "86067645b8ca419089293874c03348a7",
       "version_major": 2,
       "version_minor": 0
      },
      "text/plain": [
       "  0%|          | 0/42 [00:00<?, ?it/s]"
      ]
     },
     "metadata": {},
     "output_type": "display_data"
    },
    {
     "data": {
      "application/vnd.jupyter.widget-view+json": {
       "model_id": "c663c7949ada4e1ea40fc297519d78a9",
       "version_major": 2,
       "version_minor": 0
      },
      "text/plain": [
       "  0%|          | 0/42 [00:00<?, ?it/s]"
      ]
     },
     "metadata": {},
     "output_type": "display_data"
    },
    {
     "data": {
      "application/vnd.jupyter.widget-view+json": {
       "model_id": "2466eb9b44e0428f8eea15e72b5b12a1",
       "version_major": 2,
       "version_minor": 0
      },
      "text/plain": [
       "  0%|          | 0/42 [00:00<?, ?it/s]"
      ]
     },
     "metadata": {},
     "output_type": "display_data"
    },
    {
     "data": {
      "application/vnd.jupyter.widget-view+json": {
       "model_id": "2da2dca299774d27940c014f5d83b36a",
       "version_major": 2,
       "version_minor": 0
      },
      "text/plain": [
       "  0%|          | 0/42 [00:00<?, ?it/s]"
      ]
     },
     "metadata": {},
     "output_type": "display_data"
    },
    {
     "data": {
      "application/vnd.jupyter.widget-view+json": {
       "model_id": "46941b156a424918bfd6396995a3fd54",
       "version_major": 2,
       "version_minor": 0
      },
      "text/plain": [
       "  0%|          | 0/42 [00:00<?, ?it/s]"
      ]
     },
     "metadata": {},
     "output_type": "display_data"
    },
    {
     "data": {
      "application/vnd.jupyter.widget-view+json": {
       "model_id": "f182198ee91b45d88078f34c3027e6ad",
       "version_major": 2,
       "version_minor": 0
      },
      "text/plain": [
       "  0%|          | 0/42 [00:00<?, ?it/s]"
      ]
     },
     "metadata": {},
     "output_type": "display_data"
    },
    {
     "data": {
      "application/vnd.jupyter.widget-view+json": {
       "model_id": "96ca2b9646794a64acc5bca510160eb3",
       "version_major": 2,
       "version_minor": 0
      },
      "text/plain": [
       "  0%|          | 0/42 [00:00<?, ?it/s]"
      ]
     },
     "metadata": {},
     "output_type": "display_data"
    },
    {
     "data": {
      "application/vnd.jupyter.widget-view+json": {
       "model_id": "8b99c8639e9145dea9bbb6163207b0a2",
       "version_major": 2,
       "version_minor": 0
      },
      "text/plain": [
       "  0%|          | 0/42 [00:00<?, ?it/s]"
      ]
     },
     "metadata": {},
     "output_type": "display_data"
    },
    {
     "data": {
      "application/vnd.jupyter.widget-view+json": {
       "model_id": "a35299c99e0545a7897d895a2334c1ec",
       "version_major": 2,
       "version_minor": 0
      },
      "text/plain": [
       "  0%|          | 0/42 [00:00<?, ?it/s]"
      ]
     },
     "metadata": {},
     "output_type": "display_data"
    }
   ],
   "source": [
    "for tiles, fecha in zip(tiled_images, fechas_con_imagen):\n",
    "    labels = [] # Store predictions\n",
    "\n",
    "# iteración sobre tiles\n",
    "    tif_file = f'temp/aoi{fecha}.tif' \n",
    "    for index in tqdm(range(len(tiles)), total=len(tiles)):\n",
    "        label = predict_crop(tif_file, [tiles.iloc[index]['geometry']], classes, model)\n",
    "        labels.append(label)\n",
    "\n",
    "    tiles['pred'] = labels\n",
    "# Cleanup temporary files\n",
    "\n",
    "# Save predictions\n",
    "    filepath = f\"{fecha}_preds.geojson\"\n",
    "    tiles.to_file(filepath, driver=\"GeoJSON\")"
   ]
  },
  {
   "cell_type": "markdown",
   "id": "be268072-5bbf-4d0f-9f23-58ae4465cb22",
   "metadata": {},
   "source": [
    "### Se calcula el area total de cada imágen, es decir, de cada fecha."
   ]
  },
  {
   "cell_type": "code",
   "execution_count": 162,
   "id": "fa519659-3405-4f12-9317-e77f17c73106",
   "metadata": {
    "scrolled": true
   },
   "outputs": [
    {
     "data": {
      "text/html": [
       "\n",
       "            <style>\n",
       "                .geemap-dark {\n",
       "                    --jp-widgets-color: white;\n",
       "                    --jp-widgets-label-color: white;\n",
       "                    --jp-ui-font-color1: white;\n",
       "                    --jp-layout-color2: #454545;\n",
       "                    background-color: #383838;\n",
       "                }\n",
       "\n",
       "                .geemap-dark .jupyter-button {\n",
       "                    --jp-layout-color3: #383838;\n",
       "                }\n",
       "\n",
       "                .geemap-colab {\n",
       "                    background-color: var(--colab-primary-surface-color, white);\n",
       "                }\n",
       "\n",
       "                .geemap-colab .jupyter-button {\n",
       "                    --jp-layout-color3: var(--colab-primary-surface-color, white);\n",
       "                }\n",
       "            </style>\n",
       "            "
      ],
      "text/plain": [
       "<IPython.core.display.HTML object>"
      ]
     },
     "metadata": {},
     "output_type": "display_data"
    },
    {
     "data": {
      "application/vnd.jupyter.widget-view+json": {
       "model_id": "4911ca38d61148bd8d7b03cd3cd9473e",
       "version_major": 2,
       "version_minor": 0
      },
      "text/plain": [
       "  0%|          | 0/100 [00:00<?, ?it/s]"
      ]
     },
     "metadata": {},
     "output_type": "display_data"
    },
    {
     "name": "stdout",
     "output_type": "stream",
     "text": [
      "2014-1-01 : 368640\n",
      "2014-2-01 : 368640\n",
      "2014-4-01 : 122880\n",
      "2014-6-01 : 0\n",
      "2014-8-01 : 122880\n",
      "2014-10-01 : 368640\n",
      "2014-11-01 : 122880\n",
      "2015-1-01 : 245760\n",
      "2015-2-01 : 245760\n",
      "2015-3-01 : 122880\n",
      "2015-4-01 : 0\n",
      "2015-5-01 : 0\n",
      "2015-7-01 : 0\n",
      "2015-10-01 : 0\n",
      "2015-11-01 : 122880\n",
      "2015-12-01 : 491520\n",
      "2016-1-01 : 368640\n",
      "2016-3-01 : 122880\n",
      "2016-4-01 : 122880\n",
      "2016-5-01 : 0\n",
      "2016-6-01 : 0\n",
      "2016-8-01 : 122880\n",
      "2016-9-01 : 245760\n",
      "2016-10-01 : 614400\n",
      "2016-11-01 : 245760\n",
      "2017-1-01 : 245760\n",
      "2017-2-01 : 368640\n",
      "2017-3-01 : 122880\n",
      "2017-6-01 : 0\n",
      "2017-7-01 : 0\n",
      "2017-8-01 : 0\n",
      "2017-11-01 : 122880\n",
      "2017-12-01 : 368640\n",
      "2018-1-01 : 368640\n",
      "2018-2-01 : 245760\n",
      "2018-3-01 : 368640\n",
      "2018-4-01 : 368640\n",
      "2018-5-01 : 368640\n",
      "2018-6-01 : 0\n",
      "2018-7-01 : 0\n",
      "2018-8-01 : 122880\n",
      "2018-9-01 : 245760\n",
      "2018-10-01 : 122880\n",
      "2018-11-01 : 122880\n",
      "2018-12-01 : 368640\n",
      "2019-1-01 : 614400\n",
      "2019-2-01 : 737280\n",
      "2019-3-01 : 368640\n",
      "2019-5-01 : 245760\n",
      "2019-6-01 : 245760\n",
      "2019-8-01 : 0\n",
      "2019-9-01 : 245760\n",
      "2019-10-01 : 368640\n",
      "2019-11-01 : 737280\n",
      "2019-12-01 : 983040\n",
      "2020-1-01 : 860160\n",
      "2020-2-01 : 983040\n",
      "2020-3-01 : 614400\n",
      "2020-4-01 : 491520\n",
      "2020-5-01 : 245760\n",
      "2020-7-01 : 0\n",
      "2020-8-01 : 0\n",
      "2020-9-01 : 491520\n",
      "2020-10-01 : 614400\n",
      "2020-11-01 : 368640\n",
      "2020-12-01 : 614400\n",
      "2021-1-01 : 737280\n",
      "2021-3-01 : 491520\n",
      "2021-6-01 : 491520\n",
      "2021-7-01 : 122880\n",
      "2021-8-01 : 245760\n",
      "2021-9-01 : 122880\n",
      "2021-10-01 : 368640\n",
      "2021-11-01 : 983040\n",
      "2021-12-01 : 1105920\n",
      "2022-1-01 : 1105920\n",
      "2022-2-01 : 983040\n",
      "2022-3-01 : 860160\n",
      "2022-4-01 : 983040\n",
      "2022-6-01 : 245760\n",
      "2022-7-01 : 122880\n",
      "2022-8-01 : 122880\n",
      "2022-9-01 : 0\n",
      "2022-10-01 : 614400\n",
      "2022-11-01 : 860160\n",
      "2022-12-01 : 983040\n",
      "2023-1-01 : 983040\n",
      "2023-2-01 : 860160\n",
      "2023-3-01 : 737280\n",
      "2023-4-01 : 737280\n",
      "2023-6-01 : 122880\n",
      "2023-7-01 : 0\n",
      "2023-8-01 : 245760\n",
      "2023-9-01 : 0\n",
      "2023-10-01 : 368640\n",
      "2023-12-01 : 491520\n",
      "2024-1-01 : 368640\n",
      "2024-2-01 : 491520\n",
      "2024-3-01 : 614400\n",
      "2024-4-01 : 491520\n"
     ]
    }
   ],
   "source": [
    "areas_crop = []\n",
    "for tiles, fecha in tqdm(zip(tiled_images, fechas_con_imagen), total=len(tiled_images)):\n",
    "    #calcular área de   'AnnualCrop' y 'PermanentCrop' \n",
    "    bools = tiles.pred.map(lambda x: x == \"AnnualCrop\" or x == \"PermanentCrop\")\n",
    "    tiles = tiles[bools]\n",
    "    area = len(tiles)*(64**2)*30\n",
    "    areas_crop.append(area)\n",
    "    print(fecha,\":\",area)#64 pixeles cada bloque, cada pixel son 30m\n"
   ]
  },
  {
   "cell_type": "markdown",
   "id": "3bb74f5a-489c-44d2-b902-c584fd1e5bad",
   "metadata": {},
   "source": [
    "### Se calcula el área total de crops, considerando ambos tipos de crop"
   ]
  },
  {
   "cell_type": "code",
   "execution_count": 178,
   "id": "b107a0ca-c8ad-4f3f-9be1-c991e6138838",
   "metadata": {},
   "outputs": [
    {
     "data": {
      "text/html": [
       "\n",
       "            <style>\n",
       "                .geemap-dark {\n",
       "                    --jp-widgets-color: white;\n",
       "                    --jp-widgets-label-color: white;\n",
       "                    --jp-ui-font-color1: white;\n",
       "                    --jp-layout-color2: #454545;\n",
       "                    background-color: #383838;\n",
       "                }\n",
       "\n",
       "                .geemap-dark .jupyter-button {\n",
       "                    --jp-layout-color3: #383838;\n",
       "                }\n",
       "\n",
       "                .geemap-colab {\n",
       "                    background-color: var(--colab-primary-surface-color, white);\n",
       "                }\n",
       "\n",
       "                .geemap-colab .jupyter-button {\n",
       "                    --jp-layout-color3: var(--colab-primary-surface-color, white);\n",
       "                }\n",
       "            </style>\n",
       "            "
      ],
      "text/plain": [
       "<IPython.core.display.HTML object>"
      ]
     },
     "metadata": {},
     "output_type": "display_data"
    },
    {
     "data": {
      "text/plain": [
       "año\n",
       "2020.0    525032.727273\n",
       "2021.0    382293.333333\n",
       "2022.0    614400.000000\n",
       "2023.0    577536.000000\n",
       "2024.0    614400.000000\n",
       "Name: area, dtype: float64"
      ]
     },
     "execution_count": 178,
     "metadata": {},
     "output_type": "execute_result"
    }
   ],
   "source": [
    "df_crop = pd.DataFrame()\n",
    "df_crop[\"area\"] = areas_crop\n",
    "df_crop[\"fecha\"] = fechas_con_imagen\n",
    "df_crop[\"año\"] = df[\"fecha\"].map(lambda x : x.year)\n",
    "df_crop_a = df_crop.groupby(by=\"año\")[\"area\"].mean()\n"
   ]
  },
  {
   "cell_type": "code",
   "execution_count": 164,
   "id": "2a75d03d-fd43-4254-900d-61825179e922",
   "metadata": {},
   "outputs": [
    {
     "data": {
      "text/html": [
       "\n",
       "            <style>\n",
       "                .geemap-dark {\n",
       "                    --jp-widgets-color: white;\n",
       "                    --jp-widgets-label-color: white;\n",
       "                    --jp-ui-font-color1: white;\n",
       "                    --jp-layout-color2: #454545;\n",
       "                    background-color: #383838;\n",
       "                }\n",
       "\n",
       "                .geemap-dark .jupyter-button {\n",
       "                    --jp-layout-color3: #383838;\n",
       "                }\n",
       "\n",
       "                .geemap-colab {\n",
       "                    background-color: var(--colab-primary-surface-color, white);\n",
       "                }\n",
       "\n",
       "                .geemap-colab .jupyter-button {\n",
       "                    --jp-layout-color3: var(--colab-primary-surface-color, white);\n",
       "                }\n",
       "            </style>\n",
       "            "
      ],
      "text/plain": [
       "<IPython.core.display.HTML object>"
      ]
     },
     "metadata": {},
     "output_type": "display_data"
    },
    {
     "data": {
      "text/plain": [
       "<Axes: xlabel='año', ylabel='area'>"
      ]
     },
     "execution_count": 164,
     "metadata": {},
     "output_type": "execute_result"
    },
    {
     "data": {
      "image/png": "[encoded data removed]",
      "text/plain": [
       "<Figure size 640x480 with 1 Axes>"
      ]
     },
     "metadata": {},
     "output_type": "display_data"
    }
   ],
   "source": [
    "sns.lineplot(df_crop_a)"
   ]
  },
  {
   "cell_type": "markdown",
   "id": "4f8dfae7-be3f-436e-90f5-3fd02cefff5d",
   "metadata": {},
   "source": [
    "fig. 3 Área obtenida de crop a lo largo del tiempo"
   ]
  },
  {
   "cell_type": "markdown",
   "id": "9c41597f-ad51-4172-be67-2664c5b8e47e",
   "metadata": {},
   "source": [
    "### Comprobamos como se categorizó los tiles"
   ]
  },
  {
   "cell_type": "code",
   "execution_count": 165,
   "id": "a24b5342-0a80-4070-aa4a-afa05c7d3be4",
   "metadata": {},
   "outputs": [
    {
     "data": {
      "text/html": [
       "\n",
       "            <style>\n",
       "                .geemap-dark {\n",
       "                    --jp-widgets-color: white;\n",
       "                    --jp-widgets-label-color: white;\n",
       "                    --jp-ui-font-color1: white;\n",
       "                    --jp-layout-color2: #454545;\n",
       "                    background-color: #383838;\n",
       "                }\n",
       "\n",
       "                .geemap-dark .jupyter-button {\n",
       "                    --jp-layout-color3: #383838;\n",
       "                }\n",
       "\n",
       "                .geemap-colab {\n",
       "                    background-color: var(--colab-primary-surface-color, white);\n",
       "                }\n",
       "\n",
       "                .geemap-colab .jupyter-button {\n",
       "                    --jp-layout-color3: var(--colab-primary-surface-color, white);\n",
       "                }\n",
       "            </style>\n",
       "            "
      ],
      "text/plain": [
       "<IPython.core.display.HTML object>"
      ]
     },
     "metadata": {},
     "output_type": "display_data"
    },
    {
     "data": {
      "text/html": [
       "<div style=\"width:100%;\"><div style=\"position:relative;width:100%;height:0;padding-bottom:60%;\"><span style=\"color:#565656\">Make this Notebook Trusted to load map: File -> Trust Notebook</span><iframe srcdoc=\"&lt;!DOCTYPE html&gt;\n",
       "&lt;html&gt;\n",
       "&lt;head&gt;\n",
       "    \n",
       "    &lt;meta http-equiv=&quot;content-type&quot; content=&quot;text/html; charset=UTF-8&quot; /&gt;\n",
       "    \n",
       "        &lt;script&gt;\n",
       "            L_NO_TOUCH = false;\n",
       "            L_DISABLE_3D = false;\n",
       "        &lt;/script&gt;\n",
       "    \n",
       "    &lt;style&gt;html, body {width: 100%;height: 100%;margin: 0;padding: 0;}&lt;/style&gt;\n",
       "    &lt;style&gt;#map {position:absolute;top:0;bottom:0;right:0;left:0;}&lt;/style&gt;\n",
       "    &lt;script src=&quot;https://cdn.jsdelivr.net/npm/leaflet@1.9.3/dist/leaflet.js&quot;&gt;&lt;/script&gt;\n",
       "    &lt;script src=&quot;https://code.jquery.com/jquery-3.7.1.min.js&quot;&gt;&lt;/script&gt;\n",
       "    &lt;script src=&quot;https://cdn.jsdelivr.net/npm/bootstrap@5.2.2/dist/js/bootstrap.bundle.min.js&quot;&gt;&lt;/script&gt;\n",
       "    &lt;script src=&quot;https://cdnjs.cloudflare.com/ajax/libs/Leaflet.awesome-markers/2.0.2/leaflet.awesome-markers.js&quot;&gt;&lt;/script&gt;\n",
       "    &lt;link rel=&quot;stylesheet&quot; href=&quot;https://cdn.jsdelivr.net/npm/leaflet@1.9.3/dist/leaflet.css&quot;/&gt;\n",
       "    &lt;link rel=&quot;stylesheet&quot; href=&quot;https://cdn.jsdelivr.net/npm/bootstrap@5.2.2/dist/css/bootstrap.min.css&quot;/&gt;\n",
       "    &lt;link rel=&quot;stylesheet&quot; href=&quot;https://netdna.bootstrapcdn.com/bootstrap/3.0.0/css/bootstrap-glyphicons.css&quot;/&gt;\n",
       "    &lt;link rel=&quot;stylesheet&quot; href=&quot;https://cdn.jsdelivr.net/npm/@fortawesome/fontawesome-free@6.2.0/css/all.min.css&quot;/&gt;\n",
       "    &lt;link rel=&quot;stylesheet&quot; href=&quot;https://cdnjs.cloudflare.com/ajax/libs/Leaflet.awesome-markers/2.0.2/leaflet.awesome-markers.css&quot;/&gt;\n",
       "    &lt;link rel=&quot;stylesheet&quot; href=&quot;https://cdn.jsdelivr.net/gh/python-visualization/folium/folium/templates/leaflet.awesome.rotate.min.css&quot;/&gt;\n",
       "    \n",
       "            &lt;meta name=&quot;viewport&quot; content=&quot;width=device-width,\n",
       "                initial-scale=1.0, maximum-scale=1.0, user-scalable=no&quot; /&gt;\n",
       "            &lt;style&gt;\n",
       "                #map_d4c16a98c4e86900daa80a43858e448c {\n",
       "                    position: relative;\n",
       "                    width: 100.0%;\n",
       "                    height: 100.0%;\n",
       "                    left: 0.0%;\n",
       "                    top: 0.0%;\n",
       "                }\n",
       "                .leaflet-container { font-size: 1rem; }\n",
       "            &lt;/style&gt;\n",
       "        \n",
       "&lt;/head&gt;\n",
       "&lt;body&gt;\n",
       "    \n",
       "    \n",
       "            &lt;div class=&quot;folium-map&quot; id=&quot;map_d4c16a98c4e86900daa80a43858e448c&quot; &gt;&lt;/div&gt;\n",
       "        \n",
       "&lt;/body&gt;\n",
       "&lt;script&gt;\n",
       "    \n",
       "    \n",
       "            var map_d4c16a98c4e86900daa80a43858e448c = L.map(\n",
       "                &quot;map_d4c16a98c4e86900daa80a43858e448c&quot;,\n",
       "                {\n",
       "                    center: [-33.84565081436696, -70.91725911612781],\n",
       "                    crs: L.CRS.EPSG3857,\n",
       "                    zoom: 13,\n",
       "                    zoomControl: true,\n",
       "                    preferCanvas: false,\n",
       "                }\n",
       "            );\n",
       "\n",
       "            \n",
       "\n",
       "        \n",
       "    \n",
       "            var tile_layer_0270a974c8ce131c3f7b797b4d832bdf = L.tileLayer(\n",
       "                &quot;https://tile.openstreetmap.org/{z}/{x}/{y}.png&quot;,\n",
       "                {&quot;attribution&quot;: &quot;\\u0026copy; \\u003ca href=\\&quot;https://www.openstreetmap.org/copyright\\&quot;\\u003eOpenStreetMap\\u003c/a\\u003e contributors&quot;, &quot;detectRetina&quot;: false, &quot;maxNativeZoom&quot;: 19, &quot;maxZoom&quot;: 19, &quot;minZoom&quot;: 0, &quot;noWrap&quot;: false, &quot;opacity&quot;: 1, &quot;subdomains&quot;: &quot;abc&quot;, &quot;tms&quot;: false}\n",
       "            );\n",
       "        \n",
       "    \n",
       "            tile_layer_0270a974c8ce131c3f7b797b4d832bdf.addTo(map_d4c16a98c4e86900daa80a43858e448c);\n",
       "        \n",
       "    \n",
       "            var tile_layer_eaf3b615ec2f2d521bfdb0f008a391d7 = L.tileLayer(\n",
       "                &quot;https://mt1.google.com/vt/lyrs=s\\u0026x={x}\\u0026y={y}\\u0026z={z}&quot;,\n",
       "                {&quot;attribution&quot;: &quot;Google&quot;, &quot;detectRetina&quot;: false, &quot;maxZoom&quot;: 18, &quot;minZoom&quot;: 0, &quot;noWrap&quot;: false, &quot;opacity&quot;: 1, &quot;subdomains&quot;: &quot;abc&quot;, &quot;tms&quot;: false}\n",
       "            );\n",
       "        \n",
       "    \n",
       "            tile_layer_eaf3b615ec2f2d521bfdb0f008a391d7.addTo(map_d4c16a98c4e86900daa80a43858e448c);\n",
       "        \n",
       "    \n",
       "            var feature_group_f5adb1ebe15fa26a9207e162197f911a = L.featureGroup(\n",
       "                {}\n",
       "            );\n",
       "        \n",
       "    \n",
       "        function geo_json_9c15a62682272ef65491f7754776597e_styler(feature) {\n",
       "            switch(feature.id) {\n",
       "                default:\n",
       "                    return {&quot;color&quot;: &quot;black&quot;, &quot;fillColor&quot;: &quot;#90ee90&quot;, &quot;fillOpacity&quot;: 0.5, &quot;weight&quot;: 1};\n",
       "            }\n",
       "        }\n",
       "\n",
       "        function geo_json_9c15a62682272ef65491f7754776597e_onEachFeature(feature, layer) {\n",
       "            layer.on({\n",
       "            });\n",
       "        };\n",
       "        var geo_json_9c15a62682272ef65491f7754776597e = L.geoJson(null, {\n",
       "                onEachFeature: geo_json_9c15a62682272ef65491f7754776597e_onEachFeature,\n",
       "            \n",
       "                style: geo_json_9c15a62682272ef65491f7754776597e_styler,\n",
       "        });\n",
       "\n",
       "        function geo_json_9c15a62682272ef65491f7754776597e_add (data) {\n",
       "            geo_json_9c15a62682272ef65491f7754776597e\n",
       "                .addData(data);\n",
       "        }\n",
       "            geo_json_9c15a62682272ef65491f7754776597e_add({&quot;bbox&quot;: [-70.95388187382247, -33.852292829816875, -70.8503959530919, -33.81779752290669], &quot;features&quot;: [{&quot;bbox&quot;: [-70.95388187382247, -33.83504517636178, -70.93663422036738, -33.81779752290669], &quot;geometry&quot;: {&quot;coordinates&quot;: [[[-70.93663422036738, -33.83504517636178], [-70.93663422036738, -33.81779752290669], [-70.95388187382247, -33.81779752290669], [-70.95388187382247, -33.83504517636178], [-70.93663422036738, -33.83504517636178]]], &quot;type&quot;: &quot;Polygon&quot;}, &quot;id&quot;: &quot;8&quot;, &quot;properties&quot;: {&quot;color&quot;: &quot;#90ee90&quot;, &quot;id&quot;: &quot;lagunaaculeo-8&quot;, &quot;pred&quot;: &quot;AnnualCrop&quot;}, &quot;type&quot;: &quot;Feature&quot;}, {&quot;bbox&quot;: [-70.93663422036738, -33.852292829816875, -70.91938656691228, -33.83504517636178], &quot;geometry&quot;: {&quot;coordinates&quot;: [[[-70.91938656691228, -33.852292829816875], [-70.91938656691228, -33.83504517636178], [-70.93663422036738, -33.83504517636178], [-70.93663422036738, -33.852292829816875], [-70.91938656691228, -33.852292829816875]]], &quot;type&quot;: &quot;Polygon&quot;}, &quot;id&quot;: &quot;16&quot;, &quot;properties&quot;: {&quot;color&quot;: &quot;#90ee90&quot;, &quot;id&quot;: &quot;lagunaaculeo-16&quot;, &quot;pred&quot;: &quot;AnnualCrop&quot;}, &quot;type&quot;: &quot;Feature&quot;}, {&quot;bbox&quot;: [-70.867643606547, -33.852292829816875, -70.8503959530919, -33.83504517636178], &quot;geometry&quot;: {&quot;coordinates&quot;: [[[-70.8503959530919, -33.852292829816875], [-70.8503959530919, -33.83504517636178], [-70.867643606547, -33.83504517636178], [-70.867643606547, -33.852292829816875], [-70.8503959530919, -33.852292829816875]]], &quot;type&quot;: &quot;Polygon&quot;}, &quot;id&quot;: &quot;20&quot;, &quot;properties&quot;: {&quot;color&quot;: &quot;#90ee90&quot;, &quot;id&quot;: &quot;lagunaaculeo-20&quot;, &quot;pred&quot;: &quot;AnnualCrop&quot;}, &quot;type&quot;: &quot;Feature&quot;}], &quot;type&quot;: &quot;FeatureCollection&quot;});\n",
       "\n",
       "        \n",
       "    \n",
       "            geo_json_9c15a62682272ef65491f7754776597e.addTo(feature_group_f5adb1ebe15fa26a9207e162197f911a);\n",
       "        \n",
       "    \n",
       "            feature_group_f5adb1ebe15fa26a9207e162197f911a.addTo(map_d4c16a98c4e86900daa80a43858e448c);\n",
       "        \n",
       "    \n",
       "            var feature_group_33c997dfa12d18035026c6d773cd9820 = L.featureGroup(\n",
       "                {}\n",
       "            );\n",
       "        \n",
       "    \n",
       "        function geo_json_061033bef7ce3102e59f906db4428c3b_styler(feature) {\n",
       "            switch(feature.id) {\n",
       "                default:\n",
       "                    return {&quot;color&quot;: &quot;black&quot;, &quot;fillColor&quot;: &quot;#9acd32&quot;, &quot;fillOpacity&quot;: 0.5, &quot;weight&quot;: 1};\n",
       "            }\n",
       "        }\n",
       "\n",
       "        function geo_json_061033bef7ce3102e59f906db4428c3b_onEachFeature(feature, layer) {\n",
       "            layer.on({\n",
       "            });\n",
       "        };\n",
       "        var geo_json_061033bef7ce3102e59f906db4428c3b = L.geoJson(null, {\n",
       "                onEachFeature: geo_json_061033bef7ce3102e59f906db4428c3b_onEachFeature,\n",
       "            \n",
       "                style: geo_json_061033bef7ce3102e59f906db4428c3b_styler,\n",
       "        });\n",
       "\n",
       "        function geo_json_061033bef7ce3102e59f906db4428c3b_add (data) {\n",
       "            geo_json_061033bef7ce3102e59f906db4428c3b\n",
       "                .addData(data);\n",
       "        }\n",
       "            geo_json_061033bef7ce3102e59f906db4428c3b_add({&quot;bbox&quot;: [-70.97112952727757, -33.88678813672707, -70.867643606547, -33.800549869451594], &quot;features&quot;: [{&quot;bbox&quot;: [-70.95388187382247, -33.81779752290669, -70.93663422036738, -33.800549869451594], &quot;geometry&quot;: {&quot;coordinates&quot;: [[[-70.93663422036738, -33.81779752290669], [-70.93663422036738, -33.800549869451594], [-70.95388187382247, -33.800549869451594], [-70.95388187382247, -33.81779752290669], [-70.93663422036738, -33.81779752290669]]], &quot;type&quot;: &quot;Polygon&quot;}, &quot;id&quot;: &quot;1&quot;, &quot;properties&quot;: {&quot;color&quot;: &quot;#9acd32&quot;, &quot;id&quot;: &quot;lagunaaculeo-1&quot;, &quot;pred&quot;: &quot;HerbaceousVegetation&quot;}, &quot;type&quot;: &quot;Feature&quot;}, {&quot;bbox&quot;: [-70.93663422036738, -33.81779752290669, -70.91938656691228, -33.800549869451594], &quot;geometry&quot;: {&quot;coordinates&quot;: [[[-70.91938656691228, -33.81779752290669], [-70.91938656691228, -33.800549869451594], [-70.93663422036738, -33.800549869451594], [-70.93663422036738, -33.81779752290669], [-70.91938656691228, -33.81779752290669]]], &quot;type&quot;: &quot;Polygon&quot;}, &quot;id&quot;: &quot;2&quot;, &quot;properties&quot;: {&quot;color&quot;: &quot;#9acd32&quot;, &quot;id&quot;: &quot;lagunaaculeo-2&quot;, &quot;pred&quot;: &quot;HerbaceousVegetation&quot;}, &quot;type&quot;: &quot;Feature&quot;}, {&quot;bbox&quot;: [-70.91938656691228, -33.81779752290669, -70.9021389134572, -33.800549869451594], &quot;geometry&quot;: {&quot;coordinates&quot;: [[[-70.9021389134572, -33.81779752290669], [-70.9021389134572, -33.800549869451594], [-70.91938656691228, -33.800549869451594], [-70.91938656691228, -33.81779752290669], [-70.9021389134572, -33.81779752290669]]], &quot;type&quot;: &quot;Polygon&quot;}, &quot;id&quot;: &quot;3&quot;, &quot;properties&quot;: {&quot;color&quot;: &quot;#9acd32&quot;, &quot;id&quot;: &quot;lagunaaculeo-3&quot;, &quot;pred&quot;: &quot;HerbaceousVegetation&quot;}, &quot;type&quot;: &quot;Feature&quot;}, {&quot;bbox&quot;: [-70.9021389134572, -33.81779752290669, -70.88489126000209, -33.800549869451594], &quot;geometry&quot;: {&quot;coordinates&quot;: [[[-70.88489126000209, -33.81779752290669], [-70.88489126000209, -33.800549869451594], [-70.9021389134572, -33.800549869451594], [-70.9021389134572, -33.81779752290669], [-70.88489126000209, -33.81779752290669]]], &quot;type&quot;: &quot;Polygon&quot;}, &quot;id&quot;: &quot;4&quot;, &quot;properties&quot;: {&quot;color&quot;: &quot;#9acd32&quot;, &quot;id&quot;: &quot;lagunaaculeo-4&quot;, &quot;pred&quot;: &quot;HerbaceousVegetation&quot;}, &quot;type&quot;: &quot;Feature&quot;}, {&quot;bbox&quot;: [-70.93663422036738, -33.83504517636178, -70.91938656691228, -33.81779752290669], &quot;geometry&quot;: {&quot;coordinates&quot;: [[[-70.91938656691228, -33.83504517636178], [-70.91938656691228, -33.81779752290669], [-70.93663422036738, -33.81779752290669], [-70.93663422036738, -33.83504517636178], [-70.91938656691228, -33.83504517636178]]], &quot;type&quot;: &quot;Polygon&quot;}, &quot;id&quot;: &quot;9&quot;, &quot;properties&quot;: {&quot;color&quot;: &quot;#9acd32&quot;, &quot;id&quot;: &quot;lagunaaculeo-9&quot;, &quot;pred&quot;: &quot;HerbaceousVegetation&quot;}, &quot;type&quot;: &quot;Feature&quot;}, {&quot;bbox&quot;: [-70.91938656691228, -33.83504517636178, -70.9021389134572, -33.81779752290669], &quot;geometry&quot;: {&quot;coordinates&quot;: [[[-70.9021389134572, -33.83504517636178], [-70.9021389134572, -33.81779752290669], [-70.91938656691228, -33.81779752290669], [-70.91938656691228, -33.83504517636178], [-70.9021389134572, -33.83504517636178]]], &quot;type&quot;: &quot;Polygon&quot;}, &quot;id&quot;: &quot;10&quot;, &quot;properties&quot;: {&quot;color&quot;: &quot;#9acd32&quot;, &quot;id&quot;: &quot;lagunaaculeo-10&quot;, &quot;pred&quot;: &quot;HerbaceousVegetation&quot;}, &quot;type&quot;: &quot;Feature&quot;}, {&quot;bbox&quot;: [-70.9021389134572, -33.83504517636178, -70.88489126000209, -33.81779752290669], &quot;geometry&quot;: {&quot;coordinates&quot;: [[[-70.88489126000209, -33.83504517636178], [-70.88489126000209, -33.81779752290669], [-70.9021389134572, -33.81779752290669], [-70.9021389134572, -33.83504517636178], [-70.88489126000209, -33.83504517636178]]], &quot;type&quot;: &quot;Polygon&quot;}, &quot;id&quot;: &quot;11&quot;, &quot;properties&quot;: {&quot;color&quot;: &quot;#9acd32&quot;, &quot;id&quot;: &quot;lagunaaculeo-11&quot;, &quot;pred&quot;: &quot;HerbaceousVegetation&quot;}, &quot;type&quot;: &quot;Feature&quot;}, {&quot;bbox&quot;: [-70.88489126000209, -33.83504517636178, -70.867643606547, -33.81779752290669], &quot;geometry&quot;: {&quot;coordinates&quot;: [[[-70.867643606547, -33.83504517636178], [-70.867643606547, -33.81779752290669], [-70.88489126000209, -33.81779752290669], [-70.88489126000209, -33.83504517636178], [-70.867643606547, -33.83504517636178]]], &quot;type&quot;: &quot;Polygon&quot;}, &quot;id&quot;: &quot;12&quot;, &quot;properties&quot;: {&quot;color&quot;: &quot;#9acd32&quot;, &quot;id&quot;: &quot;lagunaaculeo-12&quot;, &quot;pred&quot;: &quot;HerbaceousVegetation&quot;}, &quot;type&quot;: &quot;Feature&quot;}, {&quot;bbox&quot;: [-70.97112952727757, -33.852292829816875, -70.95388187382247, -33.83504517636178], &quot;geometry&quot;: {&quot;coordinates&quot;: [[[-70.95388187382247, -33.852292829816875], [-70.95388187382247, -33.83504517636178], [-70.97112952727757, -33.83504517636178], [-70.97112952727757, -33.852292829816875], [-70.95388187382247, -33.852292829816875]]], &quot;type&quot;: &quot;Polygon&quot;}, &quot;id&quot;: &quot;14&quot;, &quot;properties&quot;: {&quot;color&quot;: &quot;#9acd32&quot;, &quot;id&quot;: &quot;lagunaaculeo-14&quot;, &quot;pred&quot;: &quot;HerbaceousVegetation&quot;}, &quot;type&quot;: &quot;Feature&quot;}, {&quot;bbox&quot;: [-70.95388187382247, -33.852292829816875, -70.93663422036738, -33.83504517636178], &quot;geometry&quot;: {&quot;coordinates&quot;: [[[-70.93663422036738, -33.852292829816875], [-70.93663422036738, -33.83504517636178], [-70.95388187382247, -33.83504517636178], [-70.95388187382247, -33.852292829816875], [-70.93663422036738, -33.852292829816875]]], &quot;type&quot;: &quot;Polygon&quot;}, &quot;id&quot;: &quot;15&quot;, &quot;properties&quot;: {&quot;color&quot;: &quot;#9acd32&quot;, &quot;id&quot;: &quot;lagunaaculeo-15&quot;, &quot;pred&quot;: &quot;HerbaceousVegetation&quot;}, &quot;type&quot;: &quot;Feature&quot;}, {&quot;bbox&quot;: [-70.9021389134572, -33.852292829816875, -70.88489126000209, -33.83504517636178], &quot;geometry&quot;: {&quot;coordinates&quot;: [[[-70.88489126000209, -33.852292829816875], [-70.88489126000209, -33.83504517636178], [-70.9021389134572, -33.83504517636178], [-70.9021389134572, -33.852292829816875], [-70.88489126000209, -33.852292829816875]]], &quot;type&quot;: &quot;Polygon&quot;}, &quot;id&quot;: &quot;18&quot;, &quot;properties&quot;: {&quot;color&quot;: &quot;#9acd32&quot;, &quot;id&quot;: &quot;lagunaaculeo-18&quot;, &quot;pred&quot;: &quot;HerbaceousVegetation&quot;}, &quot;type&quot;: &quot;Feature&quot;}, {&quot;bbox&quot;: [-70.88489126000209, -33.852292829816875, -70.867643606547, -33.83504517636178], &quot;geometry&quot;: {&quot;coordinates&quot;: [[[-70.867643606547, -33.852292829816875], [-70.867643606547, -33.83504517636178], [-70.88489126000209, -33.83504517636178], [-70.88489126000209, -33.852292829816875], [-70.867643606547, -33.852292829816875]]], &quot;type&quot;: &quot;Polygon&quot;}, &quot;id&quot;: &quot;19&quot;, &quot;properties&quot;: {&quot;color&quot;: &quot;#9acd32&quot;, &quot;id&quot;: &quot;lagunaaculeo-19&quot;, &quot;pred&quot;: &quot;HerbaceousVegetation&quot;}, &quot;type&quot;: &quot;Feature&quot;}, {&quot;bbox&quot;: [-70.95388187382247, -33.869540483271976, -70.93663422036738, -33.852292829816875], &quot;geometry&quot;: {&quot;coordinates&quot;: [[[-70.93663422036738, -33.869540483271976], [-70.93663422036738, -33.852292829816875], [-70.95388187382247, -33.852292829816875], [-70.95388187382247, -33.869540483271976], [-70.93663422036738, -33.869540483271976]]], &quot;type&quot;: &quot;Polygon&quot;}, &quot;id&quot;: &quot;22&quot;, &quot;properties&quot;: {&quot;color&quot;: &quot;#9acd32&quot;, &quot;id&quot;: &quot;lagunaaculeo-22&quot;, &quot;pred&quot;: &quot;HerbaceousVegetation&quot;}, &quot;type&quot;: &quot;Feature&quot;}, {&quot;bbox&quot;: [-70.93663422036738, -33.869540483271976, -70.91938656691228, -33.852292829816875], &quot;geometry&quot;: {&quot;coordinates&quot;: [[[-70.91938656691228, -33.869540483271976], [-70.91938656691228, -33.852292829816875], [-70.93663422036738, -33.852292829816875], [-70.93663422036738, -33.869540483271976], [-70.91938656691228, -33.869540483271976]]], &quot;type&quot;: &quot;Polygon&quot;}, &quot;id&quot;: &quot;23&quot;, &quot;properties&quot;: {&quot;color&quot;: &quot;#9acd32&quot;, &quot;id&quot;: &quot;lagunaaculeo-23&quot;, &quot;pred&quot;: &quot;HerbaceousVegetation&quot;}, &quot;type&quot;: &quot;Feature&quot;}, {&quot;bbox&quot;: [-70.91938656691228, -33.869540483271976, -70.9021389134572, -33.852292829816875], &quot;geometry&quot;: {&quot;coordinates&quot;: [[[-70.9021389134572, -33.869540483271976], [-70.9021389134572, -33.852292829816875], [-70.91938656691228, -33.852292829816875], [-70.91938656691228, -33.869540483271976], [-70.9021389134572, -33.869540483271976]]], &quot;type&quot;: &quot;Polygon&quot;}, &quot;id&quot;: &quot;24&quot;, &quot;properties&quot;: {&quot;color&quot;: &quot;#9acd32&quot;, &quot;id&quot;: &quot;lagunaaculeo-24&quot;, &quot;pred&quot;: &quot;HerbaceousVegetation&quot;}, &quot;type&quot;: &quot;Feature&quot;}, {&quot;bbox&quot;: [-70.88489126000209, -33.869540483271976, -70.867643606547, -33.852292829816875], &quot;geometry&quot;: {&quot;coordinates&quot;: [[[-70.867643606547, -33.869540483271976], [-70.867643606547, -33.852292829816875], [-70.88489126000209, -33.852292829816875], [-70.88489126000209, -33.869540483271976], [-70.867643606547, -33.869540483271976]]], &quot;type&quot;: &quot;Polygon&quot;}, &quot;id&quot;: &quot;26&quot;, &quot;properties&quot;: {&quot;color&quot;: &quot;#9acd32&quot;, &quot;id&quot;: &quot;lagunaaculeo-26&quot;, &quot;pred&quot;: &quot;HerbaceousVegetation&quot;}, &quot;type&quot;: &quot;Feature&quot;}, {&quot;bbox&quot;: [-70.93663422036738, -33.88678813672707, -70.91938656691228, -33.869540483271976], &quot;geometry&quot;: {&quot;coordinates&quot;: [[[-70.91938656691228, -33.88678813672707], [-70.91938656691228, -33.869540483271976], [-70.93663422036738, -33.869540483271976], [-70.93663422036738, -33.88678813672707], [-70.91938656691228, -33.88678813672707]]], &quot;type&quot;: &quot;Polygon&quot;}, &quot;id&quot;: &quot;30&quot;, &quot;properties&quot;: {&quot;color&quot;: &quot;#9acd32&quot;, &quot;id&quot;: &quot;lagunaaculeo-30&quot;, &quot;pred&quot;: &quot;HerbaceousVegetation&quot;}, &quot;type&quot;: &quot;Feature&quot;}, {&quot;bbox&quot;: [-70.91938656691228, -33.88678813672707, -70.9021389134572, -33.869540483271976], &quot;geometry&quot;: {&quot;coordinates&quot;: [[[-70.9021389134572, -33.88678813672707], [-70.9021389134572, -33.869540483271976], [-70.91938656691228, -33.869540483271976], [-70.91938656691228, -33.88678813672707], [-70.9021389134572, -33.88678813672707]]], &quot;type&quot;: &quot;Polygon&quot;}, &quot;id&quot;: &quot;31&quot;, &quot;properties&quot;: {&quot;color&quot;: &quot;#9acd32&quot;, &quot;id&quot;: &quot;lagunaaculeo-31&quot;, &quot;pred&quot;: &quot;HerbaceousVegetation&quot;}, &quot;type&quot;: &quot;Feature&quot;}, {&quot;bbox&quot;: [-70.9021389134572, -33.88678813672707, -70.88489126000209, -33.869540483271976], &quot;geometry&quot;: {&quot;coordinates&quot;: [[[-70.88489126000209, -33.88678813672707], [-70.88489126000209, -33.869540483271976], [-70.9021389134572, -33.869540483271976], [-70.9021389134572, -33.88678813672707], [-70.88489126000209, -33.88678813672707]]], &quot;type&quot;: &quot;Polygon&quot;}, &quot;id&quot;: &quot;32&quot;, &quot;properties&quot;: {&quot;color&quot;: &quot;#9acd32&quot;, &quot;id&quot;: &quot;lagunaaculeo-32&quot;, &quot;pred&quot;: &quot;HerbaceousVegetation&quot;}, &quot;type&quot;: &quot;Feature&quot;}], &quot;type&quot;: &quot;FeatureCollection&quot;});\n",
       "\n",
       "        \n",
       "    \n",
       "            geo_json_061033bef7ce3102e59f906db4428c3b.addTo(feature_group_33c997dfa12d18035026c6d773cd9820);\n",
       "        \n",
       "    \n",
       "            feature_group_33c997dfa12d18035026c6d773cd9820.addTo(map_d4c16a98c4e86900daa80a43858e448c);\n",
       "        \n",
       "    \n",
       "            var feature_group_cdd65aa32fb7fe054fd40f2327332743 = L.featureGroup(\n",
       "                {}\n",
       "            );\n",
       "        \n",
       "    \n",
       "        function geo_json_4dbd0b8bf321636c914f6b2c4e7d5609_styler(feature) {\n",
       "            switch(feature.id) {\n",
       "                default:\n",
       "                    return {&quot;color&quot;: &quot;black&quot;, &quot;fillColor&quot;: &quot;#1e90ff&quot;, &quot;fillOpacity&quot;: 0.5, &quot;weight&quot;: 1};\n",
       "            }\n",
       "        }\n",
       "\n",
       "        function geo_json_4dbd0b8bf321636c914f6b2c4e7d5609_onEachFeature(feature, layer) {\n",
       "            layer.on({\n",
       "            });\n",
       "        };\n",
       "        var geo_json_4dbd0b8bf321636c914f6b2c4e7d5609 = L.geoJson(null, {\n",
       "                onEachFeature: geo_json_4dbd0b8bf321636c914f6b2c4e7d5609_onEachFeature,\n",
       "            \n",
       "                style: geo_json_4dbd0b8bf321636c914f6b2c4e7d5609_styler,\n",
       "        });\n",
       "\n",
       "        function geo_json_4dbd0b8bf321636c914f6b2c4e7d5609_add (data) {\n",
       "            geo_json_4dbd0b8bf321636c914f6b2c4e7d5609\n",
       "                .addData(data);\n",
       "        }\n",
       "            geo_json_4dbd0b8bf321636c914f6b2c4e7d5609_add({&quot;bbox&quot;: [-70.97112952727757, -33.904035790182164, -70.8503959530919, -33.800549869451594], &quot;features&quot;: [{&quot;bbox&quot;: [-70.97112952727757, -33.81779752290669, -70.95388187382247, -33.800549869451594], &quot;geometry&quot;: {&quot;coordinates&quot;: [[[-70.95388187382247, -33.81779752290669], [-70.95388187382247, -33.800549869451594], [-70.97112952727757, -33.800549869451594], [-70.97112952727757, -33.81779752290669], [-70.95388187382247, -33.81779752290669]]], &quot;type&quot;: &quot;Polygon&quot;}, &quot;id&quot;: &quot;0&quot;, &quot;properties&quot;: {&quot;color&quot;: &quot;#1e90ff&quot;, &quot;id&quot;: &quot;lagunaaculeo-0&quot;, &quot;pred&quot;: &quot;River&quot;}, &quot;type&quot;: &quot;Feature&quot;}, {&quot;bbox&quot;: [-70.88489126000209, -33.81779752290669, -70.867643606547, -33.800549869451594], &quot;geometry&quot;: {&quot;coordinates&quot;: [[[-70.867643606547, -33.81779752290669], [-70.867643606547, -33.800549869451594], [-70.88489126000209, -33.800549869451594], [-70.88489126000209, -33.81779752290669], [-70.867643606547, -33.81779752290669]]], &quot;type&quot;: &quot;Polygon&quot;}, &quot;id&quot;: &quot;5&quot;, &quot;properties&quot;: {&quot;color&quot;: &quot;#1e90ff&quot;, &quot;id&quot;: &quot;lagunaaculeo-5&quot;, &quot;pred&quot;: &quot;River&quot;}, &quot;type&quot;: &quot;Feature&quot;}, {&quot;bbox&quot;: [-70.867643606547, -33.81779752290669, -70.8503959530919, -33.800549869451594], &quot;geometry&quot;: {&quot;coordinates&quot;: [[[-70.8503959530919, -33.81779752290669], [-70.8503959530919, -33.800549869451594], [-70.867643606547, -33.800549869451594], [-70.867643606547, -33.81779752290669], [-70.8503959530919, -33.81779752290669]]], &quot;type&quot;: &quot;Polygon&quot;}, &quot;id&quot;: &quot;6&quot;, &quot;properties&quot;: {&quot;color&quot;: &quot;#1e90ff&quot;, &quot;id&quot;: &quot;lagunaaculeo-6&quot;, &quot;pred&quot;: &quot;River&quot;}, &quot;type&quot;: &quot;Feature&quot;}, {&quot;bbox&quot;: [-70.97112952727757, -33.83504517636178, -70.95388187382247, -33.81779752290669], &quot;geometry&quot;: {&quot;coordinates&quot;: [[[-70.95388187382247, -33.83504517636178], [-70.95388187382247, -33.81779752290669], [-70.97112952727757, -33.81779752290669], [-70.97112952727757, -33.83504517636178], [-70.95388187382247, -33.83504517636178]]], &quot;type&quot;: &quot;Polygon&quot;}, &quot;id&quot;: &quot;7&quot;, &quot;properties&quot;: {&quot;color&quot;: &quot;#1e90ff&quot;, &quot;id&quot;: &quot;lagunaaculeo-7&quot;, &quot;pred&quot;: &quot;River&quot;}, &quot;type&quot;: &quot;Feature&quot;}, {&quot;bbox&quot;: [-70.867643606547, -33.83504517636178, -70.8503959530919, -33.81779752290669], &quot;geometry&quot;: {&quot;coordinates&quot;: [[[-70.8503959530919, -33.83504517636178], [-70.8503959530919, -33.81779752290669], [-70.867643606547, -33.81779752290669], [-70.867643606547, -33.83504517636178], [-70.8503959530919, -33.83504517636178]]], &quot;type&quot;: &quot;Polygon&quot;}, &quot;id&quot;: &quot;13&quot;, &quot;properties&quot;: {&quot;color&quot;: &quot;#1e90ff&quot;, &quot;id&quot;: &quot;lagunaaculeo-13&quot;, &quot;pred&quot;: &quot;River&quot;}, &quot;type&quot;: &quot;Feature&quot;}, {&quot;bbox&quot;: [-70.91938656691228, -33.852292829816875, -70.9021389134572, -33.83504517636178], &quot;geometry&quot;: {&quot;coordinates&quot;: [[[-70.9021389134572, -33.852292829816875], [-70.9021389134572, -33.83504517636178], [-70.91938656691228, -33.83504517636178], [-70.91938656691228, -33.852292829816875], [-70.9021389134572, -33.852292829816875]]], &quot;type&quot;: &quot;Polygon&quot;}, &quot;id&quot;: &quot;17&quot;, &quot;properties&quot;: {&quot;color&quot;: &quot;#1e90ff&quot;, &quot;id&quot;: &quot;lagunaaculeo-17&quot;, &quot;pred&quot;: &quot;River&quot;}, &quot;type&quot;: &quot;Feature&quot;}, {&quot;bbox&quot;: [-70.97112952727757, -33.869540483271976, -70.95388187382247, -33.852292829816875], &quot;geometry&quot;: {&quot;coordinates&quot;: [[[-70.95388187382247, -33.869540483271976], [-70.95388187382247, -33.852292829816875], [-70.97112952727757, -33.852292829816875], [-70.97112952727757, -33.869540483271976], [-70.95388187382247, -33.869540483271976]]], &quot;type&quot;: &quot;Polygon&quot;}, &quot;id&quot;: &quot;21&quot;, &quot;properties&quot;: {&quot;color&quot;: &quot;#1e90ff&quot;, &quot;id&quot;: &quot;lagunaaculeo-21&quot;, &quot;pred&quot;: &quot;River&quot;}, &quot;type&quot;: &quot;Feature&quot;}, {&quot;bbox&quot;: [-70.9021389134572, -33.869540483271976, -70.88489126000209, -33.852292829816875], &quot;geometry&quot;: {&quot;coordinates&quot;: [[[-70.88489126000209, -33.869540483271976], [-70.88489126000209, -33.852292829816875], [-70.9021389134572, -33.852292829816875], [-70.9021389134572, -33.869540483271976], [-70.88489126000209, -33.869540483271976]]], &quot;type&quot;: &quot;Polygon&quot;}, &quot;id&quot;: &quot;25&quot;, &quot;properties&quot;: {&quot;color&quot;: &quot;#1e90ff&quot;, &quot;id&quot;: &quot;lagunaaculeo-25&quot;, &quot;pred&quot;: &quot;River&quot;}, &quot;type&quot;: &quot;Feature&quot;}, {&quot;bbox&quot;: [-70.867643606547, -33.869540483271976, -70.8503959530919, -33.852292829816875], &quot;geometry&quot;: {&quot;coordinates&quot;: [[[-70.8503959530919, -33.869540483271976], [-70.8503959530919, -33.852292829816875], [-70.867643606547, -33.852292829816875], [-70.867643606547, -33.869540483271976], [-70.8503959530919, -33.869540483271976]]], &quot;type&quot;: &quot;Polygon&quot;}, &quot;id&quot;: &quot;27&quot;, &quot;properties&quot;: {&quot;color&quot;: &quot;#1e90ff&quot;, &quot;id&quot;: &quot;lagunaaculeo-27&quot;, &quot;pred&quot;: &quot;River&quot;}, &quot;type&quot;: &quot;Feature&quot;}, {&quot;bbox&quot;: [-70.97112952727757, -33.88678813672707, -70.95388187382247, -33.869540483271976], &quot;geometry&quot;: {&quot;coordinates&quot;: [[[-70.95388187382247, -33.88678813672707], [-70.95388187382247, -33.869540483271976], [-70.97112952727757, -33.869540483271976], [-70.97112952727757, -33.88678813672707], [-70.95388187382247, -33.88678813672707]]], &quot;type&quot;: &quot;Polygon&quot;}, &quot;id&quot;: &quot;28&quot;, &quot;properties&quot;: {&quot;color&quot;: &quot;#1e90ff&quot;, &quot;id&quot;: &quot;lagunaaculeo-28&quot;, &quot;pred&quot;: &quot;River&quot;}, &quot;type&quot;: &quot;Feature&quot;}, {&quot;bbox&quot;: [-70.95388187382247, -33.88678813672707, -70.93663422036738, -33.869540483271976], &quot;geometry&quot;: {&quot;coordinates&quot;: [[[-70.93663422036738, -33.88678813672707], [-70.93663422036738, -33.869540483271976], [-70.95388187382247, -33.869540483271976], [-70.95388187382247, -33.88678813672707], [-70.93663422036738, -33.88678813672707]]], &quot;type&quot;: &quot;Polygon&quot;}, &quot;id&quot;: &quot;29&quot;, &quot;properties&quot;: {&quot;color&quot;: &quot;#1e90ff&quot;, &quot;id&quot;: &quot;lagunaaculeo-29&quot;, &quot;pred&quot;: &quot;River&quot;}, &quot;type&quot;: &quot;Feature&quot;}, {&quot;bbox&quot;: [-70.88489126000209, -33.88678813672707, -70.867643606547, -33.869540483271976], &quot;geometry&quot;: {&quot;coordinates&quot;: [[[-70.867643606547, -33.88678813672707], [-70.867643606547, -33.869540483271976], [-70.88489126000209, -33.869540483271976], [-70.88489126000209, -33.88678813672707], [-70.867643606547, -33.88678813672707]]], &quot;type&quot;: &quot;Polygon&quot;}, &quot;id&quot;: &quot;33&quot;, &quot;properties&quot;: {&quot;color&quot;: &quot;#1e90ff&quot;, &quot;id&quot;: &quot;lagunaaculeo-33&quot;, &quot;pred&quot;: &quot;River&quot;}, &quot;type&quot;: &quot;Feature&quot;}, {&quot;bbox&quot;: [-70.867643606547, -33.88678813672707, -70.8503959530919, -33.869540483271976], &quot;geometry&quot;: {&quot;coordinates&quot;: [[[-70.8503959530919, -33.88678813672707], [-70.8503959530919, -33.869540483271976], [-70.867643606547, -33.869540483271976], [-70.867643606547, -33.88678813672707], [-70.8503959530919, -33.88678813672707]]], &quot;type&quot;: &quot;Polygon&quot;}, &quot;id&quot;: &quot;34&quot;, &quot;properties&quot;: {&quot;color&quot;: &quot;#1e90ff&quot;, &quot;id&quot;: &quot;lagunaaculeo-34&quot;, &quot;pred&quot;: &quot;River&quot;}, &quot;type&quot;: &quot;Feature&quot;}, {&quot;bbox&quot;: [-70.97112952727757, -33.904035790182164, -70.95388187382247, -33.88678813672707], &quot;geometry&quot;: {&quot;coordinates&quot;: [[[-70.95388187382247, -33.904035790182164], [-70.95388187382247, -33.88678813672707], [-70.97112952727757, -33.88678813672707], [-70.97112952727757, -33.904035790182164], [-70.95388187382247, -33.904035790182164]]], &quot;type&quot;: &quot;Polygon&quot;}, &quot;id&quot;: &quot;35&quot;, &quot;properties&quot;: {&quot;color&quot;: &quot;#1e90ff&quot;, &quot;id&quot;: &quot;lagunaaculeo-35&quot;, &quot;pred&quot;: &quot;River&quot;}, &quot;type&quot;: &quot;Feature&quot;}, {&quot;bbox&quot;: [-70.95388187382247, -33.904035790182164, -70.93663422036738, -33.88678813672707], &quot;geometry&quot;: {&quot;coordinates&quot;: [[[-70.93663422036738, -33.904035790182164], [-70.93663422036738, -33.88678813672707], [-70.95388187382247, -33.88678813672707], [-70.95388187382247, -33.904035790182164], [-70.93663422036738, -33.904035790182164]]], &quot;type&quot;: &quot;Polygon&quot;}, &quot;id&quot;: &quot;36&quot;, &quot;properties&quot;: {&quot;color&quot;: &quot;#1e90ff&quot;, &quot;id&quot;: &quot;lagunaaculeo-36&quot;, &quot;pred&quot;: &quot;River&quot;}, &quot;type&quot;: &quot;Feature&quot;}, {&quot;bbox&quot;: [-70.93663422036738, -33.904035790182164, -70.91938656691228, -33.88678813672707], &quot;geometry&quot;: {&quot;coordinates&quot;: [[[-70.91938656691228, -33.904035790182164], [-70.91938656691228, -33.88678813672707], [-70.93663422036738, -33.88678813672707], [-70.93663422036738, -33.904035790182164], [-70.91938656691228, -33.904035790182164]]], &quot;type&quot;: &quot;Polygon&quot;}, &quot;id&quot;: &quot;37&quot;, &quot;properties&quot;: {&quot;color&quot;: &quot;#1e90ff&quot;, &quot;id&quot;: &quot;lagunaaculeo-37&quot;, &quot;pred&quot;: &quot;River&quot;}, &quot;type&quot;: &quot;Feature&quot;}, {&quot;bbox&quot;: [-70.91938656691228, -33.904035790182164, -70.9021389134572, -33.88678813672707], &quot;geometry&quot;: {&quot;coordinates&quot;: [[[-70.9021389134572, -33.904035790182164], [-70.9021389134572, -33.88678813672707], [-70.91938656691228, -33.88678813672707], [-70.91938656691228, -33.904035790182164], [-70.9021389134572, -33.904035790182164]]], &quot;type&quot;: &quot;Polygon&quot;}, &quot;id&quot;: &quot;38&quot;, &quot;properties&quot;: {&quot;color&quot;: &quot;#1e90ff&quot;, &quot;id&quot;: &quot;lagunaaculeo-38&quot;, &quot;pred&quot;: &quot;River&quot;}, &quot;type&quot;: &quot;Feature&quot;}, {&quot;bbox&quot;: [-70.9021389134572, -33.904035790182164, -70.88489126000209, -33.88678813672707], &quot;geometry&quot;: {&quot;coordinates&quot;: [[[-70.88489126000209, -33.904035790182164], [-70.88489126000209, -33.88678813672707], [-70.9021389134572, -33.88678813672707], [-70.9021389134572, -33.904035790182164], [-70.88489126000209, -33.904035790182164]]], &quot;type&quot;: &quot;Polygon&quot;}, &quot;id&quot;: &quot;39&quot;, &quot;properties&quot;: {&quot;color&quot;: &quot;#1e90ff&quot;, &quot;id&quot;: &quot;lagunaaculeo-39&quot;, &quot;pred&quot;: &quot;River&quot;}, &quot;type&quot;: &quot;Feature&quot;}, {&quot;bbox&quot;: [-70.88489126000209, -33.904035790182164, -70.867643606547, -33.88678813672707], &quot;geometry&quot;: {&quot;coordinates&quot;: [[[-70.867643606547, -33.904035790182164], [-70.867643606547, -33.88678813672707], [-70.88489126000209, -33.88678813672707], [-70.88489126000209, -33.904035790182164], [-70.867643606547, -33.904035790182164]]], &quot;type&quot;: &quot;Polygon&quot;}, &quot;id&quot;: &quot;40&quot;, &quot;properties&quot;: {&quot;color&quot;: &quot;#1e90ff&quot;, &quot;id&quot;: &quot;lagunaaculeo-40&quot;, &quot;pred&quot;: &quot;River&quot;}, &quot;type&quot;: &quot;Feature&quot;}, {&quot;bbox&quot;: [-70.867643606547, -33.904035790182164, -70.8503959530919, -33.88678813672707], &quot;geometry&quot;: {&quot;coordinates&quot;: [[[-70.8503959530919, -33.904035790182164], [-70.8503959530919, -33.88678813672707], [-70.867643606547, -33.88678813672707], [-70.867643606547, -33.904035790182164], [-70.8503959530919, -33.904035790182164]]], &quot;type&quot;: &quot;Polygon&quot;}, &quot;id&quot;: &quot;41&quot;, &quot;properties&quot;: {&quot;color&quot;: &quot;#1e90ff&quot;, &quot;id&quot;: &quot;lagunaaculeo-41&quot;, &quot;pred&quot;: &quot;River&quot;}, &quot;type&quot;: &quot;Feature&quot;}], &quot;type&quot;: &quot;FeatureCollection&quot;});\n",
       "\n",
       "        \n",
       "    \n",
       "            geo_json_4dbd0b8bf321636c914f6b2c4e7d5609.addTo(feature_group_cdd65aa32fb7fe054fd40f2327332743);\n",
       "        \n",
       "    \n",
       "            feature_group_cdd65aa32fb7fe054fd40f2327332743.addTo(map_d4c16a98c4e86900daa80a43858e448c);\n",
       "        \n",
       "    \n",
       "            var layer_control_c93f664b1baffe6c62032e91a47c0c29_layers = {\n",
       "                base_layers : {\n",
       "                    &quot;openstreetmap&quot; : tile_layer_0270a974c8ce131c3f7b797b4d832bdf,\n",
       "                },\n",
       "                overlays :  {\n",
       "                    &quot;Google Satellite&quot; : tile_layer_eaf3b615ec2f2d521bfdb0f008a391d7,\n",
       "                    &quot;\\u003cspan style=\\&quot;color: lightgreen;\\&quot;\\u003eAnnualCrop\\u003c/span\\u003e&quot; : feature_group_f5adb1ebe15fa26a9207e162197f911a,\n",
       "                    &quot;\\u003cspan style=\\&quot;color: yellowgreen;\\&quot;\\u003eHerbaceousVegetation\\u003c/span\\u003e&quot; : feature_group_33c997dfa12d18035026c6d773cd9820,\n",
       "                    &quot;\\u003cspan style=\\&quot;color: dodgerblue;\\&quot;\\u003eRiver\\u003c/span\\u003e&quot; : feature_group_cdd65aa32fb7fe054fd40f2327332743,\n",
       "                },\n",
       "            };\n",
       "            let layer_control_c93f664b1baffe6c62032e91a47c0c29 = L.control.layers(\n",
       "                layer_control_c93f664b1baffe6c62032e91a47c0c29_layers.base_layers,\n",
       "                layer_control_c93f664b1baffe6c62032e91a47c0c29_layers.overlays,\n",
       "                {&quot;autoZIndex&quot;: true, &quot;collapsed&quot;: true, &quot;position&quot;: &quot;topright&quot;}\n",
       "            ).addTo(map_d4c16a98c4e86900daa80a43858e448c);\n",
       "\n",
       "        \n",
       "&lt;/script&gt;\n",
       "&lt;/html&gt;\" style=\"position:absolute;width:100%;height:100%;left:0;top:0;border:none !important;\" allowfullscreen webkitallowfullscreen mozallowfullscreen></iframe></div></div>"
      ],
      "text/plain": [
       "<folium.folium.Map at 0x7f3ebc09f8b0>"
      ]
     },
     "execution_count": 165,
     "metadata": {},
     "output_type": "execute_result"
    }
   ],
   "source": [
    "# Instantiate map centered on the centroid\n",
    "colors = {\n",
    "  'AnnualCrop' : 'lightgreen',\n",
    "  'Forest' : 'forestgreen',\n",
    "  'HerbaceousVegetation' : 'yellowgreen',\n",
    "  'Highway' : 'gray',\n",
    "  'Industrial' : 'red',\n",
    "  'Pasture' : 'mediumseagreen',\n",
    "  'PermanentCrop' : 'chartreuse',\n",
    "  'Residential' : 'magenta',\n",
    "  'River' : 'dodgerblue',\n",
    "  'SeaLake' : 'blue'\n",
    "}\n",
    "tiles = tiled_images[0]\n",
    "\n",
    "tiles['color'] = tiles[\"pred\"].apply(\n",
    "  lambda x: cl.to_hex(colors.get(x))\n",
    ")\n",
    "\n",
    "\n",
    "map = folium.Map(location=[-33.84565081436696,-70.91725911612781],zoom_start=13)\n",
    "\n",
    "folium.TileLayer(\n",
    "      tiles = 'https://mt1.google.com/vt/lyrs=s&x={x}&y={y}&z={z}',\n",
    "      attr = 'Google',\n",
    "      name = 'Google Satellite',\n",
    "      overlay = True,\n",
    "      control = True\n",
    ").add_to(map)\n",
    "\n",
    "# Add LULC Map with legend\n",
    "legend_txt = '<span style=\"color: {col};\">{txt}</span>'\n",
    "for label, color in colors.items():\n",
    "\n",
    "  # Specify the legend color\n",
    "  name = legend_txt.format(txt=label, col=color)\n",
    "  feat_group = folium.FeatureGroup(name=name)\n",
    "\n",
    "  # Add GeoJSON to feature group\n",
    "  subtiles = tiles[tiles.pred==label]\n",
    "  if len(subtiles) > 0:\n",
    "    folium.GeoJson(\n",
    "        subtiles,\n",
    "        style_function=lambda feature: {\n",
    "          'fillColor': feature['properties']['color'],\n",
    "          'color': 'black',\n",
    "          'weight': 1,\n",
    "          'fillOpacity': 0.5,\n",
    "        },\n",
    "        name='LULC Map'\n",
    "    ).add_to(feat_group)\n",
    "    map.add_child(feat_group)\n",
    "\n",
    "folium.LayerControl().add_to(map)\n",
    "map"
   ]
  },
  {
   "cell_type": "code",
   "execution_count": 181,
   "id": "f90f3b28-43b6-4389-81a6-e051c50a6927",
   "metadata": {},
   "outputs": [
    {
     "data": {
      "text/html": [
       "\n",
       "            <style>\n",
       "                .geemap-dark {\n",
       "                    --jp-widgets-color: white;\n",
       "                    --jp-widgets-label-color: white;\n",
       "                    --jp-ui-font-color1: white;\n",
       "                    --jp-layout-color2: #454545;\n",
       "                    background-color: #383838;\n",
       "                }\n",
       "\n",
       "                .geemap-dark .jupyter-button {\n",
       "                    --jp-layout-color3: #383838;\n",
       "                }\n",
       "\n",
       "                .geemap-colab {\n",
       "                    background-color: var(--colab-primary-surface-color, white);\n",
       "                }\n",
       "\n",
       "                .geemap-colab .jupyter-button {\n",
       "                    --jp-layout-color3: var(--colab-primary-surface-color, white);\n",
       "                }\n",
       "            </style>\n",
       "            "
      ],
      "text/plain": [
       "<IPython.core.display.HTML object>"
      ]
     },
     "metadata": {},
     "output_type": "display_data"
    },
    {
     "data": {
      "image/png": "[encoded data removed]",
      "text/plain": [
       "<Figure size 800x800 with 3 Axes>"
      ]
     },
     "metadata": {},
     "output_type": "display_data"
    }
   ],
   "source": [
    "df_crop_a_19 = df_crop_a[df_crop_a.index >= 2019]\n",
    "fig, ax = plt.subplots(3, figsize=(8,8))\n",
    "ax[0].ticklabel_format(style='plain')\n",
    "ax[0].set_title(\"Área laguna (km²)\")\n",
    "ax[1].set_title(\"Precipitaciones (suma de mm)\")\n",
    "ax[2].set_title(\"Área predicha como cultivo (m²)\")\n",
    "ax[0].bar(df_p[\"año\"], df_p[\"km\"], color='m')\n",
    "ax[1].bar(lluvias[\"año\"],lluvias[\"sum_precip\"] , color='c')\n",
    "ax[2].bar(df_crop_a_19.index,df_crop_a_19, color='c')\n",
    "fig.suptitle(f\"Área medida de Laguna Aculeo VS Precipitaciones de la estación El Paico\")\n",
    "fig.tight_layout()\n",
    "plt.savefig(f\"visualizaciones/arealaguna_precip_areacrop.jpg\", dpi=\"figure\", format=\"jpg\")"
   ]
  },
  {
   "cell_type": "code",
   "execution_count": 183,
   "id": "bf982290-f2a2-447d-9775-f031a6ec66ba",
   "metadata": {},
   "outputs": [
    {
     "data": {
      "text/html": [
       "\n",
       "            <style>\n",
       "                .geemap-dark {\n",
       "                    --jp-widgets-color: white;\n",
       "                    --jp-widgets-label-color: white;\n",
       "                    --jp-ui-font-color1: white;\n",
       "                    --jp-layout-color2: #454545;\n",
       "                    background-color: #383838;\n",
       "                }\n",
       "\n",
       "                .geemap-dark .jupyter-button {\n",
       "                    --jp-layout-color3: #383838;\n",
       "                }\n",
       "\n",
       "                .geemap-colab {\n",
       "                    background-color: var(--colab-primary-surface-color, white);\n",
       "                }\n",
       "\n",
       "                .geemap-colab .jupyter-button {\n",
       "                    --jp-layout-color3: var(--colab-primary-surface-color, white);\n",
       "                }\n",
       "            </style>\n",
       "            "
      ],
      "text/plain": [
       "<IPython.core.display.HTML object>"
      ]
     },
     "metadata": {},
     "output_type": "display_data"
    },
    {
     "data": {
      "image/png": "[encoded data removed]",
      "text/plain": [
       "<Figure size 800x800 with 2 Axes>"
      ]
     },
     "metadata": {},
     "output_type": "display_data"
    }
   ],
   "source": [
    "df_crop_a_19 = df_crop_a[df_crop_a.index >= 2019]\n",
    "fig, ax = plt.subplots(2, figsize=(8,8))\n",
    "ax[0].ticklabel_format(style='plain')\n",
    "ax[0].set_title(\"Área laguna (km²)\")\n",
    "ax[1].set_title(\"Área predicha como cultivo (m²)\")\n",
    "ax[0].bar(df[\"año\"], df[\"km\"], color='m')\n",
    "ax[1].bar(df_crop_a.index,df_crop_a, color='c')\n",
    "fig.suptitle(f\"Área medida de Laguna Aculeo VS Precipitaciones de la estación El Paico\")\n",
    "fig.tight_layout()\n",
    "# plt.savefig(f\"visualizaciones/arealaguna_precip_areacrop.jpg\", dpi=\"figure\", format=\"jpg\")"
   ]
  },
  {
   "cell_type": "markdown",
   "id": "0817c463-aec9-40b3-bb14-f1a479fd37cc",
   "metadata": {},
   "source": [
    "fig. 4 Área predicha como cultivo vs Área de la Laguna Aculeo"
   ]
  },
  {
   "cell_type": "markdown",
   "id": "96e58890-92c9-4caa-a93a-ca4db439fe6e",
   "metadata": {},
   "source": [
    "### No hay correlación aparente entre las predicciones de cultivo y el área de la laguna."
   ]
  }
 ],
 "metadata": {
  "kernelspec": {
   "display_name": "Python 3 (ipykernel)",
   "language": "python",
   "name": "python3"
  },
  "language_info": {
   "codemirror_mode": {
    "name": "ipython",
    "version": 3
   },
   "file_extension": ".py",
   "mimetype": "text/x-python",
   "name": "python",
   "nbconvert_exporter": "python",
   "pygments_lexer": "ipython3",
   "version": "3.10.12"
  }
 },
 "nbformat": 4,
 "nbformat_minor": 5
}
