{
 "cells": [
  {
   "cell_type": "code",
   "execution_count": 4,
   "id": "76adca8f-5a18-4d4c-91a3-4588f0cb8a45",
   "metadata": {},
   "outputs": [
    {
     "data": {
      "text/html": [
       "\n",
       "            <style>\n",
       "                .geemap-dark {\n",
       "                    --jp-widgets-color: white;\n",
       "                    --jp-widgets-label-color: white;\n",
       "                    --jp-ui-font-color1: white;\n",
       "                    --jp-layout-color2: #454545;\n",
       "                    background-color: #383838;\n",
       "                }\n",
       "\n",
       "                .geemap-dark .jupyter-button {\n",
       "                    --jp-layout-color3: #383838;\n",
       "                }\n",
       "\n",
       "                .geemap-colab {\n",
       "                    background-color: var(--colab-primary-surface-color, white);\n",
       "                }\n",
       "\n",
       "                .geemap-colab .jupyter-button {\n",
       "                    --jp-layout-color3: var(--colab-primary-surface-color, white);\n",
       "                }\n",
       "            </style>\n",
       "            "
      ],
      "text/plain": [
       "<IPython.core.display.HTML object>"
      ]
     },
     "metadata": {},
     "output_type": "display_data"
    }
   ],
   "source": [
    "import geopandas as gpd\n",
    "import pandas as pd\n",
    "import geemap\n",
    "import ee\n",
    "import shapely"
   ]
  },
  {
   "cell_type": "code",
   "execution_count": 5,
   "id": "a0457bc6-e9ca-4b59-b5ae-9d3c2577927e",
   "metadata": {},
   "outputs": [
    {
     "data": {
      "text/html": [
       "\n",
       "            <style>\n",
       "                .geemap-dark {\n",
       "                    --jp-widgets-color: white;\n",
       "                    --jp-widgets-label-color: white;\n",
       "                    --jp-ui-font-color1: white;\n",
       "                    --jp-layout-color2: #454545;\n",
       "                    background-color: #383838;\n",
       "                }\n",
       "\n",
       "                .geemap-dark .jupyter-button {\n",
       "                    --jp-layout-color3: #383838;\n",
       "                }\n",
       "\n",
       "                .geemap-colab {\n",
       "                    background-color: var(--colab-primary-surface-color, white);\n",
       "                }\n",
       "\n",
       "                .geemap-colab .jupyter-button {\n",
       "                    --jp-layout-color3: var(--colab-primary-surface-color, white);\n",
       "                }\n",
       "            </style>\n",
       "            "
      ],
      "text/plain": [
       "<IPython.core.display.HTML object>"
      ]
     },
     "metadata": {},
     "output_type": "display_data"
    }
   ],
   "source": [
    "ee.Authenticate()\n",
    "ee.Initialize()"
   ]
  },
  {
   "cell_type": "markdown",
   "id": "09ed8c00-92fc-42c2-a2e5-25c428e794c7",
   "metadata": {},
   "source": [
    "Planificación General: Medir área total de la laguna a lo largo del tiempo -> hacer un área total del uso de suelo usando aquella red neuronal que clasificaba segun crop o algo asi -> Ver como avanzó crop e industrial a lo largo del tiempo."
   ]
  },
  {
   "cell_type": "markdown",
   "id": "66e71a69-267b-4e5c-8e2d-0ccc2d10f320",
   "metadata": {},
   "source": [
    "### Definimos como aoi un área de aproximadamente 5km alrededor de la Laguna de Aculeo, y el intervalo de tiempo de interés 2014-2024 ya que se secó alrededor de 2018, Además de la disponibilidad de COPERNICUS"
   ]
  },
  {
   "cell_type": "code",
   "execution_count": 40,
   "id": "fe981c18-69ca-4b0b-afdd-b47e79f83e24",
   "metadata": {},
   "outputs": [
    {
     "data": {
      "text/html": [
       "\n",
       "            <style>\n",
       "                .geemap-dark {\n",
       "                    --jp-widgets-color: white;\n",
       "                    --jp-widgets-label-color: white;\n",
       "                    --jp-ui-font-color1: white;\n",
       "                    --jp-layout-color2: #454545;\n",
       "                    background-color: #383838;\n",
       "                }\n",
       "\n",
       "                .geemap-dark .jupyter-button {\n",
       "                    --jp-layout-color3: #383838;\n",
       "                }\n",
       "\n",
       "                .geemap-colab {\n",
       "                    background-color: var(--colab-primary-surface-color, white);\n",
       "                }\n",
       "\n",
       "                .geemap-colab .jupyter-button {\n",
       "                    --jp-layout-color3: var(--colab-primary-surface-color, white);\n",
       "                }\n",
       "            </style>\n",
       "            "
      ],
      "text/plain": [
       "<IPython.core.display.HTML object>"
      ]
     },
     "metadata": {},
     "output_type": "display_data"
    },
    {
     "data": {
      "text/plain": [
       "['2014-01-01',\n",
       " '2015-01-01',\n",
       " '2016-01-01',\n",
       " '2017-01-01',\n",
       " '2018-01-01',\n",
       " '2019-01-01',\n",
       " '2020-01-01',\n",
       " '2021-01-01',\n",
       " '2022-01-01',\n",
       " '2023-01-01',\n",
       " '2024-01-01']"
      ]
     },
     "execution_count": 40,
     "metadata": {},
     "output_type": "execute_result"
    }
   ],
   "source": [
    "doi = [\"2012-01-01\",\"2024-01-01\"]\n",
    "doi_intervalar = []\n",
    "for i in range(14,25):\n",
    "    doi_intervalar.append(str(2000+i)+\"-01-01\")\n",
    "doi_intervalar"
   ]
  },
  {
   "cell_type": "code",
   "execution_count": 24,
   "id": "0f0e48f7-3e2e-4650-a70d-7219fcd84153",
   "metadata": {
    "scrolled": true
   },
   "outputs": [
    {
     "data": {
      "text/html": [
       "\n",
       "            <style>\n",
       "                .geemap-dark {\n",
       "                    --jp-widgets-color: white;\n",
       "                    --jp-widgets-label-color: white;\n",
       "                    --jp-ui-font-color1: white;\n",
       "                    --jp-layout-color2: #454545;\n",
       "                    background-color: #383838;\n",
       "                }\n",
       "\n",
       "                .geemap-dark .jupyter-button {\n",
       "                    --jp-layout-color3: #383838;\n",
       "                }\n",
       "\n",
       "                .geemap-colab {\n",
       "                    background-color: var(--colab-primary-surface-color, white);\n",
       "                }\n",
       "\n",
       "                .geemap-colab .jupyter-button {\n",
       "                    --jp-layout-color3: var(--colab-primary-surface-color, white);\n",
       "                }\n",
       "            </style>\n",
       "            "
      ],
      "text/plain": [
       "<IPython.core.display.HTML object>"
      ]
     },
     "metadata": {},
     "output_type": "display_data"
    },
    {
     "data": {
      "application/vnd.jupyter.widget-view+json": {
       "model_id": "0ed5b4b309e3459b98bca82f819208f2",
       "version_major": 2,
       "version_minor": 0
      },
      "text/plain": [
       "Map(center=[-33.84565081436696, -70.91725911612781], controls=(WidgetControl(options=['position', 'transparent…"
      ]
     },
     "metadata": {},
     "output_type": "display_data"
    }
   ],
   "source": [
    "# aoi = gpd.GeoSeries(shapely.Point(),crs=\"EPSG:4326\").to_crs(\"EPSG:32719\")\n",
    "aoi = ee.Geometry.Point([-70.91725911612781,-33.84565081436696]).buffer(5000)\n",
    "# aoi_bbox = ee.Geometry.Polygon(json.loads(aoi)['features'][0]['geometry']['coordinates'], 'EPSG:4326')\n",
    "\n",
    "m = geemap.Map(center=[-33.84565081436696, -70.91725911612781], zoom=15)\n",
    "\n",
    "m.addLayer(aoi,name='aoi')\n",
    "m"
   ]
  },
  {
   "cell_type": "code",
   "execution_count": null,
   "id": "89926e14-9930-4fc9-aedf-7eef07a60e3e",
   "metadata": {},
   "outputs": [],
   "source": [
    "Map = geemap.Map(center=[-33.84565081436696, -70.91725911612781],zoom=12)\n",
    "for i in range(len(doi_intervalar)-1):\n",
    "    pre_flood_start_date = doi_intervalar[i]\n",
    "    pre_flood_end_date = doi_intervalar[i+1]\n",
    "\n",
    "    # planificacion: sacar las imagenes -> geomediana -> calcular ndwi -> agregarlo a un array o algo así -> Hacer el gif\n",
    "\n",
    "    Map.addLayer(este_año.clip(aoi), {'min': -25, 'max': -5}, 'SAR pre' + str(i))\n",
    "\n",
    "\n",
    "Map"
   ]
  }
 ],
 "metadata": {
  "kernelspec": {
   "display_name": "Python 3 (ipykernel)",
   "language": "python",
   "name": "python3"
  },
  "language_info": {
   "codemirror_mode": {
    "name": "ipython",
    "version": 3
   },
   "file_extension": ".py",
   "mimetype": "text/x-python",
   "name": "python",
   "nbconvert_exporter": "python",
   "pygments_lexer": "ipython3",
   "version": "3.10.12"
  }
 },
 "nbformat": 4,
 "nbformat_minor": 5
}
